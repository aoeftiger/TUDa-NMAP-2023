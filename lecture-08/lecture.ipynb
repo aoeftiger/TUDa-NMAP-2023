{
 "cells": [
  {
   "cell_type": "markdown",
   "id": "38250724",
   "metadata": {
    "slideshow": {
     "slide_type": "slide"
    }
   },
   "source": [
    "<h1 style=\"text-align: center; vertical-align: middle;\">Numerical Methods in Accelerator Physics</h1>\n",
    "<h2 style=\"text-align: center; vertical-align: middle;\">Lecture Series by Dr. Adrian Oeftiger</h2>\n",
    "\n",
    "<div style=\"width: 45%; margin: auto; margin-top: 1em; vertical-align: middle;\">\n",
    "<img src=\"./img/etit.png\" style=\"width: 30%; float: left; margin-right: 5%;\" /><img src=\"./img/GSI_Logo.png\" style=\"width: 35%; float: left; margin-right: 5%; padding-top: 0.5em;\" /><img src=\"./img/FAIR_Logo.png\" style=\"width: 25%; float: left;\" />\n",
    "</div>\n",
    "\n",
    "<h3 style=\"clear: both; text-align: center; margin-top: 1em;\">Lecture 8</h3>"
   ]
  },
  {
   "cell_type": "markdown",
   "id": "06a8d74b",
   "metadata": {
    "slideshow": {
     "slide_type": "slide"
    }
   },
   "source": [
    "<h2>Run this notebook online!</h2>\n",
    "\n",
    "Interact and run this jupyter notebook online:\n",
    "\n",
    "<div class=\"alert alert-block alert-info\" style=\"text-align:center;\">\n",
    "via the public mybinder.org service: <br />\n",
    "<a href=\"https://mybinder.org/v2/gh/aoeftiger/TUDa-NMAP-2023/v8.0\" style=\"width:auto; display:table;margin:0.5em auto;\"><img src=\"./img/binder_logo.svg\" alt=\"mybinder.org logo\" height=\"1ex\" /></a>\n",
    "</div>\n",
    "\n",
    "<div class=\"alert alert-block alert-info\" style=\"text-align:center;\">\n",
    "via the public gesis.org service: <br />\n",
    "<a href=\"https://notebooks.gesis.org/binder/v2/gh/aoeftiger/TUDA-NMAP-2023/v8.0\" style=\"width:auto; display:table;margin:0.5em auto;\"><img src=\"./img/binder_logo.svg\" alt=\"gesis.org logo\" height=\"1ex\" /></a>\n",
    "</div>\n",
    "\n",
    "Also find this lecture rendered [as HTML slides on github $\\nearrow$](https://aoeftiger.github.io/TUDa-NMAP-2023/) along with the [source repository $\\nearrow$](https://github.com/aoeftiger/TUDa-NMAP-2023)."
   ]
  },
  {
   "cell_type": "markdown",
   "id": "a57cc074",
   "metadata": {
    "slideshow": {
     "slide_type": "slide"
    }
   },
   "source": [
    "<h2>Run this first!</h2>\n",
    "\n",
    "Imports and modules:"
   ]
  },
  {
   "cell_type": "code",
   "execution_count": null,
   "id": "e538eebc",
   "metadata": {
    "slideshow": {
     "slide_type": "-"
    }
   },
   "outputs": [],
   "source": [
    "from config import (np, plt, sys, Madx, interp1d, PyNAFF,\n",
    "                    pysixtrack, elements,\n",
    "                    M_drift, M_dip_x, M_dip_y, \n",
    "                    M_quad_x, M_quad_y, \n",
    "                    track, track_sext_4D)\n",
    "%matplotlib inline"
   ]
  },
  {
   "cell_type": "markdown",
   "id": "d5d19c39",
   "metadata": {
    "slideshow": {
     "slide_type": "slide"
    }
   },
   "source": [
    "<h2 style=\"color: #b51f2a\">Refresher!</h2>\n",
    "\n",
    "- magnetic fields for bending particles\n",
    "- multipole representation (normal and skew coefficients $b_n,a_n$)\n",
    "- dipole, quadrupole, sextupole fields\n",
    "- <b>e</b>quation <b>o</b>f <b>m</b>otion in magnetic fields (after paraxial approximation)\n",
    "- Hill differential equation\n",
    "- betatron matrices for transport (solution to e.o.m.)\n",
    "---\n",
    "- drifts: divergence\n",
    "- dipoles: bending included in Frenet-Serret coordinate system, (weak) geometric focusing\n",
    "- quadrupoles: focus in one plane while defocusing in the other\n",
    "- FODO cells: alternating-gradient configuration stabilising both transverse planes\n",
    "- FODO lattice instability for too strong quadrupoles\n",
    "- sextupoles, non-linearity and deterministic chaos"
   ]
  },
  {
   "cell_type": "markdown",
   "id": "ca9cec0a",
   "metadata": {
    "slideshow": {
     "slide_type": "slide"
    }
   },
   "source": [
    "<h2 style=\"color: #b51f2a\">Today!</h2>\n",
    "\n",
    "1. Hill Differential Equation & Floquet Theory\n",
    "2. Twiss Parametrisation and Optics\n",
    "3. The FODO Cell\n",
    "4. Off-momentum Particles: Dispersion & Chromaticity"
   ]
  },
  {
   "cell_type": "markdown",
   "id": "23e8eac2",
   "metadata": {
    "slideshow": {
     "slide_type": "slide"
    }
   },
   "source": [
    "<h2 style=\"color: #b51f2a\">Exercises Today!</h2>\n",
    "\n",
    "1. Basics:<br />\n",
    "    a) compute Twiss parameters<br />\n",
    "    b) compare tracking with betatron and Twiss matrix<br />\n",
    "    c) determining tune from tracking data vs. phase advance<br />\n",
    "2. Periodic Transport Matrices<br />\n",
    "---\n",
    "3. Optics of a FODO Cell<br />\n",
    "---\n",
    "4. Dispersion Function of a FODO Cell<br />\n",
    "5. Dispersion in Tracking<br />\n",
    "6. Chromaticity in Tracking<br />\n",
    "7. Chromatic Detuning in a FODO Cell from Tracking Data<br />\n",
    "8. <i>Bonus:</i> Chromaticity Correction with Sextupoles"
   ]
  },
  {
   "cell_type": "markdown",
   "id": "54c56d4e",
   "metadata": {
    "slideshow": {
     "slide_type": "slide"
    }
   },
   "source": [
    "<div style=\"text-align: center; width:100%;\">\n",
    "    <h2>Part I: Hill Differential Equation & Floquet Theory</h2>\n",
    "</div>"
   ]
  },
  {
   "cell_type": "markdown",
   "id": "33f82055",
   "metadata": {
    "slideshow": {
     "slide_type": "slide"
    }
   },
   "source": [
    "<h2>Hill Equation (revisited)</h2>\n",
    "\n",
    "The Hill differential equation (1886 by astronomer George W. Hill) describes the linear focusing for the transverse coordinates $u=x,y$ around the accelerator at any path length $s$:\n",
    "\n",
    "$$u'' + \\kappa(s) u = 0 \\quad .$$\n",
    "\n",
    "$\\kappa(s)$ denotes the focusing term (e.g. from the quadrupole magnets) which varies along the accelerator ring. Necessarily, $\\kappa(s)$ is periodic (with the circumference), which is the key feature of the Hill equation:\n",
    "\n",
    "$$\\kappa(s) = \\kappa(s+L)$$\n",
    "\n",
    "where $L$ is the period of the problem (the circumference for us)."
   ]
  },
  {
   "cell_type": "markdown",
   "id": "69d2bea9",
   "metadata": {
    "slideshow": {
     "slide_type": "slide"
    }
   },
   "source": [
    "<h2>General (Formal) Solution to the Hill Equation</h2>\n",
    "\n",
    "$$u'' + \\kappa(s)u=0$$\n",
    "\n",
    "is generally solved by the complex solutions\n",
    "\n",
    "$$\\implies\\begin{cases}u_1(s) = \\omega(s) \\cdot e^{i\\mu(s)} \\\\\n",
    "u_2(s) = \\omega^{*}(s) \\cdot e^{-i\\mu(s)}\\end{cases}$$\n",
    "\n",
    "for a (potentially complex) Floquet exponent $\\mu(s)$ (we refer to it as <b>phase advance</b>) and the (potentially complex) amplitude function $\\omega(s)$. The solutions $u_{1,2}$ have 5 important features!"
   ]
  },
  {
   "cell_type": "markdown",
   "id": "87943d4d",
   "metadata": {
    "slideshow": {
     "slide_type": "slide"
    }
   },
   "source": [
    "<h2>The 5 Features of the Solutions</h2>\n",
    "\n",
    "1. $\\omega(s)$ is <u>unique</u> and has the <u>same periodicity</u> as the focusing term, $\\omega(s)=\\omega(s+L)$. <br /> ($\\mu(s)$ need <u>NOT</u> have the same periodicity, it is even bad for accelerators! We will see this later!)\n",
    "2. $\\cos(\\mu(L))=\\frac{1}{2}\\mathrm{Tr}(\\mathcal{M}_L)$ where the <b>one-turn matrix</b> $\\mathcal{M}_L$ is given by \n",
    "\n",
    "$$\\begin{pmatrix}u\\\\ u'\\end{pmatrix}_L = \\mathcal{M}_L \\begin{pmatrix}u\\\\ u'\\end{pmatrix}_0 $$\n",
    "\n",
    "3. $\\mathrm{Tr}(\\mathcal{M}_L)$ is <u>independent</u> of the path length $s$\n",
    "4. $\\det(\\mathcal{M}_L)=1$ and the solutions of the Hill equation are <u>symplectic</u>\n",
    "5. solutions $u_{1,2}(s)$ are <u>finite (bounded)</u> $\\quad\\Longleftrightarrow\\quad$ $\\frac{1}{2}\\mathrm{Tr}(\\mathcal{M}_L)<1$"
   ]
  },
  {
   "cell_type": "markdown",
   "id": "5fa53c39",
   "metadata": {
    "slideshow": {
     "slide_type": "slide"
    }
   },
   "source": [
    "<h2>Notation in Accelerator Physics</h2>\n",
    "\n",
    "In accelerator physics, the solutions to Hill equation are coordinates in real space, so $\\omega(s)=\\omega^*(s),\\omega\\in\\mathbb{R}$.\n",
    "\n",
    "By convention one typically parametrises $\\omega(s)=\\sqrt{2J\\cdot \\beta(s)}$ using \"linear action\" $J$ and \"beta-function\" or <b>envelope</b> $\\beta(s)$. (Do <u>NOT</u> confuse with the speed $\\beta c$). \n",
    "\n",
    "$\\implies$ Solutions pick up a factor $e^{\\pm i \\mu(L)}$  after one turn:\n",
    "\n",
    "$$u(s+L)=\\underbrace{\\omega(s+L)}\\limits_{\\mathop{=}\\omega(s)}\\cdot e^{\\pm i\\mu(s+L)} = \\underbrace{\\omega(s) \\cdot e^{\\pm i\\mu(s)}}\\limits_{\\mathop{=}u(s)} \\cdot e^{\\pm i\\mu(L)} = u(s)\\cdot e^{\\pm i \\mu(L)}$$\n",
    "\n",
    "The number $\\mu(L)$ is the increase in phase (or \"phase advance\") during one turn around the accelerator!"
   ]
  },
  {
   "cell_type": "markdown",
   "id": "f4266881",
   "metadata": {
    "slideshow": {
     "slide_type": "slide"
    }
   },
   "source": [
    "<h2>Stability of Solutions</h2>\n",
    "\n",
    "For the formal solutions, the Floquet exponent $\\mu(s)$ can generally be complex. The eigenvalues of the one-turn matrix $\\mathcal{M}_L$ are exactly the factors identified above:\n",
    "\n",
    "$$\\mathcal{M}_L \\cdot u = e^{\\pm i \\mu(L)} \\cdot u$$\n",
    "\n",
    "$\\implies$ Solutions $u$ describing finite and bounded motion necessarily require this factor to remain on the unit circle:\n",
    "\n",
    "$$|e^{\\pm i \\mu(L)}| = 1 \\quad \\Longleftrightarrow \\quad \\mu(L)\\in\\mathbb{R}$$\n",
    "\n",
    "This corresponds to stable focusing in an accelerator with bounded oscillations around the closed orbit.\n",
    "\n",
    "In this case, $\\mu(s)$ is a real and monotonically increasing function along $s$. It is commonly referred to as the <b>phase advance</b>."
   ]
  },
  {
   "cell_type": "markdown",
   "id": "cf9a806d",
   "metadata": {
    "slideshow": {
     "slide_type": "slide"
    }
   },
   "source": [
    "<h2>Unstable Solutions</h2>\n",
    "\n",
    "For a general complex number $\\mu(L)=\\psi + i\\lambda$ with $\\psi,\\lambda\\in\\mathbb{R}$, one finds\n",
    "\n",
    "$$u(s+L)=u(s)\\cdot \\underbrace{e^{\\pm i \\psi}}\\limits_{\\text{oscillatory!}} \\cdot \\underbrace{e^{\\pm \\lambda}}\\limits_{\\text{instability for }\\lambda\\neq 0}$$\n",
    "\n",
    "We have met this imaginary part of $\\mu(s)$ in an earlier lecture already: $\\lambda$ is the <i>Lyapunov exponent</i>!\n",
    "\n",
    "Always have two complex conjugate eigenvalues in the one-turn matrix: if one $\\lambda<0$ appears, there must be another $\\lambda>0$ leading to unstable motion."
   ]
  },
  {
   "cell_type": "markdown",
   "id": "b4afa6a3",
   "metadata": {
    "slideshow": {
     "slide_type": "slide"
    }
   },
   "source": [
    "<h2>The Tune</h2>\n",
    "\n",
    "For stable motion, find the phase advance relation to the envelope:\n",
    "\n",
    "$$\\psi(s-s_0) = \\int_{s_0}^s \\frac{d\\tilde{s}}{\\beta(\\tilde{s})}$$\n",
    "\n",
    "In accelerator physics, refer to the phase advance per turn as the (betatron) <b>tune</b> $Q_{x,y}$:\n",
    "\n",
    "$$\\psi_x(L)=2\\pi Q_x$$\n",
    "$$\\psi_y(L)=2\\pi Q_y$$\n",
    "\n",
    "The tune counts the number of oscillations around the ring during one turn."
   ]
  },
  {
   "cell_type": "markdown",
   "id": "ea0e00eb",
   "metadata": {
    "slideshow": {
     "slide_type": "slide"
    }
   },
   "source": [
    "<h2>Bad Tunes / Resonances</h2>\n",
    "\n",
    "For a stable accelerator, one finds that the phase advance should stay away from the resonance condition\n",
    "\n",
    "$$\\psi(n\\cdot L)\\neq 2\\pi\\cdot m\\qquad \\text{for } m,n\\in\\mathbb{N}$$\n",
    "\n",
    "(i.e. after $n$ turns the phase advance becomes an integer multiple of $2\\pi$), which is equivalent to demanding for the one-turn matrix\n",
    "\n",
    "$$\\begin{pmatrix}x\\\\ x'\\end{pmatrix}_L = \\mathcal{M}_{L,x} \\begin{pmatrix}x\\\\ x'\\end{pmatrix}_0 $$\n",
    "\n",
    "to not become the unit matrix after $n$ turns\n",
    "\n",
    "$$\\left(\\mathcal{M}_{L,x}\\right)^n \\neq \\underbrace{\\begin{pmatrix} 1 & 0 \\\\ 0 & 1\\end{pmatrix}}\\limits_{\\mathbb{1}}$$\n",
    "\n",
    "$\\implies$ one needs to stay away from low-order resonances where this is fulfilled for low $n$"
   ]
  },
  {
   "cell_type": "markdown",
   "id": "f72c6a52",
   "metadata": {
    "slideshow": {
     "slide_type": "slide"
    }
   },
   "source": [
    "<div style=\"text-align: center; width:100%;\">\n",
    "    <h2>Part II: Twiss Parametrisation and Optics</h2>\n",
    "</div>"
   ]
  },
  {
   "cell_type": "markdown",
   "id": "ccee5e65",
   "metadata": {
    "slideshow": {
     "slide_type": "slide"
    }
   },
   "source": [
    "The Twiss matrix for a periodic lattice with local Twiss parameters $\\beta_x, \\alpha_x, \\gamma_x$ (here for the horizontal plane $x$) reads"
   ]
  },
  {
   "cell_type": "markdown",
   "id": "dc0a961b",
   "metadata": {
    "slideshow": {
     "slide_type": "-"
    }
   },
   "source": [
    "$$\\mathcal{M}_{\\text{period,tw,}x} = \\begin{pmatrix}\\,\n",
    "    \\cos(\\Phi_x) + \\alpha_x\\sin(\\Phi_x) & \\beta_x \\sin(\\Phi_x) \\\\\n",
    "    -\\gamma_x \\sin(\\Phi_x) & \\cos(\\Phi_x) - \\alpha_x\\sin(\\Phi_x)\n",
    "\\end{pmatrix}$$"
   ]
  },
  {
   "cell_type": "markdown",
   "id": "a1c180cc",
   "metadata": {},
   "source": [
    "with the identity $\\beta_x\\gamma_x = 1+\\alpha_x^2$!"
   ]
  },
  {
   "cell_type": "markdown",
   "id": "867cc781",
   "metadata": {
    "slideshow": {
     "slide_type": "slide"
    }
   },
   "source": [
    "Between two locations $s_0$ and $s_1$, the solution of the Hill differential equation can be expressed in terms of the phase advance $\\Delta \\psi_x$ and the corresponding local Twiss parameters, $(\\beta_x,\\alpha_x,\\gamma_x)$ at $s_0$ and $s_1$, respectively."
   ]
  },
  {
   "cell_type": "markdown",
   "id": "99988916",
   "metadata": {},
   "source": [
    "$$\\mathcal{M}_{\\text{tw,}x}\\bigr|_{s_1\\leftarrow s_0} = \\underbrace{\\begin{pmatrix}\\,\n",
    "    \\frac{1}{\\sqrt{\\beta_{x1}}} & 0 \\\\\n",
    "    \\frac{\\alpha_{x1}}{\\sqrt{\\beta_{x1}}} & \\sqrt{\\beta_{x1}}\n",
    "\\end{pmatrix}^{-1}}\\limits_{\\mathop{\\doteq} F_1{}^{-1}} \\cdot\n",
    "\\underbrace{\\begin{pmatrix}\n",
    "    \\cos(\\Delta \\psi_x) & \\sin(\\Delta \\psi_x) \\\\\n",
    "    -\\sin(\\Delta \\psi_x) & \\cos(\\Delta \\psi_x)\n",
    "\\end{pmatrix}}\\limits_{\\mathop{\\doteq} R} \\cdot\n",
    "\\underbrace{\\begin{pmatrix}\n",
    "    \\frac{1}{\\sqrt{\\beta_{x0}}} & 0 \\\\\n",
    "    \\frac{\\alpha_{x0}}{\\sqrt{\\beta_{x0}}} & \\sqrt{\\beta_{x0}}\n",
    "\\end{pmatrix}}\\limits_{\\mathop{\\doteq}F_0}$$"
   ]
  },
  {
   "cell_type": "markdown",
   "id": "9312a79a",
   "metadata": {},
   "source": [
    "Here, $F$ denotes the Floquet transformation matrix (from physical phase space $x-x'$ to normalised phase space $\\eta-\\eta'$) and $R\\in\\mathrm{SO}(2)$ a rotation matrix."
   ]
  },
  {
   "cell_type": "markdown",
   "id": "0695658b",
   "metadata": {
    "slideshow": {
     "slide_type": "slide"
    }
   },
   "source": [
    "### Exercise 1a: Compute Twiss Parameters"
   ]
  },
  {
   "cell_type": "markdown",
   "id": "60138ed3",
   "metadata": {},
   "source": [
    "Use the Methodical Accelerator Design (`MAD-X`) code to compute the optical Twiss functions *):\n",
    "\n",
    "<i>*) (behind the scene the code works very similar to what we discussed in the lecture video, Twiss parametrisation of the full-period matrix and transport thereof via betatron matrices)</i>"
   ]
  },
  {
   "cell_type": "code",
   "execution_count": null,
   "id": "29d4bbfa",
   "metadata": {},
   "outputs": [],
   "source": [
    "madx = Madx(stdout=sys.stdout)"
   ]
  },
  {
   "cell_type": "markdown",
   "id": "e1d855b0",
   "metadata": {
    "slideshow": {
     "slide_type": "slide"
    }
   },
   "source": [
    "Define the following periodic beam line of $10\\,$m length:\n",
    "    \n",
    "- focusing quadrupole centred at 3m (strength $k=0.1\\,$m${}^{-2}$ and length $L=0.6\\,$m)\n",
    "- dipole sector bend centred at 5m (bending angle $\\theta=\\pi/8$ and length $L=0.6\\,$m)\n",
    "- defocusing quadrupole centred at 7m (strength $k=-0.5\\,$m${}^{-2}$ and length $L=0.4\\,$m)"
   ]
  },
  {
   "cell_type": "code",
   "execution_count": null,
   "id": "14a9d439",
   "metadata": {},
   "outputs": [],
   "source": [
    "madx.input('''\n",
    "k1l_f := 0.1 * 0.6;  // inverse focal length qf\n",
    "k1l_d := -0.5 * 0.4; // inverse focal length qd\n",
    "\n",
    "qf: quadrupole, l = 0.6, k1 := k1l_f / 0.6;\n",
    "qd: quadrupole, l = 0.4, k1 := k1l_d / 0.4;\n",
    "dip: sbend, l = 0.6, angle := pi / 8;\n",
    "\n",
    "seq1: sequence, l = 10;\n",
    "qf, at = 3;\n",
    "dip, at = 5;\n",
    "qd, at = 7;\n",
    "endsequence;\n",
    "''')"
   ]
  },
  {
   "cell_type": "code",
   "execution_count": null,
   "id": "e02f03ca",
   "metadata": {},
   "outputs": [],
   "source": [
    "madx.command.beam(particle='proton', energy=1) # energy is in GeV!\n",
    "madx.use(sequence='seq1')\n",
    "\n",
    "# output the Twiss parameters every 0.1m\n",
    "madx.command.select(flag=\"interpolate\", sequence=\"seq1\", step=0.1)"
   ]
  },
  {
   "cell_type": "markdown",
   "id": "4168a8c3",
   "metadata": {
    "slideshow": {
     "slide_type": "slide"
    }
   },
   "source": [
    "Now we compute the periodic solution to the Hill equation (in terms of the Twiss parameters):"
   ]
  },
  {
   "cell_type": "code",
   "execution_count": null,
   "id": "a6c65883",
   "metadata": {},
   "outputs": [],
   "source": [
    "twiss = madx.twiss();"
   ]
  },
  {
   "cell_type": "markdown",
   "id": "dffac846",
   "metadata": {
    "slideshow": {
     "slide_type": "slide"
    }
   },
   "source": [
    "Let us investigate the optical functions along this periodic beam line: (red areas mark quadrupoles, gray areas mark dipoles)"
   ]
  },
  {
   "cell_type": "code",
   "execution_count": null,
   "id": "05072fbb",
   "metadata": {},
   "outputs": [],
   "source": [
    "plt.plot(twiss['s'], twiss['betx'], label=r'$\\beta_x$ [m]')\n",
    "plt.plot(twiss['s'], twiss['bety'], label=r'$\\beta_y$ [m]')\n",
    "plt.plot(twiss['s'], twiss['alfx'], label=r'$\\alpha_x$ [1]', c='C0', ls='--')\n",
    "plt.plot(twiss['s'], twiss['alfy'], label=r'$\\alpha_y$ [1]', c='C1', ls='--')\n",
    "\n",
    "ylim = plt.ylim()\n",
    "plt.fill_betweenx(ylim, 3-0.3, 3+0.3, color='red', alpha=0.2)\n",
    "plt.fill_betweenx(ylim, 7-0.2, 7+0.2, color='red', alpha=0.2)\n",
    "plt.fill_betweenx(ylim, 5-0.3, 5+0.3, color='black', alpha=0.2)\n",
    "plt.ylim(ylim)\n",
    "\n",
    "plt.xlabel('$s$ [m]')\n",
    "plt.ylabel(r'$\\beta_{x,y}$ and $\\alpha_{x,y}$')\n",
    "plt.legend(loc='upper left', bbox_to_anchor=(1.05, 1));"
   ]
  },
  {
   "cell_type": "markdown",
   "id": "0916e8d6",
   "metadata": {
    "slideshow": {
     "slide_type": "slide"
    }
   },
   "source": [
    "$\\implies$ periodic functions, right values at $s=10\\,$m are equal to left values at $s=0\\,$m!\n",
    "\n",
    "<p style=\"color:#e6541a;\">$\\implies$ note what happens to the $\\beta_{x,y}$ functions at the locations of the quadrupoles (red areas)! Do you understand the direction into which the $\\beta$-functions turn?</p>\n",
    "\n",
    "<p style=\"color:#e6541a;\">$\\implies$ note what happens to the optics inside the dipole (gray area)! Do you understand why only the horizontal plane is affected and how it is affected?</p>"
   ]
  },
  {
   "cell_type": "markdown",
   "id": "18964217",
   "metadata": {
    "slideshow": {
     "slide_type": "slide"
    }
   },
   "source": [
    "### Exercise 1b: Compare Tracking with Twiss and Betatron Matrices"
   ]
  },
  {
   "cell_type": "markdown",
   "id": "18958f2d",
   "metadata": {},
   "source": [
    "We provide interpolation functions for any position $s$ given the `MAD-X` computed Twiss table $s-\\beta_{x,y}-\\alpha_{x,y}-\\psi_{x,y}$:"
   ]
  },
  {
   "cell_type": "code",
   "execution_count": null,
   "id": "05a9de81",
   "metadata": {},
   "outputs": [],
   "source": [
    "beta_x = interp1d(twiss['s'], twiss['betx'], kind='linear')\n",
    "alpha_x = interp1d(twiss['s'], twiss['alfx'], kind='linear')\n",
    "psi_x = interp1d(twiss['s'], 2 * np.pi * twiss['mux'], kind='linear')"
   ]
  },
  {
   "cell_type": "markdown",
   "id": "19d93d8b",
   "metadata": {
    "slideshow": {
     "slide_type": "slide"
    }
   },
   "source": [
    "Define the Floquet transformation matrix and the rotation matrix for the Twiss transport matrix:"
   ]
  },
  {
   "cell_type": "code",
   "execution_count": null,
   "id": "5618c2de",
   "metadata": {},
   "outputs": [],
   "source": [
    "def F(beta, alpha):\n",
    "    '''Floquet transformation matrix to normalised phase space.'''\n",
    "    return np.array([\n",
    "        [1 / np.sqrt(beta), 0],\n",
    "        [alpha / np.sqrt(beta), np.sqrt(beta)]\n",
    "    ])\n",
    "\n",
    "def R(angle):\n",
    "    '''Rotation matrix.'''\n",
    "    return np.array([\n",
    "        [np.cos(angle), np.sin(angle)],\n",
    "        [-np.sin(angle), np.cos(angle)]\n",
    "    ])\n",
    "\n",
    "def M_tw(beta0, alpha0, beta1, alpha1, delta_psi):\n",
    "    '''Transport matrix with Twiss parameters from index 0 to 1.'''\n",
    "    F0 = F(beta0, alpha0)\n",
    "    F1 = F(beta1, alpha1)\n",
    "    F1inv = np.linalg.inv(F1)\n",
    "    Rot = R(delta_psi)\n",
    "    return F1inv.dot(Rot.dot(F0))"
   ]
  },
  {
   "cell_type": "markdown",
   "id": "454bd1b6",
   "metadata": {
    "slideshow": {
     "slide_type": "slide"
    }
   },
   "source": [
    "Prepare the tracking of a particle along this periodic beam line: once with betatron matrices for each element, once with the Twiss matrix!"
   ]
  },
  {
   "cell_type": "code",
   "execution_count": null,
   "id": "5a80d314",
   "metadata": {},
   "outputs": [],
   "source": [
    "# path length positions at edges of elements\n",
    "s = [0, 3 - 0.6/2, 3 + 0.6/2, 5 - 0.6/2, 5 + 0.6/2, 7 - 0.4/2, 7 + 0.4/2, 10]\n",
    "ds = np.diff(s)"
   ]
  },
  {
   "cell_type": "code",
   "execution_count": null,
   "id": "2ec392c4",
   "metadata": {},
   "outputs": [],
   "source": [
    "# betatron matrices\n",
    "d1 = M_drift(ds[0])\n",
    "qf = M_quad_x(ds[1], 0.1)\n",
    "d2 = M_drift(ds[2])\n",
    "dip = M_dip_x(ds[3], 0.6 / (np.pi / 8)) # rho0 = L / angle\n",
    "d3 = M_drift(ds[4])\n",
    "qd = M_quad_x(ds[5], -0.5)\n",
    "d4 = M_drift(ds[6])"
   ]
  },
  {
   "cell_type": "code",
   "execution_count": null,
   "id": "45c5d428",
   "metadata": {},
   "outputs": [],
   "source": [
    "# Twiss transport matrix\n",
    "def M_tw_s0to1_x(s0, s1):\n",
    "    '''Twiss matrix from s0 to s1 (evaluating Twiss parameters at these points!).'''\n",
    "    return M_tw(\n",
    "        beta_x(s0), alpha_x(s0), \n",
    "        beta_x(s1), alpha_x(s1), \n",
    "        psi_x(s1) - psi_x(s0)\n",
    "    )"
   ]
  },
  {
   "cell_type": "markdown",
   "id": "40eaac27",
   "metadata": {
    "slideshow": {
     "slide_type": "slide"
    }
   },
   "source": [
    "The initial horizontal coordinates of the particle at $s=0\\,$m:"
   ]
  },
  {
   "cell_type": "code",
   "execution_count": null,
   "id": "d1d77c4a",
   "metadata": {},
   "outputs": [],
   "source": [
    "x_ini = 0.02\n",
    "xp_ini = 0.01"
   ]
  },
  {
   "cell_type": "markdown",
   "id": "95b2b23f",
   "metadata": {},
   "source": [
    "Some plotting helper functions:"
   ]
  },
  {
   "cell_type": "code",
   "execution_count": null,
   "id": "36cd0b2c",
   "metadata": {},
   "outputs": [],
   "source": [
    "def scatter(s, x, label=None):\n",
    "    plt.scatter([s], [x], c='red', s=30, marker='D', label=label)\n",
    "\n",
    "def scatter_tw(s, x, label=None):\n",
    "    plt.scatter([s], [x], c='cyan', s=40, marker='.', label=label)"
   ]
  },
  {
   "cell_type": "markdown",
   "id": "e8163018",
   "metadata": {
    "slideshow": {
     "slide_type": "slide"
    }
   },
   "source": [
    "Go for the tracking!"
   ]
  },
  {
   "cell_type": "code",
   "execution_count": null,
   "id": "522750d9",
   "metadata": {},
   "outputs": [],
   "source": [
    "# track with betatron matrices from one element to the next:\n",
    "scatter(0, x_ini, label='betatron matrix')\n",
    "\n",
    "x, xp = track(d1, x_ini, xp_ini)\n",
    "scatter(s[1], x)\n",
    "\n",
    "x, xp = track(qf, x, xp)\n",
    "scatter(s[2], x)\n",
    "\n",
    "x, xp = track(d2, x, xp)\n",
    "scatter(s[3], x)\n",
    "\n",
    "x, xp = track(dip, x, xp)\n",
    "scatter(s[4], x)\n",
    "\n",
    "x, xp = track(d3, x, xp)\n",
    "scatter(s[5], x)\n",
    "\n",
    "x, xp = track(qd, x, xp)\n",
    "scatter(s[6], x)\n",
    "\n",
    "x, xp = track(d4, x, xp)\n",
    "scatter(s[7], x)\n",
    "\n",
    "# track with the Twiss transport matrix\n",
    "scatter_tw(0, x_ini, label='Twiss matrix')\n",
    "xt, xpt = x_ini, xp_ini\n",
    "for i in range(len(s) - 1):\n",
    "    M_tw_x = M_tw_s0to1_x(s[i], s[i + 1])\n",
    "    xt, xpt = track(M_tw_x, xt, xpt)\n",
    "    scatter_tw(s[i + 1], xt)\n",
    "\n",
    "plt.xlabel('$s$ [m]')\n",
    "plt.ylabel('$x$ [m]')\n",
    "plt.legend(loc='lower right');"
   ]
  },
  {
   "cell_type": "markdown",
   "id": "6b6ec332",
   "metadata": {
    "slideshow": {
     "slide_type": "slide"
    }
   },
   "source": [
    "$\\implies$ the <span style='color:red;'>transfer maps via the Twiss parameters</span> $\\beta_x(s), \\alpha_x(s), \\gamma_x(s)$ are <span style='color:red;'>identical to</span> the element-by-element <span style='color:red;'>betatron matrices</span> from the previous lecture! <b>Both correctly describe the solution to the equation of motion (<i>Hill differential equation!</i>)</b>.\n",
    "\n",
    "$\\implies$ the advantage with $\\mathcal{M}_\\text{tw}$: only require one single matrix to describe solution at any location $s$! (Need to determine the optics functions / Twiss parameters before!)"
   ]
  },
  {
   "cell_type": "markdown",
   "id": "3212f285",
   "metadata": {},
   "source": [
    "<p style=\"color:#e6541a;\">$\\implies$ are betatron matrices and the Twiss matrix still identical in case of an unstable lattice?</p>"
   ]
  },
  {
   "cell_type": "markdown",
   "id": "2b103d69",
   "metadata": {
    "slideshow": {
     "slide_type": "slide"
    }
   },
   "source": [
    "### Exercise 1c: Determine the Tune from Tracking and Compare to Computed Phase Advance"
   ]
  },
  {
   "cell_type": "markdown",
   "id": "f6622ab0",
   "metadata": {},
   "source": [
    "Let us track a particle with the compiled betatron matrix for a number of periods. We can determine the tune via Discrete Frequency Analysis (using NAFF) and then compare to the phase advance computed via the Twiss matrix approach:"
   ]
  },
  {
   "cell_type": "code",
   "execution_count": null,
   "id": "b68de530",
   "metadata": {},
   "outputs": [],
   "source": [
    "M_period = qf.dot(d1)\n",
    "M_period = d2.dot(M_period)\n",
    "M_period = dip.dot(M_period)\n",
    "M_period = d3.dot(M_period)\n",
    "M_period = qd.dot(M_period)\n",
    "M_period = d4.dot(M_period)"
   ]
  },
  {
   "cell_type": "markdown",
   "id": "178e95d9",
   "metadata": {
    "slideshow": {
     "slide_type": "slide"
    }
   },
   "source": [
    "We need to record the oscillation for a useful number of turns:"
   ]
  },
  {
   "cell_type": "code",
   "execution_count": null,
   "id": "9c1cb07f",
   "metadata": {},
   "outputs": [],
   "source": [
    "nperiods = 128"
   ]
  },
  {
   "cell_type": "code",
   "execution_count": null,
   "id": "0600d765",
   "metadata": {},
   "outputs": [],
   "source": [
    "rec_x = np.zeros(nperiods, dtype=float)\n",
    "rec_x[0] = x_ini"
   ]
  },
  {
   "cell_type": "markdown",
   "id": "2e1f2b1a",
   "metadata": {},
   "source": [
    "Tracking:"
   ]
  },
  {
   "cell_type": "code",
   "execution_count": null,
   "id": "e08e3853",
   "metadata": {},
   "outputs": [],
   "source": [
    "x, xp = x_ini, xp_ini\n",
    "for i in range(1, nperiods):\n",
    "    x, xp = track(M_period, x, xp)\n",
    "    rec_x[i] = x"
   ]
  },
  {
   "cell_type": "markdown",
   "id": "9ab58efe",
   "metadata": {
    "slideshow": {
     "slide_type": "slide"
    }
   },
   "source": [
    "The horizontal motion at this location looks as follows:"
   ]
  },
  {
   "cell_type": "code",
   "execution_count": null,
   "id": "07d1bac9",
   "metadata": {},
   "outputs": [],
   "source": [
    "plt.plot(rec_x)\n",
    "plt.xlabel('Periods')\n",
    "plt.ylabel('$x$ [m]');"
   ]
  },
  {
   "cell_type": "markdown",
   "id": "60924ee6",
   "metadata": {
    "slideshow": {
     "slide_type": "slide"
    }
   },
   "source": [
    "We determine the tune via the `PyNAFF` library which implements the Numerical Analysis of Fundamental Frequencies algorithm (cf. lecture 02):"
   ]
  },
  {
   "cell_type": "code",
   "execution_count": null,
   "id": "edd6f1e1",
   "metadata": {},
   "outputs": [],
   "source": [
    "tune = PyNAFF.naff(rec_x, turns=nperiods, nterms=1)[0, 1]\n",
    "tune"
   ]
  },
  {
   "cell_type": "markdown",
   "id": "aef232c2",
   "metadata": {},
   "source": [
    "$\\implies$ this is the tune of the particle (number of oscillations per period) measured via tracking data!"
   ]
  },
  {
   "cell_type": "markdown",
   "id": "8c5a374c",
   "metadata": {
    "slideshow": {
     "slide_type": "slide"
    }
   },
   "source": [
    "Now what about the phase advance from the full-period transfer matrix, $2\\cos(\\Phi_x)=\\mathrm{Tr}(\\mathcal{M})$ ?"
   ]
  },
  {
   "cell_type": "code",
   "execution_count": null,
   "id": "fc6f00bc",
   "metadata": {},
   "outputs": [],
   "source": [
    "trace = np.matrix.trace(M_period)\n",
    "\n",
    "np.arccos(trace / 2)"
   ]
  },
  {
   "cell_type": "markdown",
   "id": "7895cbfb",
   "metadata": {},
   "source": [
    "Convert from phase advance to tune units by dividing by $2\\pi$:"
   ]
  },
  {
   "cell_type": "code",
   "execution_count": null,
   "id": "0b371302",
   "metadata": {},
   "outputs": [],
   "source": [
    "np.arccos(trace / 2) / (2 * np.pi)"
   ]
  },
  {
   "cell_type": "markdown",
   "id": "77829b48",
   "metadata": {},
   "source": [
    "Yes! $\\implies$ the particle follows the same frequency as determined via the Twiss matrix approach!"
   ]
  },
  {
   "cell_type": "markdown",
   "id": "07323c9c",
   "metadata": {
    "slideshow": {
     "slide_type": "slide"
    }
   },
   "source": [
    "By the way, the phase advance or rather tune $Q=\\psi\\,/\\,2\\pi$ was also computed by `MAD-X`:"
   ]
  },
  {
   "cell_type": "code",
   "execution_count": null,
   "id": "deb795bf",
   "metadata": {},
   "outputs": [],
   "source": [
    "twiss.summary['q1']"
   ]
  },
  {
   "cell_type": "markdown",
   "id": "5690e5dc",
   "metadata": {
    "slideshow": {
     "slide_type": "slide"
    }
   },
   "source": [
    "### Exercise 2: Periodic Transport Matrices"
   ]
  },
  {
   "cell_type": "markdown",
   "id": "f8b20880",
   "metadata": {},
   "source": [
    "Consider the following numerical (horizontal) transport matrices, each for a full period of a lattice.\n",
    "\n",
    "<p style=\"color:#e6541a;\">Can you determine:</p>\n",
    "\n",
    "<p style=\"color:#e6541a;\">\n",
    "a) whether they are valid transport matrices (symplecticity)?<br />\n",
    "b) whether they provide stable transport?<br />\n",
    "c) the covered phase advance $\\Phi_x$ per lattice period (and the tune $Q_x=\\Phi_x\\,/\\,2\\pi$)?<br />\n",
    "b) the local Twiss parameters $\\beta_x, \\alpha_x$?\n",
    "</p>\n",
    "\n",
    "<p style=\"color:#e6541a;\">\n",
    "How do the eigenvalues represent stability and phase advance? (check absolute values and complex phases, picture on the unit circle)</p>"
   ]
  },
  {
   "cell_type": "markdown",
   "id": "ffd57cbb",
   "metadata": {},
   "source": [
    "<i>Hint: you might need the following functions for a given matrix `M`:</i>\n",
    "\n",
    "- determinant: `np.linalg.det(M)`\n",
    "- trace: `np.matrix.trace(M)`\n",
    "- eigenvalues: `np.linalg.eigvals(M)`\n",
    "- arccos: `np.arccos(...)`\n",
    "- sin: `np.sin(...)`\n",
    "- absolute value: `np.abs(...)`\n",
    "- phase $\\phi$ (radiant units) from complex number $e^{i\\phi}$: `np.angle(...)`\n",
    "- matrix multiplication $M_1\\cdot M_2$: `np.dot(M1, M2)` or `M1.dot(M2)`"
   ]
  },
  {
   "cell_type": "markdown",
   "id": "55c4d9fa",
   "metadata": {
    "slideshow": {
     "slide_type": "slide"
    }
   },
   "source": [
    "$$\\mathcal{M}_1 = \\begin{pmatrix}\n",
    "    -0.03701215 &  0.19960535 \\\\\n",
    "    -5.04003498 &  0.16259319\n",
    "\\end{pmatrix}$$"
   ]
  },
  {
   "cell_type": "code",
   "execution_count": null,
   "id": "8bf47fa8",
   "metadata": {},
   "outputs": [],
   "source": [
    "M1 = np.array([\n",
    "    [-0.03701215,  0.19960535],\n",
    "    [-5.04003498,  0.16259319]\n",
    "])"
   ]
  },
  {
   "cell_type": "code",
   "execution_count": null,
   "id": "8d960220",
   "metadata": {},
   "outputs": [],
   "source": []
  },
  {
   "cell_type": "markdown",
   "id": "eaa131dc",
   "metadata": {
    "slideshow": {
     "slide_type": "slide"
    }
   },
   "source": [
    "$$\\mathcal{M}_2 = \\begin{pmatrix}\n",
    "    0.5 &  13 \\\\\n",
    "    -0.0961538 &  -0.5\n",
    "\\end{pmatrix}$$"
   ]
  },
  {
   "cell_type": "code",
   "execution_count": null,
   "id": "5f88e353",
   "metadata": {},
   "outputs": [],
   "source": [
    "M2 = np.array([\n",
    "    [0.5,  13],\n",
    "    [-0.09615385,  -0.5]\n",
    "])"
   ]
  },
  {
   "cell_type": "code",
   "execution_count": null,
   "id": "39cfb2c7",
   "metadata": {},
   "outputs": [],
   "source": []
  },
  {
   "cell_type": "markdown",
   "id": "0ca16613",
   "metadata": {},
   "source": [
    "<p style=\"color:#e6541a;\">$\\implies$ what happens to particles in this lattice after a short number of lattice periods? (Investigate by applying the transport matrix repetetively.)</p>"
   ]
  },
  {
   "cell_type": "markdown",
   "id": "2fe4d74d",
   "metadata": {
    "slideshow": {
     "slide_type": "slide"
    }
   },
   "source": [
    "$$\\mathcal{M}_3 = \\begin{pmatrix}\n",
    "    0.31803855 &  22.193583 \\\\\n",
    "    -0.1533821 &  0.93858321\n",
    "\\end{pmatrix}$$"
   ]
  },
  {
   "cell_type": "code",
   "execution_count": null,
   "id": "8fbccccc",
   "metadata": {},
   "outputs": [],
   "source": [
    "M3 = np.array([\n",
    "    [0.31803855,  22.193583],\n",
    "    [-0.1533821,  0.93858321]\n",
    "])"
   ]
  },
  {
   "cell_type": "code",
   "execution_count": null,
   "id": "3d3a43bc",
   "metadata": {},
   "outputs": [],
   "source": []
  },
  {
   "cell_type": "markdown",
   "id": "381c5e49",
   "metadata": {
    "slideshow": {
     "slide_type": "slide"
    }
   },
   "source": [
    "$$\\mathcal{M}_4 = \\begin{pmatrix}\n",
    "    -0.75105652 &  0.69069571 \\\\\n",
    "    -0.02118063 &  -1.31197933\n",
    "\\end{pmatrix}$$"
   ]
  },
  {
   "cell_type": "code",
   "execution_count": null,
   "id": "6b69dfec",
   "metadata": {},
   "outputs": [],
   "source": [
    "M4 = np.array([\n",
    "    [-0.75105652,  0.69069571],\n",
    "    [-0.02118063, -1.31197933]\n",
    "])"
   ]
  },
  {
   "cell_type": "code",
   "execution_count": null,
   "id": "684a9456",
   "metadata": {},
   "outputs": [],
   "source": []
  },
  {
   "cell_type": "markdown",
   "id": "877ca2bf",
   "metadata": {
    "slideshow": {
     "slide_type": "slide"
    }
   },
   "source": [
    "<div style=\"text-align: center; width:100%;\">\n",
    "    <h2>Part III: The FODO Cell</h2>\n",
    "</div>"
   ]
  },
  {
   "cell_type": "markdown",
   "id": "a2ee57d6",
   "metadata": {
    "slideshow": {
     "slide_type": "slide"
    }
   },
   "source": [
    "### Exercise 3: Computing Optics of a FODO cell"
   ]
  },
  {
   "cell_type": "markdown",
   "id": "77637ad5",
   "metadata": {
    "slideshow": {
     "slide_type": "-"
    }
   },
   "source": [
    "Consider a $110\\,$m long FODO cell with $3.3\\,$m long quadrupole magnets. A possible implementation might look like this (blue: LHC dipoles, white: LHC quadrupoles):\n",
    "\n",
    "<img src=\"img/lhc-fodo.jpg\" alt=\"Arc section with FODO cells in the LHC\" style=\"width:60%; margin:auto; margin-top:1em;\" />\n",
    "\n",
    "<p style=\"clear: both; font-size: 10pt; text-align: right; float: right;\">image by <a href=\"http://archive.boston.com/bigpicture/2009/11/large_hadron_collider_ready_to.html#photo22\">CERN</a></p>"
   ]
  },
  {
   "cell_type": "markdown",
   "id": "9a4319bb",
   "metadata": {
    "slideshow": {
     "slide_type": "slide"
    }
   },
   "source": [
    "Here is the layout of the FODO cell (as in the previous lecture notebook):\n",
    "\n",
    "<img src=\"img/lhc-cell.png\" alt=\"LHC cell layout\" style=\"width: 80%;\" />\n",
    "\n",
    "<p style=\"clear: both; font-size: 10pt; text-align: right; float: right;\">image by <a href=\"https://indico.hep.manchester.ac.uk/getFile.py/access?resId=8&materialId=slides&confId=5922\">G. Xia</a></p>"
   ]
  },
  {
   "cell_type": "markdown",
   "id": "1e67c8de",
   "metadata": {
    "slideshow": {
     "slide_type": "slide"
    }
   },
   "source": [
    "We start with a non-bending FODO cell, i.e. the dipoles switched off. \n",
    "\n",
    "Let us determine the optical functions, again via `MAD-X`:"
   ]
  },
  {
   "cell_type": "code",
   "execution_count": null,
   "id": "4b60bafe",
   "metadata": {},
   "outputs": [],
   "source": [
    "madx = Madx(stdout=sys.stdout)"
   ]
  },
  {
   "cell_type": "markdown",
   "id": "e38432c0",
   "metadata": {
    "slideshow": {
     "slide_type": "slide"
    }
   },
   "source": [
    "We define the FODO cell with two quadrupoles of opposite strength, $k\\cdot L=0.008\\cdot 3.3\\,$m${}^{-1}$, and with three dipoles in between each quadrupole. For the moment the dipoles are switched off (their bending angle $\\theta=0$):"
   ]
  },
  {
   "cell_type": "code",
   "execution_count": null,
   "id": "c3f441c5",
   "metadata": {},
   "outputs": [],
   "source": [
    "madx.input('''\n",
    "k1l_f := 0.008 * 3.3;  // inverse focal length qf\n",
    "k1l_d := -0.008 * 3.3; // inverse focal length qd\n",
    "theta := 0;            // in LHC: 2 * pi / 1232;\n",
    "\n",
    "qf2: quadrupole, l = 3.3 / 2, k1 := k1l_f / 3.3; // half a focusing quad\n",
    "qd:  quadrupole, l = 3.3,     k1 := k1l_d / 3.3;\n",
    "dip: sbend, l = 14.3, angle := theta;\n",
    "\n",
    "fodo: sequence, l = 110;\n",
    "qf2, at = 3.3 / 4;\n",
    "dip, at = 12; \n",
    "dip, at = 2 * 110 / 8; \n",
    "dip, at = 110 / 2 - 12; \n",
    "qd, at = 110 / 2;\n",
    "dip, at = 110 / 2 + 12; \n",
    "dip, at = 6 * 110 / 8; \n",
    "dip, at = 110 - 12; \n",
    "qf2, at = 110 - 3.3 / 4;\n",
    "endsequence;\n",
    "''')"
   ]
  },
  {
   "cell_type": "code",
   "execution_count": null,
   "id": "321b93ee",
   "metadata": {
    "slideshow": {
     "slide_type": "slide"
    }
   },
   "outputs": [],
   "source": [
    "madx.command.beam(particle='proton', energy=7e3) # energy is in GeV!\n",
    "madx.use(sequence='fodo')\n",
    "\n",
    "# output the Twiss parameters every 1m\n",
    "madx.command.select(flag=\"interpolate\", sequence=\"fodo\", step=1)"
   ]
  },
  {
   "cell_type": "markdown",
   "id": "7a542d56",
   "metadata": {},
   "source": [
    "We call the Twiss routine to compute the optics:"
   ]
  },
  {
   "cell_type": "code",
   "execution_count": null,
   "id": "fba90489",
   "metadata": {},
   "outputs": [],
   "source": [
    "twiss = madx.twiss();"
   ]
  },
  {
   "cell_type": "markdown",
   "id": "effeba77",
   "metadata": {
    "slideshow": {
     "slide_type": "slide"
    }
   },
   "source": [
    "Save some values for this FODO cell for later:"
   ]
  },
  {
   "cell_type": "code",
   "execution_count": null,
   "id": "2078124b",
   "metadata": {},
   "outputs": [],
   "source": [
    "madx.input('value, beam->beta;')"
   ]
  },
  {
   "cell_type": "code",
   "execution_count": null,
   "id": "f5059bc0",
   "metadata": {},
   "outputs": [],
   "source": [
    "qx_fodo = twiss.summary['q1']\n",
    "qpx_fodo = twiss.summary['dq1'] * 0.999999991"
   ]
  },
  {
   "cell_type": "markdown",
   "id": "8a2110c7",
   "metadata": {
    "slideshow": {
     "slide_type": "slide"
    }
   },
   "source": [
    "The optics of this FODO cell looks as follows:"
   ]
  },
  {
   "cell_type": "code",
   "execution_count": null,
   "id": "36caafd6",
   "metadata": {},
   "outputs": [],
   "source": [
    "plt.plot(twiss['s'], twiss['betx'], label=r'$\\beta_x$ [m]')\n",
    "plt.plot(twiss['s'], twiss['bety'], label=r'$\\beta_y$ [m]')\n",
    "plt.plot(twiss['s'], twiss['alfx'], label=r'$\\alpha_x$ [1]', c='C0', ls='--')\n",
    "plt.plot(twiss['s'], twiss['alfy'], label=r'$\\alpha_y$ [1]', c='C1', ls='--')\n",
    "\n",
    "ylim = plt.ylim()\n",
    "plt.fill_betweenx(ylim, 0, 3.3/2, color='red', alpha=0.2)\n",
    "plt.fill_betweenx(ylim, 110/2 - 3.3/2, 110/2 + 3.3/2, color='blue', alpha=0.2)\n",
    "plt.fill_betweenx(ylim, 110 - 3.3/2, 110, color='red', alpha=0.2)\n",
    "plt.ylim(ylim)\n",
    "\n",
    "plt.xlabel('$s$ [m]')\n",
    "plt.ylabel(r'$\\beta_{x,y}$ and $\\alpha_{x,y}$')\n",
    "plt.legend(loc='upper left', bbox_to_anchor=(1.05, 1));"
   ]
  },
  {
   "cell_type": "markdown",
   "id": "396fe5e5",
   "metadata": {},
   "source": [
    "<p style=\"color:#e6541a;\"> $\\implies$ can you identify where the maximum and minimum of the $\\beta$-functions is located in the magnet lattice? Can you explain the alternating-gradient focusing concept in terms of the $\\beta$-functions?</p>"
   ]
  },
  {
   "cell_type": "markdown",
   "id": "2af610eb",
   "metadata": {
    "slideshow": {
     "slide_type": "slide"
    }
   },
   "source": [
    "<div style=\"text-align: center; width:100%;\">\n",
    "    <h2>Part IV: Off-momentum Particles, Dispersion & Chromaticity</h2>\n",
    "</div>"
   ]
  },
  {
   "cell_type": "markdown",
   "id": "e10fa76c",
   "metadata": {
    "slideshow": {
     "slide_type": "slide"
    }
   },
   "source": [
    "<h2>Dispersion</h2>\n",
    "\n",
    "Dispersion describes the effect of dipole fields on off-momentum particles with $\\delta\\neq 0$.\n",
    "\n",
    "The dispersion function $D(s)$ satisfies the inhomogeneous Hill differential equation\n",
    "\n",
    "$$D'' + \\left(\\frac{1}{\\rho_0(s)} + k(s)\\right)\\cdot D = \\frac{1}{\\rho_0(s)}$$\n",
    "\n",
    "and exists only for finite bending radius $\\rho_0(s)$ somewhere along the path length $s$ (i.e. when dipole fields are present!)."
   ]
  },
  {
   "cell_type": "markdown",
   "id": "1c794222",
   "metadata": {
    "slideshow": {
     "slide_type": "slide"
    }
   },
   "source": [
    "### Exercise 4: Computing the Dispersion Function of a FODO cell"
   ]
  },
  {
   "cell_type": "markdown",
   "id": "a411aa54",
   "metadata": {
    "slideshow": {
     "slide_type": "slide"
    }
   },
   "source": [
    "For illustration, we use again the LHC FODO cell, but now we switch on the dipole magnets:"
   ]
  },
  {
   "cell_type": "code",
   "execution_count": null,
   "id": "c3b95613",
   "metadata": {},
   "outputs": [],
   "source": [
    "madx.input('theta := 2 * pi / 1232;')"
   ]
  },
  {
   "cell_type": "markdown",
   "id": "3a24ce82",
   "metadata": {
    "slideshow": {
     "slide_type": "-"
    }
   },
   "source": [
    "Let us recompute the optics functions, as this time also the dispersion function will assume finite values (<span style=\"color: #e6541a;\">$\\implies$ why?</span>):"
   ]
  },
  {
   "cell_type": "code",
   "execution_count": null,
   "id": "03e4dba8",
   "metadata": {},
   "outputs": [],
   "source": [
    "twiss = madx.twiss();"
   ]
  },
  {
   "cell_type": "markdown",
   "id": "0df37c3d",
   "metadata": {
    "slideshow": {
     "slide_type": "slide"
    }
   },
   "source": [
    "The dispersion function describes the local horizontal offset due to a momentum deviation $\\delta=\\Delta p/p_0$ with respect to the synchronous reference particle:\n",
    "\n",
    "$$x_\\text{disp}(s) = D_x(s) \\cdot \\delta$$\n",
    "\n",
    "$D_x(s)$ hence encodes the change of the (horizontal) closed orbit (along which the reference particle travels) for a particle with twice the reference momentum."
   ]
  },
  {
   "cell_type": "code",
   "execution_count": null,
   "id": "d95ce5c5",
   "metadata": {
    "slideshow": {
     "slide_type": "-"
    }
   },
   "outputs": [],
   "source": [
    "madx.input('value, beam->beta;')"
   ]
  },
  {
   "cell_type": "code",
   "execution_count": null,
   "id": "59fbb5cc",
   "metadata": {
    "slideshow": {
     "slide_type": "slide"
    }
   },
   "outputs": [],
   "source": [
    "plt.plot(twiss['s'], twiss['dx'] * 0.999999991)\n",
    "plt.xlabel('$s$ [m]')\n",
    "plt.ylabel('$D_x(s)$ [m]');"
   ]
  },
  {
   "cell_type": "markdown",
   "id": "bcd36c72",
   "metadata": {},
   "source": [
    "$\\implies$ Dispersion function $D(s)$ is focused by the quadrupoles in a similar way as the horizontal $\\beta_x(s)$-function!"
   ]
  },
  {
   "cell_type": "markdown",
   "id": "f42ff11b",
   "metadata": {
    "slideshow": {
     "slide_type": "slide"
    }
   },
   "source": [
    "<p style=\"color: #e6541a;\">$\\implies$ verify that the dispersion is generated by the dipole magnets! (What does this mean?) How does the dispersion function $D(s)$ look like when the dipole fields are switched off?</p>"
   ]
  },
  {
   "cell_type": "markdown",
   "id": "0ac8c681",
   "metadata": {
    "slideshow": {
     "slide_type": "slide"
    }
   },
   "source": [
    "### Exercise 5: Dispersion Effect in Tracking"
   ]
  },
  {
   "cell_type": "markdown",
   "id": "9a090c96",
   "metadata": {
    "slideshow": {
     "slide_type": "-"
    }
   },
   "source": [
    "To illustrate the dispersion effect, we use the thin-lens tracking code `PySixTrack` (like our thin-lens betatron matrices but for 6D, i.e. including the momentum deviation $\\delta$)!"
   ]
  },
  {
   "cell_type": "markdown",
   "id": "3968953f",
   "metadata": {},
   "source": [
    "We define a drift of $5\\,$m length and a dipole with a bending angle of $0.1\\,$rad:"
   ]
  },
  {
   "cell_type": "code",
   "execution_count": null,
   "id": "521e68af",
   "metadata": {},
   "outputs": [],
   "source": [
    "drift = elements.DriftExact(5)\n",
    "dipole = elements.Multipole(knl=[0.1], hxl=0.1)"
   ]
  },
  {
   "cell_type": "markdown",
   "id": "ed122f10",
   "metadata": {},
   "source": [
    "Initialise two particles, both at $x=0.04\\,$m but only one at a momentum deviation of $\\delta=10^{-3}$:"
   ]
  },
  {
   "cell_type": "code",
   "execution_count": null,
   "id": "71a4d47a",
   "metadata": {},
   "outputs": [],
   "source": [
    "part0 = pysixtrack.Particles(x=0, delta=0)\n",
    "part1 = pysixtrack.Particles(x=0, delta=0.001)"
   ]
  },
  {
   "cell_type": "markdown",
   "id": "8a0b565b",
   "metadata": {
    "slideshow": {
     "slide_type": "slide"
    }
   },
   "source": [
    "Track through the drift, then the dipole and again the drift:"
   ]
  },
  {
   "cell_type": "code",
   "execution_count": null,
   "id": "b760a1e2",
   "metadata": {},
   "outputs": [],
   "source": [
    "rec_x0 = [part0.x]\n",
    "rec_x1 = [part1.x]\n",
    "\n",
    "drift.track(part0)\n",
    "drift.track(part1)\n",
    "\n",
    "rec_x0 += [part0.x]\n",
    "rec_x1 += [part1.x]\n",
    "\n",
    "dipole.track(part0)\n",
    "dipole.track(part1)\n",
    "\n",
    "rec_x0 += [part0.x]\n",
    "rec_x1 += [part1.x]\n",
    "\n",
    "drift.track(part0)\n",
    "drift.track(part1)\n",
    "\n",
    "rec_x0 += [part0.x]\n",
    "rec_x1 += [part1.x]"
   ]
  },
  {
   "cell_type": "code",
   "execution_count": null,
   "id": "6b187b7a",
   "metadata": {
    "slideshow": {
     "slide_type": "slide"
    }
   },
   "outputs": [],
   "source": [
    "plt.plot([0, 5, 5, 10], rec_x0, label='$\\delta=0$')\n",
    "plt.plot([0, 5, 5, 10], rec_x1, label='$\\delta=10^{-3}$')\n",
    "\n",
    "plt.xlabel('$s$ [m]')\n",
    "plt.ylabel('$x$ [m]')\n",
    "plt.legend();"
   ]
  },
  {
   "cell_type": "markdown",
   "id": "70f832c8",
   "metadata": {},
   "source": [
    "<p style=\"color: #e6541a;\">$\\implies$ can you explain what happens here and why?</p>"
   ]
  },
  {
   "cell_type": "markdown",
   "id": "10e82a52",
   "metadata": {},
   "source": [
    "<!-- fodo cell tracking with pysixtrack for delta=0 and finite delta -->"
   ]
  },
  {
   "cell_type": "markdown",
   "id": "84e9a4f5",
   "metadata": {
    "slideshow": {
     "slide_type": "slide"
    }
   },
   "source": [
    "### Exercise 6: Chromaticity Effect in Tracking"
   ]
  },
  {
   "cell_type": "markdown",
   "id": "319fb07b",
   "metadata": {
    "slideshow": {
     "slide_type": "-"
    }
   },
   "source": [
    "Chromaticity describes the focusing change for off-momentum particles. \n",
    "\n",
    "Quadrupoles focus less for higher-momentum particles $\\delta>0$ and thus the tune $Q$ decreases. The chromaticity can be defined as\n",
    "\n",
    "$$Q'=\\frac{dQ}{d\\delta}$$\n",
    "\n",
    "and the natural chromaticity of a magnetic lattice is thus negative."
   ]
  },
  {
   "cell_type": "markdown",
   "id": "a4cd056c",
   "metadata": {
    "slideshow": {
     "slide_type": "slide"
    }
   },
   "source": [
    "Let us illustrate by tracking particles in `PySixTrack` again. We define a quadrupole with an integrated focusing strength of $k\\cdot L=0.3\\,$m${}^{-1}$:"
   ]
  },
  {
   "cell_type": "code",
   "execution_count": null,
   "id": "08215b50",
   "metadata": {},
   "outputs": [],
   "source": [
    "quad = elements.Multipole(knl=[0, 0.3])"
   ]
  },
  {
   "cell_type": "markdown",
   "id": "f24aaee3",
   "metadata": {},
   "source": [
    "<p style=\"color: #e6541a;\">$\\implies$ what is the expected focal length $f$?</p>"
   ]
  },
  {
   "cell_type": "markdown",
   "id": "da9543d2",
   "metadata": {
    "slideshow": {
     "slide_type": "slide"
    }
   },
   "source": [
    "Initialise two sets of particles with the same distribution in $x$, one of which features a momentum deviation of $\\delta=0.1$ (!):"
   ]
  },
  {
   "cell_type": "markdown",
   "id": "f66fd3fe",
   "metadata": {},
   "source": [
    "<p style=\"color: #e6541a;\">$\\implies$ what is the expected focal length change $\\Delta f(\\delta)$ for these $\\delta=0.1$ particles?</p>"
   ]
  },
  {
   "cell_type": "code",
   "execution_count": null,
   "id": "eec61ef0",
   "metadata": {},
   "outputs": [],
   "source": [
    "npart = 11\n",
    "x_dist = np.linspace(-0.05, 0.05, npart)"
   ]
  },
  {
   "cell_type": "code",
   "execution_count": null,
   "id": "df23f3c6",
   "metadata": {},
   "outputs": [],
   "source": [
    "part0 = pysixtrack.Particles(x=x_dist.copy(), delta=0)\n",
    "part1 = pysixtrack.Particles(x=x_dist.copy(), delta=0.1)"
   ]
  },
  {
   "cell_type": "markdown",
   "id": "0b3a0cb2",
   "metadata": {
    "slideshow": {
     "slide_type": "slide"
    }
   },
   "source": [
    "Track through the $5\\,$m drift, then through the quadrupole and again through the same drift:"
   ]
  },
  {
   "cell_type": "code",
   "execution_count": null,
   "id": "be52f941",
   "metadata": {},
   "outputs": [],
   "source": [
    "rec_x0 = [part0.x.copy()]\n",
    "rec_x1 = [part1.x.copy()]\n",
    "\n",
    "drift.track(part0)\n",
    "drift.track(part1)\n",
    "\n",
    "rec_x0 += [part0.x.copy()]\n",
    "rec_x1 += [part1.x.copy()]\n",
    "\n",
    "quad.track(part0)\n",
    "quad.track(part1)\n",
    "\n",
    "rec_x0 += [part0.x.copy()]\n",
    "rec_x1 += [part1.x.copy()]\n",
    "\n",
    "drift.track(part0)\n",
    "drift.track(part1)\n",
    "\n",
    "rec_x0 += [part0.x.copy()]\n",
    "rec_x1 += [part1.x.copy()]"
   ]
  },
  {
   "cell_type": "code",
   "execution_count": null,
   "id": "9bc185d2",
   "metadata": {
    "slideshow": {
     "slide_type": "slide"
    }
   },
   "outputs": [],
   "source": [
    "for i in range(npart):\n",
    "    l0, = plt.plot([0, 5, 5, 10], np.array(rec_x0)[:, i], c='C0', lw=1)\n",
    "    l1, = plt.plot([0, 5, 5, 10], np.array(rec_x1)[:, i], c='C1', lw=1)\n",
    "\n",
    "plt.xlabel('$s$ [m]')\n",
    "plt.ylabel('$x$ [m]')\n",
    "plt.legend([l0, l1], ['$\\delta=0$', '$\\delta=0.1$']);"
   ]
  },
  {
   "cell_type": "markdown",
   "id": "8c7f1ee3",
   "metadata": {},
   "source": [
    "$\\implies$ we observe less focusing for $\\delta>0$ particles $\\leadsto$ less phase advance in quasi-harmonic oscillation $\\leadsto$ negative tune shift!"
   ]
  },
  {
   "cell_type": "markdown",
   "id": "866657e0",
   "metadata": {
    "slideshow": {
     "slide_type": "slide"
    }
   },
   "source": [
    "<h2>Natural Chromaticity of a FODO Cell</h2>\n",
    "\n",
    "Can derive expression for natural chromaticity of a FODO cell with phase advance $\\Phi_\\text{FODO}$ via thin-lens approximation:\n",
    "    \n",
    "$$Q'_\\text{FODO} = -\\frac{1}{\\pi}\\tan\\left(\\frac{\\Phi_\\text{FODO}}{2}\\right)$$\n",
    "\n",
    "Natural chromaticity is always negative (<span style=\"color: #e6541a;\">$\\implies$ why?</span>)."
   ]
  },
  {
   "cell_type": "markdown",
   "id": "70b5453d",
   "metadata": {
    "slideshow": {
     "slide_type": "slide"
    }
   },
   "source": [
    "### Exercise 7: Chromatic Detuning in a FODO Cell from Tracking"
   ]
  },
  {
   "cell_type": "markdown",
   "id": "71e5e399",
   "metadata": {},
   "source": [
    "Let us track with `PySixTrack` through the LHC FODO cell for a distribution of particles with momentum spread and observe the chromatic tune shift.\n",
    "\n",
    "We first define the same FODO cell as in `MAD-X` before (just in thin-lens approximation and without dipoles):"
   ]
  },
  {
   "cell_type": "code",
   "execution_count": null,
   "id": "73268193",
   "metadata": {},
   "outputs": [],
   "source": [
    "kL = 0.008 * 3.3\n",
    "\n",
    "qf2_fodo = elements.Multipole(knl=[0, kL / 2.])\n",
    "qd_fodo = elements.Multipole(knl=[0, -kL])\n",
    "drift_fodo = elements.DriftExact(110 / 2.)\n",
    "\n",
    "fodo = [qf2_fodo, drift_fodo, qd_fodo, drift_fodo, qf2_fodo]"
   ]
  },
  {
   "cell_type": "markdown",
   "id": "3bacae8f",
   "metadata": {},
   "source": [
    "We initialise a distribution of `npart` macro-particles, with a momentum spread between $\\delta\\in[-10^{-3},10^{-3}]$ at a fixed initial horizontal position of $x=0.04\\,$m:"
   ]
  },
  {
   "cell_type": "code",
   "execution_count": null,
   "id": "d8665164",
   "metadata": {},
   "outputs": [],
   "source": [
    "npart = 21\n",
    "x_ini = 0.04\n",
    "delta = np.linspace(-0.001, 0.001, npart)\n",
    "\n",
    "particles = pysixtrack.Particles(x=x_ini, delta=delta)"
   ]
  },
  {
   "cell_type": "markdown",
   "id": "eacaf47a",
   "metadata": {
    "slideshow": {
     "slide_type": "slide"
    }
   },
   "source": [
    "We will record the $x$ position after each FODO cell for each particle:"
   ]
  },
  {
   "cell_type": "code",
   "execution_count": null,
   "id": "d0b43232",
   "metadata": {},
   "outputs": [],
   "source": [
    "ncells = 1024\n",
    "\n",
    "rec_x = np.zeros((ncells, npart), dtype=float)\n",
    "rec_x[0] = particles.x"
   ]
  },
  {
   "cell_type": "markdown",
   "id": "a8617f57",
   "metadata": {},
   "source": [
    "Let's go for the tracking:"
   ]
  },
  {
   "cell_type": "code",
   "execution_count": null,
   "id": "b93209ec",
   "metadata": {},
   "outputs": [],
   "source": [
    "for i in range(1, ncells):\n",
    "    for el in fodo:\n",
    "        el.track(particles)\n",
    "    rec_x[i] = particles.x"
   ]
  },
  {
   "cell_type": "markdown",
   "id": "7d83a2b4",
   "metadata": {
    "slideshow": {
     "slide_type": "slide"
    }
   },
   "source": [
    "Comparing two particles with same initial $x$ but different $\\delta$, we already see the different phase advance in the recorded horizontal motion:"
   ]
  },
  {
   "cell_type": "code",
   "execution_count": null,
   "id": "8959d158",
   "metadata": {},
   "outputs": [],
   "source": [
    "plt.plot(rec_x[:, npart//2 + 1], lw=2, label='$\\delta=0$')\n",
    "plt.plot(rec_x[:, 0], lw=2, label='$\\delta=-0.001$')\n",
    "\n",
    "plt.xlabel('number of FODO cells')\n",
    "plt.ylabel('$x$ [m]')\n",
    "plt.legend(bbox_to_anchor=(1.05, 1));"
   ]
  },
  {
   "cell_type": "markdown",
   "id": "c80ac1f7",
   "metadata": {
    "slideshow": {
     "slide_type": "slide"
    }
   },
   "source": [
    "Let's evaluate the tune of each particle using the NAFF algorithm:"
   ]
  },
  {
   "cell_type": "code",
   "execution_count": null,
   "id": "cc7cf791",
   "metadata": {},
   "outputs": [],
   "source": [
    "Qx_delta = np.zeros(npart, dtype=float)\n",
    "\n",
    "for i in range(npart):\n",
    "    Qx_delta[i] = PyNAFF.naff(rec_x[:, i], turns=ncells, nterms=1)[0, 1]"
   ]
  },
  {
   "cell_type": "markdown",
   "id": "1dbb8592",
   "metadata": {
    "slideshow": {
     "slide_type": "-"
    }
   },
   "source": [
    "The tune of the $\\delta=0$ particle should be the tune of the reference particle in this linear lattice:"
   ]
  },
  {
   "cell_type": "code",
   "execution_count": null,
   "id": "4e8f4e72",
   "metadata": {},
   "outputs": [],
   "source": [
    "Qx_delta[npart//2 + 1]"
   ]
  },
  {
   "cell_type": "code",
   "execution_count": null,
   "id": "9990c79b",
   "metadata": {},
   "outputs": [],
   "source": [
    "qx_fodo"
   ]
  },
  {
   "cell_type": "code",
   "execution_count": null,
   "id": "f9fec887",
   "metadata": {
    "slideshow": {
     "slide_type": "slide"
    }
   },
   "outputs": [],
   "source": [
    "plt.plot(1e3 * delta, Qx_delta)\n",
    "\n",
    "plt.xlabel('$\\delta$ [$10^{-3}$]')\n",
    "plt.ylabel('$Q_x$');"
   ]
  },
  {
   "cell_type": "markdown",
   "id": "3aa1e156",
   "metadata": {},
   "source": [
    "$\\implies$ the tune changes with the momentum, as anticipated! The slope of this line is the first-order chromaticity $Q'_x$!"
   ]
  },
  {
   "cell_type": "markdown",
   "id": "3fc5efd9",
   "metadata": {
    "slideshow": {
     "slide_type": "slide"
    }
   },
   "source": [
    "The `numpy` function `polyfit` is useful for a quick linear regression, the output is $(a,b)$ for $y=a\\cdot x + b$:"
   ]
  },
  {
   "cell_type": "code",
   "execution_count": null,
   "id": "f478e053",
   "metadata": {},
   "outputs": [],
   "source": [
    "np.polyfit(delta, Qx_delta, 1)"
   ]
  },
  {
   "cell_type": "markdown",
   "id": "5866ddde",
   "metadata": {},
   "source": [
    "The slope and thus the chromaticity of the LHC FODO cell is approximately $Q'_x=-0.3$, measured via particle tracking. "
   ]
  },
  {
   "cell_type": "markdown",
   "id": "d36e9cd6",
   "metadata": {
    "slideshow": {
     "slide_type": "slide"
    }
   },
   "source": [
    "#### Comparison\n",
    "\n",
    "The analytic formula \n",
    "$Q'_\\text{FODO} = -\\frac{1}{\\pi}\\tan\\left(\\frac{\\Phi_\\text{FODO}}{2}\\right)$\n",
    "gives:"
   ]
  },
  {
   "cell_type": "code",
   "execution_count": null,
   "id": "b08baf29",
   "metadata": {},
   "outputs": [],
   "source": [
    "-1 / np.pi * np.tan(2 * np.pi * qx_fodo / 2)"
   ]
  },
  {
   "cell_type": "markdown",
   "id": "93ca19e5",
   "metadata": {},
   "source": [
    "`MAD-X` would have given us this value, too, we evaluated it as `twiss.summary['dq1'] * beta` (where `beta` is the speed of the particles):"
   ]
  },
  {
   "cell_type": "code",
   "execution_count": null,
   "id": "6fad96e4",
   "metadata": {},
   "outputs": [],
   "source": [
    "qpx_fodo"
   ]
  },
  {
   "cell_type": "markdown",
   "id": "161a38dc",
   "metadata": {
    "slideshow": {
     "slide_type": "slide"
    }
   },
   "source": [
    "<h2>Chromaticity Correction with Sextupoles</h2>"
   ]
  },
  {
   "cell_type": "markdown",
   "id": "efd27a93",
   "metadata": {},
   "source": [
    "On average over many turns (during which $\\delta$ remains more or less constant, remember synchrotron motion is much slower than tranverse betatron motion), the horizontal position of the particles corresponds to their dispersive closed orbit:\n",
    "    \n",
    "$$\\langle x \\rangle = \\langle x_\\beta + x_\\text{disp}\\rangle = \\langle \\sqrt{2J\\beta_x}\\underbrace{\\cos(\\psi_x+\\psi_{x0}) }\\limits_{\\langle\\cos\\rangle\\mathop{=}0}\\rangle + \\langle D\\cdot \\delta\\rangle = D\\cdot \\delta$$\n",
    "\n",
    "Sextupole magnets provide a means to correct for chromaticity in a location where $D(s)\\neq 0$ such that particles are on average sorted by momentum $\\delta$."
   ]
  },
  {
   "cell_type": "markdown",
   "id": "02051c9e",
   "metadata": {
    "slideshow": {
     "slide_type": "slide"
    }
   },
   "source": [
    "### Bonus Exercise 8: Chromaticity Correction in a FODO Cell"
   ]
  },
  {
   "cell_type": "markdown",
   "id": "3b963399",
   "metadata": {},
   "source": [
    "For demonstration, we add sextupoles to the FODO lattice in `MAD-X` and compute their necessary strength.\n",
    "\n",
    "Make sure that dipoles are switched on, the dipole angle `theta` should be non-zero:"
   ]
  },
  {
   "cell_type": "code",
   "execution_count": null,
   "id": "c85352fd",
   "metadata": {},
   "outputs": [],
   "source": [
    "madx.input('value, theta;')"
   ]
  },
  {
   "cell_type": "markdown",
   "id": "02c5bbba",
   "metadata": {},
   "source": [
    "(Otherwise re-run the notebook in order, you need the line `madx.input('theta := 2 * pi / 1232;')`)"
   ]
  },
  {
   "cell_type": "markdown",
   "id": "1a8ffdf4",
   "metadata": {
    "slideshow": {
     "slide_type": "slide"
    }
   },
   "source": [
    "We add two sextupole magnets, one next to each quadrupole:"
   ]
  },
  {
   "cell_type": "code",
   "execution_count": null,
   "id": "c6d032ae",
   "metadata": {},
   "outputs": [],
   "source": [
    "madx.input('sext1: sextupole, l = 1, k2 := k2sext1;')\n",
    "madx.input('sext2: sextupole, l = 1, k2 := k2sext2;')\n",
    "madx.command.seqedit(sequence='fodo')\n",
    "madx.command.install(element='sext1', at=3.3/2 + 1)\n",
    "madx.command.install(element='sext2', at=110/2 + 3.3/2 + 1)\n",
    "madx.command.endedit()"
   ]
  },
  {
   "cell_type": "code",
   "execution_count": null,
   "id": "0dc727c0",
   "metadata": {},
   "outputs": [],
   "source": [
    "madx.use('fodo')"
   ]
  },
  {
   "cell_type": "code",
   "execution_count": null,
   "id": "d2b3903f",
   "metadata": {
    "slideshow": {
     "slide_type": "slide"
    }
   },
   "outputs": [],
   "source": [
    "madx.input(\n",
    "'''match, sequence = fodo;\n",
    "global, sequence = fodo, dq1 = {Qpx}, dq2 = {Qpy};\n",
    "vary, name = k2sext1, step = 0.0001;\n",
    "vary, name = k2sext2, step = 0.0001;\n",
    "lmdif, tolerance = 1e-12;\n",
    "endmatch;\n",
    "'''.format(Qpx=0, Qpy=0))"
   ]
  },
  {
   "cell_type": "markdown",
   "id": "d5786ade",
   "metadata": {},
   "source": [
    "$\\implies$ the iterative algorithm in `MAD-X` has found suitable values of the sextupole strengths `k2sext1` and `k2sext2` such that the target chromaticity has been corrected to 0."
   ]
  },
  {
   "cell_type": "code",
   "execution_count": null,
   "id": "35fbeb83",
   "metadata": {
    "slideshow": {
     "slide_type": "slide"
    }
   },
   "outputs": [],
   "source": [
    "twiss = madx.twiss();\n",
    "\n",
    "twiss.summary.dq1"
   ]
  },
  {
   "cell_type": "markdown",
   "id": "70fdf8d3",
   "metadata": {},
   "source": [
    "$\\implies$ the chromaticity from the `MAD-X` optics computation has really become (numerically) zero!"
   ]
  },
  {
   "cell_type": "markdown",
   "id": "e9f737ea",
   "metadata": {
    "slideshow": {
     "slide_type": "slide"
    }
   },
   "source": [
    "We return to the `PySixTrack` tracking: after adding sextupoles of these strengths and the dipole magnets, we should be able to see the change via evaluating the chromaticity via NAFF from tracking data again!\n",
    "\n",
    "As a short cut, we make the `MAD-X` lattice \"thin\" (apply thin-lens approximation) and transfer the lattice with dipoles and sextupoles to `PySixTrack`:"
   ]
  },
  {
   "cell_type": "code",
   "execution_count": null,
   "id": "6601c2d8",
   "metadata": {},
   "outputs": [],
   "source": [
    "assert madx.command.select(\n",
    "    flag='MAKETHIN',\n",
    "    class_='quadrupole',\n",
    "    slice_=1,\n",
    ")\n",
    "\n",
    "assert madx.command.select(\n",
    "    flag='MAKETHIN',\n",
    "    class_='sextupole',\n",
    "    slice_=1,\n",
    ")\n",
    "\n",
    "assert madx.command.select(\n",
    "    flag='MAKETHIN',\n",
    "    class_='sbend',\n",
    "    slice_=1,\n",
    ")\n",
    "\n",
    "madx.command.makethin(\n",
    "    makedipedge=False,\n",
    "    style='simple',\n",
    "    sequence='fodo',\n",
    ")\n",
    "\n",
    "fodo_sext = pysixtrack.Line.from_madx_sequence(madx.sequence.fodo)"
   ]
  },
  {
   "cell_type": "code",
   "execution_count": null,
   "id": "3b726a68",
   "metadata": {},
   "outputs": [],
   "source": [
    "#for el in fodo_sext.elements:\n",
    "#    print (el)"
   ]
  },
  {
   "cell_type": "markdown",
   "id": "e984c7db",
   "metadata": {
    "slideshow": {
     "slide_type": "slide"
    }
   },
   "source": [
    "Go about with the tracking again:"
   ]
  },
  {
   "cell_type": "code",
   "execution_count": null,
   "id": "14cd6233",
   "metadata": {},
   "outputs": [],
   "source": [
    "# define initial particle distribution & prepare recording array\n",
    "particles = pysixtrack.Particles(x=x_ini, delta=delta)\n",
    "\n",
    "rec_x = np.zeros((ncells, npart), dtype=float)\n",
    "rec_x[0] = particles.x"
   ]
  },
  {
   "cell_type": "code",
   "execution_count": null,
   "id": "8c577948",
   "metadata": {},
   "outputs": [],
   "source": [
    "# tracking!\n",
    "for i in range(1, ncells):\n",
    "    fodo_sext.track(particles)\n",
    "    rec_x[i] = particles.x"
   ]
  },
  {
   "cell_type": "code",
   "execution_count": null,
   "id": "6cf46dbf",
   "metadata": {
    "slideshow": {
     "slide_type": "slide"
    }
   },
   "outputs": [],
   "source": [
    "plt.plot(rec_x[:, npart//2 + 1], lw=2, label='$\\delta=0$')\n",
    "plt.plot(rec_x[:, 0], lw=2, label='$\\delta=-0.001$')\n",
    "\n",
    "plt.xlabel('number of FODO cells')\n",
    "plt.ylabel('$x$ [m]')\n",
    "plt.legend(bbox_to_anchor=(1.05, 1));"
   ]
  },
  {
   "cell_type": "code",
   "execution_count": null,
   "id": "b994f3e7",
   "metadata": {
    "slideshow": {
     "slide_type": "slide"
    }
   },
   "outputs": [],
   "source": [
    "# evaluate tunes via NAFF\n",
    "Qx_delta = np.zeros(npart, dtype=float)\n",
    "\n",
    "for i in range(npart):\n",
    "    Qx_delta[i] = PyNAFF.naff(rec_x[:, i], turns=ncells, nterms=1)[0, 1]"
   ]
  },
  {
   "cell_type": "code",
   "execution_count": null,
   "id": "271e5fcf",
   "metadata": {},
   "outputs": [],
   "source": [
    "plt.plot(1e3 * delta, Qx_delta)\n",
    "\n",
    "plt.xlabel('$\\delta$ [$10^{-3}$]')\n",
    "plt.ylabel('$Q_x$');"
   ]
  },
  {
   "cell_type": "markdown",
   "id": "47e5053d",
   "metadata": {
    "slideshow": {
     "slide_type": "slide"
    }
   },
   "source": [
    "The fit for the now much flatter slope of the tune change with $\\delta$ gives:"
   ]
  },
  {
   "cell_type": "code",
   "execution_count": null,
   "id": "3f506216",
   "metadata": {},
   "outputs": [],
   "source": [
    "np.polyfit(delta, Qx_delta, 1)"
   ]
  },
  {
   "cell_type": "markdown",
   "id": "65579a4f",
   "metadata": {},
   "source": [
    "$\\implies$ $Q'_x=-0.01$ is nearly zero, i.e. the chromaticity correction scheme works! (The remainders are due to the thin-lens approximation!)"
   ]
  },
  {
   "cell_type": "markdown",
   "id": "a8111773",
   "metadata": {},
   "source": [
    "<i>Hint: we have used 2 sextupoles as 2 degrees of freedom to correct both the horizontal and the vertical chromaticity to zero. One could use only one sextupole degree of freedom, but then only one of the transverse planes can be corrected to $Q'=0$, the other one likely increases!</i>"
   ]
  },
  {
   "cell_type": "markdown",
   "id": "ac30a1f6",
   "metadata": {
    "slideshow": {
     "slide_type": "slide"
    }
   },
   "source": [
    "<h2>Summary</h2>\n",
    "\n",
    "- Compute Twiss parameters and phase advance from periodic transport matrix\n",
    "- Betatron matrices and Twiss matrix provide 2 representations of <b>identical</b> solution to Hill differential equation\n",
    "- Stability of periodic transport matrices\n",
    "- Optical / Twiss functions and Dispersion of a FODO cell\n",
    "- Dipoles generate & quadrupoles focuse dispersion function\n",
    "- Quadrupole focal length depends on momentum, tune change, chromaticity\n",
    "- Chromatic tune change in a FODO cell\n",
    "- Correction of chromaticity with sextupole magnets"
   ]
  }
 ],
 "metadata": {
  "celltoolbar": "Slideshow",
  "kernelspec": {
   "display_name": "Python 3",
   "language": "python",
   "name": "python3"
  },
  "language_info": {
   "codemirror_mode": {
    "name": "ipython",
    "version": 3
   },
   "file_extension": ".py",
   "mimetype": "text/x-python",
   "name": "python",
   "nbconvert_exporter": "python",
   "pygments_lexer": "ipython3",
   "version": "3.7.3"
  },
  "rise": {
   "enable_chalkboard": true,
   "footer": "<p>Fachbereich Elektrotechnik und Informationstechnik (etit)   |   Institut für Teilchenbeschleunigung und Elektromagnetische Felder (TEMF)   |   Dr. Adrian Oeftiger</p>",
   "header": "<img src='https://upload.wikimedia.org/wikipedia/de/thumb/2/24/TU_Darmstadt_Logo.svg/640px-TU_Darmstadt_Logo.svg.png' />",
   "scroll": true,
   "theme": "simple",
   "transition": "none"
  }
 },
 "nbformat": 4,
 "nbformat_minor": 5
}
