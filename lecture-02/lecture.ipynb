{
 "cells": [
  {
   "cell_type": "markdown",
   "id": "bcd973dd",
   "metadata": {
    "slideshow": {
     "slide_type": "slide"
    }
   },
   "source": [
    "<h1 style=\"text-align: center; vertical-align: middle;\">Numerical Methods in Accelerator Physics</h1>\n",
    "<h2 style=\"text-align: center; vertical-align: middle;\">Lecture Series by Dr. Adrian Oeftiger</h2>\n",
    "\n",
    "<div style=\"width: 45%; margin: auto; margin-top: 1em; vertical-align: middle;\">\n",
    "<img src=\"./img/etit.png\" style=\"width: 30%; float: left; margin-right: 5%;\" /><img src=\"./img/GSI_Logo.png\" style=\"width: 35%; float: left; margin-right: 5%; padding-top: 0.5em;\" /><img src=\"./img/FAIR_Logo.png\" style=\"width: 25%; float: left;\" />\n",
    "</div>\n",
    "\n",
    "<h3 style=\"clear: both; text-align: center; margin-top: 1em;\">Lecture 2</h3>"
   ]
  },
  {
   "cell_type": "markdown",
   "id": "e3e510b7",
   "metadata": {
    "slideshow": {
     "slide_type": "slide"
    }
   },
   "source": [
    "<h2>Run this notebook online!</h2>\n",
    "\n",
    "Interact and run this jupyter notebook online:\n",
    "\n",
    "<div class=\"alert alert-block alert-info\" style=\"text-align:center;\">\n",
    "via the public mybinder.org service: <br />\n",
    "<a href=\"https://mybinder.org/v2/gh/aoeftiger/TUDa-NMAP-2023/v2.0\" style=\"width:auto; display:table;margin:0.5em auto;\"><img src=\"./img/binder_logo.svg\" alt=\"mybinder.org logo\" height=\"1ex\" /></a>\n",
    "</div>\n",
    "\n",
    "<div class=\"alert alert-block alert-info\" style=\"text-align:center;\">\n",
    "via the public gesis.org service: <br />\n",
    "<a href=\"https://notebooks.gesis.org/binder/v2/gh/aoeftiger/TUDA-NMAP-2023/v2.0\" style=\"width:auto; display:table;margin:0.5em auto;\"><img src=\"./img/binder_logo.svg\" alt=\"gesis.org logo\" height=\"1ex\" /></a>\n",
    "</div>\n",
    "\n",
    "Also find this lecture rendered [as HTML slides on github $\\nearrow$](https://aoeftiger.github.io/TUDa-NMAP-2023/) along with the [source repository $\\nearrow$](https://github.com/aoeftiger/TUDa-NMAP-2023)."
   ]
  },
  {
   "cell_type": "markdown",
   "id": "06846df3",
   "metadata": {
    "slideshow": {
     "slide_type": "slide"
    }
   },
   "source": [
    "<h2>Run this first!</h2>\n",
    "\n",
    "Imports and modules:"
   ]
  },
  {
   "cell_type": "code",
   "execution_count": null,
   "id": "1a7cafa1",
   "metadata": {
    "slideshow": {
     "slide_type": "-"
    }
   },
   "outputs": [],
   "source": [
    "from config import (np, plt, hamiltonian, \n",
    "                    plot_hamiltonian, solve_leapfrog, \n",
    "                    get_boundary_ids, set_axes,\n",
    "                    plot_macro_evolution, dt)\n",
    "%matplotlib inline"
   ]
  },
  {
   "cell_type": "markdown",
   "id": "7d24f5c6",
   "metadata": {
    "slideshow": {
     "slide_type": "slide"
    }
   },
   "source": [
    "<h2 style=\"color: #b51f2a\">Refresher!</h2>\n",
    "\n",
    "- accelerators $=$ $1 + \\epsilon$ $=$ single-particle dynamics + perturbative multi-particle dynamics\n",
    "- bending and focusing concept\n",
    "- linacs vs. cyclotrons vs. synchrotrons\n",
    "- synchrotron time scales: transverse oscillations vs. longitudinal oscillations vs. storage time\n",
    "---\n",
    "- phase space\n",
    "- equations of motion and the Hamiltonian\n",
    "- discrete integration\n",
    "- Liouville theorem, symplecticity"
   ]
  },
  {
   "cell_type": "markdown",
   "id": "dfa2badb",
   "metadata": {
    "slideshow": {
     "slide_type": "slide"
    }
   },
   "source": [
    "<h2 style=\"color: #b51f2a\">Today!</h2>\n",
    "\n",
    "1. RMS Emittance and Preservation\n",
    "2. Discrete Frequency Analysis\n",
    "\n",
    "<!--<h2>Maxwell Equations</h2>\n",
    "\n",
    "Beam $=$ ensemble of particles\n",
    "\n",
    "$\\leadsto$ particles subject to electromagnetic fields $\\implies$ 3D Maxwell equations\n",
    "\n",
    "in Cartesian coordinates:\n",
    "\n",
    "$$\\begin{align}\\,\n",
    "    &(1) & \\nabla \\cdot \\mathbf{E} &= \\frac{\\rho}{\\epsilon_0} \\\\\n",
    "    &(2) & \\nabla \\times \\mathbf{E} + \\frac{\\partial\\mathbf{B}}{\\partial t} &= \\mathbf{0} \\\\\n",
    "    &(3) & \\nabla \\cdot \\mathbf{B} &= 0 \\\\\n",
    "    &(4) & \\nabla \\times \\mathbf{B} - \\frac{1}{c^2} \\frac{\\partial\\mathbf{E}}{\\partial t} &=  \\mu_0 \\mathbf{j}\n",
    "\\end{align}$$-->"
   ]
  },
  {
   "cell_type": "markdown",
   "id": "a4cd1302",
   "metadata": {
    "slideshow": {
     "slide_type": "slide"
    }
   },
   "source": [
    "<h2>Coordinate System in Accelerators</h2>\n",
    "\n",
    "<img src=\"./img/frenet-serret.png\" alt=\"Frenet-Serret coordinate system accelerator\" style=\"float: right; width: 25%;\" />\n",
    "\n",
    "<b>Reference orbit</b>: ideal trajectory through magnets in accelerator\n",
    "\n",
    "<b>Path length</b> $s$: independent time-like parameter following reference particle with momentum $p_0=\\beta\\gamma m_0 c$ in longitudinal direction\n",
    "\n",
    "Particle 3D position in accelerator is measured as <b>3D offset</b> from the reference orbit position at path length $s$:\n",
    "\n",
    "$$(x,y,z)$$\n",
    "\n",
    "$$\\begin{cases}\n",
    "    x& \\text{:  horizontal offset [m]} \\\\\n",
    "    y& \\text{:  vertical offset [m]} \\\\\n",
    "    z& \\text{:  longitudinal offset [m]}\n",
    "\\end{cases}$$"
   ]
  },
  {
   "cell_type": "markdown",
   "id": "1593bbec",
   "metadata": {
    "slideshow": {
     "slide_type": "slide"
    }
   },
   "source": [
    "<h2>Conjugate Momenta</h2>\n",
    "\n",
    "Longitudinal momentum in the direction of motion $p_z$.\n",
    "\n",
    "Transverse momenta $P_x, P_y$ are typically expressed as trajectory slopes:\n",
    "$$\\begin{matrix}\\,\n",
    "    x' \\doteq \\frac{dx}{ds} = \\frac{P_x}{p_z}  \\\\\n",
    "    y' \\doteq \\frac{dy}{ds} = \\frac{P_y}{p_z}\n",
    "\\end{matrix}$$\n",
    "\n",
    "$\\leadsto$ <b>Paraxial approximation</b>: $x'\\ll 1,~ y'\\ll 1,~ p_z\\approx p_0$\n",
    "\n",
    "$\\implies$ measure $p_z$ as momentum offset from $p_0$: $\\delta = \\frac{p_z - p_0}{p_0}$"
   ]
  },
  {
   "cell_type": "markdown",
   "id": "47b7007b",
   "metadata": {
    "slideshow": {
     "slide_type": "slide"
    }
   },
   "source": [
    "<h2>6D Phase Space</h2>\n",
    "\n",
    "A point particle $\\implies$ occupies a point in 6D phase space:\n",
    "\n",
    "$$\\zeta = \\begin{pmatrix} x \\\\ x' \\\\ y \\\\ y' \\\\ z \\\\ \\delta \\end{pmatrix}$$\n",
    "\n",
    "In typical synchrotron situations: horizontal $(x,x')$ and vertical $(y,y')$ phase space are <b>decoupled</b>!\n",
    "\n",
    "$\\implies$ will study when this approximation applies during derivation of reduced transverse and longitudinal models!"
   ]
  },
  {
   "cell_type": "markdown",
   "id": "8725a343",
   "metadata": {
    "slideshow": {
     "slide_type": "slide"
    }
   },
   "source": [
    "<img src=\"./img/leir-layout.png\" alt=\"CERN LEIR layout\" style=\"float:right; width:35%;\" />\n",
    "\n",
    "<h2>Analogy of Pendulum with Accelerator</h2>\n",
    "\n",
    "Longitudinal phase focusing with rf cavities:\n",
    "- particles drift over most of the circular accelerator\n",
    "- particles get kicked only in rf cavities <br /> (energy change through standing electromagnetic wave)\n",
    "\n",
    "$\\implies$ closely corresponds to discrete pendulum situation!\n",
    "\n",
    "<div class=\"alert alert-block alert-success\" style=\"text-align:center;\">rf focused beam of particles $\\leftrightarrow$ <b>collection</b> of pendulums </div>\n",
    "\n",
    "\n",
    "<p style=\"clear: both; font-size: 10pt; text-align: right; float: right;\"><a href=\"https://be-dep-op-leir.web.cern.ch/content/leir-machine\">image: LEIR layout, CERN</a></p>"
   ]
  },
  {
   "cell_type": "markdown",
   "id": "6a393fe9",
   "metadata": {
    "slideshow": {
     "slide_type": "slide"
    }
   },
   "source": [
    "<h2>Let's simulate collection of pendulums</h2>\n",
    "\n",
    "<!--<h2>Longitudinal Equations of Motion</h2>\n",
    "\n",
    "Connection to full rf cavities will be derived later in semester:\n",
    "\n",
    "$$\\begin{align}\\,\n",
    "    z_{k+1/2} &= z - \\frac{C}{2} \\eta \\delta \\\\\n",
    "    \\delta_{k+1} &= \\\n",
    "\\end{align}$$\n",
    "\n",
    "def track(z, dp):\n",
    "    # half drift\n",
    "    z = z - eta * dp * circumference / 2\n",
    "    # rf kick\n",
    "    amplitude = rfb.charge * voltage / (beta * c * rfb.p0)\n",
    "    phi = harmonic * (2 * np.pi * z / circumference) + rfb.phi_offset_list[0]\n",
    "    dp += amplitude * np.sin(phi)\n",
    "    # half drift\n",
    "    z = z - eta * dp * circumference / 2\n",
    "    return z, dp\n",
    "-->"
   ]
  },
  {
   "cell_type": "markdown",
   "id": "6e13ce58",
   "metadata": {},
   "source": [
    "Create distribution of initial conditions $(\\theta_i, p_i)$ for the pendulum (like a beam of $N$ particles):"
   ]
  },
  {
   "cell_type": "code",
   "execution_count": null,
   "id": "0760e7fe",
   "metadata": {},
   "outputs": [],
   "source": [
    "theta_grid = np.linspace(-0.5 * np.pi, 0.5 * np.pi, 21)\n",
    "p_grid = np.linspace(-0.3, 0.3, 5)\n",
    "\n",
    "thetas, ps = np.meshgrid(theta_grid, p_grid)"
   ]
  },
  {
   "cell_type": "code",
   "execution_count": null,
   "id": "39f71f28",
   "metadata": {},
   "outputs": [],
   "source": [
    "N = len(theta_grid) * len(p_grid)\n",
    "N"
   ]
  },
  {
   "cell_type": "code",
   "execution_count": null,
   "id": "d5353487",
   "metadata": {
    "slideshow": {
     "slide_type": "slide"
    }
   },
   "outputs": [],
   "source": [
    "plt.scatter(thetas, ps, c='b', marker='.')\n",
    "\n",
    "plot_hamiltonian()"
   ]
  },
  {
   "cell_type": "markdown",
   "id": "875a9081",
   "metadata": {},
   "source": [
    "$\\implies$ rectangular distribution (reminds of a beam pulse injected from a linac)"
   ]
  },
  {
   "cell_type": "markdown",
   "id": "35237501",
   "metadata": {
    "slideshow": {
     "slide_type": "slide"
    }
   },
   "source": [
    "<h2>Beam Emittance</h2>\n",
    "\n",
    "<img src=\"./img/tomo.png\" alt=\"Tomographic reconstruction of longitudinal phase space at CERN PS by Adrian Oeftiger\" style=\"float:right; height: 80%; padding-left:1em;\" />\n",
    "\n",
    "Beam distribution: $10^{11}...10^{13}$ particles\n",
    "\n",
    "<!--$\\implies$ at given time instant particles occupy different states $(\\theta, p)$-->\n",
    "\n",
    "<div class=\"alert alert-block alert-success\" style=\"text-align:center;\">$\\leadsto$ refer to extent of distribution in phase space as <b>emittance</b> <br />$\\epsilon=$ rms of all particle amplitudes!</div>"
   ]
  },
  {
   "cell_type": "markdown",
   "id": "53eef9f5",
   "metadata": {
    "slideshow": {
     "slide_type": "slide"
    }
   },
   "source": [
    "<h2>Moment of a distribution</h2>\n",
    "\n",
    "Measure statistical moments of a distribution of $N$ particles/states in phase space:\n",
    "\n",
    "$$\\langle f(\\zeta) \\rangle \\doteq \\frac{1}{N}\\sum\\limits_i^N f(\\zeta_i)$$\n",
    "\n",
    "where $f$ is a monomial of the phase-space coordinates, e.g.\n",
    "\n",
    "$$\\begin{cases}\n",
    "    \\langle x \\rangle: & \\text{horizontal centroid (centre-of-mass)} \\\\\n",
    "    \\sigma_y = \\sqrt{\\left\\langle \\bigl(y - \\langle y \\rangle \\bigr)^2\\right\\rangle} = \\sqrt{\\langle y^2 \\rangle - \\langle y\\rangle^2}: & \\text{vertical rms beam size}\n",
    "\\end{cases}$$"
   ]
  },
  {
   "cell_type": "markdown",
   "id": "d725eeb9",
   "metadata": {},
   "source": [
    "<p style=\"color: #e6541a;\">$\\implies$ what is the order of the monomial moments $\\langle x\\rangle$ and $\\sigma_y$?</p>"
   ]
  },
  {
   "cell_type": "markdown",
   "id": "ba952cab",
   "metadata": {
    "slideshow": {
     "slide_type": "slide"
    }
   },
   "source": [
    "<h2>Statistical RMS Emittance</h2>\n",
    "\n",
    "Measure <b>extent</b> of distribution in phase space via $\\Sigma$-matrix, the covariance matrix of second-order moments, e.g. for horizontal phase space (assume for simplicity $\\langle x\\rangle=\\langle x'\\rangle=0$):\n",
    "\n",
    "$$\\Sigma_x = \\begin{pmatrix}\n",
    "    \\langle x^2\\rangle & \\langle x\\,x'\\rangle \\\\\n",
    "    \\langle x\\,x'\\rangle & \\langle x'{}^2\\rangle \\\\\n",
    "\\end{pmatrix}$$\n",
    "\n",
    "$\\implies$ the <b>rms emittance</b> is given by:\n",
    "\n",
    "<div class=\"alert alert-block alert-success\" style=\"text-align:center;\">$$\\epsilon_x = \\sqrt{\\det \\Sigma_x} = \\sqrt{\\langle x^2\\rangle \\langle x'{}^2\\rangle - \\langle x\\,x'\\rangle^2}$$</div>\n",
    "\n",
    "$\\leadsto$ a value for the \"thermal energy\" of the distribution\n",
    "\n",
    "(for $\\langle x\\rangle,\\langle x'\\rangle\\neq 0$ need to subtract them: $x\\mapsto x-\\langle x\\rangle$ and $x'\\mapsto x'-\\langle x'\\rangle$)"
   ]
  },
  {
   "cell_type": "markdown",
   "id": "e0fdeeb2",
   "metadata": {
    "slideshow": {
     "slide_type": "slide"
    }
   },
   "source": [
    "<h2>Time evolution</h2>\n",
    "\n",
    "Numerical integration of equations of motion for distribution of pendulums, using leapfrog (drift+kick+drift):"
   ]
  },
  {
   "cell_type": "code",
   "execution_count": null,
   "id": "681212e4",
   "metadata": {},
   "outputs": [],
   "source": [
    "n_steps = 100"
   ]
  },
  {
   "cell_type": "code",
   "execution_count": null,
   "id": "91690739",
   "metadata": {
    "slideshow": {
     "slide_type": "-"
    }
   },
   "outputs": [],
   "source": [
    "results_thetas = np.zeros((n_steps, N), dtype=np.float32)\n",
    "results_thetas[0] = thetas.flatten()\n",
    "\n",
    "results_ps = np.zeros((n_steps, N), dtype=np.float32)\n",
    "results_ps[0] = ps.flatten()\n",
    "\n",
    "for k in range(1, n_steps):\n",
    "    results_thetas[k], results_ps[k] = solve_leapfrog(results_thetas[k - 1], results_ps[k - 1])"
   ]
  },
  {
   "cell_type": "markdown",
   "id": "36e6720b",
   "metadata": {
    "slideshow": {
     "slide_type": "slide"
    }
   },
   "source": [
    "<h2>Observations of Centroids</h2>\n",
    "\n",
    "Before we look at all \"particles\" (pendulums), check evolution of some distribution moments:"
   ]
  },
  {
   "cell_type": "code",
   "execution_count": null,
   "id": "9169f3d2",
   "metadata": {},
   "outputs": [],
   "source": [
    "centroids_theta = 1/N * np.sum(results_thetas, axis=1)\n",
    "centroids_p = 1/N * np.sum(results_ps, axis=1)"
   ]
  },
  {
   "cell_type": "code",
   "execution_count": null,
   "id": "549b7030",
   "metadata": {},
   "outputs": [],
   "source": [
    "plt.plot(centroids_theta, label=r'$\\langle\\theta\\rangle$')\n",
    "plt.plot(centroids_p, label=r'$\\langle p\\rangle$')\n",
    "\n",
    "plt.xlabel('Steps $k$')\n",
    "plt.ylabel('Centroid amplitude')\n",
    "plt.legend(bbox_to_anchor=(1.05, 1));"
   ]
  },
  {
   "cell_type": "markdown",
   "id": "3033af0c",
   "metadata": {},
   "source": [
    "<p style=\"color: #e6541a;\">$\\implies$ can you explain this?</p>"
   ]
  },
  {
   "cell_type": "markdown",
   "id": "2890f30e",
   "metadata": {
    "slideshow": {
     "slide_type": "slide"
    }
   },
   "source": [
    "<h2>Observations of RMS Sizes</h2>\n",
    "\n",
    "Before we look at all \"particles\" (pendulums), check evolution of some distribution moments:"
   ]
  },
  {
   "cell_type": "code",
   "execution_count": null,
   "id": "6ff3643e",
   "metadata": {},
   "outputs": [],
   "source": [
    "var_theta = 1/N * np.sum(results_thetas * results_thetas, axis=1)\n",
    "var_p = 1/N * np.sum(results_ps * results_ps, axis=1)"
   ]
  },
  {
   "cell_type": "code",
   "execution_count": null,
   "id": "4415d311",
   "metadata": {},
   "outputs": [],
   "source": [
    "plt.plot(var_theta, label=r'$\\langle\\theta^2\\rangle$')\n",
    "plt.plot(var_p, label=r'$\\langle p^2\\rangle$')\n",
    "\n",
    "plt.xlabel('Steps $k$')\n",
    "plt.ylabel('Variance')\n",
    "plt.legend(bbox_to_anchor=(1.05, 1));"
   ]
  },
  {
   "cell_type": "markdown",
   "id": "f67f5b35",
   "metadata": {},
   "source": [
    "<p style=\"color: #e6541a;\">$\\implies$ can you explain this?</p>"
   ]
  },
  {
   "cell_type": "markdown",
   "id": "34f78204",
   "metadata": {
    "slideshow": {
     "slide_type": "slide"
    }
   },
   "source": [
    "<h2>Mismatch of Distributions</h2>\n",
    "\n",
    "Non-linearity of the pendulum equation: decreased oscillation frequency at larger amplitudes!\n",
    "    \n",
    "A) matched distribution:\n",
    "\n",
    "<img src=\"./img/simtomo0.png\" alt=\"simulated longitudinal phase space for matched beam\" style=\"width:30%; margin: auto;\" />\n",
    "\n",
    "B) mismatched distribution:\n",
    "\n",
    "<div style=\"margin:auto; width: 70%;\">\n",
    "<img src=\"./img/simtomo1.png\" alt=\"simulated longitudinal phase space for mismatched beam before filamentation\" style=\"width:43%; float:left; margin-top: 0;\" />\n",
    "    <div style=\"float:left; width:14%; text-align: center; vertical-align: middle; margin-top: 3em;\">$\\implies$</div>\n",
    "<img src=\"./img/simtomo2.png\" alt=\"simulated longitudinal phase space for mismatched beam during filamentation\" style=\"width:43%; float:left; margin-top: 0;\" />\n",
    "</div>"
   ]
  },
  {
   "cell_type": "markdown",
   "id": "26821eff",
   "metadata": {
    "slideshow": {
     "slide_type": "slide"
    }
   },
   "source": [
    "<h2>Filamentation</h2>\n",
    "\n",
    "- Liouville theorem (incompressible phase-space fluid) still valid, local density conserved\n",
    "- occupied global phase-space area by beam seemingly enlarged\n",
    "- reason: <b>filamentation</b> due to non-linearity: <br />\n",
    "    $\\implies$ non-linear potential $\\longrightarrow$ oscillation frequency depends on amplitude $\\implies$ anharmonicity\n",
    "- consequence: rms emittance increases (in previous example: $\\Delta\\epsilon/\\epsilon=30\\%$)"
   ]
  },
  {
   "cell_type": "markdown",
   "id": "01016c5d",
   "metadata": {
    "slideshow": {
     "slide_type": "slide"
    }
   },
   "source": [
    "<h2>Back to our pendulum simulation:</h2>\n",
    "\n",
    "Observe distribution evolution over the $k$ steps:"
   ]
  },
  {
   "cell_type": "code",
   "execution_count": null,
   "id": "34c5d98f",
   "metadata": {},
   "outputs": [],
   "source": [
    "k = 18\n",
    "\n",
    "plt.scatter(results_thetas[k], results_ps[k], c='b', marker='.')\n",
    "\n",
    "plot_hamiltonian()"
   ]
  },
  {
   "cell_type": "markdown",
   "id": "eab3b4bb",
   "metadata": {
    "slideshow": {
     "slide_type": "slide"
    }
   },
   "source": [
    "<h2>RMS Emittance Evolution</h2>\n",
    "\n",
    "Let us compute the rms emittance for the pendulums (having subtracted the centroids),\n",
    "\n",
    "$$\\epsilon = \\sqrt{\\langle \\theta^2\\rangle \\langle p^2\\rangle - \\langle \\theta\\,p\\rangle^2}$$"
   ]
  },
  {
   "cell_type": "code",
   "execution_count": null,
   "id": "1f2a1304",
   "metadata": {},
   "outputs": [],
   "source": [
    "def emittance(theta, p):\n",
    "    N = len(theta)\n",
    "    \n",
    "    # subtract centroids\n",
    "    theta = theta - 1/N * np.sum(theta)\n",
    "    p = p - 1/N * np.sum(p)\n",
    "    \n",
    "    # compute Σ matrix entries\n",
    "    theta_sq = 1/N * np.sum(theta * theta)\n",
    "    p_sq = 1/N * np.sum(p * p)\n",
    "    crossterm = 1/N * np.sum(theta * p)\n",
    "    \n",
    "    # determinant of Σ matrix\n",
    "    epsilon = np.sqrt(theta_sq * p_sq - crossterm * crossterm)\n",
    "    return epsilon"
   ]
  },
  {
   "cell_type": "code",
   "execution_count": null,
   "id": "bf3ca5ae",
   "metadata": {
    "slideshow": {
     "slide_type": "slide"
    }
   },
   "outputs": [],
   "source": [
    "results_emit = np.zeros(n_steps, dtype=np.float32)\n",
    "\n",
    "for k in range(n_steps):\n",
    "    results_emit[k] = emittance(results_thetas[k], results_ps[k])"
   ]
  },
  {
   "cell_type": "code",
   "execution_count": null,
   "id": "e4347411",
   "metadata": {},
   "outputs": [],
   "source": [
    "plt.plot(results_emit)\n",
    "\n",
    "plt.xlabel('Steps $k$')\n",
    "plt.ylabel('RMS emittance $\\epsilon$');"
   ]
  },
  {
   "cell_type": "markdown",
   "id": "b47aa7b9",
   "metadata": {},
   "source": [
    "$\\implies$ rms emittance grows, macroscopic increase of \"thermal energy\"!"
   ]
  },
  {
   "cell_type": "markdown",
   "id": "e497cdb6",
   "metadata": {
    "slideshow": {
     "slide_type": "slide"
    }
   },
   "source": [
    "<h2>Microscopic Level?</h2>\n",
    "\n",
    "What about Liouville theorem? \n",
    "\n",
    "$\\implies$ For the symplectic integrator, we still expect (and have) constant phase-space trajectory density!\n",
    "\n",
    "<p style=\"color: #e6541a;\">$\\implies$ what happens when one integrates around a very small area and follows it during the simulation?</p>\n",
    "\n",
    "<!--\n",
    "Let's check...\n",
    "\n",
    "(thetas.min() - thetas.max()) * (ps.min() - ps.max())\n",
    "\n",
    "i_bound = get_boundary_ids(thetas, ps)\n",
    "\n",
    "k = 10\n",
    "\n",
    "print (2 * np.trapz(results_thetas[k, i_bound], results_ps[k, i_bound]))\n",
    "plt.scatter(results_thetas[k, i_bound], results_ps[k, i_bound])\n",
    "\n",
    "set_axes()-->"
   ]
  },
  {
   "cell_type": "markdown",
   "id": "4ae0310c",
   "metadata": {
    "slideshow": {
     "slide_type": "slide"
    }
   },
   "source": [
    "<h2>Emittance vs. Linear Dynamics</h2>\n",
    "\n",
    "$\\implies$ What happens with the rms emittance in case of linear dynamics (absence of non-linearities)?\n",
    "\n",
    "<p style=\"color: #e6541a;\"><b>Exercise</b>:</p>\n",
    "<ul style=\"color: #e6541a;\">\n",
    "    <li> Taylor-expand the sine function in the pendulum equations of motion</li>\n",
    "    <li> cut after first order: $\\sin\\theta \\approx \\theta + \\mathcal{O}(\\theta^3)$</li>\n",
    "    <li> re-run the simulation for this linear system (why is this system linear now?)</li>\n",
    "    <li> observe the variances as well as emittance evolution!</li>\n",
    "    <li> can you explain why the emittance behaves this way (in contrast to non-linear model?)</li>\n",
    "</ul>"
   ]
  },
  {
   "cell_type": "markdown",
   "id": "267c88c3",
   "metadata": {
    "slideshow": {
     "slide_type": "slide"
    }
   },
   "source": [
    "<i style=\"color: #e6541a;\">Hint: the definition of the `leapfrog` integrator function needs to be changed for your simulation in this exercise:</i>\n",
    "```python\n",
    "def solve_leapfrog(theta, p, dt=dt):\n",
    "    theta_half = theta + dt / 2 * p / (m * L*L)\n",
    "    p_next = p - dt * m * g * L * np.sin(theta_half)\n",
    "    theta_next = theta_half + dt / 2 * p_next / (m * L*L)\n",
    "    return (theta_next, p_next)\n",
    "```"
   ]
  },
  {
   "cell_type": "markdown",
   "id": "a577145a",
   "metadata": {
    "slideshow": {
     "slide_type": "slide"
    }
   },
   "source": [
    "<h2>Note: Modelling error</h2>\n",
    "\n",
    "Typical example: \n",
    "    \n",
    "$\\implies$ Taylor-expand potential $U\\propto \\sin\\theta$ to a certain finite order\n",
    "\n",
    "$\\implies$ large amplitudes are behaved differently from original pendulum!\n",
    "\n",
    "$\\implies$ error in approximation $=$ <b>modelling error</b>\n",
    "\n",
    "(in contrast to <b>discretisation error</b>, see last lecture)"
   ]
  },
  {
   "cell_type": "markdown",
   "id": "f27ea568",
   "metadata": {
    "slideshow": {
     "slide_type": "slide"
    }
   },
   "source": [
    "<h2>Centroid offset in (Original) Pendulum</h2>\n",
    "\n",
    "Consider again the non-linear pendulum: let us offset the initial centroid $\\langle \\theta\\rangle$!"
   ]
  },
  {
   "cell_type": "code",
   "execution_count": null,
   "id": "24079428",
   "metadata": {
    "slideshow": {
     "slide_type": "-"
    }
   },
   "outputs": [],
   "source": [
    "results_thetas2 = np.zeros((n_steps, N), dtype=np.float32)\n",
    "results_thetas2[0] = thetas.flatten() + 0.1 * np.pi\n",
    "\n",
    "results_ps2 = np.zeros((n_steps, N), dtype=np.float32)\n",
    "results_ps2[0] = ps.flatten()\n",
    "\n",
    "for k in range(1, n_steps):\n",
    "    results_thetas2[k], results_ps2[k] = solve_leapfrog(results_thetas2[k - 1], results_ps2[k - 1])"
   ]
  },
  {
   "cell_type": "markdown",
   "id": "1b56d096",
   "metadata": {},
   "source": [
    "<p style=\"color: #e6541a;\">$\\implies$ will the rms emittance growth be smaller / equal / larger?</p>"
   ]
  },
  {
   "cell_type": "markdown",
   "id": "fb63d8a9",
   "metadata": {
    "slideshow": {
     "slide_type": "slide"
    }
   },
   "source": [
    "<h2>Observation of Centroids II</h2>"
   ]
  },
  {
   "cell_type": "code",
   "execution_count": null,
   "id": "05a9b72c",
   "metadata": {},
   "outputs": [],
   "source": [
    "centroids_theta2 = 1/N * np.sum(results_thetas2, axis=1)\n",
    "centroids_p2 = 1/N * np.sum(results_ps2, axis=1)\n",
    "\n",
    "plt.plot(centroids_theta, label=r'no offset: $\\langle\\theta\\rangle$')\n",
    "plt.plot(centroids_theta2, label=r'with offset: $\\langle\\theta\\rangle$')\n",
    "plt.plot(centroids_p2, label=r'with offset: $\\langle p\\rangle$')\n",
    "\n",
    "plt.xlabel('Steps $k$')\n",
    "plt.ylabel('Centroid amplitude')\n",
    "plt.legend(bbox_to_anchor=(1.05, 1));"
   ]
  },
  {
   "cell_type": "markdown",
   "id": "57834365",
   "metadata": {
    "slideshow": {
     "slide_type": "slide"
    }
   },
   "source": [
    "<h2>RMS Emittance Evolution II</h2>"
   ]
  },
  {
   "cell_type": "code",
   "execution_count": null,
   "id": "9fc9e8de",
   "metadata": {
    "slideshow": {
     "slide_type": "-"
    }
   },
   "outputs": [],
   "source": [
    "results_emit2 = np.zeros(n_steps, dtype=np.float32)\n",
    "\n",
    "for k in range(n_steps):\n",
    "    results_emit2[k] = emittance(results_thetas2[k], results_ps2[k])"
   ]
  },
  {
   "cell_type": "code",
   "execution_count": null,
   "id": "e932d005",
   "metadata": {},
   "outputs": [],
   "source": [
    "plt.plot(results_emit, label='no offset')\n",
    "plt.plot(results_emit2, label='with offset')\n",
    "\n",
    "plt.xlabel('Steps $k$')\n",
    "plt.ylabel('RMS emittance $\\epsilon$')\n",
    "plt.legend();"
   ]
  },
  {
   "cell_type": "markdown",
   "id": "5480e4ae",
   "metadata": {
    "slideshow": {
     "slide_type": "slide"
    }
   },
   "source": [
    "<h2>Long-term Behaviour</h2>"
   ]
  },
  {
   "cell_type": "code",
   "execution_count": null,
   "id": "760fc60b",
   "metadata": {},
   "outputs": [],
   "source": [
    "n_steps = 3000"
   ]
  },
  {
   "cell_type": "code",
   "execution_count": null,
   "id": "84130c75",
   "metadata": {},
   "outputs": [],
   "source": [
    "results_thetas3 = np.zeros((n_steps, N), dtype=np.float32)\n",
    "results_thetas3[0] = thetas.flatten() + 0.1 * np.pi\n",
    "\n",
    "results_ps3 = np.zeros((n_steps, N), dtype=np.float32)\n",
    "results_ps3[0] = ps.flatten()\n",
    "\n",
    "for k in range(1, n_steps):\n",
    "    results_thetas3[k], results_ps3[k] = solve_leapfrog(results_thetas3[k - 1], results_ps3[k - 1])"
   ]
  },
  {
   "cell_type": "code",
   "execution_count": null,
   "id": "16f49224",
   "metadata": {
    "slideshow": {
     "slide_type": "slide"
    }
   },
   "outputs": [],
   "source": [
    "plot_macro_evolution(results_thetas3, results_ps3);"
   ]
  },
  {
   "cell_type": "markdown",
   "id": "a74d6aef",
   "metadata": {},
   "source": [
    "$\\implies$ Observations:\n",
    "- oscillations of all moments dampen out until residual noise level\n",
    "- emittance growth saturates rather quickly"
   ]
  },
  {
   "cell_type": "markdown",
   "id": "7e979f6d",
   "metadata": {
    "slideshow": {
     "slide_type": "slide"
    }
   },
   "source": [
    "<h2>Important Notes on RMS Emittance Evolution</h2>\n",
    "\n",
    "Reminder of Basic Thermodynamic Principle: $\\delta S \\geq 0$\n",
    "    \n",
    "RMS emittance:\n",
    "- constant or grows for conservative forces (closed systems)\n",
    "- in accelerator systems, only ways to reduce / dampen emittance:\n",
    "    - synchrotron radiation\n",
    "    - electron cooling\n",
    "    - stochastic cooling (Nobel prize: van de Meer)"
   ]
  },
  {
   "cell_type": "markdown",
   "id": "8ca7b0c1",
   "metadata": {
    "slideshow": {
     "slide_type": "slide"
    }
   },
   "source": [
    "<h2>Emittance Preservation</h2>\n",
    "\n",
    "<img src=\"./img/cern-complex.png\" alt=\"CERN accelerator complex\" style=\"width: 40%; float:right; margin-left: 1em;\" />\n",
    "\n",
    "$\\implies$ avoid <b>injection mismatch</b> when transferring<br /> beam between accelerators:\n",
    "- centroid mismatch\n",
    "- rms beam size mismatch\n",
    "\n",
    "$\\implies$ avoid resonances / instabilities\n",
    "\n",
    "<div class=\"alert alert-block alert-info\" style=\"text-align:center;\">\n",
    "$\\implies$ preserve (energy-normalised) emittance to obtain small beams for experiments and accelerator aperture constraints! </div>\n",
    "\n",
    "$\\implies$ require <b>accurate numerical simulation models</b> for predictions!\n",
    "\n",
    "\n",
    "<p style=\"clear: both; font-size: 10pt; text-align: right; float: right;\">\n",
    "<a href=\"http://cds.cern.ch/images/CERN-GRAPHICS-2022-001-1\">image: CERN 2022</a></p>\n",
    "\n",
    "<!--adiabatic invariant\n",
    "\n",
    "only conjugate without acceleration! when accelerating, $\\beta$ and $\\gamma$ change $\\implies$ transform coordinates to adiabatic acceleration frame $\\implies$ normalised emittance-->"
   ]
  },
  {
   "cell_type": "markdown",
   "id": "d79397bd",
   "metadata": {
    "slideshow": {
     "slide_type": "slide"
    }
   },
   "source": [
    "<h2>Representation of Particle Beam</h2>\n",
    "\n",
    "<img src=\"./img/chao-representation.png\" alt=\"representation of beams\" style=\"width: 80%; margin: auto; margin-top: 1em;\" />\n",
    "\n",
    "<p style=\"font-size: 10pt; text-align: right;\"><a href=\"https://cas.web.cern.ch/sites/default/files/lectures/thessaloniki-2018/cas2018chao.pdf\">image: Alex Chao 2018 at the CAS</a></p>"
   ]
  },
  {
   "cell_type": "markdown",
   "id": "fd0225c6",
   "metadata": {
    "slideshow": {
     "slide_type": "slide"
    }
   },
   "source": [
    "<h2>Summing Up Concepts</h2>\n",
    "\n",
    "- <b>non-linearities</b> in dynamical system $\\implies$ oscillation frequency depends on amplitude $\\implies$ <b>anharmonicity</b>\n",
    "- microscopic: <b>Liouville</b> (density of phase-space trajectories conserved)\n",
    "- macroscopic: <b>filamentation</b>\n",
    "- <b>rms emittance</b>: macroscopic extent of distribution in phase space\n",
    "- control of simulation errors: discretisation errors, modelling errors, numerical artefacts (see later!)\n",
    "\n",
    "<div class=\"alert alert-block alert-success\" style=\"text-align:center;\">\n",
    "$\\implies$ rms emittance preservation in accelerators $\\longleftrightarrow$ accurate modelling of non-linear accelerator system </div>"
   ]
  },
  {
   "cell_type": "markdown",
   "id": "e9ab1ab1",
   "metadata": {
    "slideshow": {
     "slide_type": "slide"
    }
   },
   "source": [
    "<h2>Continuous Pendulum: Linear Oscillation Frequency</h2>\n",
    "    \n",
    "Reminder:\n",
    "\n",
    "Equation of motion: \n",
    "$$\\frac{d^2\\theta}{dt^2} + \\frac{g}{L}\\sin\\theta = 0$$\n",
    "\n",
    "for $\\sin\\theta\\approx \\theta$: $$\\implies \\frac{d^2\\theta}{dt^2} + \\underbrace{\\frac{g}{L}}\\limits_{\\mathop{=}\\omega^2}\\theta = 0$$\n",
    "\n",
    "During a time step $\\Delta t=0.1$, the phase advance (in units of 2π) gives:"
   ]
  },
  {
   "cell_type": "code",
   "execution_count": null,
   "id": "f9c58d40",
   "metadata": {},
   "outputs": [],
   "source": [
    "freq_theory = np.sqrt(1 / 1) * 0.1 / (2 * np.pi)\n",
    "freq_theory"
   ]
  },
  {
   "cell_type": "markdown",
   "id": "820c2f2a",
   "metadata": {
    "slideshow": {
     "slide_type": "slide"
    }
   },
   "source": [
    "<h2>Determining Oscillation Frequencies</h2>\n",
    "\n",
    "Can we quantify the change of oscillation frequency towards larger amplitudes?\n",
    "\n",
    "$\\implies$ DFT: Discrete Fourier Transform technique\n",
    "\n",
    "$$f_n = \\sum\\limits_{k=0}^{N_{\\mathrm{step}}-1} \\theta_{k}\\,e^{-i2\\pi\\frac{n}{N_{\\mathrm{step}}} k}$$\n",
    "\n",
    "Obtain frequency components $f_n$ from signal $\\theta_k$ recorded over $N_{\\mathrm{step}}$ steps."
   ]
  },
  {
   "cell_type": "markdown",
   "id": "6db3a2ed",
   "metadata": {
    "slideshow": {
     "slide_type": "slide"
    }
   },
   "source": [
    "<h2>FFT: Efficient Algorithm for $N_{\\mathrm{step}}=2^\\ell$</h2>\n",
    "\n",
    "Fast Fourier Transform (FFT): among 10 most influential algorithms in 20th century!\n",
    "\n",
    "- continuous splitting of DFT summation: \n",
    "\n",
    "$$ f_n = \\sum\\limits_{p=0}^{\\frac{N_{\\mathrm{step}}}{2}-1} \\theta_{2p}\\,e^{-i2\\pi\\frac{n}{N_{\\mathrm{step}}}2p} + e^{-i2\\pi\\frac{n}{N_{\\mathrm{step}}}} \\sum\\limits_{p=0}^{\\frac{N_{\\mathrm{step}}}{2}-1} \\theta_{2p+1}\\,e^{-i2\\pi\\frac{n}{N_{\\mathrm{step}}}2p}$$\n",
    "\n",
    "- exploiting symmetry identify of DFT: $f_{n+jN_{\\mathrm{step}}} = f_{n}$ for $j=0,1,2...$\n",
    "- basic DFT: complexity $\\mathcal{O}(N_{\\mathrm{step}}^2)$\n",
    "- vs. FFT: complexity $\\mathcal{O}(N_{\\mathrm{step}}\\,\\log_2 N_{\\mathrm{step}})$\n",
    "\n",
    "<p style=\"color: #e6541a;\">$\\implies$ can you compare the time required for DFT vs. FFT for $N_{\\mathrm{step}}=10^9$ and 1 ns time per compute operation?</p>"
   ]
  },
  {
   "cell_type": "markdown",
   "id": "1a05e482",
   "metadata": {
    "slideshow": {
     "slide_type": "slide"
    }
   },
   "source": [
    "<h2>Employ FFT on Pendulum Motion</h2>"
   ]
  },
  {
   "cell_type": "markdown",
   "id": "e8aeece3",
   "metadata": {},
   "source": [
    "Observe two particles:"
   ]
  },
  {
   "cell_type": "code",
   "execution_count": null,
   "id": "5f276430",
   "metadata": {},
   "outputs": [],
   "source": [
    "i1 = N // 2 - 10\n",
    "i2 = N // 2\n",
    "\n",
    "plt.plot(results_thetas3[:, i1])\n",
    "plt.plot(results_thetas3[:, i2])\n",
    "plt.xlabel('Steps $k$')\n",
    "plt.ylabel(r'$\\theta$');"
   ]
  },
  {
   "cell_type": "markdown",
   "id": "169a2528",
   "metadata": {
    "slideshow": {
     "slide_type": "slide"
    }
   },
   "source": [
    "Obtain the FFT spectra for both:"
   ]
  },
  {
   "cell_type": "code",
   "execution_count": null,
   "id": "9c3d26bb",
   "metadata": {
    "slideshow": {
     "slide_type": "-"
    }
   },
   "outputs": [],
   "source": [
    "spec1 = np.fft.rfft(results_thetas3[:, i1])\n",
    "spec2 = np.fft.rfft(results_thetas3[:, i2])\n",
    "\n",
    "freq = np.fft.rfftfreq(n_steps)"
   ]
  },
  {
   "cell_type": "code",
   "execution_count": null,
   "id": "a63aa152",
   "metadata": {},
   "outputs": [],
   "source": [
    "plt.plot(freq, np.abs(spec1))\n",
    "plt.plot(freq, np.abs(spec2))\n",
    "plt.axvline(freq_theory, c='k', zorder=0, ls='--')\n",
    "plt.xlim(0, 0.05)\n",
    "plt.xlabel('Phase advance per $\\Delta t$ [$2\\pi$]')\n",
    "plt.ylabel('FFT spectrum')\n",
    "plt.yscale('log');"
   ]
  },
  {
   "cell_type": "markdown",
   "id": "d44ddca2",
   "metadata": {
    "slideshow": {
     "slide_type": "slide"
    }
   },
   "source": [
    "<h2>Frequency vs. Amplitude</h2>\n",
    "\n",
    "Let us plot the maximum frequency vs. initial $\\theta$ (where $p=0$):"
   ]
  },
  {
   "cell_type": "code",
   "execution_count": null,
   "id": "35401a4b",
   "metadata": {},
   "outputs": [],
   "source": [
    "specs = np.abs(np.fft.rfft(results_thetas3.T))"
   ]
  },
  {
   "cell_type": "code",
   "execution_count": null,
   "id": "8776be4b",
   "metadata": {},
   "outputs": [],
   "source": [
    "max_ids = np.argmax(specs, axis=1)\n",
    "amplitudes = np.max(specs, axis=1)"
   ]
  },
  {
   "cell_type": "code",
   "execution_count": null,
   "id": "064550fd",
   "metadata": {
    "slideshow": {
     "slide_type": "slide"
    }
   },
   "outputs": [],
   "source": [
    "i_range = np.where(ps.flatten() == 0)[0]\n",
    "\n",
    "plt.scatter(results_thetas3[0][i_range], freq[max_ids][i_range])\n",
    "\n",
    "plt.axhline(freq_theory, c='k', ls='--', zorder=0)\n",
    "plt.xticks([-np.pi/2, 0, np.pi/2, np.pi], [r\"$-\\pi/2$\", \"0\", r\"$\\pi/2$\", r\"$\\pi$\"])\n",
    "plt.xlabel(r'Initial $\\theta$ ($p=0$)')\n",
    "plt.ylabel('Phase advance / \\n' + r'integration step $\\Delta t$ [$2\\pi$]');\n",
    "plt.ylim(0.012, 0.0165);"
   ]
  },
  {
   "cell_type": "markdown",
   "id": "9d5d91db",
   "metadata": {},
   "source": [
    "<p style=\"color: #e6541a;\">$\\implies$ what is responsible for the step behaviour / finite resolution of the vertical values? How would you further increase the resolution in this plot?</p>"
   ]
  },
  {
   "cell_type": "markdown",
   "id": "e1cad705",
   "metadata": {
    "slideshow": {
     "slide_type": "slide"
    }
   },
   "source": [
    "<h2>The NAFF Algorithm</h2>\n",
    "\n",
    "J. Laskar describes in 1989: \"The Chaotic Motion of the Solar System: A Numerical Estimate of the Size of Chaotic Zones\"\n",
    "\n",
    "NAFF $=$ <b>N</b>umerical <b>A</b>nalysis of <b>F</b>undamental <b>F</b>requencies\n",
    "\n",
    "$\\implies$ <a href=\"https://arxiv.org/pdf/math/0305364.pdf\">quasi-periodic decomposition</a>: <b>iterative</b> fitting of (not necessarily orthogonal) fundamental frequencies for numerical signal over finite time span.\n",
    "\n",
    "In accelerator physics, sometimes find equivalent formulation as <a href=\"http://frs.home.cern.ch/frs/Source/other_tools/sussix/documentation/sussix_manual.pdf\">SUSSIX algorithm</a>.\n",
    "\n",
    "<b>Usage:</b>\n",
    "- celestial mechanics\n",
    "- particle accelerators\n",
    "- atomic physics\n",
    "- general dynamical system issues (Hamiltonian dynamics, chaos)"
   ]
  },
  {
   "cell_type": "markdown",
   "id": "a7fa01fe",
   "metadata": {
    "slideshow": {
     "slide_type": "slide"
    }
   },
   "source": [
    "<h2>Frequency Accuracy for Periodic Motion</h2>\n",
    "    \n",
    "<b>FFT</b>: maximum distance to the nearest FFT resolved frequency is $\\frac{1}{2N_{\\mathrm{step}}\\Delta t}$, i.e. the frequency accuracy scales with\n",
    "\n",
    "$$\\Delta f_{\\mathrm{FFT}} \\propto \\frac{1}{\\Delta t}$$\n",
    "\n",
    "<b>NAFF</b>: based on the Hanning window implementation, the frequency accuracy scales with \n",
    "\n",
    "$$\\Delta f_{\\mathrm{NAFF}} \\propto \\frac{1}{\\color{red}{\\Delta t^4}}$$"
   ]
  },
  {
   "cell_type": "code",
   "execution_count": null,
   "id": "134387da",
   "metadata": {
    "slideshow": {
     "slide_type": "slide"
    }
   },
   "outputs": [],
   "source": [
    "import PyNAFF"
   ]
  },
  {
   "cell_type": "code",
   "execution_count": null,
   "id": "00fc5ffd",
   "metadata": {},
   "outputs": [],
   "source": [
    "freqs_naff = []\n",
    "\n",
    "for signal in results_thetas3.T[i_range]:\n",
    "    freq_naff = PyNAFF.naff(signal, turns=n_steps - 1, nterms=1)\n",
    "    try:\n",
    "        freq_naff = freq_naff[0, 1]\n",
    "    except IndexError:\n",
    "        freq_naff = 0\n",
    "    freqs_naff += [freq_naff]\n",
    "\n",
    "freqs_naff = np.array(freqs_naff)"
   ]
  },
  {
   "cell_type": "code",
   "execution_count": null,
   "id": "defee498",
   "metadata": {
    "slideshow": {
     "slide_type": "slide"
    }
   },
   "outputs": [],
   "source": [
    "plt.scatter(results_thetas3[0][i_range], freq[max_ids][i_range])\n",
    "plt.plot(results_thetas3[0][i_range], freqs_naff, c='r', marker='.')\n",
    "\n",
    "plt.axhline(freq_theory, c='k', ls='--', zorder=0)\n",
    "plt.xticks([-np.pi/2, 0, np.pi/2, np.pi], [r\"$-\\pi/2$\", \"0\", r\"$\\pi/2$\", r\"$\\pi$\"])\n",
    "plt.xlabel(r'Initial $\\theta$ ($p=0$)')\n",
    "plt.ylabel('Phase advance / \\n' + r'integration step $\\Delta t$ [$2\\pi$]');"
   ]
  },
  {
   "cell_type": "code",
   "execution_count": null,
   "id": "4db5678f",
   "metadata": {
    "slideshow": {
     "slide_type": "slide"
    }
   },
   "outputs": [],
   "source": [
    "plt.plot(results_thetas3[0][i_range], 100 * (freq[max_ids][i_range] - freqs_naff) / freqs_naff)\n",
    "plt.xlabel(r'Initial $\\theta$ ($p=0$)')\n",
    "plt.ylabel('Error (FFT - NAFF) / NAFF ' + r'[%]');"
   ]
  },
  {
   "cell_type": "markdown",
   "id": "491f5a5e",
   "metadata": {
    "slideshow": {
     "slide_type": "slide"
    }
   },
   "source": [
    "<h2>Summary</h2>\n",
    "\n",
    "- statistical moments\n",
    "- rms emittance\n",
    "- filamentation: microscopic level Liouville vs. macroscopic emittance growth\n",
    "- emittance preservation and injection mismatch\n",
    "- modelling error (in addition to discretisation error last lecture)\n",
    "- discrete frequency analysis: FFT and NAFF\n",
    "\n",
    "<!--\n",
    "- error accumulation:\n",
    "    - discretisation schemes (e.g. non-symplecticity)\n",
    "    - numerical artefacts: rounding and truncation\n",
    "    - modelling\n",
    "- accuracy requirements\n",
    "-->"
   ]
  },
  {
   "cell_type": "markdown",
   "id": "06b12734",
   "metadata": {
    "slideshow": {
     "slide_type": "slide"
    }
   },
   "source": [
    "<h2>Literature</h2>\n",
    "\n",
    "- NAFF and precision: \n",
    "<a href=\"https://link.springer.com/chapter/10.1007/978-94-011-4673-9_13\">J. Laskar, Introduction to Frequency Map Analysis</a>"
   ]
  }
 ],
 "metadata": {
  "celltoolbar": "Slideshow",
  "kernelspec": {
   "display_name": "Python 3 (ipykernel)",
   "language": "python",
   "name": "python3"
  },
  "language_info": {
   "codemirror_mode": {
    "name": "ipython",
    "version": 3
   },
   "file_extension": ".py",
   "mimetype": "text/x-python",
   "name": "python",
   "nbconvert_exporter": "python",
   "pygments_lexer": "ipython3",
   "version": "3.10.6"
  },
  "rise": {
   "enable_chalkboard": false,
   "footer": "<p>Fachbereich Elektrotechnik und Informationstechnik (etit)   |   Institut für Teilchenbeschleunigung und Elektromagnetische Felder (TEMF)   |   Dr. Adrian Oeftiger</p>",
   "header": "<img src='https://upload.wikimedia.org/wikipedia/de/thumb/2/24/TU_Darmstadt_Logo.svg/640px-TU_Darmstadt_Logo.svg.png' />",
   "scroll": true,
   "theme": "simple",
   "transition": "none"
  }
 },
 "nbformat": 4,
 "nbformat_minor": 5
}
