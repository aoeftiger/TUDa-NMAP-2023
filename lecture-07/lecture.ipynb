{
 "cells": [
  {
   "cell_type": "markdown",
   "id": "38250724",
   "metadata": {
    "slideshow": {
     "slide_type": "slide"
    }
   },
   "source": [
    "<h1 style=\"text-align: center; vertical-align: middle;\">Numerical Methods in Accelerator Physics</h1>\n",
    "<h2 style=\"text-align: center; vertical-align: middle;\">Lecture Series by Dr. Adrian Oeftiger</h2>\n",
    "\n",
    "<div style=\"width: 45%; margin: auto; margin-top: 1em; vertical-align: middle;\">\n",
    "<img src=\"./img/etit.png\" style=\"width: 30%; float: left; margin-right: 5%;\" /><img src=\"./img/GSI_Logo.png\" style=\"width: 35%; float: left; margin-right: 5%; padding-top: 0.5em;\" /><img src=\"./img/FAIR_Logo.png\" style=\"width: 25%; float: left;\" />\n",
    "</div>\n",
    "\n",
    "<h3 style=\"clear: both; text-align: center; margin-top: 1em;\">Lecture 7</h3>"
   ]
  },
  {
   "cell_type": "markdown",
   "id": "06a8d74b",
   "metadata": {
    "slideshow": {
     "slide_type": "slide"
    }
   },
   "source": [
    "<h2>Run this notebook online!</h2>\n",
    "\n",
    "Interact and run this jupyter notebook online:\n",
    "\n",
    "<div class=\"alert alert-block alert-info\" style=\"text-align:center;\">\n",
    "via the public mybinder.org service: <br />\n",
    "<a href=\"https://mybinder.org/v2/gh/aoeftiger/TUDa-NMAP-2023/v7.0\" style=\"width:auto; display:table;margin:0.5em auto;\"><img src=\"./img/binder_logo.svg\" alt=\"mybinder.org logo\" height=\"1ex\" /></a>\n",
    "</div>\n",
    "\n",
    "<div class=\"alert alert-block alert-info\" style=\"text-align:center;\">\n",
    "via the public gesis.org service: <br />\n",
    "<a href=\"https://notebooks.gesis.org/binder/v2/gh/aoeftiger/TUDA-NMAP-2023/v7.0\" style=\"width:auto; display:table;margin:0.5em auto;\"><img src=\"./img/binder_logo.svg\" alt=\"gesis.org logo\" height=\"1ex\" /></a>\n",
    "</div>\n",
    "\n",
    "Also find this lecture rendered [as HTML slides on github $\\nearrow$](https://aoeftiger.github.io/TUDa-NMAP-2023/) along with the [source repository $\\nearrow$](https://github.com/aoeftiger/TUDa-NMAP-2023)."
   ]
  },
  {
   "cell_type": "markdown",
   "id": "a57cc074",
   "metadata": {
    "slideshow": {
     "slide_type": "slide"
    }
   },
   "source": [
    "<h2>Run this first!</h2>\n",
    "\n",
    "Imports and modules:"
   ]
  },
  {
   "cell_type": "code",
   "execution_count": null,
   "id": "e538eebc",
   "metadata": {
    "slideshow": {
     "slide_type": "-"
    }
   },
   "outputs": [],
   "source": [
    "from config import (np, plt)\n",
    "from scipy.constants import m_p, e, c\n",
    "%matplotlib inline"
   ]
  },
  {
   "cell_type": "markdown",
   "id": "d5d19c39",
   "metadata": {
    "slideshow": {
     "slide_type": "slide"
    }
   },
   "source": [
    "<h2 style=\"color: #b51f2a\">Refresher!</h2>\n",
    "\n",
    "- full simulation of acceleration ramp, incl. transition crossing: <br />\"classical\" vs. \"relativistic\" regime and $\\varphi_s\\mapsto\\pi-\\varphi_s$ synchronous phase adjustment\n",
    "- equilibrium distributions with nonlinear Hamiltonian (vs. linear/harmonic oscillation Hamiltonian)\n",
    "- matching algorithm (iterate on $\\mathcal{H}_0$ until target rms bunch length $\\hat{\\sigma}_z$ is reached)\n",
    "- root-finding problem (Brent-Dekker or secant algorithm to find root)\n",
    "- emittance growth mechanisms (numerical + physical: dipole and quadrupole injection mismatch)"
   ]
  },
  {
   "cell_type": "markdown",
   "id": "ca9cec0a",
   "metadata": {
    "slideshow": {
     "slide_type": "slide"
    }
   },
   "source": [
    "<h2 style=\"color: #b51f2a\">Today!</h2>\n",
    "\n",
    "1. Magnetic Fields: Dipoles, Quadrupoles, Sextupoles\n",
    "2. Linear Transverse Beam Dynamics"
   ]
  },
  {
   "cell_type": "markdown",
   "id": "f72c6a52",
   "metadata": {
    "slideshow": {
     "slide_type": "slide"
    }
   },
   "source": [
    "<div style=\"text-align: center; width:100%;\">\n",
    "    <h2>Part I: Magnetic Fields: Dipoles, Quadrupoles, Sextupoles</h2>\n",
    "</div>"
   ]
  },
  {
   "cell_type": "markdown",
   "id": "e3b50733",
   "metadata": {
    "slideshow": {
     "slide_type": "slide"
    }
   },
   "source": [
    "<h2>Magnetic or Electric Fields</h2>\n",
    "\n",
    "The effect of a magnetic field or an electric field to bend a particle around the corner is described by the Lorentz force:\n",
    "\n",
    "$$\\mathbf{F}_L=q(\\mathbf{E} + \\mathbf{v}\\times \\mathbf{B})$$\n",
    "\n",
    "To produce a given bending / force $F_L$, a magnetic field of 1T would therefore correspond to an equivalent electric field of..."
   ]
  },
  {
   "cell_type": "code",
   "execution_count": null,
   "id": "52c9a644",
   "metadata": {},
   "outputs": [],
   "source": [
    "gamma = 1 + 10**np.linspace(-5, 1, 1000)\n",
    "\n",
    "def beta(gamma):\n",
    "    return np.sqrt(1 - gamma**-2)"
   ]
  },
  {
   "cell_type": "code",
   "execution_count": null,
   "id": "b9d26f75",
   "metadata": {},
   "outputs": [],
   "source": [
    "plt.plot(gamma - 1, beta(gamma))\n",
    "plt.xscale('log')\n",
    "plt.xlabel(r'$\\frac{E_{kin}}{m_0c^2} = \\gamma-1$')\n",
    "plt.ylabel(r'$\\beta=v/c$')\n",
    "plt.twinx()\n",
    "plt.plot(gamma - 1, 1e-6 * beta(gamma) * c * 1)\n",
    "plt.ylabel('$E$ [MV/m]')"
   ]
  },
  {
   "cell_type": "markdown",
   "id": "9b8810da",
   "metadata": {
    "slideshow": {
     "slide_type": "slide"
    }
   },
   "source": [
    "Electrons have a rest mass of $m_0c^2\\approx 511$ keV and protons of $m_0c^2\\approx 938$ MeV. \n",
    "\n",
    "<p style=\"color: #e6541a;\">$\\implies$ Consider an E-field of 100 MV/m. At what (low) kinetic energy is a 1T B-field equivalent to this very high E-field in terms of the Lorentz force? Compare this energy to the tables of energies reached in the CERN and GSI accelerators, cf. first lecture!</p>"
   ]
  },
  {
   "cell_type": "markdown",
   "id": "497886ac",
   "metadata": {
    "slideshow": {
     "slide_type": "slide"
    }
   },
   "source": [
    "<h2>Beth Representation / Multipole Expansion</h2>\n",
    "\n",
    "Transverse magnetic fields $B_{x,y}$ can be expanded in a multipole series, also known as the Beth representation:\n",
    "\n",
    "$$B_x + iB_y = B_0 \\sum\\limits_{n=1}^\\infty (b_n + ia_n)\\cdot (x+iy)^{n-1}$$\n",
    "\n",
    "The $b_n,a_n$ are the multipole coefficients for the normal and skew components, respectively, and $B_0$ refers to the main (dipole) field.\n",
    "\n",
    "$$\\begin{align}\\,\n",
    "n=1&\\text{: dipole} \\\\\n",
    "n=2&\\text{: quadrupole} \\\\\n",
    "n=3&\\text{: sextupole} \\\\\n",
    "n=4&\\text{: octupole} \\\\\n",
    "&...\n",
    "\\end{align}$$\n",
    "\n",
    "\"Skew\" refers to half a symmetry period rotation, so if an upright normal dipole has its field in the vertical direction and dipole fields have a symmetry of 180deg, then a skew dipole would have a horizontal field (rotated by 180deg/2 = 90deg). A skew quadrupole is correspondingly rotated by 45deg, a skew sextupole by 30deg, etc."
   ]
  },
  {
   "cell_type": "markdown",
   "id": "5bcd452d",
   "metadata": {},
   "source": [
    "As example: in the $y=0$ plane, no $B_x$ terms appear and $x\\cdot y$ cross-terms vanish, the B-field can be Taylor-expanded as\n",
    "\n",
    "$$\\cfrac{B_y}{B\\rho} = \\underbrace{\\phantom{\\biggl|}\\frac{1}{\\rho_0}}\\limits_\\text{dipole} + \\underbrace{\\phantom{\\biggl|}k\\cdot x}\\limits_\\text{quadrupole} + \\underbrace{\\phantom{\\biggl|}\\frac{1}{2!} m x^2}\\limits_\\text{sextupole} + \\underbrace{\\phantom{\\biggl|}\\frac{1}{3!} r x^3}\\limits_\\text{octupole} + \\cdots $$\n",
    "\n",
    "with the beam rigidity $B\\rho=\\frac{p}{q}$."
   ]
  },
  {
   "cell_type": "markdown",
   "id": "b3aa8ec5",
   "metadata": {
    "slideshow": {
     "slide_type": "slide"
    }
   },
   "source": [
    "<h2>Dipole Fields</h2>\n",
    "\n",
    "Const. field in vertical direction $y$ with $b_1=1$ for the main dipoles."
   ]
  },
  {
   "cell_type": "markdown",
   "id": "e0ab2f8b",
   "metadata": {
    "slideshow": {
     "slide_type": "slide"
    }
   },
   "source": [
    "<h2>Quadrupole Fields</h2>\n",
    "\n",
    "Normal quadrupole field: $\\mathbf{B}=\\underbrace{B_0\\cdot b_2}\\limits_{\\mathop{\\doteq}-G} \\cdot \\begin{pmatrix} y \\\\ x \\\\ 0 \\end{pmatrix}$\n",
    "\n",
    "Skew quadrupole field: $\\mathbf{B}=B_0\\cdot a_2 \\cdot \\begin{pmatrix} x \\\\ -y \\\\ 0 \\end{pmatrix}$"
   ]
  },
  {
   "cell_type": "code",
   "execution_count": null,
   "id": "ff3f2b98",
   "metadata": {
    "slideshow": {
     "slide_type": "slide"
    }
   },
   "outputs": [],
   "source": [
    "fig, ax = plt.subplots(1, 2, figsize=(10, 5))\n",
    "for a in ax: a.set_aspect('equal')\n",
    "\n",
    "xlist = np.linspace(-5.0, 5.0, 80)\n",
    "ylist = np.linspace(-5.0, 5.0, 80)\n",
    "X, Y = np.meshgrid(xlist, ylist)\n",
    "Zn = X * Y\n",
    "Zs = (X * X - Y * Y) / 2\n",
    "levels = np.arange(-6, 6.1, 2)\n",
    "\n",
    "plt.sca(ax[0])\n",
    "plt.contour(X, Y, Zn, levels)\n",
    "plt.quiver(X[::5,::5], Y[::5,::5], Y[::5,::5], X[::5,::5])\n",
    "plt.title('Normal Quadrupole', y=1.04)\n",
    "plt.xlabel('$x$')\n",
    "plt.ylabel('$y$')\n",
    "\n",
    "plt.sca(ax[1])\n",
    "plt.contour(X, Y, Zs, levels)\n",
    "plt.quiver(X[::5,::5], Y[::5,::5], X[::5,::5], -Y[::5,::5])\n",
    "plt.title('Skew Quadrupole', y=1.04)\n",
    "plt.xlabel('$x$')\n",
    "plt.ylabel('$y$')\n",
    "\n",
    "plt.tight_layout()"
   ]
  },
  {
   "cell_type": "markdown",
   "id": "0646b58a",
   "metadata": {
    "slideshow": {
     "slide_type": "slide"
    }
   },
   "source": [
    "<h2>Sextupole Fields</h2>\n",
    "\n",
    "Normal sextupole field: $\\mathbf{B}=B_0\\cdot b_3 \\cdot \\begin{pmatrix} 2xy \\\\ x^2-y^2 \\\\ 0 \\end{pmatrix}$"
   ]
  },
  {
   "cell_type": "code",
   "execution_count": null,
   "id": "87b996c6",
   "metadata": {},
   "outputs": [],
   "source": [
    "plt.figure(figsize=(5,5))\n",
    "plt.gca().set_aspect('equal')\n",
    "xlist = np.linspace(-5.0, 5.0, 80)\n",
    "ylist = np.linspace(-5.0, 5.0, 80)\n",
    "X, Y = np.meshgrid(xlist, ylist)\n",
    "Zn = (3 * X**2 * Y - Y**3) / 3\n",
    "levels = np.arange(-6, 6.1, 2) * 3\n",
    "\n",
    "plt.title('Normal Sextupole', y=1.04)\n",
    "plt.contour(X, Y, Zn, levels)\n",
    "plt.quiver(X[::5,::5], Y[::5,::5], (2 * X * Y)[::5,::5], (X * X - Y * Y)[::5,::5])\n",
    "plt.xlabel('$x$')\n",
    "plt.ylabel('$y$');"
   ]
  },
  {
   "cell_type": "markdown",
   "id": "d24965f0",
   "metadata": {
    "slideshow": {
     "slide_type": "slide"
    }
   },
   "source": [
    "<div style=\"text-align: center; width:100%;\">\n",
    "    <h2>Part II: Linear Transverse Beam Dynamics</h2>\n",
    "</div>"
   ]
  },
  {
   "cell_type": "markdown",
   "id": "f560b375",
   "metadata": {
    "slideshow": {
     "slide_type": "slide"
    }
   },
   "source": [
    "<h2>Equation of Motion</h2>\n",
    "\n",
    "Applying paraxial approximation ($v_x,v_y\\ll |\\mathbf{v}| = \\beta c$), the equations of motion for the particles in transversely magnetic fields yield\n",
    "\n",
    "$$\\left\\{\\begin{matrix}\n",
    "    \\cfrac{d^2x}{ds^2} + \\cfrac{B_y}{B\\rho} = 0 \\\\\n",
    "    \\cfrac{d^2y}{ds^2} - \\cfrac{B_x}{B\\rho} = 0\n",
    "\\end{matrix}\\right.$$\n",
    "\n",
    "As long as $B_{y,x}$ depend up to linearly on $x,y$, these ordinary differential equations are <b>linear</b>."
   ]
  },
  {
   "cell_type": "markdown",
   "id": "b408649c",
   "metadata": {
    "slideshow": {
     "slide_type": "slide"
    }
   },
   "source": [
    "<h2>Motion in Quadrupole Magnet</h2>\n",
    "\n",
    "The field in normal quadrupole is given by $B_y=-G\\cdot x$ and $B_x=-G\\cdot y$, define the <b>quadrupole strength</b>\n",
    "\n",
    "$$k \\doteq - \\cfrac{G}{B\\rho}$$\n",
    "\n",
    "where $k>0$ ($G<0$) for a focusing magnet (horizontally (!) stable motion in the $x$ plane). With $x'\\doteq dx/ds$, the equation of motion reads\n",
    "\n",
    "$$\\left\\{\\begin{matrix}\\,\n",
    "    x'' + k\\cdot x &= 0 \\\\\n",
    "    y'' - k\\cdot y &= 0 \\end{matrix}\\right.$$\n",
    "    \n",
    "with $\\cos,\\sin$ solution for the stable harmonic oscillation equation where $u''=-|k|u$ and hyperbolic $\\cosh,\\sinh$ solution for the unstable equation where $u''=+|k|u$. ($u$ is either $x$ or $y$, depending on $k$)\n",
    "\n",
    "<p style=\"color: red;\">$\\implies$ in a quadrupole, one direction always focuses while the other direction defocuses! Remember Earnshaw's theorem!</p>\n",
    "\n",
    "In case of a drift, $k=0$, $u$ continues to increase with the angle $u'$ times the path length $s$."
   ]
  },
  {
   "cell_type": "markdown",
   "id": "a8214394",
   "metadata": {
    "slideshow": {
     "slide_type": "slide"
    }
   },
   "source": [
    "<h2>Motion in Dipole Magnet</h2>\n",
    "\n",
    "<b>Geometric focusing</b> due to longer path length in dipole field for positive $x$, equation of motion reads:\n",
    "\n",
    "$$\\left\\{\\begin{matrix}\\,\n",
    "x'' + \\cfrac{1}{\\rho_0{}^2} \\cdot x &= 0 \\\\\n",
    "y'' &= 0\\end{matrix}\\right.$$"
   ]
  },
  {
   "cell_type": "markdown",
   "id": "834d3ee2",
   "metadata": {
    "slideshow": {
     "slide_type": "slide"
    }
   },
   "source": [
    "<h2>Hill Differential Equation</h2>\n",
    "\n",
    "Piecing together drifts, normal dipoles and normal quadrupoles to a magnet sequence, the <b>lattice</b> of the accelerator, one obtains the <b>Hill equation</b>\n",
    "\n",
    "$$\\left\\{\\begin{matrix}\\,\n",
    "    x'' &\\mathop{+}\\, \\left(\\cfrac{1}{\\rho_0(s)} + k(s)\\right)&\\mathop{\\cdot} x = 0 \\\\\n",
    "    y'' &\\mathop{-} k(s)&\\mathop{\\cdot} y = 0\n",
    "\\end{matrix}\\right.$$\n",
    "\n",
    "where the dipole curvature radius $\\rho_0(s)$ and the quadrupole strength $k(s)$ are typically piecewise constant.\n",
    "\n",
    "$\\implies$ can use transverse matrix formalism for each (linear) magnet, the <b>betatron matrices</b> $\\mathcal{M}$, to transport through each element from $s_0$ to $s_0+s$:\n",
    "\n",
    "$$\\begin{pmatrix} x \\\\ x' \\end{pmatrix}_{s_0+s} = \\mathcal{M}(s_0+s, s_0) \\begin{pmatrix} x \\\\ x' \\end{pmatrix}_{s_0}$$\n",
    "\n"
   ]
  },
  {
   "cell_type": "markdown",
   "id": "e49aacfc",
   "metadata": {
    "slideshow": {
     "slide_type": "slide"
    }
   },
   "source": [
    "<h2>Betatron Matrices</h2>\n",
    "\n",
    "A drift section: \n",
    "$$\\mathcal{M}_\\text{drift} = \\begin{pmatrix}\\,1 &s \\\\ 0 & 1\\end{pmatrix}$$\n",
    "\n",
    "A thick dipole magnet: \n",
    "$$\\mathcal{M}_\\text{dipole}^x = \\begin{pmatrix}\\,\\cos\\left(\\frac{s}{\\rho_0}\\right) &\\rho_0 \\sin\\left(\\frac{s}{\\rho_0}\\right) \\\\ -\\frac{1}{\\rho_0}\\sin\\left(\\frac{s}{\\rho_0}\\right) & \\cos\\left(\\frac{s}{\\rho_0}\\right)\\end{pmatrix} \n",
    "\\qquad \\text{and}\\qquad \n",
    "\\mathcal{M}_\\text{dipole}^{y} = \\mathcal{M}_\\text{drift}\n",
    "$$\n",
    "\n",
    "A thick quadrupole magnet:\n",
    "\n",
    "$$\\mathcal{M}^\\text{foc}_\\text{quadrupole} = \\begin{pmatrix}\\,\\cos(\\sqrt{|k|}\\cdot s) & \\frac{1}{\\sqrt{|k|}}\\sin(\\sqrt{|k|}\\cdot s) \\\\ -\\sqrt{|k|} \\sin(\\sqrt{|k|}\\cdot s) & \\cos(\\sqrt{|k|}\\cdot s) \\end{pmatrix}\n",
    "$$\n",
    "\n",
    "$$\\mathcal{M}^\\text{defoc}_\\text{quadrupole} = \\begin{pmatrix}\\,\\cosh(\\sqrt{|k|}\\cdot s) & \\frac{1}{\\sqrt{|k|}}\\sinh(\\sqrt{|k|}\\cdot s) \\\\ \\sqrt{|k|} \\sinh(\\sqrt{|k|}\\cdot s) & \\cosh(\\sqrt{|k|}\\cdot s) \\end{pmatrix}$$\n",
    "\n",
    "where a focusing quadrupole $k>0$ uses $\\mathcal{M}^\\text{foc}_\\text{quadrupole}$ for the $x$-plane and $\\mathcal{M}^\\text{defoc}_\\text{quadrupole}$ for the $y$-plane. Vice versa for a defocusing quadrupole."
   ]
  },
  {
   "cell_type": "code",
   "execution_count": null,
   "id": "8ea0b767",
   "metadata": {},
   "outputs": [],
   "source": [
    "def M_drift(L):\n",
    "    return np.array([\n",
    "        [1, L],\n",
    "        [0, 1]\n",
    "    ])\n",
    "\n",
    "def M_dip_x(L, rho0):\n",
    "    return np.array([\n",
    "        [np.cos(L / rho0), rho0 * np.sin(L / rho0)],\n",
    "        [-1 / rho0 * np.sin(L / rho0), np.cos(L / rho0)]\n",
    "    ])\n",
    "\n",
    "def M_dip_y(L, rho0):\n",
    "    return M_drift(L)\n",
    "\n",
    "def M_quad_x(L, k):\n",
    "    ksq = np.sqrt(k + 0j)\n",
    "    return np.array([\n",
    "        [np.cos(ksq * L), 1 / ksq * np.sin(ksq * L)],\n",
    "        [-ksq * np.sin(ksq * L), np.cos(ksq * L)]\n",
    "    ]).real\n",
    "\n",
    "def M_quad_y(L, k):\n",
    "    ksq = np.sqrt(k + 0j)\n",
    "    return np.array([\n",
    "        [np.cosh(ksq * L), 1 / ksq * np.sinh(ksq * L)],\n",
    "        [ksq * np.sinh(ksq * L), np.cosh(ksq * L)]\n",
    "    ]).real"
   ]
  },
  {
   "cell_type": "code",
   "execution_count": null,
   "id": "27addd7f",
   "metadata": {},
   "outputs": [],
   "source": [
    "def track(M, u, up):\n",
    "    '''Apply M to each individual [u;up] vectors value.'''\n",
    "    return np.einsum('ij,...j->i...', M, np.vstack((u, up)).T)"
   ]
  },
  {
   "cell_type": "markdown",
   "id": "ea8769b6",
   "metadata": {},
   "source": [
    "<!--def track_M_drift(u, up, s):\n",
    "    return u + up * s, up\n",
    "\n",
    "def track_M_dip_x(x, xp, s, rho0):\n",
    "    xnew = np.cos(s / rho0) + rho0 * np.sin(s / rho0)\n",
    "    xpnew = -1 / rho0 * np.sin(s / rho0) + np.cos(s / rho0)\n",
    "    return xnew, xpnew\n",
    "    \n",
    "track_M_dip_y = track_M_drift\n",
    "\n",
    "def track_M_quad_x(x, xp, s, k):\n",
    "    ksq = np.sqrt(k + 0j) # potentially complex ksq\n",
    "    xnew = np.cos(ksq * s) * x + 1 / ksq * np.sin(ksq * s) * xp\n",
    "    xpnew = -ksq * np.sin(ksq * s) * x + np.cos(ksq * s) * xp\n",
    "    return xnew, xpnew\n",
    "\n",
    "def track_M_quad_y(y, yp, s, k):\n",
    "    ksq = np.sqrt(k + 0j) # potentially complex ksq\n",
    "    ynew = np.cosh(ksq * s) * y + 1 / ksq * np.sinh(ksq * s) * yp\n",
    "    ypnew = -ksq * np.sinh(ksq * s) * y + np.cosh(ksq * s) * yp\n",
    "    return ynew, ypnew-->"
   ]
  },
  {
   "cell_type": "markdown",
   "id": "2320625f",
   "metadata": {
    "slideshow": {
     "slide_type": "slide"
    }
   },
   "source": [
    "<h2>Thin Approximation</h2>\n",
    "\n",
    "For very short lengths of the magnets $L\\rightarrow 0$, one can derive the following triangular matrices under the so-called <b>thin approximation</b> $f=\\lim\\limits_{L\\rightarrow 0} \\cfrac{1}{|k|\\cdot L}$:\n",
    "    \n",
    "$$\\mathcal{M}^\\text{foc}_\\text{thin-quadrupole} = \\begin{pmatrix}\\,1 & 0 \\\\ -\\frac{1}{f} & 1 \\end{pmatrix}$$\n",
    "\n",
    "$$\\mathcal{M}^\\text{defoc}_\\text{thin-quadrupole} = \\begin{pmatrix}\\,1 & 0 \\\\ \\frac{1}{f} & 1 \\end{pmatrix}$$\n",
    "\n",
    "as well as \n",
    "\n",
    "$$\\mathcal{M}^\\text{x}_\\text{thin-dipole} = M_\\text{drift}$$"
   ]
  },
  {
   "cell_type": "markdown",
   "id": "5ac74cf2",
   "metadata": {
    "slideshow": {
     "slide_type": "slide"
    }
   },
   "source": [
    "<h2>Thin Sextupole Kick</h2>\n",
    "\n",
    "The motion through a regular sextupole magnet of strength $m$ and length $L$ cannot be represented by a (betatron) matrix since the magnetic field is <b>non-linear</b>.\n",
    "\n",
    "In thin approximation, an infinitesimally long sextupole magnet of integrated strength $mL$ applies only an update of the momentum (angle):\n",
    "\n",
    "$$\\left\\{\\begin{matrix}\\,\n",
    "    x'_\\text{after} &= x'_\\text{before} \\,+ &\\frac{1}{2} m (y^2 - x^2)\\cdot L  \\\\\n",
    "    y'_\\text{after} &= y'_\\text{before} \\,+ &m \\cdot x \\cdot y \\cdot L\n",
    "\\end{matrix}\\right.$$"
   ]
  },
  {
   "cell_type": "code",
   "execution_count": null,
   "id": "1f2daf85",
   "metadata": {},
   "outputs": [],
   "source": [
    "def track_sext_4D(x, xp, y, yp, mL):\n",
    "    xp += 0.5 * mL * (y * y - x * x)\n",
    "    yp += mL * x * y\n",
    "    return x, xp, y, yp"
   ]
  },
  {
   "cell_type": "markdown",
   "id": "e6f361a0",
   "metadata": {
    "slideshow": {
     "slide_type": "slide"
    }
   },
   "source": [
    "<h2>Properties of Betatron Matrices</h2>\n",
    "\n",
    "<b>Liouville</b> applies to $x-x'$ space in the case of no acceleration $\\leadsto$ <b>phase space</b>!\n",
    "\n",
    "The betatron matrices $\\mathcal{M}$ are thus <b>symplectic</b> and the 2x2 matrices obey\n",
    "\n",
    "$$\\det(\\mathcal{M}) = 1$$\n",
    "\n",
    "<p style=\"color: #e6541a;\">$\\implies$ verify this!</p>\n",
    "\n",
    "Can build lattice matrix or one-turn-matrix $\\mathcal{M}$ by multiplying all subsequent elements in lattice!\n",
    "\n",
    "Long-term <b>stability</b> of 2x2 matrix $\\mathcal{M}$ then requires eigenvalues $|\\lambda|\\leq 1$ $\\Longleftrightarrow$ $|\\mathrm{Tr}(\\mathcal{M})| \\leq 2$"
   ]
  },
  {
   "cell_type": "markdown",
   "id": "df2fa541",
   "metadata": {
    "slideshow": {
     "slide_type": "slide"
    }
   },
   "source": [
    "<h2>Simulation Exercises</h2>\n",
    "\n",
    "### 1. Simulating a drift:"
   ]
  },
  {
   "cell_type": "code",
   "execution_count": null,
   "id": "0949aee2",
   "metadata": {},
   "outputs": [],
   "source": [
    "np.random.seed(12345)"
   ]
  },
  {
   "cell_type": "code",
   "execution_count": null,
   "id": "0deb1083",
   "metadata": {},
   "outputs": [],
   "source": [
    "N = 100\n",
    "sig_x = 5e-3\n",
    "sig_xp = 2e-3\n",
    "\n",
    "x = np.random.normal(0, sig_x, N)\n",
    "xp = np.random.normal(0, sig_xp, N)"
   ]
  },
  {
   "cell_type": "code",
   "execution_count": null,
   "id": "801c1d47",
   "metadata": {},
   "outputs": [],
   "source": [
    "ds = 0.01\n",
    "\n",
    "D = M_drift(ds)"
   ]
  },
  {
   "cell_type": "code",
   "execution_count": null,
   "id": "b633d64c",
   "metadata": {
    "slideshow": {
     "slide_type": "slide"
    }
   },
   "outputs": [],
   "source": [
    "plt.scatter(x, xp, c='C0', s=10, marker='.')\n",
    "plt.xlabel('$x$')\n",
    "plt.ylabel(\"$x'$\");"
   ]
  },
  {
   "cell_type": "code",
   "execution_count": null,
   "id": "62417879",
   "metadata": {
    "scrolled": false,
    "slideshow": {
     "slide_type": "slide"
    }
   },
   "outputs": [],
   "source": [
    "for s in np.arange(-1, 1, ds):\n",
    "    x, xp = track(D, x, xp)\n",
    "    plt.scatter(np.ones(N) * s, x, c='C0', s=1, marker='.')\n",
    "plt.xlabel('$s$')\n",
    "plt.ylabel('$x$');"
   ]
  },
  {
   "cell_type": "code",
   "execution_count": null,
   "id": "eec6a3ce",
   "metadata": {
    "slideshow": {
     "slide_type": "slide"
    }
   },
   "outputs": [],
   "source": [
    "plt.scatter(x, xp, c='C0', s=10, marker='.')\n",
    "plt.xlabel('$x$')\n",
    "plt.ylabel(\"$x'$\");"
   ]
  },
  {
   "cell_type": "markdown",
   "id": "742191e9",
   "metadata": {
    "slideshow": {
     "slide_type": "slide"
    }
   },
   "source": [
    "### Same simulation again with correlated $x, x'$:\n",
    "\n",
    "$\\implies$ demonstrates the eventual divergence after long enough drifts"
   ]
  },
  {
   "cell_type": "code",
   "execution_count": null,
   "id": "1b929cba",
   "metadata": {},
   "outputs": [],
   "source": [
    "np.random.seed(12345)"
   ]
  },
  {
   "cell_type": "code",
   "execution_count": null,
   "id": "977ba06e",
   "metadata": {},
   "outputs": [],
   "source": [
    "N = 100\n",
    "sig_x = 5e-3\n",
    "sig_xp = 2e-3\n",
    "\n",
    "x = np.random.normal(0, sig_x, N)\n",
    "xp = np.random.normal(0, sig_xp / 2, N) - x * sig_x / sig_xp * 0.4"
   ]
  },
  {
   "cell_type": "code",
   "execution_count": null,
   "id": "a9a224f7",
   "metadata": {},
   "outputs": [],
   "source": [
    "ds = 0.01\n",
    "\n",
    "D = M_drift(ds)"
   ]
  },
  {
   "cell_type": "code",
   "execution_count": null,
   "id": "26da8c11",
   "metadata": {
    "slideshow": {
     "slide_type": "slide"
    }
   },
   "outputs": [],
   "source": [
    "plt.scatter(x, xp, c='C0', s=10, marker='.')\n",
    "plt.xlabel('$x$')\n",
    "plt.ylabel(\"$x'$\");"
   ]
  },
  {
   "cell_type": "code",
   "execution_count": null,
   "id": "6771ea02",
   "metadata": {
    "scrolled": false,
    "slideshow": {
     "slide_type": "slide"
    }
   },
   "outputs": [],
   "source": [
    "for s in np.arange(-1, 1, ds):\n",
    "    x, xp = track(D, x, xp)\n",
    "    plt.scatter(np.ones(N) * s, x, c='C0', s=1, marker='.')\n",
    "plt.xlabel('$s$')\n",
    "plt.ylabel('$x$');"
   ]
  },
  {
   "cell_type": "code",
   "execution_count": null,
   "id": "aa5e96df",
   "metadata": {
    "slideshow": {
     "slide_type": "slide"
    }
   },
   "outputs": [],
   "source": [
    "plt.scatter(x, xp, c='C0', s=10, marker='.')\n",
    "plt.xlabel('$x$')\n",
    "plt.ylabel(\"$x'$\");"
   ]
  },
  {
   "cell_type": "markdown",
   "id": "a6e5d623",
   "metadata": {},
   "source": [
    "$\\implies$ particles move (drift) for- and backward along $x$ depending on their momentum (angle) $x'$!"
   ]
  },
  {
   "cell_type": "markdown",
   "id": "2445e8dd",
   "metadata": {
    "slideshow": {
     "slide_type": "slide"
    }
   },
   "source": [
    "### 2. Simulating a quadrupole in focusing plane:"
   ]
  },
  {
   "cell_type": "code",
   "execution_count": null,
   "id": "cdf9e201",
   "metadata": {},
   "outputs": [],
   "source": [
    "np.random.seed(12345)"
   ]
  },
  {
   "cell_type": "code",
   "execution_count": null,
   "id": "be7e5c03",
   "metadata": {},
   "outputs": [],
   "source": [
    "N = 100\n",
    "sig_x = 5e-3\n",
    "sig_xp = 2e-3\n",
    "\n",
    "x = np.random.normal(0, sig_x, N)\n",
    "xp = np.random.normal(0, sig_xp, N)"
   ]
  },
  {
   "cell_type": "code",
   "execution_count": null,
   "id": "320e6c91",
   "metadata": {},
   "outputs": [],
   "source": [
    "ds = 0.01\n",
    "\n",
    "Qx = M_quad_x(ds, 10)"
   ]
  },
  {
   "cell_type": "code",
   "execution_count": null,
   "id": "be057774",
   "metadata": {
    "slideshow": {
     "slide_type": "slide"
    }
   },
   "outputs": [],
   "source": [
    "plt.scatter(x, xp, c='C0', s=10, marker='.')\n",
    "plt.xlabel('$x$')\n",
    "plt.ylabel(\"$x'$\");"
   ]
  },
  {
   "cell_type": "code",
   "execution_count": null,
   "id": "f6b0b3bb",
   "metadata": {
    "scrolled": false,
    "slideshow": {
     "slide_type": "slide"
    }
   },
   "outputs": [],
   "source": [
    "for s in np.arange(-1, 1, ds):\n",
    "    x, xp = track(Qx, x, xp)\n",
    "    plt.scatter(np.ones(N) * s, x, c='C0', s=1, marker='.')\n",
    "plt.xlabel('$s$')\n",
    "plt.ylabel('$x$');"
   ]
  },
  {
   "cell_type": "code",
   "execution_count": null,
   "id": "9e7f6767",
   "metadata": {
    "scrolled": false,
    "slideshow": {
     "slide_type": "slide"
    }
   },
   "outputs": [],
   "source": [
    "plt.scatter(x, xp, c='C0', s=10, marker='.')\n",
    "plt.xlabel('$x$')\n",
    "plt.ylabel(\"$x'$\");"
   ]
  },
  {
   "cell_type": "markdown",
   "id": "a4af7ed4",
   "metadata": {},
   "source": [
    "<p style=\"color: #e6541a;\">$\\implies$ Is it possible to build a storage ring consisting only of focusing quadrupole? Where is the caveat?</p>"
   ]
  },
  {
   "cell_type": "markdown",
   "id": "49f8e938",
   "metadata": {
    "slideshow": {
     "slide_type": "slide"
    }
   },
   "source": [
    "### 3. Simulating a quadrupole in defocusing plane:"
   ]
  },
  {
   "cell_type": "code",
   "execution_count": null,
   "id": "9422a61b",
   "metadata": {},
   "outputs": [],
   "source": [
    "np.random.seed(12345)"
   ]
  },
  {
   "cell_type": "code",
   "execution_count": null,
   "id": "e74573be",
   "metadata": {},
   "outputs": [],
   "source": [
    "N = 100\n",
    "sig_x = 5e-3\n",
    "sig_xp = 2e-3\n",
    "\n",
    "x = np.random.normal(0, sig_x, N)\n",
    "xp = np.random.normal(0, sig_xp, N)"
   ]
  },
  {
   "cell_type": "markdown",
   "id": "21d7b757",
   "metadata": {},
   "source": [
    "Note the <b>negative sign</b> for the $k$ to obtain defocusing in the horizontal plane:"
   ]
  },
  {
   "cell_type": "code",
   "execution_count": null,
   "id": "d51ccb88",
   "metadata": {},
   "outputs": [],
   "source": [
    "ds = 0.01\n",
    "\n",
    "Qx = M_quad_x(ds, -10)"
   ]
  },
  {
   "cell_type": "code",
   "execution_count": null,
   "id": "1332f6fa",
   "metadata": {
    "slideshow": {
     "slide_type": "slide"
    }
   },
   "outputs": [],
   "source": [
    "plt.scatter(x, xp, c='C0', s=10, marker='.')\n",
    "plt.xlabel('$x$')\n",
    "plt.ylabel(\"$x'$\");"
   ]
  },
  {
   "cell_type": "code",
   "execution_count": null,
   "id": "24eb64b9",
   "metadata": {
    "scrolled": false,
    "slideshow": {
     "slide_type": "slide"
    }
   },
   "outputs": [],
   "source": [
    "for s in np.arange(-1, 1, ds):\n",
    "    x, xp = track(Qx, x, xp)\n",
    "    plt.scatter(np.ones(N) * s, x, c='C0', s=1, marker='.')\n",
    "plt.xlabel('$s$')\n",
    "plt.ylabel('$x$');"
   ]
  },
  {
   "cell_type": "code",
   "execution_count": null,
   "id": "ddee817b",
   "metadata": {
    "slideshow": {
     "slide_type": "slide"
    }
   },
   "outputs": [],
   "source": [
    "plt.scatter(x, xp, c='C0', s=10, marker='.')\n",
    "plt.xlabel('$x$')\n",
    "plt.ylabel(\"$x'$\");"
   ]
  },
  {
   "cell_type": "markdown",
   "id": "934d6a70",
   "metadata": {},
   "source": [
    "$\\implies$ the problem of constant continuous quadrupole fields lies in that one plane focuses while the other plane <span style=\"color:red;\"><b>de</b></span>focuses!"
   ]
  },
  {
   "cell_type": "markdown",
   "id": "cc171ccd",
   "metadata": {
    "slideshow": {
     "slide_type": "slide"
    }
   },
   "source": [
    "### 4. Simulating a FODO cell:\n",
    "\n",
    "A F-0-D-0 cell is the <b>most common design type</b> for proton machine lattices!\n",
    "\n",
    "It consists of a focusing quadrupole, drift space (0), defocusing quadrupole and again drift space (0):"
   ]
  },
  {
   "cell_type": "markdown",
   "id": "2289556f",
   "metadata": {},
   "source": [
    "<img src=\"img/lhc-cell.png\" alt=\"LHC cell layout\" style=\"width: 80%;\" />\n",
    "\n",
    "<p style=\"clear: both; font-size: 10pt; text-align: right; float: right;\">image by <a href=\"https://indico.hep.manchester.ac.uk/getFile.py/access?resId=8&materialId=slides&confId=5922\">G. Xia</a></p>"
   ]
  },
  {
   "cell_type": "markdown",
   "id": "4d8afc3e",
   "metadata": {},
   "source": [
    "$\\implies$ drift spaces are typically filled with dipole magnets (and instrumentation)"
   ]
  },
  {
   "cell_type": "code",
   "execution_count": null,
   "id": "ab4cd9ce",
   "metadata": {
    "slideshow": {
     "slide_type": "slide"
    }
   },
   "outputs": [],
   "source": [
    "np.random.seed(12345)"
   ]
  },
  {
   "cell_type": "code",
   "execution_count": null,
   "id": "df849c45",
   "metadata": {},
   "outputs": [],
   "source": [
    "N = 100\n",
    "sig_x = 5e-3\n",
    "sig_xp = 3e-4\n",
    "\n",
    "x = np.random.normal(0, sig_x, N)\n",
    "xp = np.random.normal(0, sig_xp, N)"
   ]
  },
  {
   "cell_type": "code",
   "execution_count": null,
   "id": "995ea0ef",
   "metadata": {},
   "outputs": [],
   "source": [
    "ds = 0.1\n",
    "k = 0.2\n",
    "\n",
    "D = M_drift(ds)\n",
    "Qfx = M_quad_x(ds, k)\n",
    "Qdx = M_quad_x(ds, -k)"
   ]
  },
  {
   "cell_type": "code",
   "execution_count": null,
   "id": "eb508a90",
   "metadata": {
    "slideshow": {
     "slide_type": "slide"
    }
   },
   "outputs": [],
   "source": [
    "plt.scatter(x, xp, c='C0', s=10, marker='.')\n",
    "plt.xlabel('$x$')\n",
    "plt.ylabel(\"$x'$\");"
   ]
  },
  {
   "cell_type": "markdown",
   "id": "68dbe3f9",
   "metadata": {
    "slideshow": {
     "slide_type": "slide"
    }
   },
   "source": [
    "We assume a total FODO cell length of 10m and a length of each quadrupole magnet of 1m.\n",
    "\n",
    "Tracking the FODO cell in the horizontal plane, starting from the centre of the focusing quadrupole (= horizontally focusing!):"
   ]
  },
  {
   "cell_type": "code",
   "execution_count": null,
   "id": "5a1d07c9",
   "metadata": {
    "scrolled": false
   },
   "outputs": [],
   "source": [
    "# 1/2 focusing quad\n",
    "for s in np.arange(0, 0.5001, ds):\n",
    "    x, xp = track(Qfx, x, xp)\n",
    "    plt.scatter(np.ones(N) * s, x, c='C0', s=1, marker='.')\n",
    "# drift\n",
    "for s in np.arange(0.5, 4.5001, ds)[1:]:\n",
    "    x, xp = track(D, x, xp)\n",
    "    plt.scatter(np.ones(N) * s, x, c='C0', s=1, marker='.')\n",
    "# defocusing quad\n",
    "for s in np.arange(4.5, 5.5001, ds)[1:]:\n",
    "    x, xp = track(Qdx, x, xp)\n",
    "    plt.scatter(np.ones(N) * s, x, c='C0', s=1, marker='.')\n",
    "# drift\n",
    "for s in np.arange(5.5, 9.5001, ds)[1:]:\n",
    "    x, xp = track(D, x, xp)\n",
    "    plt.scatter(np.ones(N) * s, x, c='C0', s=1, marker='.')\n",
    "# 1/2 focusing quad\n",
    "for s in np.arange(9.5, 10.0001, ds)[1:]:\n",
    "    x, xp = track(Qfx, x, xp)\n",
    "    plt.scatter(np.ones(N) * s, x, c='C0', s=1, marker='.')\n",
    "plt.xlabel('$s$')\n",
    "plt.ylabel('$x$');"
   ]
  },
  {
   "cell_type": "code",
   "execution_count": null,
   "id": "cdaa76ee",
   "metadata": {
    "scrolled": false,
    "slideshow": {
     "slide_type": "slide"
    }
   },
   "outputs": [],
   "source": [
    "plt.scatter(x, xp, c='C0', s=10, marker='.')\n",
    "plt.xlabel('$x$')\n",
    "plt.ylabel(\"$x'$\");"
   ]
  },
  {
   "cell_type": "markdown",
   "id": "e8f8336d",
   "metadata": {
    "slideshow": {
     "slide_type": "slide"
    }
   },
   "source": [
    "What about the vertical plane now? The quadrupoles have their function inverted, a horizontally focusing quadrupole defocuses in the vertical plane, so the same lattice looks like \"D-0-F-0\" with respect to the vertical plane:"
   ]
  },
  {
   "cell_type": "code",
   "execution_count": null,
   "id": "36263e95",
   "metadata": {},
   "outputs": [],
   "source": [
    "sig_y = 5e-3\n",
    "sig_yp = 3e-4\n",
    "\n",
    "y = np.random.normal(0, sig_y, N)\n",
    "yp = np.random.normal(0, sig_yp, N)"
   ]
  },
  {
   "cell_type": "code",
   "execution_count": null,
   "id": "2f3d9c46",
   "metadata": {},
   "outputs": [],
   "source": [
    "Qfy = M_quad_y(ds, k)\n",
    "Qdy = M_quad_y(ds, -k)"
   ]
  },
  {
   "cell_type": "code",
   "execution_count": null,
   "id": "382fbed0",
   "metadata": {
    "scrolled": false,
    "slideshow": {
     "slide_type": "slide"
    }
   },
   "outputs": [],
   "source": [
    "# 1/2 vertically defocusing quad (horizontally focusing, so \"Qf\")\n",
    "for s in np.arange(0, 0.5001, ds):\n",
    "    y, yp = track(Qfy, y, yp)\n",
    "    plt.scatter(np.ones(N) * s, y, c='C0', s=1, marker='.')\n",
    "# drift\n",
    "for s in np.arange(0.5, 4.5001, ds)[1:]:\n",
    "    y, yp = track(D, y, yp)\n",
    "    plt.scatter(np.ones(N) * s, y, c='C0', s=1, marker='.')\n",
    "# defocusing quad (horizontally defocusing, so \"Qd\")\n",
    "for s in np.arange(4.5, 5.5001, ds)[1:]:\n",
    "    y, yp = track(Qdy, y, yp)\n",
    "    plt.scatter(np.ones(N) * s, y, c='C0', s=1, marker='.')\n",
    "# drift\n",
    "for s in np.arange(5.5, 9.5001, ds)[1:]:\n",
    "    y, yp = track(D, y, yp)\n",
    "    plt.scatter(np.ones(N) * s, y, c='C0', s=1, marker='.')\n",
    "# 1/2 focusing quad\n",
    "for s in np.arange(9.5, 10.0001, ds)[1:]:\n",
    "    y, yp = track(Qfy, y, yp)\n",
    "    plt.scatter(np.ones(N) * s, y, c='C0', s=1, marker='.')\n",
    "plt.xlabel('$s$')\n",
    "plt.ylabel('$y$');"
   ]
  },
  {
   "cell_type": "markdown",
   "id": "9344fa31",
   "metadata": {
    "slideshow": {
     "slide_type": "slide"
    }
   },
   "source": [
    "$\\implies$ can ensure <b>quasi-harmonic motion</b> in both (!) transverse planes! Transverse confinement of beam by <b>alternating-gradient</b> (AG) focusing! This is the principle behind synchrotrons!"
   ]
  },
  {
   "cell_type": "markdown",
   "id": "e09744ad",
   "metadata": {
    "slideshow": {
     "slide_type": "-"
    }
   },
   "source": [
    "How does this look like over long time scales? Let us build the one-cell matrix and track for many cells:"
   ]
  },
  {
   "cell_type": "code",
   "execution_count": null,
   "id": "3b61e1e3",
   "metadata": {},
   "outputs": [],
   "source": [
    "M_cell = M_quad_x(0.5, k) # 1/2 focusing quad\n",
    "M_cell = M_cell.dot(M_drift(4)) # drift\n",
    "M_cell = M_cell.dot(M_quad_x(1, -k)) # defocusing quad\n",
    "M_cell = M_cell.dot(M_drift(4)) # drift\n",
    "M_cell = M_cell.dot(M_quad_x(0.5, k)) # 1/2 focusing quad"
   ]
  },
  {
   "cell_type": "code",
   "execution_count": null,
   "id": "c93b523f",
   "metadata": {},
   "outputs": [],
   "source": [
    "n_cells = 100"
   ]
  },
  {
   "cell_type": "code",
   "execution_count": null,
   "id": "e90f775d",
   "metadata": {
    "slideshow": {
     "slide_type": "slide"
    }
   },
   "outputs": [],
   "source": [
    "np.random.seed(12345)"
   ]
  },
  {
   "cell_type": "code",
   "execution_count": null,
   "id": "b3d55a85",
   "metadata": {},
   "outputs": [],
   "source": [
    "N = 100\n",
    "sig_x = 5e-3\n",
    "sig_xp = 3e-4\n",
    "\n",
    "x = np.random.normal(0, sig_x, N)\n",
    "xp = np.random.normal(0, sig_xp, N)"
   ]
  },
  {
   "cell_type": "code",
   "execution_count": null,
   "id": "100419b6",
   "metadata": {},
   "outputs": [],
   "source": [
    "for i in range(n_cells):\n",
    "    x, xp = track(M_cell, x, xp)\n",
    "    \n",
    "    plt.scatter(np.ones(N) * i, x, c='C0', s=1, marker='.')\n",
    "    plt.scatter([i], [x[-1]], c='r', s=10, marker='.')\n",
    "plt.xlabel('Cells')\n",
    "plt.ylabel('$x$');"
   ]
  },
  {
   "cell_type": "markdown",
   "id": "e7c4f044",
   "metadata": {},
   "source": [
    "$\\implies$ we observe regular motion, amplitudes remain bound! It looks like the magnet configuration is stable and the beam is well confined!"
   ]
  },
  {
   "cell_type": "markdown",
   "id": "91b88ddd",
   "metadata": {
    "slideshow": {
     "slide_type": "slide"
    }
   },
   "source": [
    "What about the phase-space trajectories at this position in the lattice (a so-called <b>Poincaré section</b>)?"
   ]
  },
  {
   "cell_type": "code",
   "execution_count": null,
   "id": "ffacc051",
   "metadata": {},
   "outputs": [],
   "source": [
    "for i in range(n_cells):\n",
    "    x, xp = track(M_cell, x, xp)\n",
    "    plt.scatter(x[::10], xp[::10], c='C0', s=10, marker='.')\n",
    "plt.xlabel('$x$')\n",
    "plt.ylabel(\"$x'$\")\n",
    "plt.gca().set_aspect(np.diff(plt.xlim()) / np.diff(plt.ylim()));"
   ]
  },
  {
   "cell_type": "markdown",
   "id": "524194de",
   "metadata": {},
   "source": [
    "$\\implies$ the circles indicate linear bound motion!"
   ]
  },
  {
   "cell_type": "markdown",
   "id": "e0e61e5e",
   "metadata": {
    "slideshow": {
     "slide_type": "slide"
    }
   },
   "source": [
    "### 5. What happens for increasingly strong $k$ in FODO?\n",
    "\n",
    "<p style=\"color: #e6541a;\">$\\implies$ play with the quadrupole strength $k$ and observe what happens for stronger values!</p>"
   ]
  },
  {
   "cell_type": "code",
   "execution_count": null,
   "id": "2563d6f3",
   "metadata": {},
   "outputs": [],
   "source": [
    "k = 0.431"
   ]
  },
  {
   "cell_type": "code",
   "execution_count": null,
   "id": "7527a96b",
   "metadata": {},
   "outputs": [],
   "source": [
    "M_cell = M_quad_x(0.5, k) # 1/2 focusing quad\n",
    "M_cell = M_cell.dot(M_drift(4)) # drift\n",
    "M_cell = M_cell.dot(M_quad_x(1, -k)) # defocusing quad\n",
    "M_cell = M_cell.dot(M_drift(4)) # drift\n",
    "M_cell = M_cell.dot(M_quad_x(0.5, k)) # 1/2 focusing quad"
   ]
  },
  {
   "cell_type": "code",
   "execution_count": null,
   "id": "7151f81e",
   "metadata": {},
   "outputs": [],
   "source": [
    "n_cells = 100"
   ]
  },
  {
   "cell_type": "code",
   "execution_count": null,
   "id": "81e3605d",
   "metadata": {},
   "outputs": [],
   "source": [
    "N = 100\n",
    "sig_x = 5e-3\n",
    "sig_xp = 3e-4\n",
    "\n",
    "x = np.random.normal(0, sig_x, N)\n",
    "xp = np.random.normal(0, sig_xp, N)"
   ]
  },
  {
   "cell_type": "code",
   "execution_count": null,
   "id": "2ea98db6",
   "metadata": {},
   "outputs": [],
   "source": [
    "for i in range(n_cells):\n",
    "    x, xp = track(M_cell, x, xp)\n",
    "    plt.scatter(np.ones(N) * i, x, c='C0', s=1, marker='.')\n",
    "    plt.scatter([i], [x[-1]], c='r', s=10, marker='.')\n",
    "plt.xlabel('Cells')\n",
    "plt.ylabel('$x$');"
   ]
  },
  {
   "cell_type": "markdown",
   "id": "d4977a00",
   "metadata": {
    "slideshow": {
     "slide_type": "slide"
    }
   },
   "source": [
    "<h2>\"Haste Makes Waste\"</h2>\n",
    "\n",
    "<img src=\"img/trying-hard.png\" alt=\"over-focusing in FODO cell\" style=\"width:80%;\" />\n",
    "\n",
    "<p style=\"clear: both; font-size: 10pt; text-align: right; float: right;\">image by <a href=\"https://indico.hep.manchester.ac.uk/getFile.py/access?resId=8&materialId=slides&confId=5922\">G. Xia</a></p>"
   ]
  },
  {
   "cell_type": "markdown",
   "id": "6cc09f5b",
   "metadata": {
    "slideshow": {
     "slide_type": "slide"
    }
   },
   "source": [
    "$\\implies$ motion becomes unstable! Is the one-cell matrix a \"valid\" (symplectic) betatron matrix?"
   ]
  },
  {
   "cell_type": "code",
   "execution_count": null,
   "id": "3ee321dd",
   "metadata": {
    "slideshow": {
     "slide_type": "-"
    }
   },
   "outputs": [],
   "source": [
    "np.linalg.det(M_cell)"
   ]
  },
  {
   "cell_type": "markdown",
   "id": "5676c9d9",
   "metadata": {},
   "source": [
    "$\\implies$ the matrix obeys $\\det(\\mathcal{M})=1$ and is thus symplectic. But what about the eigenvalues? \n",
    "\n",
    "Solve the characteristic polynomial of the one-cell matrix, $\\det(\\mathcal{M}-\\lambda\\mathbb{1}) = 0$ for $\\lambda$:"
   ]
  },
  {
   "cell_type": "code",
   "execution_count": null,
   "id": "cfff90ac",
   "metadata": {},
   "outputs": [],
   "source": [
    "np.linalg.eigvals(M_cell)"
   ]
  },
  {
   "cell_type": "markdown",
   "id": "bde84a3e",
   "metadata": {},
   "source": [
    "$\\implies$ we find one $|\\lambda| > 1$! If one absolute eigenvalue becomes larger than unity, the magnet configuration becomes unstable! That explains the instability (exponential divergence) here! (Equivalently one finds $|\\mathrm{Tr}(\\mathcal{M})| > 2$, you can verify.)"
   ]
  },
  {
   "cell_type": "markdown",
   "id": "e7de4505",
   "metadata": {
    "slideshow": {
     "slide_type": "slide"
    }
   },
   "source": [
    "What happens to a single particle in phase space in the Poincaré section?"
   ]
  },
  {
   "cell_type": "code",
   "execution_count": null,
   "id": "206f412f",
   "metadata": {},
   "outputs": [],
   "source": [
    "for i in range(10):\n",
    "    x, xp = track(M_cell, x, xp)\n",
    "    plt.scatter(x[0], xp[0], c='C0', s=10, marker='.')\n",
    "plt.xlabel('$x$')\n",
    "plt.ylabel(\"$x'$\")\n",
    "plt.gca().set_aspect(np.diff(plt.xlim()) / np.diff(plt.ylim()));"
   ]
  },
  {
   "cell_type": "markdown",
   "id": "1287b03d",
   "metadata": {},
   "source": [
    "<p style=\"color: #e6541a;\">$\\implies$ compare to the stable phase-space portrait before! Can you explain what happens?</p>"
   ]
  },
  {
   "cell_type": "markdown",
   "id": "1adc891c",
   "metadata": {
    "slideshow": {
     "slide_type": "slide"
    }
   },
   "source": [
    "### 6. Simulating a FODO cell with a sextupole:\n",
    "\n",
    "We go back to the stable FODO cell configuration and add a thin sextupole magnet after 1/4 of the lattice, between the first focusing and the second defocusing quadrupole!\n",
    "\n",
    "The sextupole kick provides a non-linearity in the potential that confines the particles. At large enough amplitude, the non-linear term dominates and the particles are no longer bound / confined!\n",
    "\n",
    "We need to track in 4D phase-space (full transverse plane with both $x$ and $y$) as the sextupole provides coupling terms:"
   ]
  },
  {
   "cell_type": "code",
   "execution_count": null,
   "id": "a2e9148b",
   "metadata": {
    "slideshow": {
     "slide_type": "slide"
    }
   },
   "outputs": [],
   "source": [
    "np.random.seed(12345)"
   ]
  },
  {
   "cell_type": "markdown",
   "id": "2b42d4cc",
   "metadata": {},
   "source": [
    "We need a first matrix 1/4 of the cell until the sextupole, once for the $x$ (`M_cell_x_1`) and another one for the $y$ plane (`M_cell_y_1`). Then a second matrix each to track $x$ and $y$ for the remaining 3/4 of the cell (`M_cell_x_2`, `M_cell_y_2`):"
   ]
  },
  {
   "cell_type": "code",
   "execution_count": null,
   "id": "d4b877a7",
   "metadata": {},
   "outputs": [],
   "source": [
    "k = 0.2\n",
    "mL = 1.8\n",
    "\n",
    "# horizontal plane:\n",
    "M_cell_x_1 = M_quad_x(0.5, k) # 1/2 focusing quad\n",
    "M_cell_x_1 = M_cell_x_1.dot(M_drift(2)) # drift\n",
    "## here sits the sextupole\n",
    "M_cell_x_2 = M_drift(2) # drift\n",
    "M_cell_x_2 = M_cell_x_2.dot(M_quad_x(1, -k)) # defocusing quad\n",
    "M_cell_x_2 = M_cell_x_2.dot(M_drift(4)) # drift\n",
    "M_cell_x_2 = M_cell_x_2.dot(M_quad_x(0.5, k)) # 1/2 focusing quad\n",
    "\n",
    "# vertical plane:\n",
    "M_cell_y_1 = M_quad_y(0.5, k) # 1/2 focusing quad\n",
    "M_cell_y_1 = M_cell_y_1.dot(M_drift(2)) # drift\n",
    "## here sits the sextupole\n",
    "M_cell_y_2 = M_drift(2) # drift\n",
    "M_cell_y_2 = M_cell_y_2.dot(M_quad_y(1, -k)) # defocusing quad\n",
    "M_cell_y_2 = M_cell_y_2.dot(M_drift(4)) # drift\n",
    "M_cell_y_2 = M_cell_y_2.dot(M_quad_y(0.5, k)) # 1/2 focusing quad"
   ]
  },
  {
   "cell_type": "code",
   "execution_count": null,
   "id": "48cd1f3c",
   "metadata": {
    "slideshow": {
     "slide_type": "slide"
    }
   },
   "outputs": [],
   "source": [
    "n_cells = 1000"
   ]
  },
  {
   "cell_type": "markdown",
   "id": "1fe4b256",
   "metadata": {},
   "source": [
    "Initialise the transverse particle distribution:"
   ]
  },
  {
   "cell_type": "code",
   "execution_count": null,
   "id": "504910ac",
   "metadata": {},
   "outputs": [],
   "source": [
    "N = 100\n",
    "sig_x = 5e-3\n",
    "sig_xp = 3e-4\n",
    "sig_y = 5e-3\n",
    "sig_yp = 3e-4\n",
    "\n",
    "x = np.random.normal(0, sig_x, N)\n",
    "xp = np.random.normal(0, sig_xp, N)\n",
    "y = np.random.normal(0, sig_x, N)\n",
    "yp = np.random.normal(0, sig_xp, N)"
   ]
  },
  {
   "cell_type": "markdown",
   "id": "5148915c",
   "metadata": {
    "slideshow": {
     "slide_type": "slide"
    }
   },
   "source": [
    "Let us record the horizontal phase-space coordinates during the tracking:"
   ]
  },
  {
   "cell_type": "code",
   "execution_count": null,
   "id": "7b44f91c",
   "metadata": {},
   "outputs": [],
   "source": [
    "rec_x = np.zeros((n_cells, N), dtype=x.dtype)\n",
    "rec_xp = np.zeros_like(rec_x)"
   ]
  },
  {
   "cell_type": "markdown",
   "id": "28d63557",
   "metadata": {},
   "source": [
    "Let us set the last particle to the same phase-space coordinates as the first particle up to a very small epsilon, for later:"
   ]
  },
  {
   "cell_type": "code",
   "execution_count": null,
   "id": "8fce54cb",
   "metadata": {},
   "outputs": [],
   "source": [
    "x[-1] = x[0]\n",
    "xp[-1] = xp[0]\n",
    "y[-1] = y[0]\n",
    "yp[-1] = yp[0] * 1.001"
   ]
  },
  {
   "cell_type": "markdown",
   "id": "7a082a54",
   "metadata": {
    "slideshow": {
     "slide_type": "slide"
    }
   },
   "source": [
    "Let's go, the full 4D tracking loop comes here:"
   ]
  },
  {
   "cell_type": "code",
   "execution_count": null,
   "id": "ecdf486a",
   "metadata": {},
   "outputs": [],
   "source": [
    "for i in range(n_cells):\n",
    "    # initial 1/4 of the cell\n",
    "    x, xp = track(M_cell_x_1, x, xp)\n",
    "    y, yp = track(M_cell_y_1, y, yp)\n",
    "    # sextupole\n",
    "    x, xp, y, yp = track_sext_4D(x, xp, y, yp, mL)\n",
    "    # remaining 3/4 of the cell\n",
    "    x, xp = track(M_cell_x_2, x, xp)\n",
    "    y, yp = track(M_cell_y_2, y, yp)\n",
    "    \n",
    "    plt.scatter(np.ones(N) * i, x, c='C0', s=1, marker='.')\n",
    "    plt.scatter([i], [x[-1]], c='r', s=10, marker='.')\n",
    "    \n",
    "    rec_x[i] = x\n",
    "    rec_xp[i] = xp\n",
    "plt.xlabel('Cells')\n",
    "plt.ylabel('$x$');"
   ]
  },
  {
   "cell_type": "markdown",
   "id": "b371b260",
   "metadata": {
    "slideshow": {
     "slide_type": "slide"
    }
   },
   "source": [
    "How does the horizontal phase-space (Poincare map) look like?"
   ]
  },
  {
   "cell_type": "code",
   "execution_count": null,
   "id": "b716ba99",
   "metadata": {},
   "outputs": [],
   "source": [
    "for i in range(n_cells):\n",
    "    plt.scatter(rec_x[:100,::10], rec_xp[:100,::10], c='C0', s=1, marker='.')\n",
    "plt.xlabel('$x$')\n",
    "plt.ylabel(\"$x'$\")\n",
    "plt.gca().set_aspect(np.diff(plt.xlim()) / np.diff(plt.ylim()));"
   ]
  },
  {
   "cell_type": "markdown",
   "id": "6903d404",
   "metadata": {},
   "source": [
    "$\\implies$ single particles do not maintain the same (linear) amplitude (radius in $x-x'$) during the tracking!"
   ]
  },
  {
   "cell_type": "markdown",
   "id": "18289b2e",
   "metadata": {
    "slideshow": {
     "slide_type": "slide"
    }
   },
   "source": [
    "A single particle looks like this:"
   ]
  },
  {
   "cell_type": "code",
   "execution_count": null,
   "id": "6b250982",
   "metadata": {},
   "outputs": [],
   "source": [
    "plt.plot(rec_x[:, 0])\n",
    "plt.xlabel('Turns')\n",
    "plt.ylabel('$x$');"
   ]
  },
  {
   "cell_type": "markdown",
   "id": "0568b6fb",
   "metadata": {},
   "source": [
    "$\\implies$ distorted regular motion (see the asymmetry between positive and negative $x$ values in the oscillation), the particle is still bound but the sextupole deforms the phase-space topology from the regular circles we observed for purely linear tracking."
   ]
  },
  {
   "cell_type": "markdown",
   "id": "32b7cd8f",
   "metadata": {
    "slideshow": {
     "slide_type": "slide"
    }
   },
   "source": [
    "Remember, the last particle was just a copy from the first particle with a slightly increased $y'$ value. Let us investigate the difference in their horizontal position during the tracking: "
   ]
  },
  {
   "cell_type": "code",
   "execution_count": null,
   "id": "014610f8",
   "metadata": {},
   "outputs": [],
   "source": [
    "plt.plot(np.abs(rec_x[:,0] - rec_x[:,-1]))\n",
    "plt.yscale('log')\n",
    "plt.xlabel('Turns')\n",
    "plt.ylabel(r'$|\\Delta x|$')"
   ]
  },
  {
   "cell_type": "markdown",
   "id": "51a11217",
   "metadata": {},
   "source": [
    "$\\implies$ for finite sextupole strength, we observe on average an exponential increase. This points to a <b>finite positive maximum Lyapunov exponent</b>, which is an early indicator of deterministic chaos (see lecture 3!)"
   ]
  },
  {
   "cell_type": "markdown",
   "id": "86083f9b",
   "metadata": {
    "slideshow": {
     "slide_type": "slide"
    }
   },
   "source": [
    "All in all, the thin sextupole magnet in the lattice\n",
    "- provides a non-linearity in the potential which the particles see\n",
    "- distorts the regular motion in phase-space\n",
    "- leads to a change of the (linear) amplitude in phase space\n",
    "- provides deterministic chaos, in particular at larger amplitudes (positive Lyapunov exponent!)"
   ]
  },
  {
   "cell_type": "markdown",
   "id": "1a3619bd",
   "metadata": {},
   "source": [
    "<p style=\"color: #e6541a;\">$\\implies$ repeat this exercise with a zero sextupole strength $m=0$ to confirm these insights for yourself!</p>\n",
    "\n",
    "<span style=\"color: #e6541a;\"><i>Hint: in order to observe a meaningful result in the last plot, add a factor</i> </span> `* 1.001` <span style=\"color: #e6541a;\"><i>to</i></span> `xp` <span style=\"color: #e6541a;\"><i>for the last particle to see an effect. Due to the absent coupling between $x$ and $y$, there will be no difference in the $x$ motion of both particles without the sextupole!</i></span>"
   ]
  },
  {
   "cell_type": "markdown",
   "id": "ac30a1f6",
   "metadata": {
    "slideshow": {
     "slide_type": "slide"
    }
   },
   "source": [
    "<h2>Summary</h2>\n",
    "\n",
    "- magnetic fields to bend particles in the transverse plane (vs. electric fields)\n",
    "- multipole representation (normal and skew coefficients $b_n,a_n$)\n",
    "- dipole, quadrupole, sextupole fields\n",
    "- <b>e</b>quation <b>o</b>f <b>m</b>otion in magnetic fields (after paraxial approximation)\n",
    "- Hill differential equation\n",
    "- betatron matrices for transport (solution to e.o.m.)\n",
    "---\n",
    "- drifts: divergence\n",
    "- dipoles: bending included in Frenet-Serret coordinate system, geometric focusing\n",
    "- quadrupoles: focus in one plane while defocusing in the other\n",
    "- FODO cells: lattice with quadrupoles in alternating-gradient configuration (standard for proton synchrotrons)\n",
    "- lattice instability for too strong quadrupoles\n",
    "- sextupoles, non-linearity and deterministic chaos"
   ]
  }
 ],
 "metadata": {
  "celltoolbar": "Slideshow",
  "kernelspec": {
   "display_name": "Python 3",
   "language": "python",
   "name": "python3"
  },
  "language_info": {
   "codemirror_mode": {
    "name": "ipython",
    "version": 3
   },
   "file_extension": ".py",
   "mimetype": "text/x-python",
   "name": "python",
   "nbconvert_exporter": "python",
   "pygments_lexer": "ipython3",
   "version": "3.7.3"
  },
  "rise": {
   "enable_chalkboard": true,
   "footer": "<p>Fachbereich Elektrotechnik und Informationstechnik (etit)   |   Institut für Teilchenbeschleunigung und Elektromagnetische Felder (TEMF)   |   Dr. Adrian Oeftiger</p>",
   "header": "<img src='https://upload.wikimedia.org/wikipedia/de/thumb/2/24/TU_Darmstadt_Logo.svg/640px-TU_Darmstadt_Logo.svg.png' />",
   "scroll": true,
   "theme": "simple",
   "transition": "none"
  }
 },
 "nbformat": 4,
 "nbformat_minor": 5
}
