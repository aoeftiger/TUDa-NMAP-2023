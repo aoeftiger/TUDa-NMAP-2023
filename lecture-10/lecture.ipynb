{
 "cells": [
  {
   "cell_type": "markdown",
   "id": "38250724",
   "metadata": {
    "slideshow": {
     "slide_type": "slide"
    }
   },
   "source": [
    "<h1 style=\"text-align: center; vertical-align: middle;\">Numerical Methods in Accelerator Physics</h1>\n",
    "<h2 style=\"text-align: center; vertical-align: middle;\">Lecture Series by Dr. Adrian Oeftiger</h2>\n",
    "\n",
    "<div style=\"width: 45%; margin: auto; margin-top: 1em; vertical-align: middle;\">\n",
    "<img src=\"./img/etit.png\" style=\"width: 30%; float: left; margin-right: 5%;\" /><img src=\"./img/GSI_Logo.png\" style=\"width: 35%; float: left; margin-right: 5%; padding-top: 0.5em;\" /><img src=\"./img/FAIR_Logo.png\" style=\"width: 25%; float: left;\" />\n",
    "</div>\n",
    "\n",
    "<h3 style=\"clear: both; text-align: center; margin-top: 1em;\">Lecture 10</h3>"
   ]
  },
  {
   "cell_type": "markdown",
   "id": "06a8d74b",
   "metadata": {
    "slideshow": {
     "slide_type": "slide"
    }
   },
   "source": [
    "<h2>Run this notebook online!</h2>\n",
    "\n",
    "Interact and run this jupyter notebook online:\n",
    "\n",
    "<div class=\"alert alert-block alert-info\" style=\"text-align:center;\">\n",
    "via the public mybinder.org service: <br />\n",
    "<a href=\"https://mybinder.org/v2/gh/aoeftiger/TUDa-NMAP-2023/v10.0\" style=\"width:auto; display:table;margin:0.5em auto;\"><img src=\"./img/binder_logo.svg\" alt=\"mybinder.org logo\" height=\"1ex\" /></a>\n",
    "</div>\n",
    "\n",
    "<div class=\"alert alert-block alert-info\" style=\"text-align:center;\">\n",
    "via the public gesis.org service: <br />\n",
    "<a href=\"https://notebooks.gesis.org/binder/v2/gh/aoeftiger/TUDA-NMAP-2023/v10.0\" style=\"width:auto; display:table;margin:0.5em auto;\"><img src=\"./img/binder_logo.svg\" alt=\"gesis.org logo\" height=\"1ex\" /></a>\n",
    "</div>\n",
    "\n",
    "Also find this lecture rendered [as HTML slides on github $\\nearrow$](https://aoeftiger.github.io/TUDa-NMAP-2023/) along with the [source repository $\\nearrow$](https://github.com/aoeftiger/TUDa-NMAP-2023)."
   ]
  },
  {
   "cell_type": "markdown",
   "id": "a57cc074",
   "metadata": {
    "slideshow": {
     "slide_type": "slide"
    }
   },
   "source": [
    "<h2>Run this first!</h2>\n",
    "\n",
    "Imports and modules:"
   ]
  },
  {
   "cell_type": "code",
   "execution_count": null,
   "id": "e538eebc",
   "metadata": {
    "slideshow": {
     "slide_type": "-"
    }
   },
   "outputs": [],
   "source": [
    "from config import (np, plt, Madx, interp1d,\n",
    "                    set_correctors, )\n",
    "%matplotlib inline"
   ]
  },
  {
   "cell_type": "markdown",
   "id": "d5d19c39",
   "metadata": {
    "slideshow": {
     "slide_type": "slide"
    }
   },
   "source": [
    "<h2 style=\"color: #b51f2a\">Refresher!</h2>\n",
    "\n",
    "- Radon transform for line projections, construction of sinogram\n",
    "- Reconstruction of $n$-dimensional distributions from $(n-1)$-dimensional projections\n",
    "- Fourier Slice Theorem: Radon + 1D FFT = 2D FFT + slice\n",
    "- Filtered Back Projection (inverse Radon transform)\n",
    "- Algebraic Reconstruction Technique, iteratively solve $A\\cdot x=b$\n",
    "- Phase-space Tomography (concept: construction of projection matrix $A$ via non-linear tracking)"
   ]
  },
  {
   "cell_type": "markdown",
   "id": "ca9cec0a",
   "metadata": {
    "slideshow": {
     "slide_type": "slide"
    }
   },
   "source": [
    "<h2 style=\"color: #b51f2a\">In the video for today!</h2>\n",
    "\n",
    "1. Dipole Errors & Closed Orbit Distortion\n",
    "2. Local Orbit Correction\n",
    "3. Global Orbit Correction"
   ]
  },
  {
   "cell_type": "markdown",
   "id": "54c56d4e",
   "metadata": {
    "slideshow": {
     "slide_type": "slide"
    }
   },
   "source": [
    "<div style=\"text-align: center; width:100%;\">\n",
    "    <h2>Part I: Dipole Errors & Closed Orbit Distortion</h2>\n",
    "</div>"
   ]
  },
  {
   "cell_type": "markdown",
   "id": "02586af0",
   "metadata": {
    "slideshow": {
     "slide_type": "slide"
    }
   },
   "source": [
    "We use the lattice definition of the SIS18 synchrotron (<b>S</b>chwer<b>i</b>onen<b>s</b>ynchrotron) at GSI.\n",
    "\n",
    "For a sufficient accelerator description we need the following elements <span style=\"color:#e6541a;\">($\\implies$ what do they do?)</span>:\n",
    "- main dipole magnets\n",
    "- main quadrupole magnets\n",
    "- dipole corrector magnets\n",
    "- BPMs (<b>b</b>eam <b>p</b>osition <b>m</b>onitors)"
   ]
  },
  {
   "cell_type": "markdown",
   "id": "d1834a0e",
   "metadata": {
    "slideshow": {
     "slide_type": "slide"
    }
   },
   "source": [
    "<img src=\"img/sis18_layout.svg\" alt=\"SIS18 layout\" style=\"float: right; width: 30%; margin-left: 1em; margin-top: 3em;\" />\n",
    "\n",
    "The 216.72m long SIS18 consists of 12 symmetric cells, where each cell basically features:\n",
    "- two dipole bending magnets\n",
    "- a quadrupole doublet <br />(one focusing and one defocusing magnet)\n",
    "- a horizontal corrector <br />(and a separate vertical one)\n",
    "- a horizontal BPM\n",
    "\n",
    "<p style=\"clear: both; font-size: 10pt; text-align: right; float: right;\">image by <a href=\"https://journals.aps.org/prab/abstract/10.1103/PhysRevAccelBeams.22.072804\">S. Mirza et al.</a></p>"
   ]
  },
  {
   "cell_type": "markdown",
   "id": "86d3b73d",
   "metadata": {
    "slideshow": {
     "slide_type": "slide"
    }
   },
   "source": [
    "We use once again MAD-X for the calculation of optics:"
   ]
  },
  {
   "cell_type": "code",
   "execution_count": null,
   "id": "c13d490f",
   "metadata": {},
   "outputs": [],
   "source": [
    "madx = Madx(stdout=True)\n",
    "madx.options.echo = False\n",
    "madx.options.info = False\n",
    "madx.options.warn = False\n",
    "\n",
    "madx.set(format_=\"13.5f\") # reduce significant figures\n",
    "\n",
    "# load the lattice definition (magnet SEQuence)\n",
    "madx.call('sis18.seq')\n",
    "\n",
    "# define the beam\n",
    "madx.beam()\n",
    "# (normalised multipoles k and optics functions are independent of energy)\n",
    "\n",
    "# activate lattice\n",
    "madx.use('sis18ring')"
   ]
  },
  {
   "cell_type": "markdown",
   "id": "2b170ff2",
   "metadata": {
    "slideshow": {
     "slide_type": "slide"
    }
   },
   "source": [
    "Define the quadrupole magnet strengths for the focusing:"
   ]
  },
  {
   "cell_type": "code",
   "execution_count": null,
   "id": "dcbaecfc",
   "metadata": {},
   "outputs": [],
   "source": [
    "madx.input('''\n",
    "    kqf = 0.387; // focusing k\n",
    "    kqd = -0.368; // defocusing k\n",
    "    \n",
    "    k1nl_GS01QS1F := kqf;\n",
    "    k1nl_GS01QS2D := kqd;\n",
    "    k1nl_GS12QS1F := kqf;\n",
    "    k1nl_GS12QS2D := kqd;\n",
    "''')"
   ]
  },
  {
   "cell_type": "markdown",
   "id": "b6a9561c",
   "metadata": {
    "slideshow": {
     "slide_type": "slide"
    }
   },
   "source": [
    "Compute the optics for this SIS18 lattice configuration:"
   ]
  },
  {
   "cell_type": "code",
   "execution_count": null,
   "id": "b71f49b4",
   "metadata": {},
   "outputs": [],
   "source": [
    "# output the Twiss parameters every 0.1m\n",
    "madx.command.select(flag=\"interpolate\", sequence=\"sis18ring\", step=0.1)\n",
    "\n",
    "# compute optics\n",
    "twiss = madx.twiss();"
   ]
  },
  {
   "cell_type": "markdown",
   "id": "4b1d8771",
   "metadata": {
    "slideshow": {
     "slide_type": "slide"
    }
   },
   "source": [
    "How do the beta functions look like around the ring? <span style=\"color:#e6541a;\">($\\implies$ what do they represent?)</span>"
   ]
  },
  {
   "cell_type": "code",
   "execution_count": null,
   "id": "e4f33dc1",
   "metadata": {},
   "outputs": [],
   "source": [
    "plt.plot(twiss['s'], twiss['betx'], c='k', label=r'$\\beta_x$')\n",
    "plt.plot(twiss['s'], twiss['bety'], c='r', label=r'$\\beta_y$')\n",
    "\n",
    "plt.xlabel('$s$ [m]')\n",
    "plt.ylabel(r'$\\beta_{x,y}$ [m/rad]')\n",
    "plt.legend(bbox_to_anchor=(1.05, 1));"
   ]
  },
  {
   "cell_type": "markdown",
   "id": "288ead3b",
   "metadata": {
    "slideshow": {
     "slide_type": "slide"
    }
   },
   "source": [
    "How does the closed orbit look like with respect to the reference orbit?"
   ]
  },
  {
   "cell_type": "code",
   "execution_count": null,
   "id": "8f4f2c15",
   "metadata": {
    "scrolled": false
   },
   "outputs": [],
   "source": [
    "plt.plot(twiss['s'], twiss['x'])\n",
    "\n",
    "plt.xlabel('$s$ [m]')\n",
    "plt.ylabel(r'$x_{co}$ [m]');"
   ]
  },
  {
   "cell_type": "markdown",
   "id": "6d38771a",
   "metadata": {
    "slideshow": {
     "slide_type": "slide"
    }
   },
   "source": [
    "Collect the locations around the ring where BPMs and corrector magnets are located:"
   ]
  },
  {
   "cell_type": "code",
   "execution_count": null,
   "id": "a358f3c8",
   "metadata": {
    "slideshow": {
     "slide_type": "-"
    }
   },
   "outputs": [],
   "source": [
    "s_bpm = 17.813 + np.linspace(0, twiss.summary.length, 12, endpoint=False)"
   ]
  },
  {
   "cell_type": "code",
   "execution_count": null,
   "id": "9dd63fcb",
   "metadata": {},
   "outputs": [],
   "source": [
    "corrector_names = ['GS01MU1A', 'GS02MU1A', 'GS03MU1A', 'GS04MU2A', \n",
    "                   'GS05MU1A', 'GS06MU2A', 'GS07MU1A', 'GS08MU1A', \n",
    "                   'GS09MU1A', 'GS10MU1A', 'GS11MU1A', 'GS12MU1A']\n",
    "s_corr = np.array(\n",
    "    [twiss['s'][list(twiss['name']).index((cn + ':1').lower())]\n",
    "     for cn in corrector_names]\n",
    ")"
   ]
  },
  {
   "cell_type": "code",
   "execution_count": null,
   "id": "63e65d8e",
   "metadata": {
    "slideshow": {
     "slide_type": "slide"
    }
   },
   "outputs": [],
   "source": [
    "l1, = plt.plot(twiss['s'], twiss['betx'], c='black')\n",
    "\n",
    "for s in s_bpm:\n",
    "    l2 = plt.axvline(s, c='cornflowerblue', lw=2)\n",
    "\n",
    "for s in s_corr:\n",
    "    l3 = plt.axvline(s, c='orange', ls='--', lw=2)\n",
    "\n",
    "plt.xlabel('$s$ [m]')\n",
    "plt.ylabel(r'$\\beta_x$ [m/rad]')\n",
    "plt.legend([l1, l2, l3], [r'$\\beta_x$', 'BPM', 'corrector'], loc=0, framealpha=1)\n",
    "\n",
    "# comment this line to see the whole ring:\n",
    "plt.xlim(0, twiss.summary.length / 12);"
   ]
  },
  {
   "cell_type": "markdown",
   "id": "d9fb7138",
   "metadata": {
    "slideshow": {
     "slide_type": "slide"
    }
   },
   "source": [
    "Extract the Twiss $\\beta_x(s)$ and phase advance $\\psi_x(s)$ functions from the MAD-X TWISS table:"
   ]
  },
  {
   "cell_type": "code",
   "execution_count": null,
   "id": "cad2d932",
   "metadata": {},
   "outputs": [],
   "source": [
    "beta_x = interp1d(twiss['s'], twiss['betx'], kind='linear')\n",
    "psi_x = interp1d(twiss['s'], 2 * np.pi * twiss['mux'], kind='linear')"
   ]
  },
  {
   "cell_type": "markdown",
   "id": "c9a08126",
   "metadata": {},
   "source": [
    "And the horizontal tune $Q_x$:"
   ]
  },
  {
   "cell_type": "code",
   "execution_count": null,
   "id": "f9fd5e2d",
   "metadata": {},
   "outputs": [],
   "source": [
    "Qx = twiss.summary.q1"
   ]
  },
  {
   "cell_type": "markdown",
   "id": "869fedc1",
   "metadata": {
    "slideshow": {
     "slide_type": "slide"
    }
   },
   "source": [
    "<h2>Closed Orbit Deviation due to a Dipole Error</h2>\n",
    "\n",
    "The distortion of the equilibrium orbit at $s$ due to a kick $\\theta$ at location $s_0$ is given by\n",
    "\n",
    "$$x_\\mathrm{COD}(s) = \\theta \\cdot \\sqrt{\\beta_x(s_0) \\cdot \\beta_x(s)} \\cdot \\cfrac{\\cos(|\\Delta \\psi_x| - \\pi Q_x)}{2\\sin(\\pi Q_x)}$$"
   ]
  },
  {
   "cell_type": "code",
   "execution_count": null,
   "id": "ebad2cbf",
   "metadata": {},
   "outputs": [],
   "source": [
    "def x_cod(theta, s_source, s_target):\n",
    "    sq_betxs = np.sqrt(beta_x(s_source) * beta_x(s_target))\n",
    "    delta_psi = psi_x(s_target) - psi_x(s_source)\n",
    "    return theta * sq_betxs / (2 * np.sin(np.pi * Qx)) * np.cos(np.abs(delta_psi) - np.pi * Qx)"
   ]
  },
  {
   "cell_type": "markdown",
   "id": "80f59c14",
   "metadata": {
    "slideshow": {
     "slide_type": "slide"
    }
   },
   "source": [
    "Let us consider a dipole \"error\" of $\\theta=0.01\\,$rad induced at the location of the first corrector magnet:"
   ]
  },
  {
   "cell_type": "code",
   "execution_count": null,
   "id": "9f6784fb",
   "metadata": {},
   "outputs": [],
   "source": [
    "plt.plot(twiss['s'], x_cod(0.01, s_corr[0], twiss['s']))\n",
    "\n",
    "plt.xlabel('$s$ [m]')\n",
    "plt.ylabel(r'$x_{co}$ [m]')"
   ]
  },
  {
   "cell_type": "markdown",
   "id": "520c6073",
   "metadata": {
    "slideshow": {
     "slide_type": "slide"
    }
   },
   "source": [
    "Let us see what MAD-X computes for the closed orbit distortion:"
   ]
  },
  {
   "cell_type": "code",
   "execution_count": null,
   "id": "e764ec8b",
   "metadata": {},
   "outputs": [],
   "source": [
    "set_correctors([0.01] + [0] * 11, madx)"
   ]
  },
  {
   "cell_type": "code",
   "execution_count": null,
   "id": "d2391b26",
   "metadata": {
    "slideshow": {
     "slide_type": "-"
    }
   },
   "outputs": [],
   "source": [
    "twiss = madx.twiss();"
   ]
  },
  {
   "cell_type": "code",
   "execution_count": null,
   "id": "a4444c9b",
   "metadata": {
    "scrolled": false,
    "slideshow": {
     "slide_type": "slide"
    }
   },
   "outputs": [],
   "source": [
    "plt.plot(twiss['s'], x_cod(0.01, s_corr[0], twiss['s']), c='darkblue', label='analytic')\n",
    "plt.plot(twiss['s'], twiss['x'], c='orange', ls='--', label='MAD-X')\n",
    "\n",
    "plt.xlabel('$s$ [m]')\n",
    "plt.ylabel(r'$x_{co}$ [m]')\n",
    "plt.legend();"
   ]
  },
  {
   "cell_type": "code",
   "execution_count": null,
   "id": "ca1497f3",
   "metadata": {
    "slideshow": {
     "slide_type": "slide"
    }
   },
   "outputs": [],
   "source": [
    "def reset_correctors():\n",
    "    set_correctors([0] * 12, madx)"
   ]
  },
  {
   "cell_type": "code",
   "execution_count": null,
   "id": "b7796abe",
   "metadata": {},
   "outputs": [],
   "source": [
    "reset_correctors()"
   ]
  },
  {
   "cell_type": "markdown",
   "id": "4a323d6e",
   "metadata": {
    "slideshow": {
     "slide_type": "slide"
    }
   },
   "source": [
    "<div style=\"text-align: center; width:100%;\">\n",
    "    <h2>Part II: Local Orbit Correction</h2>\n",
    "</div>"
   ]
  },
  {
   "cell_type": "markdown",
   "id": "b825d182",
   "metadata": {
    "slideshow": {
     "slide_type": "slide"
    }
   },
   "source": [
    "### Local 3-Corrector Bump Correction"
   ]
  },
  {
   "cell_type": "markdown",
   "id": "b26bc350",
   "metadata": {},
   "source": [
    "A dipole error $\\Delta x' = \\theta$ at $s_0$ is propagated to $s_1$ using the top right entry of the Twiss transfer matrix, $\\left(\\mathcal{M}_\\mathrm{tw,x}|_{s_1\\leftarrow s_0}\\right)_{12}$:\n",
    "\n",
    "$$x_\\mathrm{prop}|_{s_1\\leftarrow s_0} = \\theta \\cdot \\sqrt{\\beta_x(s_0)\\cdot \\beta_x(s_1)}\\cdot \\sin(\\Delta \\psi_x)$$"
   ]
  },
  {
   "cell_type": "markdown",
   "id": "3150c426",
   "metadata": {
    "slideshow": {
     "slide_type": "slide"
    }
   },
   "source": [
    "Let us shift the closed orbit at $s=10\\,$m by $\\Delta x=-0.01\\,$m:\n",
    "- we start from the first corrector in the ring at $s_1=1.584\\,$m, find the angle $\\theta_1$,\n",
    "- and use the subsequent 2 correctors to close the bump."
   ]
  },
  {
   "cell_type": "code",
   "execution_count": null,
   "id": "d9de7fc7",
   "metadata": {},
   "outputs": [],
   "source": [
    "dx_target = -0.01"
   ]
  },
  {
   "cell_type": "code",
   "execution_count": null,
   "id": "f74fc03d",
   "metadata": {},
   "outputs": [],
   "source": [
    "# phase advances:\n",
    "psi1s = psi_x(10) - psi_x(s_corr[0])\n",
    "psi12 = psi_x(s_corr[1]) - psi_x(s_corr[0])\n",
    "psi23 = psi_x(s_corr[2]) - psi_x(s_corr[1])\n",
    "\n",
    "# beta functions:\n",
    "betas = beta_x(10)\n",
    "beta1 = beta_x(s_corr[0])\n",
    "beta2 = beta_x(s_corr[1])\n",
    "beta3 = beta_x(s_corr[2])"
   ]
  },
  {
   "cell_type": "markdown",
   "id": "277119bf",
   "metadata": {
    "slideshow": {
     "slide_type": "slide"
    }
   },
   "source": [
    "The first corrector strength is simply $$\\theta_1=\\cfrac{\\Delta x_\\mathrm{target}}{\\sqrt{\\beta_1 \\cdot \\beta_x(10\\,\\mathrm{m})} \\cdot \\sin(\\psi_x(s_1)-\\psi_x(10\\,\\mathrm{m}))}$$"
   ]
  },
  {
   "cell_type": "code",
   "execution_count": null,
   "id": "1ec85129",
   "metadata": {},
   "outputs": [],
   "source": [
    "theta1 = dx_target / (np.sqrt(beta1 * betas) * np.sin(psi1s))\n",
    "theta1"
   ]
  },
  {
   "cell_type": "markdown",
   "id": "32a8a3b9",
   "metadata": {
    "slideshow": {
     "slide_type": "slide"
    }
   },
   "source": [
    "The second corrector strength was calculated to be $$\\theta_2 = -\\theta_1\\cdot \\sqrt{\\cfrac{\\beta_1}{\\beta_2}}\\cdot \\cfrac{\\sin(\\psi_{12}+\\psi_{23})}{\\sin(\\psi_{23})}$$"
   ]
  },
  {
   "cell_type": "code",
   "execution_count": null,
   "id": "e7cb7498",
   "metadata": {},
   "outputs": [],
   "source": [
    "theta2 = -theta1 * np.sqrt(beta1 / beta2) * np.sin(psi12 + psi23) / np.sin(psi23)\n",
    "theta2"
   ]
  },
  {
   "cell_type": "markdown",
   "id": "515bb4b4",
   "metadata": {
    "slideshow": {
     "slide_type": "slide"
    }
   },
   "source": [
    "And the third corrector closes the bump with\n",
    "$$\\theta_3 = \\theta_1 \\cdot \\sqrt{\\cfrac{\\beta_1}{\\beta_3}}\\cdot \\cfrac{\\sin(\\psi_{12})}{\\sin(\\psi_{23})}$$"
   ]
  },
  {
   "cell_type": "code",
   "execution_count": null,
   "id": "1711a035",
   "metadata": {},
   "outputs": [],
   "source": [
    "theta3 = theta1 * np.sqrt(beta1 / beta3) * np.sin(psi12) / np.sin(psi23)\n",
    "theta3"
   ]
  },
  {
   "cell_type": "markdown",
   "id": "a1e76ea2",
   "metadata": {
    "slideshow": {
     "slide_type": "slide"
    }
   },
   "source": [
    "We apply these computed angles to the 3 first correctors:"
   ]
  },
  {
   "cell_type": "code",
   "execution_count": null,
   "id": "905bc693",
   "metadata": {},
   "outputs": [],
   "source": [
    "set_correctors([theta1, theta2, theta3] + [0] * 9, madx)"
   ]
  },
  {
   "cell_type": "markdown",
   "id": "b5c9a776",
   "metadata": {
    "slideshow": {
     "slide_type": "-"
    }
   },
   "source": [
    "Recompute the optics (mainly for the closed orbit):"
   ]
  },
  {
   "cell_type": "code",
   "execution_count": null,
   "id": "46dc6792",
   "metadata": {},
   "outputs": [],
   "source": [
    "twiss = madx.twiss();"
   ]
  },
  {
   "cell_type": "markdown",
   "id": "0b5882e7",
   "metadata": {
    "slideshow": {
     "slide_type": "slide"
    }
   },
   "source": [
    "Let's plot the 3-corrector bump:"
   ]
  },
  {
   "cell_type": "code",
   "execution_count": null,
   "id": "8e287008",
   "metadata": {
    "scrolled": false
   },
   "outputs": [],
   "source": [
    "plt.plot(twiss['s'], twiss['x'])\n",
    "plt.scatter([10], [dx_target], marker='o', c='red')\n",
    "\n",
    "plt.xlabel('$s$ [m]')\n",
    "plt.ylabel(r'$x_{co}$ [m]');"
   ]
  },
  {
   "cell_type": "code",
   "execution_count": null,
   "id": "cff1f34a",
   "metadata": {
    "slideshow": {
     "slide_type": "slide"
    }
   },
   "outputs": [],
   "source": [
    "reset_correctors()"
   ]
  },
  {
   "cell_type": "markdown",
   "id": "f72c6a52",
   "metadata": {
    "slideshow": {
     "slide_type": "slide"
    }
   },
   "source": [
    "<div style=\"text-align: center; width:100%;\">\n",
    "    <h2>Part III: Global Orbit Correction</h2>\n",
    "</div>"
   ]
  },
  {
   "cell_type": "markdown",
   "id": "62b361f0",
   "metadata": {
    "slideshow": {
     "slide_type": "slide"
    }
   },
   "source": [
    "<h2>Construction of Orbit Response Matrix</h2>\n",
    "\n",
    "The <b>o</b>rbit <b>r</b>esponse <b>m</b>atrix (ORM) $\\Omega_{ij}$ is a discrete table describing the linear orbit offset at the $i$th BPM induced by the $j$th dipole corrector magnet, i.e. its angle $\\Theta_j$. \n",
    "\n",
    "$\\Omega$ is, therefore, defined by the relation\n",
    "\n",
    "$$(\\Delta x)_i = \\Omega_{ij}\\Theta_j$$\n",
    "\n",
    "- For a <b>one-pass transfer line</b>, $\\Omega_{ij}$ is built from the $(\\mathcal{M}_\\mathrm{tw,x}|_{s_1\\leftarrow s_0})_{12}$ values for all $i$ correctors and $j$ BPMs, which is <b>not necessarily periodic</b>.\n",
    "\n",
    "- For an <b>accelerator ring</b>, on the other hand, the closed orbit is a <b>periodic</b> equilibrium solution and the ORM is built from the $x_{COD}\\propto \\cfrac{\\cos(\\Delta\\psi_x-\\pi Q_x)}{\\sin(\\pi Q_x)}$ values."
   ]
  },
  {
   "cell_type": "code",
   "execution_count": null,
   "id": "be54dc21",
   "metadata": {
    "slideshow": {
     "slide_type": "slide"
    }
   },
   "outputs": [],
   "source": [
    "s_mat_corr = np.meshgrid(s_corr, np.ones_like(s_bpm))[0]\n",
    "s_mat_bpm = np.meshgrid(np.ones_like(s_corr), s_bpm)[1]"
   ]
  },
  {
   "cell_type": "markdown",
   "id": "dea4cdca",
   "metadata": {},
   "source": [
    "Define the ORM:"
   ]
  },
  {
   "cell_type": "code",
   "execution_count": null,
   "id": "f1f21c9c",
   "metadata": {},
   "outputs": [],
   "source": [
    "omega = x_cod(1, s_mat_corr, s_mat_bpm)"
   ]
  },
  {
   "cell_type": "markdown",
   "id": "e677be59",
   "metadata": {
    "slideshow": {
     "slide_type": "slide"
    }
   },
   "source": [
    "<h2>Global Orbit Correction with SVD</h2>\n",
    "\n",
    "<b>S</b>ingular <b>V</b>alue <b>D</b>ecomposition: factorise $\\Omega$ into \n",
    "    \n",
    "$$\\Omega=U\\cdot S\\cdot V^T$$\n",
    "\n",
    "with the (non-uniquely defined) rectangular orthogonal matrices $U$ and $V$ and the diagonal matrix $S$ listing the (unique, non-negative) singular values.\n",
    "\n",
    "$U$ and $V$ contain orthonormal vectors along the rows/columns.\n",
    "\n",
    "$\\implies$ SVD constructs the (approximate) null space and provides orthogonal modes in the orbit response matrix to move the orbit!"
   ]
  },
  {
   "cell_type": "code",
   "execution_count": null,
   "id": "8a69df53",
   "metadata": {},
   "outputs": [],
   "source": [
    "U, S, Vt = np.linalg.svd(omega)"
   ]
  },
  {
   "cell_type": "markdown",
   "id": "6e243bd5",
   "metadata": {
    "slideshow": {
     "slide_type": "slide"
    }
   },
   "source": [
    "$U$ and $V$ are orthogonal, i.e. $U\\cdot U^T = \\mathbb{1} = V \\cdot V^T$:"
   ]
  },
  {
   "cell_type": "code",
   "execution_count": null,
   "id": "11f4a42f",
   "metadata": {},
   "outputs": [],
   "source": [
    "matrix = U\n",
    "\n",
    "plt.spy(matrix.dot(matrix.T), precision=1e-10)"
   ]
  },
  {
   "cell_type": "markdown",
   "id": "6b3c7f42",
   "metadata": {
    "slideshow": {
     "slide_type": "slide"
    }
   },
   "source": [
    "$S$ contains finite singular values and the (approximately vanishing) null space entries if the system is under-/overdetermined:"
   ]
  },
  {
   "cell_type": "code",
   "execution_count": null,
   "id": "820c98fe",
   "metadata": {},
   "outputs": [],
   "source": [
    "plt.plot(S, ls='none', marker='.')\n",
    "plt.yscale('log')\n",
    "plt.xlabel('#entry')\n",
    "plt.ylabel('singular value');"
   ]
  },
  {
   "cell_type": "markdown",
   "id": "90143caf",
   "metadata": {
    "slideshow": {
     "slide_type": "slide"
    }
   },
   "source": [
    "<h2>Adding random misalignment errors to all quadrupoles</h2>\n",
    "\n",
    "Consider a horizontal shift $\\Delta x_q$ of the magnetic centre of the quadrupole magnets.\n",
    "\n",
    "<p style=\"color:#e6541a;\">$\\implies$ What happens to a beam centroid entering a quadrupole field off-centre?</p>"
   ]
  },
  {
   "cell_type": "code",
   "execution_count": null,
   "id": "fd3fd0fb",
   "metadata": {},
   "outputs": [],
   "source": [
    "reset_correctors()"
   ]
  },
  {
   "cell_type": "markdown",
   "id": "ea419090",
   "metadata": {},
   "source": [
    "Random Gaussian normal distribution of the misalignments with a standard deviation of $\\sigma_{\\Delta x_q} = 1\\,$mm:"
   ]
  },
  {
   "cell_type": "code",
   "execution_count": null,
   "id": "8aa37d34",
   "metadata": {},
   "outputs": [],
   "source": [
    "madx.input('''\n",
    "    sigmadx = 0.001; // 1mm\n",
    "    \n",
    "    select, flag=error, clear;\n",
    "    select, flag=error, class=quadrupole;\n",
    "    \n",
    "    eoption, add=false, seed=12345;\n",
    "    \n",
    "    ealign, dx := sigmadx * tgauss(2);\n",
    "''')"
   ]
  },
  {
   "cell_type": "markdown",
   "id": "66428cb0",
   "metadata": {
    "slideshow": {
     "slide_type": "slide"
    }
   },
   "source": [
    "Let us plot the distribution of horizontal misalignments for the quadrupoles around the ring:"
   ]
  },
  {
   "cell_type": "code",
   "execution_count": null,
   "id": "a7e3b27f",
   "metadata": {},
   "outputs": [],
   "source": [
    "quads = [el for el in madx.sequence.sis18ring.expanded_elements if 'quad_long' in str(el)]\n",
    "\n",
    "quad_s = np.array([twiss['s'][list(twiss['name']).index(q.name.lower() + ':1')] for q in quads])\n",
    "quad_dx = np.array([q.align_errors.dx for q in quads])"
   ]
  },
  {
   "cell_type": "code",
   "execution_count": null,
   "id": "840126b8",
   "metadata": {},
   "outputs": [],
   "source": [
    "plt.bar(quad_s[::2], quad_dx[::2], width=3, \n",
    "        facecolor='darkblue', edgecolor='none', label='focusing')\n",
    "plt.bar(quad_s[1::2], quad_dx[1::2], width=3, \n",
    "        facecolor='orange', edgecolor='none', alpha=0.6, label='defocusing')\n",
    "plt.xlabel('$s$ [m]')\n",
    "plt.ylabel('$\\Delta x_{q}$ [m]')\n",
    "plt.title('Quadrupole misalignments', y=1.04)\n",
    "plt.legend(loc='upper left', bbox_to_anchor=(1.05, 1));"
   ]
  },
  {
   "cell_type": "code",
   "execution_count": null,
   "id": "86e5974b",
   "metadata": {
    "slideshow": {
     "slide_type": "slide"
    }
   },
   "outputs": [],
   "source": [
    "# recompute optics\n",
    "twiss = madx.twiss();"
   ]
  },
  {
   "cell_type": "code",
   "execution_count": null,
   "id": "9194161b",
   "metadata": {
    "slideshow": {
     "slide_type": "slide"
    }
   },
   "outputs": [],
   "source": [
    "beta_x = interp1d(twiss['s'], twiss['betx'], kind='linear')\n",
    "psi_x = interp1d(twiss['s'], 2 * np.pi * twiss['mux'], kind='linear')\n",
    "\n",
    "x_co = interp1d(twiss['s'], twiss['x'], kind='linear')"
   ]
  },
  {
   "cell_type": "code",
   "execution_count": null,
   "id": "12dcae14",
   "metadata": {},
   "outputs": [],
   "source": [
    "x_co_bpm = x_co(s_bpm)"
   ]
  },
  {
   "cell_type": "code",
   "execution_count": null,
   "id": "d3c8272b",
   "metadata": {
    "slideshow": {
     "slide_type": "-"
    }
   },
   "outputs": [],
   "source": [
    "plt.plot(twiss['s'], twiss['x'])\n",
    "\n",
    "plt.scatter(s_bpm, x_co_bpm, marker='o', c='r', label='BPM')\n",
    "\n",
    "plt.xlabel('$s$ [m]')\n",
    "plt.ylabel(r'$x_{co}$ [m]')\n",
    "plt.legend();"
   ]
  },
  {
   "cell_type": "markdown",
   "id": "62d29f75",
   "metadata": {
    "slideshow": {
     "slide_type": "slide"
    }
   },
   "source": [
    "<h2>Let's Correct!</h2>\n",
    "\n",
    "Construct pseudo-inverse of ORM:\n",
    "\n",
    "$$\\Omega^{-1} = (U\\cdot \\mathrm{diag}(S_{ii}) \\cdot V^T)^{-1} = (V^T)^{-1} \\cdot S^{-1} \\cdot U^{-1} = V \\cdot \\mathrm{diag}\\left(\\frac{1}{S_{ii}}\\right) \\cdot U^T$$\n",
    "\n",
    "where $S_{ii}$ refers to the finite singular values (i.e. excluding the null space)."
   ]
  },
  {
   "cell_type": "code",
   "execution_count": null,
   "id": "8212a421",
   "metadata": {},
   "outputs": [],
   "source": [
    "S_mat = np.diag(S)\n",
    "\n",
    "S_inv_mat = np.diag(1/S)"
   ]
  },
  {
   "cell_type": "markdown",
   "id": "622f90b2",
   "metadata": {
    "slideshow": {
     "slide_type": "slide"
    }
   },
   "source": [
    "The goal is to induce a shift $(\\Delta x_\\mathrm{target})_i$ at each $i$th BPM: this can be \n",
    "- to remove the measured closed orbit deviation, $(\\Delta x_\\mathrm{target})_i = -\\Delta x_{i}$, or/and\n",
    "- to deliberately introduce local orbit offsets (using all correctors around the ring, as opposed to the case of local orbit correction).\n",
    "\n",
    "The corrector angles are then given by $\\Omega^{-1} \\Delta x_\\mathrm{target}$,"
   ]
  },
  {
   "cell_type": "code",
   "execution_count": null,
   "id": "7be3585a",
   "metadata": {},
   "outputs": [],
   "source": [
    "omega_inv = Vt.T.dot(\n",
    "              (S_inv_mat).dot(U.T))"
   ]
  },
  {
   "cell_type": "markdown",
   "id": "de42f742",
   "metadata": {
    "slideshow": {
     "slide_type": "slide"
    }
   },
   "source": [
    "We set $\\Delta x_\\mathrm{target}$ to the negative values of the observed horizontal positions at the BPMs, this will move the closed orbit (in the BPMs) back towards the reference orbit (zero):"
   ]
  },
  {
   "cell_type": "code",
   "execution_count": null,
   "id": "8c1108b5",
   "metadata": {},
   "outputs": [],
   "source": [
    "theta_vec = omega_inv.dot(-x_co_bpm)"
   ]
  },
  {
   "cell_type": "markdown",
   "id": "beb0ed84",
   "metadata": {
    "slideshow": {
     "slide_type": "slide"
    }
   },
   "source": [
    "Set the corrector strengths $\\Theta_j$:"
   ]
  },
  {
   "cell_type": "code",
   "execution_count": null,
   "id": "c34964b0",
   "metadata": {},
   "outputs": [],
   "source": [
    "set_correctors(theta_vec, madx)"
   ]
  },
  {
   "cell_type": "markdown",
   "id": "0e7af6cc",
   "metadata": {
    "slideshow": {
     "slide_type": "-"
    }
   },
   "source": [
    "And recompute the optics (mainly the closed orbit):"
   ]
  },
  {
   "cell_type": "code",
   "execution_count": null,
   "id": "aaa92e8f",
   "metadata": {
    "slideshow": {
     "slide_type": "-"
    }
   },
   "outputs": [],
   "source": [
    "twiss = madx.twiss();"
   ]
  },
  {
   "cell_type": "markdown",
   "id": "a35ccd22",
   "metadata": {
    "slideshow": {
     "slide_type": "slide"
    }
   },
   "source": [
    "Let us plot the closed orbit after correction now!"
   ]
  },
  {
   "cell_type": "code",
   "execution_count": null,
   "id": "5cc24c33",
   "metadata": {
    "slideshow": {
     "slide_type": "-"
    }
   },
   "outputs": [],
   "source": [
    "x_co = interp1d(twiss['s'], twiss['x'], kind='linear')\n",
    "\n",
    "x_co_bpm = x_co(s_bpm)"
   ]
  },
  {
   "cell_type": "code",
   "execution_count": null,
   "id": "e5855a6f",
   "metadata": {
    "scrolled": false,
    "slideshow": {
     "slide_type": "-"
    }
   },
   "outputs": [],
   "source": [
    "plt.plot(twiss['s'], twiss['x'])\n",
    "\n",
    "plt.scatter(s_bpm, x_co_bpm, marker='o', c='r', label='BPM')\n",
    "\n",
    "plt.xlabel('$s$ [m]')\n",
    "plt.ylabel(r'$x_{co}$ [m]')\n",
    "plt.legend();"
   ]
  },
  {
   "cell_type": "markdown",
   "id": "c97512d9",
   "metadata": {},
   "source": [
    "\n",
    "<p style=\"color:#e6541a;\">$\\implies$ Can you describe and explain what you observe?</p>"
   ]
  },
  {
   "cell_type": "markdown",
   "id": "25da646c",
   "metadata": {
    "slideshow": {
     "slide_type": "slide"
    }
   },
   "source": [
    "Let us plot the used corrector strengths $\\Theta_j$:"
   ]
  },
  {
   "cell_type": "code",
   "execution_count": null,
   "id": "1e8d1624",
   "metadata": {},
   "outputs": [],
   "source": [
    "plt.bar(s_corr, theta_vec, width=3, facecolor='darkred', edgecolor='none')\n",
    "plt.xlabel('$s$ [m]')\n",
    "plt.ylabel('$\\Theta_j$ [rad]')\n",
    "plt.title('Corrector strengths', y=1.04);"
   ]
  },
  {
   "cell_type": "code",
   "execution_count": null,
   "id": "08a2ef91",
   "metadata": {
    "slideshow": {
     "slide_type": "slide"
    }
   },
   "outputs": [],
   "source": [
    "reset_correctors()"
   ]
  },
  {
   "cell_type": "code",
   "execution_count": null,
   "id": "661463d6",
   "metadata": {},
   "outputs": [],
   "source": [
    "s_save = np.array(twiss['s']).copy()\n",
    "x_save = np.array(twiss['x']).copy()"
   ]
  },
  {
   "cell_type": "markdown",
   "id": "3d8f446d",
   "metadata": {
    "slideshow": {
     "slide_type": "slide"
    }
   },
   "source": [
    "<h2>Global Orbit Correction with MAD-X</h2>\n",
    "\n",
    "Let MAD-X do the job for us:"
   ]
  },
  {
   "cell_type": "code",
   "execution_count": null,
   "id": "f66df5bc",
   "metadata": {},
   "outputs": [],
   "source": [
    "madx.input('''\n",
    "select, flag=twiss, clear;\n",
    "select, flag=twiss, class=GS00DX5H;\n",
    "twiss, file=\"bpm.tsv\";\n",
    "''')"
   ]
  },
  {
   "cell_type": "code",
   "execution_count": null,
   "id": "a987b373",
   "metadata": {
    "slideshow": {
     "slide_type": "slide"
    }
   },
   "outputs": [],
   "source": [
    "madx.input('''\n",
    "    readmytable, file=\"bpm.tsv\", table=\"twiss_bpm\";\n",
    "''')"
   ]
  },
  {
   "cell_type": "markdown",
   "id": "23cb03d8",
   "metadata": {
    "slideshow": {
     "slide_type": "slide"
    }
   },
   "source": [
    "Here comes the correction command, using also the SVD algorithm:"
   ]
  },
  {
   "cell_type": "code",
   "execution_count": null,
   "id": "f77b2a63",
   "metadata": {},
   "outputs": [],
   "source": [
    "madx.input('''\n",
    "    correct, flag=ring, mode=svd, plane=x, error=1.0e-10, extern, orbit=twiss_bpm, clist=\"corr.tab\";\n",
    "''')"
   ]
  },
  {
   "cell_type": "markdown",
   "id": "c803a5ea",
   "metadata": {
    "slideshow": {
     "slide_type": "-"
    }
   },
   "source": [
    "<!--These are the corrector angles (`PX.CORRECTION` $=\\Theta_j$) found by MAD-X:\n",
    "\n",
    "!cat corr.tab\n",
    "-->"
   ]
  },
  {
   "cell_type": "code",
   "execution_count": null,
   "id": "f3bd0dd7",
   "metadata": {
    "slideshow": {
     "slide_type": "slide"
    }
   },
   "outputs": [],
   "source": [
    "twiss = madx.twiss();"
   ]
  },
  {
   "cell_type": "markdown",
   "id": "33811eb2",
   "metadata": {
    "slideshow": {
     "slide_type": "slide"
    }
   },
   "source": [
    "Plot the MAD-X result for the corrected closed orbit. Compare to our self-implemented SVD algorithm with the orbit response matrix defined by the $x_\\mathrm{COD}(s)$ expression:"
   ]
  },
  {
   "cell_type": "code",
   "execution_count": null,
   "id": "49f70fa6",
   "metadata": {
    "slideshow": {
     "slide_type": "-"
    }
   },
   "outputs": [],
   "source": [
    "x_co = interp1d(twiss['s'], twiss['x'], kind='linear')\n",
    "\n",
    "x_co_bpm = x_co(s_bpm)"
   ]
  },
  {
   "cell_type": "code",
   "execution_count": null,
   "id": "0f10bcf8",
   "metadata": {
    "scrolled": false
   },
   "outputs": [],
   "source": [
    "plt.plot(twiss['s'], twiss['x'], label='MAD-X')\n",
    "plt.plot(s_save, x_save, c='lightblue', ls='--', lw=2, label='manual ORM')\n",
    "\n",
    "plt.scatter(s_bpm, x_co_bpm, marker='o', c='r', label='BPM')\n",
    "\n",
    "plt.xlabel('$s$ [m]')\n",
    "plt.ylabel(r'$x_{co}$ [m]')\n",
    "plt.legend(loc='upper left', bbox_to_anchor=(1.05, 1));"
   ]
  },
  {
   "cell_type": "markdown",
   "id": "a2b5f098",
   "metadata": {
    "slideshow": {
     "slide_type": "slide"
    }
   },
   "source": [
    "Let us compare the obtained kick strengths from MAD-X to our SVD implementation:"
   ]
  },
  {
   "cell_type": "code",
   "execution_count": null,
   "id": "db85c1cd",
   "metadata": {},
   "outputs": [],
   "source": [
    "theta_vec_madx = [el.chkick for el in madx.sequence.sis18ring.expanded_elements if 'gs00mu1a' in str(el)]"
   ]
  },
  {
   "cell_type": "code",
   "execution_count": null,
   "id": "cb25ed34",
   "metadata": {},
   "outputs": [],
   "source": [
    "plt.bar(s_corr - 1.5, theta_vec_madx, width=3, facecolor='C0', edgecolor='none', label='MAD-X')\n",
    "plt.bar(s_corr + 1.5, theta_vec, width=3, facecolor='lightblue', edgecolor='none', label='manual ORM')\n",
    "\n",
    "plt.xlabel('$s$ [m]')\n",
    "plt.ylabel('$\\Theta_j$ [rad]')\n",
    "plt.title('Corrector strengths', y=1.04)\n",
    "plt.legend(loc='upper left', bbox_to_anchor=(1.05, 1));"
   ]
  },
  {
   "cell_type": "markdown",
   "id": "e6c00b18",
   "metadata": {
    "slideshow": {
     "slide_type": "slide"
    }
   },
   "source": [
    "$\\implies$ <b>global orbit correction</b> will correct the orbit at the BPMs to zero and usually reduce the overall rms closed orbit distortion! <b>Local orbit correction</b> can help on top to bring down excessive peaks in between BPMs (e.g. when the aperture (vacuum tube around the beam) is hit and beam loss monitors indicate the location in the ring)."
   ]
  },
  {
   "cell_type": "markdown",
   "id": "ac30a1f6",
   "metadata": {
    "slideshow": {
     "slide_type": "slide"
    }
   },
   "source": [
    "<h2>Summary</h2>\n",
    "\n",
    "- closed orbit distortion due to dipole error\n",
    "- periodic and non-periodic (propagated) solutions, $x_\\mathrm{COD}(s)$ and $x_\\mathrm{prop}(s)$\n",
    "- local orbit correction: 3-corrector bump\n",
    "- orbit response matrix $\\Omega$\n",
    "- global orbit correction: SVD algorithm"
   ]
  },
  {
   "cell_type": "markdown",
   "id": "db55d1d6",
   "metadata": {
    "slideshow": {
     "slide_type": "slide"
    }
   },
   "source": [
    "<h2>Literature</h2>\n",
    "\n",
    "- a dated but comprehensive overview of trajectory and orbit correction: <a href=\"http://cds.cern.ch/record/195334/files/cer-000106955.pdf\">J.P. Koutchouk, CERN 1989</a>"
   ]
  }
 ],
 "metadata": {
  "celltoolbar": "Slideshow",
  "kernelspec": {
   "display_name": "Python 3 (ipykernel)",
   "language": "python",
   "name": "python3"
  },
  "language_info": {
   "codemirror_mode": {
    "name": "ipython",
    "version": 3
   },
   "file_extension": ".py",
   "mimetype": "text/x-python",
   "name": "python",
   "nbconvert_exporter": "python",
   "pygments_lexer": "ipython3",
   "version": "3.10.6"
  },
  "rise": {
   "enable_chalkboard": true,
   "footer": "<p>Fachbereich Elektrotechnik und Informationstechnik (etit)   |   Institut für Teilchenbeschleunigung und Elektromagnetische Felder (TEMF)   |   Dr. Adrian Oeftiger</p>",
   "header": "<img src='https://upload.wikimedia.org/wikipedia/de/thumb/2/24/TU_Darmstadt_Logo.svg/640px-TU_Darmstadt_Logo.svg.png' />",
   "scroll": true,
   "theme": "simple",
   "transition": "none"
  }
 },
 "nbformat": 4,
 "nbformat_minor": 5
}
