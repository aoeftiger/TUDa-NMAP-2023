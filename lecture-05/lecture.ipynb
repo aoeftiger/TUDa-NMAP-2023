{
 "cells": [
  {
   "cell_type": "markdown",
   "id": "38250724",
   "metadata": {
    "slideshow": {
     "slide_type": "slide"
    }
   },
   "source": [
    "<h1 style=\"text-align: center; vertical-align: middle;\">Numerical Methods in Accelerator Physics</h1>\n",
    "<h2 style=\"text-align: center; vertical-align: middle;\">Lecture Series by Dr. Adrian Oeftiger</h2>\n",
    "\n",
    "<div style=\"width: 45%; margin: auto; margin-top: 1em; vertical-align: middle;\">\n",
    "<img src=\"./img/etit.png\" style=\"width: 30%; float: left; margin-right: 5%;\" /><img src=\"./img/GSI_Logo.png\" style=\"width: 35%; float: left; margin-right: 5%; padding-top: 0.5em;\" /><img src=\"./img/FAIR_Logo.png\" style=\"width: 25%; float: left;\" />\n",
    "</div>\n",
    "\n",
    "<h3 style=\"clear: both; text-align: center; margin-top: 1em;\">Lecture 5</h3>"
   ]
  },
  {
   "cell_type": "markdown",
   "id": "06a8d74b",
   "metadata": {
    "slideshow": {
     "slide_type": "slide"
    }
   },
   "source": [
    "<h2>Run this notebook online!</h2>\n",
    "\n",
    "Interact and run this jupyter notebook online:\n",
    "\n",
    "<div class=\"alert alert-block alert-info\" style=\"text-align:center;\">\n",
    "via the public mybinder.org service: <br />\n",
    "<a href=\"https://mybinder.org/v2/gh/aoeftiger/TUDa-NMAP-2023/v5.0\" style=\"width:auto; display:table;margin:0.5em auto;\"><img src=\"./img/binder_logo.svg\" alt=\"mybinder.org logo\" height=\"1ex\" /></a>\n",
    "</div>\n",
    "\n",
    "<div class=\"alert alert-block alert-info\" style=\"text-align:center;\">\n",
    "via the public gesis.org service: <br />\n",
    "<a href=\"https://notebooks.gesis.org/binder/v2/gh/aoeftiger/TUDA-NMAP-2023/v5.0\" style=\"width:auto; display:table;margin:0.5em auto;\"><img src=\"./img/binder_logo.svg\" alt=\"gesis.org logo\" height=\"1ex\" /></a>\n",
    "</div>\n",
    "\n",
    "Also find this lecture rendered [as HTML slides on github $\\nearrow$](https://aoeftiger.github.io/TUDa-NMAP-2023/) along with the [source repository $\\nearrow$](https://github.com/aoeftiger/TUDa-NMAP-2023)."
   ]
  },
  {
   "cell_type": "markdown",
   "id": "a57cc074",
   "metadata": {
    "slideshow": {
     "slide_type": "slide"
    }
   },
   "source": [
    "<h2>Run this first!</h2>\n",
    "\n",
    "Imports and modules:"
   ]
  },
  {
   "cell_type": "code",
   "execution_count": null,
   "id": "e538eebc",
   "metadata": {
    "slideshow": {
     "slide_type": "-"
    }
   },
   "outputs": [],
   "source": [
    "from config import np, plt, plot_rfwave, tqdm, trange\n",
    "from scipy.constants import m_p, e, c\n",
    "%matplotlib inline"
   ]
  },
  {
   "cell_type": "markdown",
   "id": "8ac1256f",
   "metadata": {},
   "source": [
    "If the progress bar by `tqdm` (`trange`) later in this document does not work, run this:"
   ]
  },
  {
   "cell_type": "code",
   "execution_count": null,
   "id": "e94c6643",
   "metadata": {},
   "outputs": [],
   "source": [
    "!jupyter nbextension enable --py widgetsnbextension"
   ]
  },
  {
   "cell_type": "markdown",
   "id": "d5d19c39",
   "metadata": {
    "slideshow": {
     "slide_type": "slide"
    }
   },
   "source": [
    "<h2 style=\"color: #b51f2a\">Refresher!</h2>\n",
    "\n",
    "- electric field in longitudinal direction, $E_z$: only way to accelerate\n",
    "- transit-time factor\n",
    "- energy gain in rf cavity: synchronous particle and real particles\n",
    "- synchronicity in synchrotron: beam rigidity $B\\rho=p/|q|$ and $f_\\text{rf}=h\\cdot f_\\text{rev}$\n",
    "- momentum compaction $\\alpha_c=\\cfrac{\\Delta C/C}{\\delta}$, phase slippage $\\eta=\\cfrac{\\Delta T_\\text{rev}/T_\\text{rev}}{\\delta}$ and transition energy $\\gamma_\\text{t}$\n",
    "- phase focusing and stability\n",
    "- longitudinal tracking equations"
   ]
  },
  {
   "cell_type": "markdown",
   "id": "ca9cec0a",
   "metadata": {
    "slideshow": {
     "slide_type": "slide"
    }
   },
   "source": [
    "<h2 style=\"color: #b51f2a\">Today!</h2>\n",
    "\n",
    "1. Hamiltonian for Longitudinal Dynamics\n",
    "2. Monte Carlo Technique & Pseudo-random Number Generation\n",
    "3. Initialisation of Phase Space for Longitudinal Simulations"
   ]
  },
  {
   "cell_type": "markdown",
   "id": "ffb4a16b",
   "metadata": {
    "slideshow": {
     "slide_type": "slide"
    }
   },
   "source": [
    "<div style=\"text-align: center; width:100%;\">\n",
    "    <h2>Part I: Hamiltonian for Longitudinal Dynamics</h2>\n",
    "</div>"
   ]
  },
  {
   "cell_type": "markdown",
   "id": "980f72a9",
   "metadata": {
    "slideshow": {
     "slide_type": "slide"
    }
   },
   "source": [
    "<h2>Longitudinal Differential Equations I</h2>\n",
    "\n",
    "Longitudinal dynamics in a synchrotron is generally called <b>synchrotron motion</b>.\n",
    "\n",
    "From the previous lecture we recover the one-turn <b>difference map</b> for longitudinal tracking:\n",
    "\n",
    "$$\\begin{cases}\\,\n",
    "    z_{n+1} &= z_n - \\eta C \\left(\\cfrac{\\Delta p}{p_0}\\right)_n \\\\\n",
    "    (\\Delta p)_{n+1} &= (\\Delta p)_n + \\cfrac{q V}{(\\beta c)_n}\\cdot\\left(\\sin\\left(\\varphi_s - \\cfrac{2\\pi}{C}\\cdot hz_{n+1}\\right) - \\sin(\\varphi_s)\\right)\n",
    "\\end{cases}$$\n",
    "\n",
    "To derive the Hamiltonian, we need to determine smooth (but approximative) differential equations from here."
   ]
  },
  {
   "cell_type": "markdown",
   "id": "426dc939",
   "metadata": {
    "slideshow": {
     "slide_type": "slide"
    }
   },
   "source": [
    "<h2>Longitudinal Differential Equations II</h2>\n",
    "\n",
    "Treat <b>adiabatic acceleration</b> case ($\\beta=\\mathrm{const}$ during rf cavity kick) in <b>smooth focusing approximation</b> (rf cavity effect all around the ring):\n",
    "\n",
    "$\\implies$ obtain <b>differential equations</b> via $z_{n+1}-z_n\\leadsto \\frac{dz}{ds}\\cdot C$ and $\\Delta p_{n+1}-\\Delta p_n \\leadsto \\frac{d(\\Delta p)}{ds}\\cdot C$\n",
    "\n",
    "<div class=\"alert alert-block alert-success\" style=\"text-align:center;\">\n",
    "$$\\begin{cases}\\,\n",
    "    \\cfrac{dz}{ds} &= -\\eta\\cdot \\cfrac{\\Delta p}{p_0} \\\\\n",
    "    \\cfrac{d(\\Delta p)}{ds} &= \\cfrac{q V}{C\\beta c}\\cdot \\left(\\sin\\left(\\varphi_s - \\cfrac{2\\pi}{C}\\cdot hz\\right) - \\sin(\\varphi_s)\\right)\n",
    "\\end{cases}$$\n",
    "</div>"
   ]
  },
  {
   "cell_type": "markdown",
   "id": "c44f7b89",
   "metadata": {
    "slideshow": {
     "slide_type": "slide"
    }
   },
   "source": [
    "<h2>The Hamiltonian of Synchrotron Motion</h2>\n",
    "\n",
    "Integrate Hamilton equations to find (a sort of \"instantaneous\") $\\mathcal{H}(z,\\Delta p)=T(\\Delta p) + U(z)$: \n",
    "\n",
    "The first Hamilton equation determines the kinetic energy term $T(\\Delta p)$,\n",
    "\n",
    "$$\\frac{dz}{ds} \\stackrel{!}{=} \\frac{\\partial \\mathcal{H}}{\\partial (\\Delta p)} \\quad \\stackrel{\\int}{\\implies} \\quad \\mathcal{H}(z,\\Delta p) = \\underbrace{-\\frac{1}{2}\\frac{\\eta}{p_0} \\Delta p{}^2}\\limits_{T} + U(z) + \\mathrm{const.} \\quad ,$$\n",
    "and the second Hamilton equation determines the potential energy $U(z)$:\n",
    "$\\quad \\cfrac{d(\\Delta p)}{ds} \\stackrel{!}{=} -\\cfrac{\\partial\\mathcal{H}}{\\partial z}$\n",
    "\n",
    "<div class=\"alert alert-block alert-success\" style=\"text-align:center;\">\n",
    "    Integration yields the Hamiltonian of <b>synchrotron motion</b>:<br /><br />\n",
    "$$\n",
    "    \\mathcal{H}(z,\\Delta p)=-\\frac{1}{2}\\frac{\\eta}{p_0} \\Delta p{}^2 - \\frac{qV}{\\beta c}\\cdot\\frac{1}{2\\pi h}\\left(\\cos\\left(\\varphi_s - \\frac{2\\pi h}{C}\\cdot z\\right) - \\frac{2\\pi h}{C}\\cdot z\\cdot \\sin(\\varphi_s)\\right)\n",
    "+\\mathrm{const.}$$\n",
    "</div>"
   ]
  },
  {
   "cell_type": "markdown",
   "id": "483e5d6e",
   "metadata": {
    "slideshow": {
     "slide_type": "slide"
    }
   },
   "source": [
    "<h2>Stationary Case and Small-amplitude Approximation</h2>\n",
    "\n",
    "For the stationary case $\\sin(\\varphi_s)=0$, we recover the <b>simple pendulum</b> Hamiltonian if $\\varphi_s=0$ below or $\\varphi_s=\\pi$ above transition,\n",
    "\n",
    "$$\\mathcal{H}_\\mathrm{stat}(z,\\Delta p) = -\\frac{1}{2}\\frac{\\eta}{p_0} {\\color{red}{\\Delta p{}^2}} +\\frac{qV}{\\beta c}\\cdot\\frac{1}{2\\pi h}{\\color{red}{\\cos\\left(\\varphi_s - \\frac{2\\pi h}{C}\\cdot z\\right)}}\n",
    "$$\n",
    "\n",
    "Remember, this expresses again the phase focusing requirement!\n",
    "\n",
    "For small $z$ around the synchronous particle (stable fixed point!), expand $\\cos(x)\\approx 1-x^2/2 + \\mathcal{O}(x^4)$:\n",
    "\n",
    "$$\\mathcal{H}_\\mathrm{stat,small}(z,\\Delta p) = -\\mathrm{sgn}(\\eta)\\cdot\\left[\\frac{1}{2}\\frac{|\\eta|}{p_0} {\\color{red}{\\Delta p{}^2}} + \\frac{qV}{\\beta c}\\cdot \\cfrac{\\pi h}{C^2}\\cdot {\\color{red}{z^2}}\\right]\n",
    "$$\n",
    "\n",
    "$\\implies$ <b>Hamiltonian of harmonic oscillation!</b>"
   ]
  },
  {
   "cell_type": "markdown",
   "id": "c8462f71",
   "metadata": {
    "slideshow": {
     "slide_type": "slide"
    }
   },
   "source": [
    "<h2>Synchrotron Tune I</h2>\n",
    "\n",
    "The small-amplitude case (small $z$) yields the linear oscillation frequency of the particles. Assemble the 2nd-order ODE from the two 1st-order coupled ODEs:\n",
    "    \n",
    "$$\\frac{dz^2}{ds^2}+\\frac{\\eta q V}{p_0 \\beta c C}\\cdot \\left(\\underbrace{\\sin\\left(\\varphi_s - \\frac{2\\pi}{C} h z\\right)}\\limits_{\\mathop{=}\\sin(\\varphi_s)\\cos\\left(\\frac{2\\pi}{C}hz\\right) - \\cos(\\varphi_s)\\sin\\left(\\frac{2\\pi}{C}hz\\right)} - \\sin(\\varphi_s)\\right) = 0$$\n",
    "\n",
    "Linearising in $z$ gives\n",
    "\n",
    "$$\\sin\\left(\\varphi_s - \\frac{2\\pi}{C} h z\\right) \\approx \\sin(\\varphi_s) - \\cos(\\varphi_s)\\cdot\\frac{2\\pi}{C} h z + \\mathcal{O}(z^2)$$"
   ]
  },
  {
   "cell_type": "markdown",
   "id": "dab60829",
   "metadata": {
    "slideshow": {
     "slide_type": "slide"
    }
   },
   "source": [
    "<h2>Synchrotron Tune II</h2>\n",
    "\n",
    "Therefore the linearised ODE of 2nd order (harmonic oscillator ODE) reads\n",
    "\n",
    "$$\\frac{dz^2}{ds^2}+\\underbrace{\\frac{\\eta q V \\cdot 2\\pi h \\cos(\\varphi_s)}{p_0 \\beta c C^2}}\\limits_{\\mathop{\\equiv}\\Omega_s^2}\\cdot z = 0$$\n",
    "\n",
    "<div class=\"alert alert-block alert-success\" style=\"text-align:center;\">\n",
    "and the <b>linear synchrotron tune</b> $Q_s$ (longitudinal oscillations per turn) evaluates to <br /><br />\n",
    "$$Q_s^2=\\frac{\\omega_s^2}{\\omega_\\mathrm{rev}{}^2} = \\frac{\\Omega_s^2}{(2\\pi/C)^2} = \\frac{\\eta h q V \\cos(\\varphi_s)}{2\\pi p_0 \\beta c}$$\n",
    "</div>"
   ]
  },
  {
   "cell_type": "markdown",
   "id": "0341caa1",
   "metadata": {
    "slideshow": {
     "slide_type": "slide"
    }
   },
   "source": [
    "<h2>Visualisation by Particle Tracking in CERN PS</h2>\n",
    "\n",
    "We return to the material from the previous lecture, the CERN Proton Synchrotron (PS):\n",
    "- has a circumference of 2π·100m\n",
    "- takes protons from the PS Booster at a kinetic energy of 2GeV corresponding to a $\\gamma=3.13$\n",
    "- injects with 50kV of rf voltage, up to 200kV for ramp\n",
    "- runs at harmonic $h=7$\n",
    "- has a momentum compaction factor of $\\alpha_c=0.027$\n",
    "- typical acceleration rate of (up to) $\\dot{B}=2$ T/s, the bending radius is $\\rho=70.08$ m"
   ]
  },
  {
   "cell_type": "code",
   "execution_count": null,
   "id": "831d4f71",
   "metadata": {},
   "outputs": [],
   "source": [
    "def beta(gamma):\n",
    "    '''Speed β in units of c from relativistic Lorentz factor γ.'''\n",
    "    return np.sqrt(1 - gamma**-2)\n",
    "\n",
    "def gamma(p):\n",
    "    '''Relativistic Lorentz factor γ from total momentum p.'''\n",
    "    return np.sqrt(1 + (p / (mass * c))**2)"
   ]
  },
  {
   "cell_type": "markdown",
   "id": "1ef632aa",
   "metadata": {
    "slideshow": {
     "slide_type": "slide"
    }
   },
   "source": [
    "Again, the `Machine` class representing the PS:"
   ]
  },
  {
   "cell_type": "code",
   "execution_count": null,
   "id": "335bdcc8",
   "metadata": {},
   "outputs": [],
   "source": [
    "charge = e\n",
    "mass = m_p\n",
    "\n",
    "class Machine(object):\n",
    "    gamma_ref = 3.13\n",
    "    circumference = 2 * np.pi * 100\n",
    "    voltage = 200e3\n",
    "    harmonic = 7\n",
    "    alpha_c = 0.027\n",
    "    phi_s = 0.456\n",
    "    \n",
    "    def __init__(self, gamma_ref=gamma_ref, circumference=circumference,\n",
    "                 voltage=voltage, harmonic=harmonic, \n",
    "                 alpha_c=alpha_c, phi_s=phi_s):\n",
    "        '''Override default settings by giving explicit arguments.'''\n",
    "        self.gamma_ref = gamma_ref\n",
    "        self.circumference = circumference\n",
    "        self.voltage = voltage\n",
    "        self.harmonic = harmonic\n",
    "        self.alpha_c = alpha_c\n",
    "        self.phi_s = phi_s\n",
    "    \n",
    "    def eta(self, deltap):\n",
    "        '''Phase-slip factor for a particle.'''\n",
    "        p = self.p0() + deltap\n",
    "        return self.alpha_c - gamma(p)**-2\n",
    "\n",
    "    def p0(self):\n",
    "        '''Momentum of synchronous particle.'''\n",
    "        return self.gamma_ref * beta(self.gamma_ref) * mass * c\n",
    "\n",
    "    def update_gamma_ref(self):\n",
    "        '''Advance the energy of the synchronous particle\n",
    "        according to the synchronous phase by one turn.\n",
    "        '''\n",
    "        deltap_per_turn = charge * self.voltage / (\n",
    "            beta(self.gamma_ref) * c) * np.sin(self.phi_s)\n",
    "        new_p0 = self.p0() + deltap_per_turn\n",
    "        self.gamma_ref = gamma(new_p0)"
   ]
  },
  {
   "cell_type": "code",
   "execution_count": null,
   "id": "f98425a9",
   "metadata": {
    "slideshow": {
     "slide_type": "slide"
    }
   },
   "outputs": [],
   "source": [
    "def track_one_turn(z_n, deltap_n, machine):\n",
    "    m = machine\n",
    "    # half drift\n",
    "    z_nhalf = z_n - m.eta(deltap_n) * deltap_n / m.p0() * m.circumference / 2\n",
    "    # rf kick\n",
    "    amplitude = charge * m.voltage / (beta(gamma(m.p0())) * c)\n",
    "    phi = m.phi_s - m.harmonic * 2 * np.pi * z_nhalf / m.circumference\n",
    "    \n",
    "    m.update_gamma_ref()\n",
    "    deltap_n1 = deltap_n + amplitude * (np.sin(phi) - np.sin(m.phi_s))\n",
    "    # half drift\n",
    "    z_n1 = z_nhalf - m.eta(deltap_n1) * deltap_n1 / m.p0() * m.circumference / 2\n",
    "    return z_n1, deltap_n1"
   ]
  },
  {
   "cell_type": "markdown",
   "id": "44a6e735",
   "metadata": {
    "slideshow": {
     "slide_type": "slide"
    }
   },
   "source": [
    "You can override the default PS parameters by supplying arguments to the `Machine(...)` instantiation, e.g. change the `gamma_ref` by `m = Machine(gamma_ref=20)` or the `phi_s` etc."
   ]
  },
  {
   "cell_type": "code",
   "execution_count": null,
   "id": "61179411",
   "metadata": {},
   "outputs": [],
   "source": [
    "m = Machine()"
   ]
  },
  {
   "cell_type": "markdown",
   "id": "9f011125",
   "metadata": {
    "slideshow": {
     "slide_type": "slide"
    }
   },
   "source": [
    "Now we define the kinetic and potential energy terms and the Hamiltonian function(al) itself:"
   ]
  },
  {
   "cell_type": "code",
   "execution_count": null,
   "id": "a80ace0e",
   "metadata": {
    "slideshow": {
     "slide_type": "-"
    }
   },
   "outputs": [],
   "source": [
    "def T(deltap, machine):\n",
    "    '''Kinetic energy term in Hamiltonian.'''\n",
    "    return -0.5 * machine.eta(deltap) / machine.p0() * deltap**2\n",
    "\n",
    "def U(z, machine, beta_=None):\n",
    "    '''Potential energy term in Hamiltonian.\n",
    "    If beta is not given, compute it from synchronous particle.\n",
    "    '''\n",
    "    m = machine\n",
    "    if beta_ is None:\n",
    "        beta_ = beta(gamma(m.p0()))\n",
    "    ampl = charge * m.voltage / (beta_ * c * 2 * np.pi * m.harmonic)\n",
    "    phi = m.phi_s - 2 * np.pi * m.harmonic / m.circumference * z\n",
    "    # convenience: define z at unstable fixed point\n",
    "    z_ufp = -m.circumference * (np.pi - 2 * m.phi_s) / (2 * np.pi * m.harmonic)\n",
    "    # convenience: offset by potential value at unstable fixed point\n",
    "    # such that unstable fixed point (and separatrix) have 0 potential energy\n",
    "    return ampl * (-np.cos(phi) + \n",
    "                   2 * np.pi * m.harmonic / m.circumference * (z - z_ufp) * np.sin(m.phi_s) +\n",
    "                   -np.cos(m.phi_s))"
   ]
  },
  {
   "cell_type": "code",
   "execution_count": null,
   "id": "6c4d29ef",
   "metadata": {},
   "outputs": [],
   "source": [
    "def hamiltonian(z, deltap, machine):\n",
    "    return T(deltap, machine) + U(z, machine, beta_=beta(gamma(machine.p0() + deltap)))"
   ]
  },
  {
   "cell_type": "code",
   "execution_count": null,
   "id": "acd27831",
   "metadata": {
    "slideshow": {
     "slide_type": "slide"
    }
   },
   "outputs": [],
   "source": [
    "def plot_hamiltonian(machine, zleft=-50, zright=50, dpmax=0.01, cbar=True):\n",
    "    '''Plot Hamiltonian contours across (zleft, zright) and (-dpmax, dpmax).'''\n",
    "    Z, DP = np.meshgrid(np.linspace(zleft, zright, num=1000), \n",
    "                        np.linspace(-dpmax, dpmax, num=1000))\n",
    "    H = hamiltonian(Z, DP * machine.p0(), machine) / machine.p0()\n",
    "    \n",
    "    plt.contourf(Z, DP, H, cmap=plt.get_cmap('hot_r'), levels=12,\n",
    "                 zorder=0, alpha=0.5)\n",
    "    plt.xlabel('$z$ [m]')\n",
    "    plt.ylabel(r'$\\delta$')\n",
    "    if cbar:\n",
    "        colorbar = plt.colorbar(label=r'$\\mathcal{H}(z,\\Delta p)\\,/\\,p_0$')\n",
    "        colorbar.ax.axhline(0, lw=2, c='b')\n",
    "    plt.contour(Z, DP, H, colors='b', linewidths=2, levels=[0])"
   ]
  },
  {
   "cell_type": "markdown",
   "id": "2d9e69e7",
   "metadata": {
    "slideshow": {
     "slide_type": "slide"
    }
   },
   "source": [
    "Let's plot the Hamiltonian landscape on phase space:"
   ]
  },
  {
   "cell_type": "code",
   "execution_count": null,
   "id": "4eca1c8e",
   "metadata": {},
   "outputs": [],
   "source": [
    "plot_hamiltonian(m)"
   ]
  },
  {
   "cell_type": "markdown",
   "id": "1fc8bf56",
   "metadata": {
    "slideshow": {
     "slide_type": "slide"
    }
   },
   "source": [
    "Tracking just like last lecture:"
   ]
  },
  {
   "cell_type": "code",
   "execution_count": null,
   "id": "639f3f1c",
   "metadata": {},
   "outputs": [],
   "source": [
    "n_turns = 500\n",
    "deltap_ini = np.linspace(0, 0.01 * m.p0(), 20)\n",
    "z_ini = np.zeros_like(deltap_ini)\n",
    "\n",
    "N = len(z_ini)\n",
    "assert (N == len(deltap_ini))"
   ]
  },
  {
   "cell_type": "code",
   "execution_count": null,
   "id": "6ebd6eaf",
   "metadata": {},
   "outputs": [],
   "source": [
    "z = np.zeros((n_turns, N), dtype=np.float64)\n",
    "deltap = np.zeros_like(z)\n",
    "\n",
    "z[0] = z_ini\n",
    "deltap[0] = deltap_ini"
   ]
  },
  {
   "cell_type": "markdown",
   "id": "f0eedcff",
   "metadata": {
    "slideshow": {
     "slide_type": "slide"
    }
   },
   "source": [
    "Record the evolution of energy $\\gamma_\\mathrm{ref}$ and also Hamiltonian values of particles during tracking:"
   ]
  },
  {
   "cell_type": "code",
   "execution_count": null,
   "id": "7dbe915a",
   "metadata": {},
   "outputs": [],
   "source": [
    "gammas = np.zeros(n_turns, dtype=np.float64)\n",
    "gammas[0] = m.gamma_ref\n",
    "\n",
    "H_values = np.zeros_like(z)\n",
    "H_values[0] = hamiltonian(z_ini, deltap_ini, m) / m.p0()"
   ]
  },
  {
   "cell_type": "markdown",
   "id": "5d27e0c5",
   "metadata": {
    "slideshow": {
     "slide_type": "-"
    }
   },
   "source": [
    "The tracking loop:"
   ]
  },
  {
   "cell_type": "code",
   "execution_count": null,
   "id": "1c176875",
   "metadata": {},
   "outputs": [],
   "source": [
    "for i_turn in range(1, n_turns):\n",
    "    z[i_turn], deltap[i_turn] = track_one_turn(z[i_turn - 1], deltap[i_turn - 1], m)\n",
    "    gammas[i_turn] = m.gamma_ref\n",
    "    H_values[i_turn] = hamiltonian(z[i_turn], deltap[i_turn], m) / m.p0()"
   ]
  },
  {
   "cell_type": "code",
   "execution_count": null,
   "id": "61f535c1",
   "metadata": {
    "slideshow": {
     "slide_type": "slide"
    }
   },
   "outputs": [],
   "source": [
    "plt.plot(gammas)\n",
    "plt.xlabel('Turns')\n",
    "plt.ylabel('$\\gamma_{ref}$');"
   ]
  },
  {
   "cell_type": "code",
   "execution_count": null,
   "id": "58a1ae39",
   "metadata": {
    "slideshow": {
     "slide_type": "slide"
    }
   },
   "outputs": [],
   "source": [
    "plt.scatter(z, deltap / m.p0(), marker='.', s=0.5)\n",
    "plt.xlabel('$z$ [m]')\n",
    "plt.ylabel('$\\Delta p/p_0$')\n",
    "plot_hamiltonian(m, zleft=-150, zright=50, dpmax=0.017)"
   ]
  },
  {
   "cell_type": "code",
   "execution_count": null,
   "id": "b7924f5f",
   "metadata": {
    "slideshow": {
     "slide_type": "slide"
    }
   },
   "outputs": [],
   "source": [
    "plt.plot(H_values, c='C0');\n",
    "plt.xlabel('Turns')\n",
    "plt.ylabel(r'$\\mathcal{H}(z,\\Delta p)\\,/\\,p_0$');"
   ]
  },
  {
   "cell_type": "code",
   "execution_count": null,
   "id": "27186bad",
   "metadata": {
    "slideshow": {
     "slide_type": "slide"
    }
   },
   "outputs": [],
   "source": [
    "def plot_rf_overview():\n",
    "    z_range = np.linspace(-150, 40, num=1000)\n",
    "    # z location of unstable fixed point:\n",
    "    z_ufp = -m.circumference * (np.pi - 2 * m.phi_s) / (2 * np.pi * m.harmonic)\n",
    "\n",
    "    fig, ax = plt.subplots(3, 1, figsize=(6, 10), sharex=True)\n",
    "\n",
    "    plt.sca(ax[0])\n",
    "    plt.plot(z_range, 1e-3 * m.voltage * np.sin(m.phi_s - 2 * np.pi * m.harmonic / m.circumference * z_range))\n",
    "    plt.axhline(0, c='gray', lw=2)\n",
    "    plt.axhline(1e-3 * m.voltage * np.sin(m.phi_s), c='purple', lw=2, ls='--')\n",
    "    plt.axvline(0, c='purple', lw=2)\n",
    "    plt.axvline(z_ufp, c='red', lw=2)\n",
    "    plt.ylabel('rf wave $V(z)$ [kV]')\n",
    "\n",
    "    plt.sca(ax[1])\n",
    "    plt.plot(z_range, 1e6 * U(z_range, m) / m.p0())\n",
    "    plt.axhline(0, c='gray', lw=2)\n",
    "    plt.ylabel(r'$U(z)\\,/\\,p_0\\cdot 10^6$')\n",
    "\n",
    "    plt.scatter([z_ufp], [0], marker='*', c='white', edgecolor='red', zorder=10)\n",
    "    plt.scatter([0], [U(0, m) / m.p0()], marker='d', c='white', edgecolor='purple', zorder=10)\n",
    "\n",
    "    plt.sca(ax[2])\n",
    "    plot_hamiltonian(m, zleft=z_range[0], zright=z_range[-1], cbar=False)\n",
    "    plt.scatter([z_ufp], [0], marker='*', c='white', edgecolor='red', zorder=10)\n",
    "    plt.scatter([0], [0], marker='d', c='white', edgecolor='purple')\n",
    "    plt.xlabel('$z$ [m]')\n",
    "    plt.ylabel('$\\delta$')\n",
    "    plt.subplots_adjust(hspace=0)\n",
    "    \n",
    "    return fig, ax"
   ]
  },
  {
   "cell_type": "code",
   "execution_count": null,
   "id": "c01cc617",
   "metadata": {
    "slideshow": {
     "slide_type": "slide"
    }
   },
   "outputs": [],
   "source": [
    "plot_rf_overview();"
   ]
  },
  {
   "cell_type": "markdown",
   "id": "9f2011df",
   "metadata": {},
   "source": [
    "$\\implies$ the closed area inside the blue separatrix is typically referred to as <b>rf bucket</b>!"
   ]
  },
  {
   "cell_type": "markdown",
   "id": "f6a8f3db",
   "metadata": {
    "slideshow": {
     "slide_type": "slide"
    }
   },
   "source": [
    "<h2 style=\"color: #e6541a;\">Exercises based on Tracking</h2>\n",
    "\n",
    "<div style=\"color: #e6541a; margin-top: 2em;\">\n",
    "Modify the machine parameters and particle initial conditions to answer the following questions: <br />\n",
    "    \n",
    "1. Do the Hamiltonian contours predict the tracked particle trajectories well?\n",
    "---\n",
    "2. Compare the stationary synchronous particle situation to the nonlinear pendulum: what is the meaning of the $\\pi$ phase offset of $\\varphi_s$ in terms of the pendulum? What state of the pendulum does the stable and what the unstable fixed point correspond to?\n",
    "---\n",
    "3. CERN PS accelerates protons from $\\gamma=3.1$ up to $\\gamma=27.7$. Is the transition energy crossed during acceleration? What does this mean for the setting of the synchronous phase $\\varphi_s$ in the control room? \n",
    "---\n",
    "4. What happens to phase focusing at the transition energy $\\gamma=\\gamma_\\mathrm{t}$? Can you explain why? (Think of the phase slippage mechanism.)\n",
    "</div>\n",
    "\n",
    "$\\implies$ please make sure you understand and note down the answers to these questions: the concepts are central to accelerator physics and relevant for the exam."
   ]
  },
  {
   "cell_type": "markdown",
   "id": "18ae7a94",
   "metadata": {
    "slideshow": {
     "slide_type": "slide"
    }
   },
   "source": [
    "<p style=\"color: #e6541a;\">$\\implies$ <i>Bonus: determine the synchrotron tune from tracking simulations (using NAFF) and compare to the derived formula for $Q_s$!</i></p>"
   ]
  },
  {
   "cell_type": "markdown",
   "id": "7d7e80be",
   "metadata": {
    "slideshow": {
     "slide_type": "slide"
    }
   },
   "source": [
    "<div style=\"text-align: center; width:100%;\">\n",
    "    <h2>Part II: Monte Carlo</h2>\n",
    "</div>"
   ]
  },
  {
   "cell_type": "markdown",
   "id": "0bfdcdbd",
   "metadata": {
    "slideshow": {
     "slide_type": "slide"
    }
   },
   "source": [
    "<h2>Monte Carlo Technique</h2>\n",
    "\n",
    "1. Define a domain of possible inputs and identify the <b>statistical probability distribution</b> of these inputs.\n",
    "2. Generate possible inputs through <b>random sampling</b> from the probability distribution over the domain.\n",
    "3. Perform <b>simulation</b> with these input parameters.\n",
    "4. Collect results and <b>analyse statistically</b>."
   ]
  },
  {
   "cell_type": "markdown",
   "id": "59f73b52",
   "metadata": {
    "slideshow": {
     "slide_type": "slide"
    }
   },
   "source": [
    "<h2>Approach</h2>\n",
    "\n",
    "<b>Macro-particle simulation</b>:\n",
    "- represent $10^{11}..10^{13}$ particles in a bunch by smooth particle distribution function $\\psi(z,\\delta)$\n",
    "- generate distribution of $10^5..10^7$ macro-particles by randomly sampling $\\psi(z,\\delta)$\n",
    "\n",
    "<b>Approach</b>:\n",
    "- uniformly distributed (pseudo-)random numbers $\\xi$: Linear Congruential Generators\n",
    "- construct e.g. Gaussian normal distributed random numbers: Box-Muller method\n",
    "- rejection technique"
   ]
  },
  {
   "cell_type": "markdown",
   "id": "9fa19e90",
   "metadata": {
    "slideshow": {
     "slide_type": "slide"
    }
   },
   "source": [
    "<h2>Generation of Uniformly Distributed Pseudo-random Numbers</h2>\n",
    "\n",
    "<b>Linear Congruential Generator</b>:\n",
    "\n",
    "starting from random number seed $x_0$, generate pseudo-random sequence for integer variable $x$:\n",
    "\n",
    "$$x_{k+1} = (a\\cdot x_k + c)\\quad\\%\\quad M$$\n",
    "\n",
    "where parameters $(a,c)$ and $M=2^m-1$ define the generator. $x$ lies on interval $[0,M)$ and attains at most $M$ values before starting over. Typical choice (Lewis, Goodman, and Miller in 1969):\n",
    "\n",
    "$$\\begin{cases}\\,\n",
    "    M &= 2^{31}-1 = 2147483647 \\\\\n",
    "    a &= 7^5 = 16807 \\\\\n",
    "    c &= 0\n",
    "\\end{cases}$$\n",
    "\n",
    "A pseudo-random number distributed uniformly on interval $[0,1)$ is then obtained via\n",
    "\n",
    "$$\\xi = \\frac{x}{M}$$"
   ]
  },
  {
   "cell_type": "code",
   "execution_count": null,
   "id": "6efa2748",
   "metadata": {
    "slideshow": {
     "slide_type": "slide"
    }
   },
   "outputs": [],
   "source": [
    "class RandomNumberGenerator(object):\n",
    "    def __init__(self, M, a, c, seed):\n",
    "        self.M = M\n",
    "        self.a = a\n",
    "        self.c = c\n",
    "        self.M = M\n",
    "        self.xk = seed\n",
    "\n",
    "    def generate(self):\n",
    "        xk1 = (self.a * self.xk + self.c) % self.M\n",
    "        self.xk = xk1\n",
    "        return xk1 / self.M"
   ]
  },
  {
   "cell_type": "markdown",
   "id": "fcae239a",
   "metadata": {
    "slideshow": {
     "slide_type": "-"
    }
   },
   "source": [
    "Instantiate the linear congruential generator by Lewis et al with a certain `seed`:"
   ]
  },
  {
   "cell_type": "code",
   "execution_count": null,
   "id": "98486f3c",
   "metadata": {},
   "outputs": [],
   "source": [
    "prng_standard = RandomNumberGenerator(\n",
    "    M=2**31 - 1, \n",
    "    a=7**5, \n",
    "    c=0, \n",
    "    seed=12345)"
   ]
  },
  {
   "cell_type": "markdown",
   "id": "e9184125",
   "metadata": {
    "slideshow": {
     "slide_type": "slide"
    }
   },
   "source": [
    "Generate a set of numbers from the sequence and analyse:"
   ]
  },
  {
   "cell_type": "code",
   "execution_count": null,
   "id": "bfab1abd",
   "metadata": {},
   "outputs": [],
   "source": [
    "results = [prng_standard.generate() for i in range(10000)]"
   ]
  },
  {
   "cell_type": "code",
   "execution_count": null,
   "id": "0134fdc6",
   "metadata": {},
   "outputs": [],
   "source": [
    "plt.hist(results)\n",
    "plt.xlabel('$x$')\n",
    "plt.ylabel('#draws');"
   ]
  },
  {
   "cell_type": "code",
   "execution_count": null,
   "id": "1b5efd32",
   "metadata": {
    "slideshow": {
     "slide_type": "slide"
    }
   },
   "outputs": [],
   "source": [
    "plt.scatter(results[:-1], results[1:], s=1, marker='.')\n",
    "plt.xlabel('$x_k$')\n",
    "plt.ylabel('$x_{k+1}$');"
   ]
  },
  {
   "cell_type": "markdown",
   "id": "a8254940",
   "metadata": {},
   "source": [
    "<p style=\"color: #e6541a;\">$\\implies$ What happens when you change the parameters $M,a,c$?<br /><br />\n",
    "Try e.g. $a=5$ or $M=2^{31}-2$...</p>"
   ]
  },
  {
   "cell_type": "markdown",
   "id": "953b3db1",
   "metadata": {
    "slideshow": {
     "slide_type": "slide"
    }
   },
   "source": [
    "<h2>Generation of Gaussian Normal Distributed Pseudo-random Numbers</h2>\n",
    "\n",
    "<b>Box-Muller Method</b>: Generate $x,y$ with bi-variate Gaussian normal probability density function $f(x,y)=\\frac{1}{2\\pi}e^{\\frac{1}{2}\\left(x^2 + y^2\\right)}$ from uniformly distributed random numbers $\\xi_1,\\xi_2\\in[0,1)$,\n",
    "\n",
    "$$\\begin{align}\n",
    "    x &= \\sqrt{-2\\ln(\\xi_2)}\\,\\cos(2\\pi\\xi_1) \\\\\n",
    "    y &= \\sqrt{-2\\ln(\\xi_2)}\\,\\sin(2\\pi\\xi_1)\n",
    "\\end{align}$$\n",
    "\n",
    "which can be derived by <b>direct inversion</b> of the cumulative distribution function of $f$."
   ]
  },
  {
   "cell_type": "code",
   "execution_count": null,
   "id": "f60ef7b0",
   "metadata": {
    "slideshow": {
     "slide_type": "slide"
    }
   },
   "outputs": [],
   "source": [
    "prng_1 = RandomNumberGenerator(\n",
    "    M=2**31 - 1, \n",
    "    a=7**5, \n",
    "    c=0, \n",
    "    seed=12345)\n",
    "\n",
    "prng_2 = RandomNumberGenerator(\n",
    "    M=2**31 - 1, \n",
    "    a=7**5, \n",
    "    c=0, \n",
    "    seed=42)"
   ]
  },
  {
   "cell_type": "code",
   "execution_count": null,
   "id": "5ed7bd85",
   "metadata": {},
   "outputs": [],
   "source": [
    "def generate_normal():\n",
    "    xi1 = prng_1.generate()\n",
    "    xi2 = prng_1.generate()\n",
    "    r = np.sqrt(-2 * np.log(xi2))\n",
    "    x = r * np.cos(2 * np.pi * xi1)\n",
    "    y = r * np.sin(2 * np.pi * xi1)\n",
    "    return x, y"
   ]
  },
  {
   "cell_type": "code",
   "execution_count": null,
   "id": "81c58478",
   "metadata": {
    "slideshow": {
     "slide_type": "slide"
    }
   },
   "outputs": [],
   "source": [
    "results = np.array(\n",
    "    [generate_normal() for i in range(10000)]\n",
    ").flatten()"
   ]
  },
  {
   "cell_type": "code",
   "execution_count": null,
   "id": "bf02d15f",
   "metadata": {},
   "outputs": [],
   "source": [
    "plt.hist(results, bins=20);"
   ]
  },
  {
   "cell_type": "markdown",
   "id": "83a37660",
   "metadata": {
    "slideshow": {
     "slide_type": "slide"
    }
   },
   "source": [
    "<h2>NumPy has it all...</h2>\n",
    "\n",
    "The `numpy` library implements all of these (based on a better behaved variant of the linear congruential generator):"
   ]
  },
  {
   "cell_type": "code",
   "execution_count": null,
   "id": "6d27eae0",
   "metadata": {},
   "outputs": [],
   "source": [
    "plt.hist(np.random.random(size=10000));\n",
    "plt.xlabel('$x$')\n",
    "plt.ylabel('#draws');"
   ]
  },
  {
   "cell_type": "code",
   "execution_count": null,
   "id": "ee55610a",
   "metadata": {
    "slideshow": {
     "slide_type": "slide"
    }
   },
   "outputs": [],
   "source": [
    "plt.hist(np.random.normal(size=10000), bins=20);\n",
    "plt.xlabel('$x$')\n",
    "plt.ylabel('#draws');"
   ]
  },
  {
   "cell_type": "markdown",
   "id": "e5af219e",
   "metadata": {
    "slideshow": {
     "slide_type": "slide"
    }
   },
   "source": [
    "<div style=\"text-align: center; width:100%;\">\n",
    "    <h2>Part III: Initialisation of Phase Space for Longitudinal Simulations</h2>\n",
    "</div>"
   ]
  },
  {
   "cell_type": "markdown",
   "id": "60eec0e0",
   "metadata": {
    "slideshow": {
     "slide_type": "slide"
    }
   },
   "source": [
    "<h2>Equilibrium Distributions</h2>\n",
    "\n",
    "Time-independent Hamiltonian system with bound states (state described by conjugate phase-space variables $q_i,p_i$ and the <b>periodic dynamics</b> by the Hamiltonian functional $\\mathcal{H}=\\mathcal{H}(q_i,p_i)$):\n",
    "\n",
    "$\\implies$ <b>equilibrium particle density functions</b> can be constructed in terms of the Hamiltonian $\\mathcal{H}$:\n",
    "\n",
    "$$\\psi(z,\\delta)=\\psi(\\mathcal{H})$$\n",
    "\n",
    "\"Equilibrium\" $=$ no variation of $\\psi$ along time parameter i.e. path length $s$\n",
    "\n",
    "$$\\frac{d\\psi(\\mathcal{H})}{ds} = \\frac{d\\psi}{d\\mathcal{H}}\\cdot \\underbrace{\\frac{d\\mathcal{H}}{ds}}\\limits_{\\mathop{\\equiv} 0}=0$$"
   ]
  },
  {
   "cell_type": "markdown",
   "id": "7479d061",
   "metadata": {
    "slideshow": {
     "slide_type": "slide"
    }
   },
   "source": [
    "<h2>Typical Equilibrium Distribution Functions</h2>\n",
    "\n",
    "In particle beam dynamics one often encounters these two equilibrium distribution functions:\n",
    "\n",
    "1. <b>thermal distribution</b>:\n",
    "\n",
    "$$\\psi(\\mathcal{H}) \\propto \\exp\\left(\\cfrac{\\mathcal{H}}{\\mathcal{H}_0}\\right)$$\n",
    "\n",
    "2. <b>waterbag distribution</b>:\n",
    "\n",
    "$$\\psi(\\mathcal{H}) \\propto \\Theta\\left(\\mathcal{H}_0-\\mathcal{H}\\right) = \n",
    "\\left\\{\\begin{array}\\,\n",
    "    0 &,~\\mathcal{H}\\geq\\mathcal{H}_0 \\\\\n",
    "    1 &,~\\mathcal{H}<\\mathcal{H}_0\n",
    "\\end{array}\\right.$$"
   ]
  },
  {
   "cell_type": "code",
   "execution_count": null,
   "id": "bf91e652",
   "metadata": {
    "slideshow": {
     "slide_type": "slide"
    }
   },
   "outputs": [],
   "source": [
    "h = np.linspace(0, 3, 100)\n",
    "\n",
    "plt.plot(h, np.exp(-h), c='k', label='thermal')\n",
    "plt.plot(h, np.heaviside(1 - h, 0), c='r', label='waterbag')\n",
    "plt.xticks([0, 1], ['$\\mathcal{H}_\\mathrm{min}$', '$\\mathcal{H}_0$'])\n",
    "plt.legend()\n",
    "plt.xlabel(r'$\\mathcal{H}$')\n",
    "plt.ylabel(r'$\\psi(\\mathcal{H})$');"
   ]
  },
  {
   "cell_type": "markdown",
   "id": "bd1db899",
   "metadata": {
    "slideshow": {
     "slide_type": "slide"
    }
   },
   "source": [
    "<h2>Equilibrium at Small Amplitudes</h2>\n",
    "\n",
    "Let us start with the <i>small-amplitude approximation</i> and a stationary rf bucket below transition, $\\varphi_s=0$: particles follow harmonic oscillation with\n",
    "\n",
    "$$\\mathcal{H}_\\mathrm{stat,small}(z,\\Delta p) = \\frac{1}{2}\\frac{-\\eta}{p_0} \\Delta p{}^2 + \\frac{qV}{\\beta c}\\cdot \\cfrac{\\pi h}{C^2}\\cdot z^2\n",
    "$$\n",
    "\n",
    "The PDF of the <i>thermal distribution</i> becomes\n",
    "\n",
    "$$\\psi(\\mathcal{H})\\propto\\exp\\left(\\frac{\\mathcal{H}_{stat,small}}{\\mathcal{H}_0}\\right)=\\exp\\left(\\frac{1}{2}\\frac{\\frac{qV\\,2\\pi h}{\\beta c C^2}}{\\mathcal{H}_0}\\cdot z^2\\right) \\cdot \\exp\\left(\\frac{1}{2}\\frac{-\\eta/p_0}{\\mathcal{H}_0}\\cdot \\Delta p^2\\right)$$\n",
    "\n",
    "which is simply a <b>bi-Gaussian distribution</b> in $\\Delta p$ and $z$!"
   ]
  },
  {
   "cell_type": "markdown",
   "id": "3b517e8a",
   "metadata": {
    "slideshow": {
     "slide_type": "slide"
    }
   },
   "source": [
    "<h2>Equilibrium Condition</h2>\n",
    "\n",
    "The constant value $\\mathcal{H}_0$ is determined by a choice of the rms bunch length $\\sigma_z$ (or equivalently the rms momentum deviation $\\sigma_\\delta=\\sigma_{\\Delta p}/p_0$):\n",
    "\n",
    "$$\\mathcal{H}_0 = \\mathcal{H}_\\mathrm{stat,small}(\\sigma_z,\\Delta p=0) = \\frac{qV}{\\beta c}\\cdot \\cfrac{\\pi h}{C^2}\\cdot \\sigma_z{}^2 \\color{red}{\\stackrel{!}{=}} \\mathcal{H}_\\mathrm{stat,small}(z=0,\\sigma_{\\Delta p}) = \\frac{1}{2}\\frac{-\\eta}{p_0} \\sigma_{\\Delta p}{}^2$$\n",
    "\n",
    "$\\implies$ as equilibrium condition, <b>$\\sigma_z$ and $\\sigma_\\delta$ are linked</b> to each other via equal Hamiltonian values!"
   ]
  },
  {
   "cell_type": "markdown",
   "id": "d1bb3dda",
   "metadata": {
    "slideshow": {
     "slide_type": "slide"
    }
   },
   "source": [
    "<h2>Interactive Tracking</h2>\n",
    "\n",
    "Initialise a bi-Gaussian distribution in the longitudinal phase-space plane for tracking!\n",
    "\n",
    "Refer once more to the CERN PS scenario, below transition and in a stationary rf bucket:"
   ]
  },
  {
   "cell_type": "code",
   "execution_count": null,
   "id": "68fb23fd",
   "metadata": {},
   "outputs": [],
   "source": [
    "m = Machine(gamma_ref=3.13, phi_s=0)"
   ]
  },
  {
   "cell_type": "markdown",
   "id": "df3f1231",
   "metadata": {},
   "source": [
    "The length of the rf bucket corresponds to $C/h$:"
   ]
  },
  {
   "cell_type": "code",
   "execution_count": null,
   "id": "7ec8568c",
   "metadata": {},
   "outputs": [],
   "source": [
    "m.circumference / m.harmonic"
   ]
  },
  {
   "cell_type": "markdown",
   "id": "12e5014c",
   "metadata": {
    "slideshow": {
     "slide_type": "slide"
    }
   },
   "source": [
    "We choose an rms bunch length of $\\sigma_z=10\\,$m:"
   ]
  },
  {
   "cell_type": "code",
   "execution_count": null,
   "id": "83008665",
   "metadata": {},
   "outputs": [],
   "source": [
    "sigma_z = 10"
   ]
  },
  {
   "cell_type": "markdown",
   "id": "36894af5",
   "metadata": {},
   "source": [
    "The corresponding rms momentum difference $\\sigma_{\\Delta p}$ is given through the equilibrium condition (equal Hamiltonian values):"
   ]
  },
  {
   "cell_type": "code",
   "execution_count": null,
   "id": "b96b8267",
   "metadata": {},
   "outputs": [],
   "source": [
    "sigma_deltap = np.sqrt(\n",
    "    2 * m.p0() / -m.eta(0) * \n",
    "    charge * m.voltage * np.pi * m.harmonic / (beta(gamma(m.p0())) * c * m.circumference**2)\n",
    ") * sigma_z"
   ]
  },
  {
   "cell_type": "code",
   "execution_count": null,
   "id": "0383dda6",
   "metadata": {},
   "outputs": [],
   "source": [
    "sigma_dp = sigma_deltap / m.p0()\n",
    "sigma_dp"
   ]
  },
  {
   "cell_type": "code",
   "execution_count": null,
   "id": "26a48a18",
   "metadata": {
    "slideshow": {
     "slide_type": "slide"
    }
   },
   "outputs": [],
   "source": [
    "plot_hamiltonian(m)\n",
    "plt.scatter([sigma_z, 0], [0, sigma_dp], marker='*', c='k');"
   ]
  },
  {
   "cell_type": "markdown",
   "id": "3b0ea4d8",
   "metadata": {
    "slideshow": {
     "slide_type": "slide"
    }
   },
   "source": [
    "Back to tracking, out of the box:"
   ]
  },
  {
   "cell_type": "code",
   "execution_count": null,
   "id": "9ba73ca6",
   "metadata": {},
   "outputs": [],
   "source": [
    "N = 1000\n",
    "n_turns = 5000"
   ]
  },
  {
   "cell_type": "code",
   "execution_count": null,
   "id": "3eda594b",
   "metadata": {},
   "outputs": [],
   "source": [
    "np.random.seed(12345)\n",
    "\n",
    "z_ini = np.random.normal(loc=0, scale=sigma_z, size=N)\n",
    "deltap_ini = np.random.normal(loc=0, scale=sigma_deltap, size=N)"
   ]
  },
  {
   "cell_type": "code",
   "execution_count": null,
   "id": "a107fe88",
   "metadata": {},
   "outputs": [],
   "source": [
    "z = np.zeros((n_turns, N), dtype=np.float64)\n",
    "deltap = np.zeros_like(z)\n",
    "\n",
    "z[0] = z_ini\n",
    "deltap[0] = deltap_ini"
   ]
  },
  {
   "cell_type": "code",
   "execution_count": null,
   "id": "709fcf0d",
   "metadata": {},
   "outputs": [],
   "source": [
    "for i_turn in trange(1, n_turns):\n",
    "    z[i_turn], deltap[i_turn] = track_one_turn(z[i_turn - 1], deltap[i_turn - 1], m)"
   ]
  },
  {
   "cell_type": "markdown",
   "id": "06a939d9",
   "metadata": {
    "slideshow": {
     "slide_type": "slide"
    }
   },
   "source": [
    "Now let's return to the outlined Monte-Carlo approach, analysing the results in terms of statistical moments.\n",
    "\n",
    "First the centroid:"
   ]
  },
  {
   "cell_type": "code",
   "execution_count": null,
   "id": "4c9d702a",
   "metadata": {
    "slideshow": {
     "slide_type": "-"
    }
   },
   "outputs": [],
   "source": [
    "plt.plot(np.mean(z, axis=1))\n",
    "\n",
    "plt.xlabel('Turns')\n",
    "plt.ylabel(r'$\\langle z \\rangle$');"
   ]
  },
  {
   "cell_type": "markdown",
   "id": "3aa00a3e",
   "metadata": {
    "slideshow": {
     "slide_type": "slide"
    }
   },
   "source": [
    "Then the rms beam size (bunch length):"
   ]
  },
  {
   "cell_type": "code",
   "execution_count": null,
   "id": "1fdb9767",
   "metadata": {},
   "outputs": [],
   "source": [
    "plt.plot(np.std(z, axis=1))\n",
    "\n",
    "plt.xlabel('Turns')\n",
    "plt.ylabel(r'$\\sigma_z$');"
   ]
  },
  {
   "cell_type": "markdown",
   "id": "ecbcca76",
   "metadata": {
    "slideshow": {
     "slide_type": "slide"
    }
   },
   "source": [
    "<h2>What happened?</h2>\n",
    "\n",
    "Let's look at the generated initial distribution of macro-particles:"
   ]
  },
  {
   "cell_type": "code",
   "execution_count": null,
   "id": "71433316",
   "metadata": {},
   "outputs": [],
   "source": [
    "plot_hamiltonian(m);\n",
    "plt.scatter(z[0], deltap[0] / m.p0(), marker='.', s=1);"
   ]
  },
  {
   "cell_type": "markdown",
   "id": "0142e1f8",
   "metadata": {},
   "source": [
    "$\\implies$ particles have been generated outside the rf bucket! "
   ]
  },
  {
   "cell_type": "markdown",
   "id": "256c1d02",
   "metadata": {
    "slideshow": {
     "slide_type": "slide"
    }
   },
   "source": [
    "<h2>Rejection Sampling Method I</h2>\n",
    "\n",
    "A solution to the problem of generating particles outside the separatrix: <i>reject</i> them at generation!\n",
    "\n",
    "$\\leadsto$ a word of caution: this approach modifies the effective distribution function (and the correspondingly generated effective rms values $\\sigma_z, \\sigma_\\delta$ become smaller)! "
   ]
  },
  {
   "cell_type": "code",
   "execution_count": null,
   "id": "040a0303",
   "metadata": {},
   "outputs": [],
   "source": [
    "np.random.seed(12345)\n",
    "\n",
    "z_ini = np.random.normal(loc=0, scale=sigma_z, size=N)\n",
    "deltap_ini = np.random.normal(loc=0, scale=sigma_deltap, size=N)"
   ]
  },
  {
   "cell_type": "markdown",
   "id": "22cf6f11",
   "metadata": {
    "slideshow": {
     "slide_type": "slide"
    }
   },
   "source": [
    "<h2>Rejection Sampling Method II</h2>\n",
    "\n",
    "Hamiltonian values of particles outside separatrix are positive (below transition), $\\mathcal{H}>0$ (using the full nonlinear Hamiltonian)!\n",
    "\n",
    "NB: Due to the discrete kicks in the finite difference maps, the Hamiltonian is only an approximation for the separatrix: better remain at a few percent distance inside of it!"
   ]
  },
  {
   "cell_type": "code",
   "execution_count": null,
   "id": "f434f623",
   "metadata": {},
   "outputs": [],
   "source": [
    "H_safetymargin = 0.05 * hamiltonian(0, 0, m)\n",
    "\n",
    "H_values = hamiltonian(z_ini, deltap_ini, m) - H_safetymargin\n",
    "\n",
    "while any(H_values >= 0):\n",
    "    mask_bad = H_values >= 0\n",
    "    N_bad = np.sum(mask_bad)\n",
    "    print (N_bad)\n",
    "    # re-initialise bad particles:\n",
    "    z_ini[mask_bad] = np.random.normal(loc=0, scale=sigma_z, size=N_bad)\n",
    "    deltap_ini[mask_bad] = np.random.normal(loc=0, scale=sigma_deltap, size=N_bad)\n",
    "    # re-evaluate rejection condition\n",
    "    H_values = hamiltonian(z_ini, deltap_ini, m) - H_safetymargin"
   ]
  },
  {
   "cell_type": "markdown",
   "id": "ee349b25",
   "metadata": {
    "slideshow": {
     "slide_type": "slide"
    }
   },
   "source": [
    "Now we should be good to go!"
   ]
  },
  {
   "cell_type": "code",
   "execution_count": null,
   "id": "be119eb5",
   "metadata": {},
   "outputs": [],
   "source": [
    "plot_hamiltonian(m);\n",
    "plt.scatter(z_ini, deltap_ini / m.p0(), marker='.', s=1);"
   ]
  },
  {
   "cell_type": "markdown",
   "id": "af1c6162",
   "metadata": {
    "slideshow": {
     "slide_type": "slide"
    }
   },
   "source": [
    "Tracking again..."
   ]
  },
  {
   "cell_type": "code",
   "execution_count": null,
   "id": "b812ae0e",
   "metadata": {},
   "outputs": [],
   "source": [
    "z = np.zeros((n_turns, N), dtype=np.float64)\n",
    "deltap = np.zeros_like(z)\n",
    "\n",
    "z[0] = z_ini\n",
    "deltap[0] = deltap_ini"
   ]
  },
  {
   "cell_type": "code",
   "execution_count": null,
   "id": "644cc2bc",
   "metadata": {},
   "outputs": [],
   "source": [
    "for i_turn in trange(1, n_turns):\n",
    "    z[i_turn], deltap[i_turn] = track_one_turn(z[i_turn - 1], deltap[i_turn - 1], m)"
   ]
  },
  {
   "cell_type": "markdown",
   "id": "ddd7b0f6",
   "metadata": {
    "slideshow": {
     "slide_type": "slide"
    }
   },
   "source": [
    "Looking again at the centroid:"
   ]
  },
  {
   "cell_type": "code",
   "execution_count": null,
   "id": "c544cbb3",
   "metadata": {},
   "outputs": [],
   "source": [
    "plt.plot(np.mean(z, axis=1))\n",
    "\n",
    "plt.xlabel('Turns')\n",
    "plt.ylabel(r'$\\langle z \\rangle$');"
   ]
  },
  {
   "cell_type": "markdown",
   "id": "580313a8",
   "metadata": {
    "slideshow": {
     "slide_type": "slide"
    }
   },
   "source": [
    "Then the rms bunch length:"
   ]
  },
  {
   "cell_type": "code",
   "execution_count": null,
   "id": "9e750dee",
   "metadata": {},
   "outputs": [],
   "source": [
    "plt.plot(np.std(z, axis=1))\n",
    "\n",
    "plt.xlabel('Turns')\n",
    "plt.ylabel(r'$\\sigma_z$');"
   ]
  },
  {
   "cell_type": "markdown",
   "id": "1604ad58",
   "metadata": {
    "slideshow": {
     "slide_type": "slide"
    }
   },
   "source": [
    "<p style=\"color: #e6541a;\">$\\implies$ try larger choices of initial $\\sigma_z$ and see where the bunch length evolution saturates.</p>"
   ]
  },
  {
   "cell_type": "markdown",
   "id": "6ebf9daa",
   "metadata": {},
   "source": [
    "$\\leadsto$ another problem with initialising Gaussian distributions: at larger amplitudes $z$, the small-amplitude approximation with $\\mathcal{H}_\\mathrm{stat,small}$ necessarily breaks down! A Gaussian particle distribution is <b>not</b> in equilibrium for sufficiently large rms values in a nonlinear potential, the particles will <b>filament</b>! (...and the rms emittance will grow, as one can observe in the final equilibrium rms bunch length which is larger than the initial $\\sigma_z$!)\n",
    "\n",
    "$\\implies$ generally require full nonlinear Hamiltonian $\\mathcal{H}$ to construct PDF\n",
    "\n",
    "$$\\psi(\\mathcal{H})\\propto\\exp\\left(\\cfrac{\\mathcal{H}}{\\mathcal{H}_0}\\right)$$"
   ]
  },
  {
   "cell_type": "markdown",
   "id": "eb412faa",
   "metadata": {
    "slideshow": {
     "slide_type": "slide"
    }
   },
   "source": [
    "<h2>RMS Emittance</h2>\n",
    "\n",
    "Define statistical <b>rms emittance</b> as in Lecture 2:"
   ]
  },
  {
   "cell_type": "code",
   "execution_count": null,
   "id": "a8ca51ed",
   "metadata": {},
   "outputs": [],
   "source": [
    "def emittance(z, deltap):\n",
    "    N = len(z)\n",
    "    \n",
    "    # subtract centroids\n",
    "    z = z - 1/N * np.sum(z)\n",
    "    deltap = deltap - 1/N * np.sum(deltap)\n",
    "    \n",
    "    # compute Σ matrix entries\n",
    "    z_sq = 1/N * np.sum(z * z)\n",
    "    deltap_sq = 1/N * np.sum(deltap * deltap)\n",
    "    crossterm = 1/N * np.sum(z * deltap)\n",
    "    \n",
    "    # determinant of Σ matrix\n",
    "    epsilon = np.sqrt(z_sq * deltap_sq - crossterm * crossterm)\n",
    "    return epsilon"
   ]
  },
  {
   "cell_type": "code",
   "execution_count": null,
   "id": "1743b226",
   "metadata": {
    "slideshow": {
     "slide_type": "slide"
    }
   },
   "outputs": [],
   "source": [
    "epsn_z = np.array([emittance(z_i, deltap_i) for z_i, deltap_i in zip(z, deltap)])"
   ]
  },
  {
   "cell_type": "code",
   "execution_count": null,
   "id": "5febd72c",
   "metadata": {},
   "outputs": [],
   "source": [
    "plt.plot(epsn_z / e)\n",
    "\n",
    "plt.xlabel('Turns')\n",
    "plt.ylabel('$\\epsilon_z$ [eV.s]');"
   ]
  },
  {
   "cell_type": "markdown",
   "id": "d9417871",
   "metadata": {
    "slideshow": {
     "slide_type": "slide"
    }
   },
   "source": [
    "<p style=\"color: #e6541a;\">$\\implies$ try larger choices of initial $\\sigma_z$ and observe how the emittance evolves.</p>"
   ]
  },
  {
   "cell_type": "markdown",
   "id": "81fd2f35",
   "metadata": {
    "slideshow": {
     "slide_type": "slide"
    }
   },
   "source": [
    "<h2>Summary</h2>\n",
    "\n",
    "- Synchrotron motion: difference eq. $\\rightarrow$ differential eq. $\\rightarrow$ Hamiltonian $\\mathcal{H}$\n",
    "- rf bucket: the separatrix of synchrotron motion Hamiltonian\n",
    "- relationship synchronous phase $\\varphi_s$ vs. phase-slip factor $\\eta$ vs. phase focusing vs. tracking & Hamiltonian\n",
    "---\n",
    "- Linear Congruential Generators: uniformly distributed random number sequences\n",
    "- Box-Muller method: Gaussian distributed random number sequences\n",
    "---\n",
    "- harmonic oscillator and small-amplitude approximation\n",
    "- equilibrium distributions and generation of macro-particles\n",
    "- thermal PDF, connection of harmonic oscillation and bi-Gaussian distributions\n",
    "- rejection sampling (rf bucket)"
   ]
  },
  {
   "cell_type": "markdown",
   "id": "933089e0",
   "metadata": {
    "slideshow": {
     "slide_type": "slide"
    }
   },
   "source": [
    "<h2>Literature</h2>\n",
    "\n",
    "- [J. Qiang's lecture on Monte-Carlo Simulation Techniques](https://arxiv.org/pdf/2006.10506.pdf)"
   ]
  }
 ],
 "metadata": {
  "celltoolbar": "Slideshow",
  "kernelspec": {
   "display_name": "Python 3 (ipykernel)",
   "language": "python",
   "name": "python3"
  },
  "language_info": {
   "codemirror_mode": {
    "name": "ipython",
    "version": 3
   },
   "file_extension": ".py",
   "mimetype": "text/x-python",
   "name": "python",
   "nbconvert_exporter": "python",
   "pygments_lexer": "ipython3",
   "version": "3.10.6"
  },
  "rise": {
   "enable_chalkboard": true,
   "footer": "<p>Fachbereich Elektrotechnik und Informationstechnik (etit)   |   Institut für Teilchenbeschleunigung und Elektromagnetische Felder (TEMF)   |   Dr. Adrian Oeftiger</p>",
   "header": "<img src='https://upload.wikimedia.org/wikipedia/de/thumb/2/24/TU_Darmstadt_Logo.svg/640px-TU_Darmstadt_Logo.svg.png' />",
   "scroll": true,
   "theme": "simple",
   "transition": "none"
  }
 },
 "nbformat": 4,
 "nbformat_minor": 5
}
