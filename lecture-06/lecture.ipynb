{
 "cells": [
  {
   "cell_type": "markdown",
   "id": "38250724",
   "metadata": {
    "slideshow": {
     "slide_type": "slide"
    }
   },
   "source": [
    "<h1 style=\"text-align: center; vertical-align: middle;\">Numerical Methods in Accelerator Physics</h1>\n",
    "<h2 style=\"text-align: center; vertical-align: middle;\">Lecture Series by Dr. Adrian Oeftiger</h2>\n",
    "\n",
    "<div style=\"width: 45%; margin: auto; margin-top: 1em; vertical-align: middle;\">\n",
    "<img src=\"./img/etit.png\" style=\"width: 30%; float: left; margin-right: 5%;\" /><img src=\"./img/GSI_Logo.png\" style=\"width: 35%; float: left; margin-right: 5%; padding-top: 0.5em;\" /><img src=\"./img/FAIR_Logo.png\" style=\"width: 25%; float: left;\" />\n",
    "</div>\n",
    "\n",
    "<h3 style=\"clear: both; text-align: center; margin-top: 1em;\">Lecture 6</h3>"
   ]
  },
  {
   "cell_type": "markdown",
   "id": "06a8d74b",
   "metadata": {
    "slideshow": {
     "slide_type": "slide"
    }
   },
   "source": [
    "<h2>Run this notebook online!</h2>\n",
    "\n",
    "Interact and run this jupyter notebook online:\n",
    "\n",
    "<div class=\"alert alert-block alert-info\" style=\"text-align:center;\">\n",
    "via the public mybinder.org service: <br />\n",
    "<a href=\"https://mybinder.org/v2/gh/aoeftiger/TUDa-NMAP-2023/v6.1\" style=\"width:auto; display:table;margin:0.5em auto;\"><img src=\"./img/binder_logo.svg\" alt=\"mybinder.org logo\" height=\"1ex\" /></a>\n",
    "</div>\n",
    "\n",
    "<div class=\"alert alert-block alert-info\" style=\"text-align:center;\">\n",
    "via the public gesis.org service: <br />\n",
    "<a href=\"https://notebooks.gesis.org/binder/v2/gh/aoeftiger/TUDA-NMAP-2023/v6.1\" style=\"width:auto; display:table;margin:0.5em auto;\"><img src=\"./img/binder_logo.svg\" alt=\"gesis.org logo\" height=\"1ex\" /></a>\n",
    "</div>\n",
    "\n",
    "Also find this lecture rendered [as HTML slides on github $\\nearrow$](https://aoeftiger.github.io/TUDa-NMAP-2023/) along with the [source repository $\\nearrow$](https://github.com/aoeftiger/TUDa-NMAP-2023)."
   ]
  },
  {
   "cell_type": "markdown",
   "id": "a57cc074",
   "metadata": {
    "slideshow": {
     "slide_type": "slide"
    }
   },
   "source": [
    "<h2>Run this first!</h2>\n",
    "\n",
    "Imports and modules:"
   ]
  },
  {
   "cell_type": "code",
   "execution_count": null,
   "id": "e538eebc",
   "metadata": {
    "slideshow": {
     "slide_type": "-"
    }
   },
   "outputs": [],
   "source": [
    "from config import (np, plt, plot_rfwave, tqdm, trange, \n",
    "                    beta, gamma, Machine, track_one_turn,\n",
    "                    charge, mass, emittance, hamiltonian, \n",
    "                    plot_hamiltonian, plot_rf_overview,\n",
    "                    plot_dist, plot_mp)\n",
    "from scipy.constants import m_p, e, c\n",
    "%matplotlib inline"
   ]
  },
  {
   "cell_type": "markdown",
   "id": "8ac1256f",
   "metadata": {},
   "source": [
    "If the progress bar by `tqdm` (`trange`) in this document does not work, run this:"
   ]
  },
  {
   "cell_type": "code",
   "execution_count": null,
   "id": "e94c6643",
   "metadata": {},
   "outputs": [],
   "source": [
    "!jupyter nbextension enable --py widgetsnbextension"
   ]
  },
  {
   "cell_type": "markdown",
   "id": "d5d19c39",
   "metadata": {
    "slideshow": {
     "slide_type": "slide"
    }
   },
   "source": [
    "<h2 style=\"color: #b51f2a\">Refresher!</h2>\n",
    "\n",
    "- Hamiltonian for synchrotron motion (rf bucket, stationary case and small-amplitude approximation)\n",
    "- Monte-Carlo Techniques: sampling of distribution functions\n",
    "- uniformly distributed pseudo-random numbers (with Linear Congruential Generators)\n",
    "- Gaussian distributed pseudo-random numbers (Box-Muller method)\n",
    "- Equilibrium distributions\n",
    "- Equilibrium at small amplitudes: harmonic oscillation $\\leftrightarrow$ Gaussian distribution\n",
    "- Rejection sampling"
   ]
  },
  {
   "cell_type": "markdown",
   "id": "ca9cec0a",
   "metadata": {
    "slideshow": {
     "slide_type": "slide"
    }
   },
   "source": [
    "<h2 style=\"color: #b51f2a\">Today!</h2>\n",
    "\n",
    "1. Simulation of Full CERN PS Acceleration Ramp\n",
    "2. Initialisation of Phase Space (Cont'd)\n",
    "3. Emittance Preservation & Injection Errors"
   ]
  },
  {
   "cell_type": "markdown",
   "id": "54c56d4e",
   "metadata": {
    "slideshow": {
     "slide_type": "slide"
    }
   },
   "source": [
    "<div style=\"text-align: center; width:100%;\">\n",
    "    <h2>Part I: Simulation of Full CERN PS Acceleration Ramp</h2>\n",
    "</div>"
   ]
  },
  {
   "cell_type": "markdown",
   "id": "0341caa1",
   "metadata": {
    "slideshow": {
     "slide_type": "slide"
    }
   },
   "source": [
    "<h2>CERN PS Parameters (once more)</h2>\n",
    "\n",
    "For reference, the CERN Proton Synchrotron (PS) parameters:\n",
    "- has a circumference of 2π·100m\n",
    "- takes protons from the PS Booster at a kinetic energy of 2GeV corresponding to $\\gamma=3.13$\n",
    "- injects with 50kV of rf voltage, up to 200kV for ramp\n",
    "- runs at harmonic $h=7$\n",
    "- has a momentum compaction factor of $\\alpha_c=0.027$\n",
    "- typical acceleration rate of (up to) $\\dot{B}=2$ T/s, the bending radius is $\\rho=70.08$ m"
   ]
  },
  {
   "cell_type": "markdown",
   "id": "ccdfda3b",
   "metadata": {
    "slideshow": {
     "slide_type": "slide"
    }
   },
   "source": [
    "<h2 style=\"color: #e6541a;\">Exercise</h2>\n",
    "\n",
    "<div style=\"color: #e6541a; margin-top: 2em;\">\n",
    "In the following, let us properly simulate the <b>full acceleration ramp</b> (including crossing transition) with a bunch of small emittance (phase-space area)!\n",
    "\n",
    "You as operator in the (simulation) control centre shall pay attention to <b>preserve the longitudinal emittance</b> throughout the acceleration!\n",
    "\n",
    "$\\implies$ Investigate the tracking results. Can you explain what happens? Think about what you need to change in the machine settings to achieve emittance preservation.\n",
    "</div>"
   ]
  },
  {
   "cell_type": "markdown",
   "id": "44a6e735",
   "metadata": {
    "slideshow": {
     "slide_type": "slide"
    }
   },
   "source": [
    "We start by instantiating the PS, `Machine(...)`:\n",
    "\n",
    "(<i>hint: hit both `Shift+Tab` keys inside the parentheses `()` below to get info about the possible arguments to `Machine`</i>)"
   ]
  },
  {
   "cell_type": "code",
   "execution_count": null,
   "id": "5d52af9f",
   "metadata": {},
   "outputs": [],
   "source": [
    "m = Machine()\n",
    "\n",
    "assert m.phi_s > 0, \"machine is not accelerating...?\""
   ]
  },
  {
   "cell_type": "markdown",
   "id": "e1e2e527",
   "metadata": {
    "slideshow": {
     "slide_type": "slide"
    }
   },
   "source": [
    "If you want to check the rf systems setup, uncomment (remove `#`) the following plot command from the previous lecture:"
   ]
  },
  {
   "cell_type": "code",
   "execution_count": null,
   "id": "a708ac71",
   "metadata": {
    "slideshow": {
     "slide_type": "-"
    }
   },
   "outputs": [],
   "source": [
    "# plot_rf_overview(m);"
   ]
  },
  {
   "cell_type": "markdown",
   "id": "3eb8b31f",
   "metadata": {
    "slideshow": {
     "slide_type": "slide"
    }
   },
   "source": [
    "We initialise a Gaussian bunch distribution with very small rms bunch length $\\sigma_z=1\\,$m (so that the small-amplitude approximation holds):"
   ]
  },
  {
   "cell_type": "code",
   "execution_count": null,
   "id": "bc0cf32f",
   "metadata": {},
   "outputs": [],
   "source": [
    "sigma_z = 1"
   ]
  },
  {
   "cell_type": "markdown",
   "id": "1996e8e4",
   "metadata": {},
   "source": [
    "The \"matched\" rms momentum spread $\\sigma_{\\Delta p}$ (remember, $\\sigma_{\\Delta p}$ and $\\sigma_z$ are linked via equal Hamiltonian values $\\mathcal{H}_0$, the equilibrium condition):"
   ]
  },
  {
   "cell_type": "code",
   "execution_count": null,
   "id": "e1a022be",
   "metadata": {},
   "outputs": [],
   "source": [
    "sigma_deltap = np.sqrt(\n",
    "    2 * m.p0() / -m.eta(0) * \n",
    "    charge * m.voltage * np.pi * m.harmonic / (beta(gamma(m.p0())) * c * m.circumference**2)\n",
    ") * sigma_z"
   ]
  },
  {
   "cell_type": "markdown",
   "id": "ab41d0b6",
   "metadata": {
    "slideshow": {
     "slide_type": "slide"
    }
   },
   "source": [
    "<h2>Generating Macro-particles via Box-Muller</h2>\n",
    "\n",
    "(<i>NB: with this small emittance / rms size in phase space, the Gaussian tails cannot reach outside the separatrix due to numerical reasons, so no rejection sampling is needed in this particular case.</i>\n",
    "\n",
    "<i>Finite machine precision at FP64 is $\\varepsilon\\approx 2^{-53}$, therefore one can only generate pseudo-random numbers from the Gaussian distribution up to an amplitude of $x$ where $\\exp(-x^2/2)=2^{-53}$, i.e.</i>"
   ]
  },
  {
   "cell_type": "code",
   "execution_count": null,
   "id": "167e0bcf",
   "metadata": {},
   "outputs": [],
   "source": [
    "np.sqrt(2 * -np.log(2**-53))"
   ]
  },
  {
   "cell_type": "markdown",
   "id": "48950e28",
   "metadata": {},
   "source": [
    "<i>$\\implies$ given $\\sigma_z=1\\,$</i>m<i>, no particles can be generated outside of $z=8.6\\,$m and the equivalent Hamiltonian contour in phase space)</i>"
   ]
  },
  {
   "cell_type": "code",
   "execution_count": null,
   "id": "d9d2b7d9",
   "metadata": {
    "slideshow": {
     "slide_type": "slide"
    }
   },
   "outputs": [],
   "source": [
    "N = 1000"
   ]
  },
  {
   "cell_type": "code",
   "execution_count": null,
   "id": "15012d32",
   "metadata": {},
   "outputs": [],
   "source": [
    "np.random.seed(12345)\n",
    "\n",
    "z = np.random.normal(loc=0, scale=sigma_z, size=N)\n",
    "deltap = np.random.normal(loc=0, scale=sigma_deltap, size=N)"
   ]
  },
  {
   "cell_type": "code",
   "execution_count": null,
   "id": "140ea530",
   "metadata": {},
   "outputs": [],
   "source": [
    "plot_hamiltonian(m)\n",
    "plt.scatter(z, deltap / m.p0(), marker='.', s=1);"
   ]
  },
  {
   "cell_type": "markdown",
   "id": "bcad46f7",
   "metadata": {
    "slideshow": {
     "slide_type": "slide"
    }
   },
   "source": [
    "<h2>Compute Duration of Ramp</h2>\n",
    "\n",
    "$(\\Delta\\gamma)_\\mathrm{turn} = \\cfrac{\\Delta E_\\mathrm{tot}}{m_0c^2} = \\cfrac{qV\\sin(\\varphi_s)}{m_0c^2}$\n",
    "\n",
    "such that accelerating from $\\gamma_\\mathrm{ref}=3.1$ to $\\gamma_\\mathrm{ref}=27.7$ takes as many turns as\n",
    "\n",
    "$n_\\mathrm{turns}=\\cfrac{27.7-3.1}{(\\Delta\\gamma)_\\mathrm{turn}}$"
   ]
  },
  {
   "cell_type": "code",
   "execution_count": null,
   "id": "9448378d",
   "metadata": {},
   "outputs": [],
   "source": [
    "dgamma_per_turn = charge * m.voltage * np.sin(m.phi_s) / (mass * c**2)\n",
    "n_turns = int(np.ceil((27.7 - 3.13) / dgamma_per_turn))\n",
    "n_turns"
   ]
  },
  {
   "cell_type": "markdown",
   "id": "c553aed6",
   "metadata": {
    "slideshow": {
     "slide_type": "slide"
    }
   },
   "source": [
    "Record longitudinal emittance during tracking:"
   ]
  },
  {
   "cell_type": "code",
   "execution_count": null,
   "id": "77a7a6f7",
   "metadata": {},
   "outputs": [],
   "source": [
    "epsn_z = np.zeros(n_turns, dtype=np.float64)\n",
    "\n",
    "epsn_z[0] = emittance(z, deltap)"
   ]
  },
  {
   "cell_type": "markdown",
   "id": "6aea59d4",
   "metadata": {
    "slideshow": {
     "slide_type": "slide"
    }
   },
   "source": [
    "Let's go tracking! ($\\approx 1\\,$min total time)"
   ]
  },
  {
   "cell_type": "code",
   "execution_count": null,
   "id": "1d3cd18c",
   "metadata": {},
   "outputs": [],
   "source": [
    "for i_turn in trange(1, n_turns):\n",
    "    z, deltap = track_one_turn(z, deltap, m)\n",
    "    \n",
    "    epsn_z[i_turn] = emittance(z, deltap)"
   ]
  },
  {
   "cell_type": "markdown",
   "id": "9e5f8905",
   "metadata": {},
   "source": [
    "We have reached the extraction energy of $\\gamma=27.7$:"
   ]
  },
  {
   "cell_type": "code",
   "execution_count": null,
   "id": "3f524781",
   "metadata": {},
   "outputs": [],
   "source": [
    "m.gamma_ref"
   ]
  },
  {
   "cell_type": "markdown",
   "id": "6a3892f7",
   "metadata": {
    "slideshow": {
     "slide_type": "slide"
    }
   },
   "source": [
    "<h2>How did we do?</h2>\n",
    "\n",
    "Check that we properly conserved the rms emittance:"
   ]
  },
  {
   "cell_type": "code",
   "execution_count": null,
   "id": "4f8bb6ce",
   "metadata": {},
   "outputs": [],
   "source": [
    "plt.plot(np.arange(n_turns) / 100000, epsn_z / e)\n",
    "\n",
    "plt.xlabel('Turns [100k]')\n",
    "plt.ylabel('$\\epsilon_z$ [eV.s]');"
   ]
  },
  {
   "cell_type": "markdown",
   "id": "3dc6ead9",
   "metadata": {},
   "source": [
    "<span style=\"color: #e6541a;\">$\\implies$ use the following phase-space plot besides the plotting functions </span>`plot_hamiltonian`<span style=\"color: #e6541a;\"> and </span>`plot_rf_overview`<span style=\"color: #e6541a;\"> above (from last lecture) as <b>diagnostics</b>. You can stop the tracking after a certain turn to investigate, e.g. by changing the value of </span>`n_turns`<span style=\"color: #e6541a;\"> inside the </span>`trange`<span style=\"color: #e6541a;\"> counter in the </span>`for`<span style=\"color: #e6541a;\"> loop.</span>"
   ]
  },
  {
   "cell_type": "code",
   "execution_count": null,
   "id": "02cdd6bc",
   "metadata": {
    "slideshow": {
     "slide_type": "slide"
    }
   },
   "outputs": [],
   "source": [
    "plot_hamiltonian(m);\n",
    "plt.scatter(z % 600, deltap / m.p0(), marker='.', s=1);"
   ]
  },
  {
   "cell_type": "markdown",
   "id": "82603d4c",
   "metadata": {
    "slideshow": {
     "slide_type": "slide"
    }
   },
   "source": [
    "<div style=\"text-align: center; width:100%;\">\n",
    "    <h2>Part II: Initialisation of Phase Space (Cont'd)</h2>\n",
    "</div>"
   ]
  },
  {
   "cell_type": "markdown",
   "id": "7a52380e",
   "metadata": {
    "slideshow": {
     "slide_type": "slide"
    }
   },
   "source": [
    "<h2>Matching with Nonlinear Hamiltonians</h2>\n",
    "\n",
    "Last lecture we looked at the thermal equilibrium distribution in small-amplitude approximation ($=$ Gaussian distribution) to generate a bunch of macro-particles in longitudinal phase space.\n",
    "\n",
    "For the Gaussian distribution, the <b>target</b> rms bunch length $\\hat{\\sigma}_z$ directly enters the generator as a multiplication factor: a random variable $x$ following a Gaussian normal distribution has $\\sigma_x=1$, then $z=\\hat{\\sigma}_z\\cdot x$ will provide the Gaussian normal distributed random variable $z$ with $\\sigma_z=\\hat{\\sigma}_z$.\n",
    "\n",
    "For a general thermal equilibrium distribution in a nonlinear Hamiltonian, the PDF becomes\n",
    "\n",
    "$$\\psi=\\psi(\\mathcal{H})\\propto \\exp\\left(\\frac{\\mathcal{H}}{\\mathcal{H}_0}\\right)$$\n",
    "\n",
    "for a constant parameter $\\mathcal{H}_0$. The value of $\\mathcal{H}_0$ is determined through $\\hat{\\sigma}_z$ such that $\\psi$ yields a distribution with corresponding rms bunch length. For nonlinear $\\mathcal{H}$, the parameter $\\mathcal{H}_0$ will generally have to be computed numerically. This process is referred to as <b>\"matching\"</b>!"
   ]
  },
  {
   "cell_type": "markdown",
   "id": "13fe2239",
   "metadata": {
    "slideshow": {
     "slide_type": "slide"
    }
   },
   "source": [
    "<h2>PyHEADTAIL</h2>\n",
    "\n",
    "In the following we will investigate the full nonlinear Hamiltonian case, $\\psi=\\psi(\\mathcal{H})$.\n",
    "\n",
    "Let's work with the python library `PyHEADTAIL` (simulation suite for beam dynamics). If `PyHEADTAIL` is not yet installed, please pip-install it:\n",
    "\n",
    "```bash\n",
    "    $ pip install PyHEADTAIL==1.16.1\n",
    "```"
   ]
  },
  {
   "cell_type": "markdown",
   "id": "ed7e3087",
   "metadata": {
    "slideshow": {
     "slide_type": "slide"
    }
   },
   "source": [
    "<!-- If you are working on the TUDa jupyterhub, please run instead ```!TMPDIR=\"`pwd`\" pip install PyHEADTAIL --prefix=\"`pwd`/requirements\"``` -->\n",
    "\n",
    "<h2>RF Buckets in PyHEADTAIL</h2>\n",
    "\n",
    "`PyHEADTAIL` provides a class to represent rf buckets (for plotting as well as for matching):"
   ]
  },
  {
   "cell_type": "code",
   "execution_count": null,
   "id": "9e0a3005",
   "metadata": {},
   "outputs": [],
   "source": [
    "from PyHEADTAIL.trackers.rf_bucket import RFBucket"
   ]
  },
  {
   "cell_type": "markdown",
   "id": "74e80682",
   "metadata": {},
   "source": [
    "We define a convenience function to provide `RFBucket` instances given a `Machine` instance:"
   ]
  },
  {
   "cell_type": "code",
   "execution_count": null,
   "id": "2c1e8e11",
   "metadata": {},
   "outputs": [],
   "source": [
    "def get_pyht_rfbucket(machine):\n",
    "    m = machine\n",
    "    deltap_per_turn = charge * m.voltage / (beta(gamma(m.p0())) * c) * np.sin(m.phi_s)\n",
    "    rfb = RFBucket(m.circumference, m.gamma_ref, mass, charge, [m.alpha_c], deltap_per_turn, \n",
    "                   [m.harmonic], [m.voltage], [np.pi + m.phi_s])\n",
    "    # PyHEADTAIL has a different convention for the phase and is offset by π compared to our lecture\n",
    "    return rfb"
   ]
  },
  {
   "cell_type": "markdown",
   "id": "96fe51d7",
   "metadata": {
    "slideshow": {
     "slide_type": "slide"
    }
   },
   "source": [
    "<h2>Visualising the Distributions in the RF Bucket</h2>"
   ]
  },
  {
   "cell_type": "code",
   "execution_count": null,
   "id": "9461c41f",
   "metadata": {
    "slideshow": {
     "slide_type": "-"
    }
   },
   "outputs": [],
   "source": [
    "m = Machine(gamma_ref=3.13)"
   ]
  },
  {
   "cell_type": "code",
   "execution_count": null,
   "id": "0d492b42",
   "metadata": {},
   "outputs": [],
   "source": [
    "rfb = get_pyht_rfbucket(m)"
   ]
  },
  {
   "cell_type": "code",
   "execution_count": null,
   "id": "27d61476",
   "metadata": {},
   "outputs": [],
   "source": [
    "from PyHEADTAIL.particles.rfbucket_matching import (\n",
    "    ThermalDistribution, WaterbagDistribution, ParabolicDistribution)"
   ]
  },
  {
   "cell_type": "code",
   "execution_count": null,
   "id": "3eafd0eb",
   "metadata": {},
   "outputs": [],
   "source": [
    "sigma_z = 8"
   ]
  },
  {
   "cell_type": "markdown",
   "id": "b54d41a5",
   "metadata": {},
   "source": [
    "Computing the (initial) guess for $\\mathcal{H}_0$ based on the small-amplitude approximation:"
   ]
  },
  {
   "cell_type": "code",
   "execution_count": null,
   "id": "ae2ba804",
   "metadata": {},
   "outputs": [],
   "source": [
    "H0 = rfb.guess_H0(sigma_z, from_variable='sigma')\n",
    "H0"
   ]
  },
  {
   "cell_type": "markdown",
   "id": "016a1945",
   "metadata": {
    "slideshow": {
     "slide_type": "slide"
    }
   },
   "source": [
    "<h2>Reminder: Equilibrium at Small Amplitudes</h2>\n",
    "\n",
    "<i>Small-amplitude approximation</i> and a stationary rf bucket below transition, $\\varphi_s=0$: particles follow harmonic oscillation with\n",
    "\n",
    "$$\\mathcal{H}_\\mathrm{stat,small}(z,\\Delta p) = \\frac{1}{2}\\frac{-\\eta}{p_0} \\Delta p{}^2 + \\frac{qV}{\\beta c}\\cdot \\cfrac{\\pi h}{C^2}\\cdot z^2\n",
    "$$\n",
    "\n",
    "The PDF of the <i>thermal distribution</i> becomes\n",
    "\n",
    "$$\\psi(\\mathcal{H})\\propto\\exp\\left(\\frac{\\mathcal{H}_{stat,small}}{\\mathcal{H}_0}\\right)=\\exp\\left(\\frac{1}{2}\\frac{\\frac{qV\\,2\\pi h}{\\beta c C^2}}{\\mathcal{H}_0}\\cdot z^2\\right) \\cdot \\exp\\left(\\frac{1}{2}\\frac{-\\eta/p_0}{\\mathcal{H}_0}\\cdot \\Delta p^2\\right)$$\n",
    "\n",
    "which is simply a <b>bi-Gaussian distribution</b> in $\\Delta p$ and $z$! "
   ]
  },
  {
   "cell_type": "markdown",
   "id": "a50ee6f6",
   "metadata": {
    "slideshow": {
     "slide_type": "slide"
    }
   },
   "source": [
    "<h2>Computing $\\mathcal{H}_0$</h2>\n",
    "\n",
    "$$\\psi(\\mathcal{H})\\propto\\exp\\left(\\frac{\\mathcal{H}_{stat,small}}{\\mathcal{H}_0}\\right)=\\exp\\left(\\frac{1}{2}\\frac{\\frac{qV\\,2\\pi h}{\\beta c C^2}}{\\mathcal{H}_0}\\cdot z^2\\right) \\cdot \\exp\\left(\\frac{1}{2}\\frac{-\\eta/p_0}{\\mathcal{H}_0}\\cdot \\Delta p^2\\right)$$\n",
    "\n",
    "The constant $\\mathcal{H}_0$ is determined by a choice of the rms bunch length $\\sigma_z$ (or equivalently the rms momentum deviation $\\sigma_\\delta=\\sigma_{\\Delta p}/p_0$):\n",
    "\n",
    "$$\\mathcal{H}_0 = \\mathcal{H}_\\mathrm{stat,small}(\\sigma_z,\\Delta p=0) = \\frac{qV}{\\beta c}\\cdot \\cfrac{\\pi h}{C^2}\\cdot \\sigma_z{}^2 \\mathrel{\\color{red}{\\stackrel{!}{=}}} \\mathcal{H}_\\mathrm{stat,small}(z=0,\\sigma_{\\Delta p}) = \\frac{1}{2}\\frac{-\\eta}{p_0} \\sigma_{\\Delta p}{}^2$$\n",
    "\n",
    "$\\implies$ as equilibrium or <b>matching condition</b>, <b>$\\sigma_z$ and $\\sigma_\\delta$ are linked</b> to each other via equal Hamiltonian values!"
   ]
  },
  {
   "cell_type": "code",
   "execution_count": null,
   "id": "23d5cd0b",
   "metadata": {
    "slideshow": {
     "slide_type": "slide"
    }
   },
   "outputs": [],
   "source": [
    "plot_dist(ThermalDistribution, rfb, H0=0.05*H0);"
   ]
  },
  {
   "cell_type": "markdown",
   "id": "67b36a36",
   "metadata": {
    "slideshow": {
     "slide_type": "slide"
    }
   },
   "source": [
    "<p style=\"color: #e6541a;\">$\\implies$ adjust the $\\sigma_z$ and observe the impact of the non-linearities on the matched $\\psi$ (small $\\sigma_z$ will make the distribution more Gaussian-like)!</p>"
   ]
  },
  {
   "cell_type": "markdown",
   "id": "29a307e6",
   "metadata": {
    "slideshow": {
     "slide_type": "slide"
    }
   },
   "source": [
    "Change the distribution type from `ThermalDistribution` to `WaterbagDistribution` (or e.g. `ParabolicDistribution`):"
   ]
  },
  {
   "cell_type": "code",
   "execution_count": null,
   "id": "cd9c82aa",
   "metadata": {},
   "outputs": [],
   "source": [
    "plot_dist(WaterbagDistribution, rfb, H0=H0*2);"
   ]
  },
  {
   "cell_type": "markdown",
   "id": "8fc9ff31",
   "metadata": {
    "slideshow": {
     "slide_type": "slide"
    }
   },
   "source": [
    "<h2>Matching Algorithm</h2>\n",
    "\n",
    "Given a target rms bunch length $\\hat{\\sigma}_z$, define the following \"matching\" algorithm:\n",
    "\n",
    "1. initial value for $\\mathcal{H}_0$ given by small-amplitude approximation (the bi-Gaussian case)\n",
    "2. compute (numerically) the resulting $\\sigma_z$ for full $\\psi(\\mathcal{H}/\\mathcal{H}_0)$\n",
    "3. compare $\\sigma_z$ with target $\\hat{\\sigma}_z$\n",
    "4. adjust $\\mathcal{H}_0$ (for $\\sigma_z<\\hat{\\sigma}_z$ increase $\\mathcal{H}_0$ and vice versa), go to step 2 until converged"
   ]
  },
  {
   "cell_type": "markdown",
   "id": "22dbffe3",
   "metadata": {},
   "source": [
    "This matching algorithm is implemented in the `RFBucketMatcher` class in `PyHEADTAIL`:"
   ]
  },
  {
   "cell_type": "code",
   "execution_count": null,
   "id": "75c4d5aa",
   "metadata": {},
   "outputs": [],
   "source": [
    "from PyHEADTAIL.particles.generators import RFBucketMatcher"
   ]
  },
  {
   "cell_type": "code",
   "execution_count": null,
   "id": "0477b674",
   "metadata": {},
   "outputs": [],
   "source": [
    "rfb_matcher = RFBucketMatcher(rfb, ThermalDistribution, sigma_z=sigma_z)\n",
    "rfb_matcher.integrationmethod = 'cumtrapz' # better behaved numerical integration method"
   ]
  },
  {
   "cell_type": "markdown",
   "id": "ddfafe34",
   "metadata": {
    "slideshow": {
     "slide_type": "slide"
    }
   },
   "source": [
    "Calling the `RFBucketMatcher.generate` method will \n",
    "\n",
    "(1.) iterate on $\\mathcal{H}_0$ until the numerical integration of $\\psi(\\mathcal{H})$ for the bunch length converges to $\\hat{\\sigma}_z$, and then \n",
    "\n",
    "(2.) sample this $\\psi(\\mathcal{H})$ by <b>rejection sampling</b> (see previous lecture) to generate the macro-particle phase-space coordinates $(z,\\delta)$"
   ]
  },
  {
   "cell_type": "code",
   "execution_count": null,
   "id": "7d88249e",
   "metadata": {},
   "outputs": [],
   "source": [
    "z, delta, _, _ = rfb_matcher.generate(int(1e5))"
   ]
  },
  {
   "cell_type": "markdown",
   "id": "ab3b1ceb",
   "metadata": {
    "slideshow": {
     "slide_type": "slide"
    }
   },
   "source": [
    "The relevant code in the `RFBucketMatcher` implementing the rejection sampling:\n",
    "\n",
    "```python\n",
    "xmin, xmax = self.rfbucket.z_left, self.rfbucket.z_right\n",
    "ymin = -self.rfbucket.dp_max(self.rfbucket.z_right)\n",
    "ymax = -ymin\n",
    "        \n",
    "uniform = np.random.uniform\n",
    "n_gen = macroparticlenumber\n",
    "u = uniform(low=xmin, high=xmax, size=n_gen)\n",
    "v = uniform(low=ymin, high=ymax, size=n_gen)\n",
    "s = uniform(size=n_gen)\n",
    "```\n",
    "\n",
    "```python\n",
    "def mask_out(s, u, v):\n",
    "    return s >= self.psi(u, v)\n",
    "```\n",
    "```python\n",
    "masked_out = mask_out(s, u, v)\n",
    "while np.any(masked_out):\n",
    "    masked_ids = np.where(masked_out)[0]\n",
    "    n_gen = len(masked_ids)\n",
    "    u[masked_out] = uniform(low=xmin, high=xmax, size=n_gen)\n",
    "    v[masked_out] = uniform(low=ymin, high=ymax, size=n_gen)\n",
    "    s[masked_out] = uniform(size=n_gen)\n",
    "    masked_out[masked_ids] = mask_out(\n",
    "        s[masked_out], u[masked_out], v[masked_out]\n",
    "    )\n",
    "```"
   ]
  },
  {
   "cell_type": "markdown",
   "id": "78644ece",
   "metadata": {
    "slideshow": {
     "slide_type": "slide"
    }
   },
   "source": [
    "Compare the converged value of $\\mathcal{H}_0$..."
   ]
  },
  {
   "cell_type": "code",
   "execution_count": null,
   "id": "527153cd",
   "metadata": {},
   "outputs": [],
   "source": [
    "rfb_matcher.psi_object.H0"
   ]
  },
  {
   "cell_type": "markdown",
   "id": "ddf2185b",
   "metadata": {},
   "source": [
    "... to the small-amplitude approximation value:"
   ]
  },
  {
   "cell_type": "code",
   "execution_count": null,
   "id": "46d83db5",
   "metadata": {},
   "outputs": [],
   "source": [
    "rfb.guess_H0(0.1 * sigma_z, from_variable='sigma')"
   ]
  },
  {
   "cell_type": "markdown",
   "id": "ee11e2aa",
   "metadata": {},
   "source": [
    "<p style=\"color: #e6541a;\">$\\implies$ are the matched $\\mathcal{H}_0$ and the small-amplitude approximation value closer for smaller target $\\hat{\\sigma}_z$?</p>"
   ]
  },
  {
   "cell_type": "markdown",
   "id": "fc60ead3",
   "metadata": {
    "slideshow": {
     "slide_type": "slide"
    }
   },
   "source": [
    "Let's have a look at the generated macro-particle distribution:"
   ]
  },
  {
   "cell_type": "code",
   "execution_count": null,
   "id": "35ecce7d",
   "metadata": {},
   "outputs": [],
   "source": [
    "plot_mp(z, delta, rfb);"
   ]
  },
  {
   "cell_type": "markdown",
   "id": "ce3040aa",
   "metadata": {
    "slideshow": {
     "slide_type": "slide"
    }
   },
   "source": [
    "Does the rms bunch length of the macro-particle distribution match the chosen target $\\hat{\\sigma}_z$?"
   ]
  },
  {
   "cell_type": "code",
   "execution_count": null,
   "id": "f4220552",
   "metadata": {},
   "outputs": [],
   "source": [
    "np.std(z)"
   ]
  },
  {
   "cell_type": "code",
   "execution_count": null,
   "id": "e530746f",
   "metadata": {},
   "outputs": [],
   "source": [
    "sigma_z"
   ]
  },
  {
   "cell_type": "markdown",
   "id": "e7c88054",
   "metadata": {
    "slideshow": {
     "slide_type": "slide"
    }
   },
   "source": [
    "<h2>Matching Algorithm in More Detail: Root-Finding</h2>\n",
    "\n",
    "Equilibrium distributions for nonlinear Hamiltonians\n",
    "\n",
    "$\\implies$ thermal distribution $\\psi\\propto \\exp(\\mathcal{H}/\\mathcal{H}_0)$ where constant $\\mathcal{H}_0$ is determined by rms bunch length (or momentum spread)\n",
    "\n",
    "We discussed:\n",
    "\n",
    "---\n",
    "(1.) iterate on $\\mathcal{H}_0$ until the numerical integration of $\\psi(\\mathcal{H})$ for the bunch length converges to $\\hat{\\sigma}_z$\n",
    "\n",
    "(...)\n",
    "\n",
    "---\n",
    "\n",
    "$\\implies$ this poses a <b>root-finding</b> problem!"
   ]
  },
  {
   "cell_type": "markdown",
   "id": "e4f56650",
   "metadata": {},
   "source": [
    "<h2>Moments of Distribution $\\psi$</h2>\n",
    "\n",
    "The relevant moments of a generic distribution function $\\psi$ are\n",
    "\n",
    "- monopole:\n",
    "\n",
    "$$Q_z = \\int\\limits_{z_\\text{left}}^{z_\\text{right}} dz \\int_\\text{separatrix} d(\\Delta p)\\cdot\\psi(z,\\Delta p)$$\n",
    "\n",
    "- dipole (or centroid):\n",
    "\n",
    "$$\\langle z\\rangle = \\cfrac{1}{Q_z} \\int\\limits_{z_\\text{left}}^{z_\\text{right}} dz \\int_\\text{separatrix} d(\\Delta p)\\cdot\\psi(z,\\Delta p) \\cdot z$$\n",
    "\n",
    "- quadrupole (or squared rms bunch length):\n",
    "\n",
    "$$\\sigma_z^2 = \\cfrac{1}{Q_z}\\int\\limits_{z_\\text{left}}^{z_\\text{right}} dz \\int_\\text{separatrix} d(\\Delta p)\\cdot\\psi(z,\\Delta p) \\cdot \\left[z - \\langle z \\rangle \\right]^2$$\n",
    "\n",
    "where $z_\\text{left}$ and $z_\\text{right}$ denote the left and right boundary of the rf bucket, and the second integral integrates over $\\Delta p$ from the lower to the upper separatrix at position $z$."
   ]
  },
  {
   "cell_type": "markdown",
   "id": "529aa700",
   "metadata": {
    "slideshow": {
     "slide_type": "slide"
    }
   },
   "source": [
    "<h2>The Root-finding Problem</h2>\n",
    "\n",
    "The equation for the rms bunch length expresses the root-finding problem.\n",
    "\n",
    "Given a (non-normalised) thermal distribution $\\psi(\\mathcal{H}) = \\exp(\\mathcal{H}/\\mathcal{H}_0)$ and a target rms bunch length $\\hat{\\sigma}_z$, then $\\mathcal{H}_0$ is determined by the integral equation\n",
    "\n",
    "$$0 = \\hat{\\sigma}_z{}^2 - \\cfrac{1}{Q_z}\\int\\limits_{z_\\text{left}}^{z_\\text{right}} dz \\int_\\text{separatrix} d(\\Delta p)\\cdot\\exp\\left(\\cfrac{\\mathcal{H}(z,\\Delta p)}{\\color{red}{\\mathcal{H}_0}}\\right) \\cdot \\left[z - \\langle z \\rangle \\right]^2$$\n",
    "\n",
    "In the case of a linear harmonic oscillator Hamiltonian $\\mathcal{H}_\\text{lin}$ (typical result of small-amplitude approximation), the solution is given by \n",
    "\n",
    "$$\\mathcal{H}_{0,\\text{lin}}(\\hat{\\sigma}_z)=\\frac{qV}{\\beta c}\\cdot \\frac{\\pi h}{C^2}\\cdot \\hat{\\sigma}_z{}^2$$\n",
    "\n",
    "For nonlinear $\\mathcal{H}(z,\\Delta p)$, numerical root-finding algorithms can be employed (the integrals are solved numerically, too). Using as input the expression $\\mathcal{H}_{0,\\text{lin}}(\\sigma_z)$, one varies $\\sigma_z$ and obtains a converged value via\n",
    "\n",
    "- <b>Brent-Dekker algorithm</b>: interval for $\\sigma_z$ with sign change of function, choose e.g. $[\\hat{\\sigma}_z / 100, C]$ for circumference $C$, or\n",
    "- <b>secant method</b>: starting point for $\\sigma_z$, choose $\\hat{\\sigma}_z$ (and e.g. $0.9\\hat{\\sigma}_z$)"
   ]
  },
  {
   "cell_type": "markdown",
   "id": "c00a6bab",
   "metadata": {
    "slideshow": {
     "slide_type": "slide"
    }
   },
   "source": [
    "## Let's Use `scipy.optimize`!"
   ]
  },
  {
   "cell_type": "code",
   "execution_count": null,
   "id": "721897ac",
   "metadata": {},
   "outputs": [],
   "source": [
    "from scipy.optimize import brentq, newton"
   ]
  },
  {
   "cell_type": "markdown",
   "id": "0f089306",
   "metadata": {},
   "source": [
    "At what $x$ does $\\cfrac{1}{\\sqrt{x}+1}$ take the value `0.4`?"
   ]
  },
  {
   "cell_type": "code",
   "execution_count": null,
   "id": "dc306b3f",
   "metadata": {},
   "outputs": [],
   "source": [
    "def f(x):\n",
    "    return 1 / (np.sqrt(x) + 1) - 0.4"
   ]
  },
  {
   "cell_type": "markdown",
   "id": "f7f140cd",
   "metadata": {},
   "source": [
    "Brent-Dekker algorithm with interval $x\\in[0, 4]$:"
   ]
  },
  {
   "cell_type": "code",
   "execution_count": null,
   "id": "1b1dcb84",
   "metadata": {},
   "outputs": [],
   "source": [
    "brentq(f, 0, 4)"
   ]
  },
  {
   "cell_type": "markdown",
   "id": "043a9af8",
   "metadata": {
    "slideshow": {
     "slide_type": "slide"
    }
   },
   "source": [
    "<h2>... and Newton's Secant Method</h2>"
   ]
  },
  {
   "cell_type": "markdown",
   "id": "9c0d021b",
   "metadata": {},
   "source": [
    "Secant method with initial values $x_0=0$, $x_1=10^{-4}$:"
   ]
  },
  {
   "cell_type": "code",
   "execution_count": null,
   "id": "e2d93b46",
   "metadata": {
    "slideshow": {
     "slide_type": "-"
    }
   },
   "outputs": [],
   "source": [
    "newton(f, 0)"
   ]
  },
  {
   "cell_type": "markdown",
   "id": "ecdc985e",
   "metadata": {
    "slideshow": {
     "slide_type": "slide"
    }
   },
   "source": [
    "<h2>How does the function look like?</h2>"
   ]
  },
  {
   "cell_type": "code",
   "execution_count": null,
   "id": "77f4c4c5",
   "metadata": {},
   "outputs": [],
   "source": [
    "x = np.linspace(0, 4, 1000)"
   ]
  },
  {
   "cell_type": "code",
   "execution_count": null,
   "id": "a7e10213",
   "metadata": {},
   "outputs": [],
   "source": [
    "plt.plot(x, f(x))\n",
    "plt.axhline(0, c='k', lw=2)\n",
    "plt.xlabel('$x$')\n",
    "plt.ylabel('$f(x)$');"
   ]
  },
  {
   "cell_type": "markdown",
   "id": "143fa3d9",
   "metadata": {
    "slideshow": {
     "slide_type": "slide"
    }
   },
   "source": [
    "<h2>Implementing the Secant Method</h2>"
   ]
  },
  {
   "cell_type": "code",
   "execution_count": null,
   "id": "a1e17736",
   "metadata": {},
   "outputs": [],
   "source": [
    "def secant_method(f, x0, x1, iterations, rtol=2e-12):\n",
    "    \"\"\"Return the root calculated using the secant method.\"\"\"\n",
    "    for i in range(iterations):\n",
    "        x2 = x1 - f(x1) * (x1 - x0) / float(f(x1) - f(x0))\n",
    "        if np.abs(x2 - x1) / x1 < rtol:\n",
    "            break\n",
    "        x0, x1 = x1, x2\n",
    "    return x2"
   ]
  },
  {
   "cell_type": "code",
   "execution_count": null,
   "id": "e6334685",
   "metadata": {},
   "outputs": [],
   "source": [
    "secant_method(f, 0, 1, 100)"
   ]
  },
  {
   "cell_type": "markdown",
   "id": "212d3bb9",
   "metadata": {},
   "source": [
    "(The `scipy` implementation of the secant method in `newton()` [computes](https://github.com/scipy/scipy/blob/v1.9.3/scipy/optimize/_zeros_py.py#L330) the second guess $x_1$ as $x_1=x_0\\cdot 1.0001\\pm 0.0001$.)"
   ]
  },
  {
   "cell_type": "markdown",
   "id": "481ccbc6",
   "metadata": {
    "slideshow": {
     "slide_type": "slide"
    }
   },
   "source": [
    "<div style=\"text-align: center; width:100%;\">\n",
    "    <h2>Part III: Emittance Preservation & Injection Errors</h2>\n",
    "</div>"
   ]
  },
  {
   "cell_type": "markdown",
   "id": "6b90729c",
   "metadata": {
    "slideshow": {
     "slide_type": "slide"
    }
   },
   "source": [
    "<h2>Sources of Simulated Emittance Growth</h2>\n",
    "\n",
    "Numerical:\n",
    "- **distribution is not an exact equilibrium distribution** (often the case for Gaussians)\n",
    "- bad (non-symplectic) numerical integrator\n",
    "\n",
    "Physical:\n",
    "- magnet power supply noise, resonances\n",
    "- multi-particle / collective effects (intra-beam scattering, instabilities)\n",
    "- **mismatch at injection into synchrotron**"
   ]
  },
  {
   "cell_type": "markdown",
   "id": "efe55d19",
   "metadata": {
    "slideshow": {
     "slide_type": "slide"
    }
   },
   "source": [
    "<h2>Section A: Numerical Emittance Growth</h2>\n",
    "\n",
    "Based on the stationary rf bucket (no acceleration) case, we investigate the difference between initialising a bi-Gaussian and a matched thermal distribution based on the nonlinear Hamiltonian $\\mathcal{H}$.\n",
    "\n",
    "Start with the bi-Gaussian (simulation as previous lecture):"
   ]
  },
  {
   "cell_type": "code",
   "execution_count": null,
   "id": "f22b77fd",
   "metadata": {},
   "outputs": [],
   "source": [
    "m = Machine(phi_s=0)"
   ]
  },
  {
   "cell_type": "code",
   "execution_count": null,
   "id": "1182e071",
   "metadata": {},
   "outputs": [],
   "source": [
    "sigma_z = 13.5"
   ]
  },
  {
   "cell_type": "code",
   "execution_count": null,
   "id": "5bbba86e",
   "metadata": {
    "slideshow": {
     "slide_type": "slide"
    }
   },
   "outputs": [],
   "source": [
    "def generate_gaussian_in_rfbucket(N, sigma_z, machine, seed=12345, margin=0.05):\n",
    "    '''Generate a bi-Gaussian distribution with N macro-particles,\n",
    "    rms bunch length sigma_z and a matched sigma_deltap via the\n",
    "    machine settings.\n",
    "    '''\n",
    "    np.random.seed(seed)\n",
    "    m = machine\n",
    "    \n",
    "    sigma_deltap = np.sqrt(\n",
    "        2 * m.p0() / -m.eta(0) * \n",
    "        charge * m.voltage * np.pi * m.harmonic / (beta(gamma(m.p0())) * c * m.circumference**2)\n",
    "    ) * sigma_z\n",
    "\n",
    "    z_ini = np.random.normal(loc=0, scale=sigma_z, size=N)\n",
    "    deltap_ini = np.random.normal(loc=0, scale=sigma_deltap, size=N)\n",
    "    \n",
    "    H_safetymargin = margin * hamiltonian(0, 0, m)\n",
    "    H_values = hamiltonian(z_ini, deltap_ini, m) - H_safetymargin\n",
    "\n",
    "    while any(H_values >= 0):\n",
    "        mask_bad = H_values >= 0\n",
    "        N_bad = np.sum(mask_bad)\n",
    "        print (N_bad)\n",
    "        # re-initialise bad particles:\n",
    "        z_ini[mask_bad] = np.random.normal(loc=0, scale=sigma_z, size=N_bad)\n",
    "        deltap_ini[mask_bad] = np.random.normal(loc=0, scale=sigma_deltap, size=N_bad)\n",
    "        # re-evaluate rejection condition\n",
    "        H_values = hamiltonian(z_ini, deltap_ini, m) - H_safetymargin\n",
    "    \n",
    "    return z_ini, deltap_ini"
   ]
  },
  {
   "cell_type": "code",
   "execution_count": null,
   "id": "613b4f7a",
   "metadata": {
    "slideshow": {
     "slide_type": "slide"
    }
   },
   "outputs": [],
   "source": [
    "N = 10000\n",
    "n_turns = 5000"
   ]
  },
  {
   "cell_type": "code",
   "execution_count": null,
   "id": "adae6423",
   "metadata": {},
   "outputs": [],
   "source": [
    "z_ini, deltap_ini = generate_gaussian_in_rfbucket(N, sigma_z, m)"
   ]
  },
  {
   "cell_type": "code",
   "execution_count": null,
   "id": "c66a0966",
   "metadata": {},
   "outputs": [],
   "source": [
    "plot_mp(z_ini, deltap_ini / m.p0(), rfb=get_pyht_rfbucket(m), n_bins=20);"
   ]
  },
  {
   "cell_type": "markdown",
   "id": "55ac2574",
   "metadata": {
    "slideshow": {
     "slide_type": "slide"
    }
   },
   "source": [
    "Track the bi-Gaussian distribution..."
   ]
  },
  {
   "cell_type": "code",
   "execution_count": null,
   "id": "1b19f101",
   "metadata": {},
   "outputs": [],
   "source": [
    "z = np.zeros((n_turns, N), dtype=np.float64)\n",
    "deltap = np.zeros_like(z)\n",
    "\n",
    "z[0] = z_ini\n",
    "deltap[0] = deltap_ini"
   ]
  },
  {
   "cell_type": "code",
   "execution_count": null,
   "id": "0d4a99b6",
   "metadata": {},
   "outputs": [],
   "source": [
    "for i_turn in trange(1, n_turns):\n",
    "    z[i_turn], deltap[i_turn] = track_one_turn(z[i_turn - 1], deltap[i_turn - 1], m)"
   ]
  },
  {
   "cell_type": "markdown",
   "id": "80fc24f8",
   "metadata": {
    "slideshow": {
     "slide_type": "slide"
    }
   },
   "source": [
    "The rms emittance evolution:"
   ]
  },
  {
   "cell_type": "code",
   "execution_count": null,
   "id": "1eef62fd",
   "metadata": {},
   "outputs": [],
   "source": [
    "epsn_z = np.array([emittance(z_i, deltap_i) for z_i, deltap_i in zip(z, deltap)])\n",
    "\n",
    "ylim_m = np.median(4 * np.pi * epsn_z / e)\n",
    "ylim_d = 1.1 * np.max(np.abs(ylim_m - 4 * np.pi * epsn_z / e))"
   ]
  },
  {
   "cell_type": "code",
   "execution_count": null,
   "id": "3949fc88",
   "metadata": {},
   "outputs": [],
   "source": [
    "plt.plot(4 * np.pi * epsn_z / e)\n",
    "\n",
    "plt.ylim(ylim_m - ylim_d, ylim_m + ylim_d)\n",
    "\n",
    "plt.xlabel('Turns')\n",
    "plt.ylabel('$4\\pi\\epsilon_z$ [eV.s]');"
   ]
  },
  {
   "cell_type": "markdown",
   "id": "924fc821",
   "metadata": {
    "slideshow": {
     "slide_type": "slide"
    }
   },
   "source": [
    "$\\leadsto$ the Gaussian particle distribution is <b>not exactly</b> in equilibrium for sufficiently large rms values in the nonlinear potential, the particles <b>filament</b> and the rms emittance grows (a little)! \n",
    "\n",
    "$\\implies$ compare to using full nonlinear Hamiltonian to construct PDF $\\psi(\\mathcal{H})\\propto\\exp\\left(\\cfrac{\\mathcal{H}}{\\mathcal{H}_0}\\right)$"
   ]
  },
  {
   "cell_type": "code",
   "execution_count": null,
   "id": "d6de150a",
   "metadata": {
    "slideshow": {
     "slide_type": "slide"
    }
   },
   "outputs": [],
   "source": [
    "rfb = get_pyht_rfbucket(m)\n",
    "\n",
    "rfb_matcher = RFBucketMatcher(rfb, ThermalDistribution, sigma_z=sigma_z)\n",
    "rfb_matcher.integrationmethod = 'cumtrapz'"
   ]
  },
  {
   "cell_type": "code",
   "execution_count": null,
   "id": "405c31ba",
   "metadata": {
    "scrolled": true
   },
   "outputs": [],
   "source": [
    "z_ini, delta_ini, _, _ = rfb_matcher.generate(N)"
   ]
  },
  {
   "cell_type": "code",
   "execution_count": null,
   "id": "04df79e2",
   "metadata": {},
   "outputs": [],
   "source": [
    "deltap_ini = delta_ini * m.p0()"
   ]
  },
  {
   "cell_type": "code",
   "execution_count": null,
   "id": "0d1581d7",
   "metadata": {},
   "outputs": [],
   "source": [
    "plot_mp(z_ini, delta_ini, rfb, n_bins=20);"
   ]
  },
  {
   "cell_type": "markdown",
   "id": "ab5d8a56",
   "metadata": {
    "slideshow": {
     "slide_type": "slide"
    }
   },
   "source": [
    "Track the matched thermal distribution..."
   ]
  },
  {
   "cell_type": "code",
   "execution_count": null,
   "id": "57625759",
   "metadata": {},
   "outputs": [],
   "source": [
    "z = np.zeros((n_turns, N), dtype=np.float64)\n",
    "deltap = np.zeros_like(z)\n",
    "\n",
    "z[0] = z_ini\n",
    "deltap[0] = deltap_ini"
   ]
  },
  {
   "cell_type": "code",
   "execution_count": null,
   "id": "20a95ec2",
   "metadata": {},
   "outputs": [],
   "source": [
    "for i_turn in trange(1, n_turns):\n",
    "    z[i_turn], deltap[i_turn] = track_one_turn(z[i_turn - 1], deltap[i_turn - 1], m)"
   ]
  },
  {
   "cell_type": "markdown",
   "id": "ba82fcb8",
   "metadata": {
    "slideshow": {
     "slide_type": "slide"
    }
   },
   "source": [
    "The rms emittance evolution:"
   ]
  },
  {
   "cell_type": "code",
   "execution_count": null,
   "id": "8170b8ed",
   "metadata": {},
   "outputs": [],
   "source": [
    "epsn_z = np.array([emittance(z_i, deltap_i) for z_i, deltap_i in zip(z, deltap)])\n",
    "\n",
    "ylim_m = np.median(4 * np.pi * epsn_z / e)"
   ]
  },
  {
   "cell_type": "code",
   "execution_count": null,
   "id": "dafc4fd9",
   "metadata": {},
   "outputs": [],
   "source": [
    "plt.plot(4 * np.pi * epsn_z / e)\n",
    "\n",
    "plt.ylim(ylim_m - ylim_d, ylim_m + ylim_d)\n",
    "\n",
    "plt.xlabel('Turns')\n",
    "plt.ylabel('$4\\pi\\epsilon_z$ [eV.s]');"
   ]
  },
  {
   "cell_type": "markdown",
   "id": "90314e3d",
   "metadata": {},
   "source": [
    "$\\implies$ this result shows that the nonlinearly matched thermal distribution is in equilibrium from the start (up to macro-particle noise, the fluctuations reduce with $1/\\sqrt{N}$)!"
   ]
  },
  {
   "cell_type": "markdown",
   "id": "356cd905",
   "metadata": {
    "slideshow": {
     "slide_type": "slide"
    }
   },
   "source": [
    "<h2>Section B: Physical Emittance Growth &ndash; Dipole Injection Mismatch</h2>"
   ]
  },
  {
   "cell_type": "code",
   "execution_count": null,
   "id": "1a41bbad",
   "metadata": {},
   "outputs": [],
   "source": [
    "m = Machine(phi_s=0)\n",
    "\n",
    "sigma_z = 8\n",
    "\n",
    "z_ini, deltap_ini = generate_gaussian_in_rfbucket(N, sigma_z, m, margin=0.15)"
   ]
  },
  {
   "cell_type": "markdown",
   "id": "1678d885",
   "metadata": {},
   "source": [
    "Simulate a dipole injection mismatch (e.g. when the rf phase is not well synchronised between the injector and the synchrotron):"
   ]
  },
  {
   "cell_type": "code",
   "execution_count": null,
   "id": "77a0d265",
   "metadata": {},
   "outputs": [],
   "source": [
    "z_ini -= 0.5 * sigma_z"
   ]
  },
  {
   "cell_type": "markdown",
   "id": "b1e3ea72",
   "metadata": {},
   "source": [
    "4 meter mismatch in $z$ correspond to a phase mismatch of 16 degree:"
   ]
  },
  {
   "cell_type": "code",
   "execution_count": null,
   "id": "575d884e",
   "metadata": {},
   "outputs": [],
   "source": [
    "4 / (m.circumference / m.harmonic) * 360"
   ]
  },
  {
   "cell_type": "code",
   "execution_count": null,
   "id": "0f9e4f3d",
   "metadata": {
    "slideshow": {
     "slide_type": "slide"
    }
   },
   "outputs": [],
   "source": [
    "plot_mp(z_ini, deltap_ini / m.p0(), rfb=get_pyht_rfbucket(m), n_bins=20);"
   ]
  },
  {
   "cell_type": "markdown",
   "id": "e247d190",
   "metadata": {},
   "source": [
    "$\\implies$ note the offset towards negative $z$, the contours of the macro-particle density are no longer matched to the Hamiltonian contours."
   ]
  },
  {
   "cell_type": "markdown",
   "id": "b7a39f65",
   "metadata": {
    "slideshow": {
     "slide_type": "slide"
    }
   },
   "source": [
    "The safety `margin` inside the separatrix (where no particles are generated in `generate_gaussian_in_rfbucket`) should be chosen large enough such that no particles are located outside the rf bucket after the mismatch:"
   ]
  },
  {
   "cell_type": "code",
   "execution_count": null,
   "id": "90cfc5fc",
   "metadata": {},
   "outputs": [],
   "source": [
    "assert all(hamiltonian(z_ini, deltap_ini, m) < 0), 'particles have been generated outside the rf bucket!'"
   ]
  },
  {
   "cell_type": "markdown",
   "id": "09bac34e",
   "metadata": {
    "slideshow": {
     "slide_type": "slide"
    }
   },
   "source": [
    "Tracking the mismatched distribution of macro-particles:"
   ]
  },
  {
   "cell_type": "code",
   "execution_count": null,
   "id": "e99d8841",
   "metadata": {},
   "outputs": [],
   "source": [
    "z = np.zeros((n_turns, N), dtype=np.float64)\n",
    "deltap = np.zeros_like(z)\n",
    "\n",
    "z[0] = z_ini\n",
    "deltap[0] = deltap_ini"
   ]
  },
  {
   "cell_type": "code",
   "execution_count": null,
   "id": "c735dacd",
   "metadata": {},
   "outputs": [],
   "source": [
    "for i_turn in trange(1, n_turns):\n",
    "    z[i_turn], deltap[i_turn] = track_one_turn(z[i_turn - 1], deltap[i_turn - 1], m)"
   ]
  },
  {
   "cell_type": "markdown",
   "id": "ef1f5ef2",
   "metadata": {
    "slideshow": {
     "slide_type": "slide"
    }
   },
   "source": [
    "<h2>Centroid Results</h2>"
   ]
  },
  {
   "cell_type": "code",
   "execution_count": null,
   "id": "6e3c823c",
   "metadata": {},
   "outputs": [],
   "source": [
    "plt.plot(np.mean(z, axis=1))\n",
    "\n",
    "plt.xlabel('Turns')\n",
    "plt.ylabel(r'$\\langle z \\rangle$ [m]');"
   ]
  },
  {
   "cell_type": "markdown",
   "id": "318d7dcf",
   "metadata": {},
   "source": [
    "$\\implies$ <b>exponential decay</b> of the initial offset (due to the non-linearity of the rf bucket)"
   ]
  },
  {
   "cell_type": "markdown",
   "id": "5fe2e31a",
   "metadata": {
    "slideshow": {
     "slide_type": "slide"
    }
   },
   "source": [
    "<h2>RMS Bunch Length Results</h2>"
   ]
  },
  {
   "cell_type": "code",
   "execution_count": null,
   "id": "40bf697b",
   "metadata": {},
   "outputs": [],
   "source": [
    "plt.plot(np.std(z, axis=1))\n",
    "\n",
    "plt.xlabel('Turns')\n",
    "plt.ylabel(r'$\\sigma_z$ [m]');"
   ]
  },
  {
   "cell_type": "markdown",
   "id": "42f78f96",
   "metadata": {},
   "source": [
    "$\\implies$ saturation of the rms bunch length growth"
   ]
  },
  {
   "cell_type": "markdown",
   "id": "74e80b28",
   "metadata": {
    "slideshow": {
     "slide_type": "slide"
    }
   },
   "source": [
    "<h2>RMS Emittance Results</h2>"
   ]
  },
  {
   "cell_type": "code",
   "execution_count": null,
   "id": "d51629a5",
   "metadata": {},
   "outputs": [],
   "source": [
    "epsn_z = np.array([emittance(z_i, deltap_i) for z_i, deltap_i in zip(z, deltap)])"
   ]
  },
  {
   "cell_type": "code",
   "execution_count": null,
   "id": "f27ecabf",
   "metadata": {},
   "outputs": [],
   "source": [
    "plt.plot(epsn_z / e)\n",
    "\n",
    "plt.xlabel('Turns')\n",
    "plt.ylabel('$\\epsilon_z$ [eV.s]');"
   ]
  },
  {
   "cell_type": "markdown",
   "id": "1462ead3",
   "metadata": {},
   "source": [
    "$\\implies$ in this example, 10% emittance growth as a result of the 4 meter injection offset."
   ]
  },
  {
   "cell_type": "code",
   "execution_count": null,
   "id": "87441fc2",
   "metadata": {
    "scrolled": false,
    "slideshow": {
     "slide_type": "slide"
    }
   },
   "outputs": [],
   "source": [
    "plot_mp(z[-1], deltap[-1] / m.p0(), rfb=get_pyht_rfbucket(m), n_bins=40);"
   ]
  },
  {
   "cell_type": "markdown",
   "id": "96ce4c67",
   "metadata": {},
   "source": [
    "$\\implies$ the filamentation of the macro-particle distribution is clearly visible!"
   ]
  },
  {
   "cell_type": "markdown",
   "id": "e984d645",
   "metadata": {
    "slideshow": {
     "slide_type": "slide"
    }
   },
   "source": [
    "<h2>Section C: Physical Emittance Growth &ndash; Quadrupole Injection Mismatch</h2>"
   ]
  },
  {
   "cell_type": "code",
   "execution_count": null,
   "id": "60314bdf",
   "metadata": {},
   "outputs": [],
   "source": [
    "m = Machine(phi_s=0)\n",
    "\n",
    "sigma_z = 8\n",
    "\n",
    "z_ini, deltap_ini = generate_gaussian_in_rfbucket(N, sigma_z, m, margin=0.15)"
   ]
  },
  {
   "cell_type": "markdown",
   "id": "0a52c4f9",
   "metadata": {},
   "source": [
    "Simulate a quadrupole injection mismatch (e.g. when the rf voltage (rf bucket height) is not matched between the injector and the synchrotron):"
   ]
  },
  {
   "cell_type": "code",
   "execution_count": null,
   "id": "b86ee2d3",
   "metadata": {},
   "outputs": [],
   "source": [
    "deltap_ini *= 0.5"
   ]
  },
  {
   "cell_type": "code",
   "execution_count": null,
   "id": "70b0453a",
   "metadata": {
    "scrolled": false,
    "slideshow": {
     "slide_type": "slide"
    }
   },
   "outputs": [],
   "source": [
    "plot_mp(z_ini, deltap_ini / m.p0(), rfb=get_pyht_rfbucket(m), n_bins=20);"
   ]
  },
  {
   "cell_type": "markdown",
   "id": "2c4b3a1d",
   "metadata": {},
   "source": [
    "$\\implies$ note the squeezed rms momentum spread, the contours of the macro-particle density are no longer matched to the Hamiltonian contours."
   ]
  },
  {
   "cell_type": "markdown",
   "id": "9e2a78cd",
   "metadata": {
    "slideshow": {
     "slide_type": "slide"
    }
   },
   "source": [
    "Tracking the mismatched distribution of macro-particles:"
   ]
  },
  {
   "cell_type": "code",
   "execution_count": null,
   "id": "6805e280",
   "metadata": {},
   "outputs": [],
   "source": [
    "z = np.zeros((n_turns, N), dtype=np.float64)\n",
    "deltap = np.zeros_like(z)\n",
    "\n",
    "z[0] = z_ini\n",
    "deltap[0] = deltap_ini"
   ]
  },
  {
   "cell_type": "code",
   "execution_count": null,
   "id": "ecd896f5",
   "metadata": {},
   "outputs": [],
   "source": [
    "for i_turn in trange(1, n_turns):\n",
    "    z[i_turn], deltap[i_turn] = track_one_turn(z[i_turn - 1], deltap[i_turn - 1], m)"
   ]
  },
  {
   "cell_type": "markdown",
   "id": "0499b80a",
   "metadata": {
    "slideshow": {
     "slide_type": "slide"
    }
   },
   "source": [
    "<h2>Centroid Results</h2>"
   ]
  },
  {
   "cell_type": "code",
   "execution_count": null,
   "id": "018e6961",
   "metadata": {},
   "outputs": [],
   "source": [
    "plt.plot(np.mean(z, axis=1))\n",
    "\n",
    "plt.xlabel('Turns')\n",
    "plt.ylabel(r'$\\langle z \\rangle$ [m]');"
   ]
  },
  {
   "cell_type": "markdown",
   "id": "53c46150",
   "metadata": {},
   "source": [
    "$\\implies$ only residual centroid fluctuations (due to macro-particle noise), note the amplitude of the oscillation in comparison to the rf bucket length!"
   ]
  },
  {
   "cell_type": "markdown",
   "id": "a7bcbe46",
   "metadata": {
    "slideshow": {
     "slide_type": "slide"
    }
   },
   "source": [
    "<h2>RMS Bunch Length Results</h2>"
   ]
  },
  {
   "cell_type": "code",
   "execution_count": null,
   "id": "fcab1644",
   "metadata": {},
   "outputs": [],
   "source": [
    "plt.plot(np.std(z, axis=1))\n",
    "\n",
    "plt.xlabel('Turns')\n",
    "plt.ylabel(r'$\\sigma_z$ [m]');"
   ]
  },
  {
   "cell_type": "markdown",
   "id": "4532c883",
   "metadata": {},
   "source": [
    "$\\implies$ <b>exponential decay</b> of the initial momentum mismatch (due to the non-linearity of the rf bucket)"
   ]
  },
  {
   "cell_type": "markdown",
   "id": "da0d2e72",
   "metadata": {
    "slideshow": {
     "slide_type": "slide"
    }
   },
   "source": [
    "<h2>RMS Emittance Results</h2>"
   ]
  },
  {
   "cell_type": "code",
   "execution_count": null,
   "id": "75cedfb4",
   "metadata": {},
   "outputs": [],
   "source": [
    "epsn_z = np.array([emittance(z_i, deltap_i) for z_i, deltap_i in zip(z, deltap)])"
   ]
  },
  {
   "cell_type": "code",
   "execution_count": null,
   "id": "70e89132",
   "metadata": {},
   "outputs": [],
   "source": [
    "plt.plot(epsn_z / e)\n",
    "\n",
    "plt.xlabel('Turns')\n",
    "plt.ylabel('$\\epsilon_z$ [eV.s]');"
   ]
  },
  {
   "cell_type": "markdown",
   "id": "8cf79eae",
   "metadata": {},
   "source": [
    "$\\implies$ in this example, 20% emittance growth as a result of the 50% momentum spread mismatch."
   ]
  },
  {
   "cell_type": "code",
   "execution_count": null,
   "id": "18669ff8",
   "metadata": {
    "scrolled": false,
    "slideshow": {
     "slide_type": "slide"
    }
   },
   "outputs": [],
   "source": [
    "plot_mp(z[-1], deltap[-1] / m.p0(), rfb=get_pyht_rfbucket(m), n_bins=40);"
   ]
  },
  {
   "cell_type": "markdown",
   "id": "028a05cc",
   "metadata": {},
   "source": [
    "$\\implies$ again, the filamentation of the macro-particle distribution is clearly visible!"
   ]
  },
  {
   "cell_type": "markdown",
   "id": "81fd2f35",
   "metadata": {
    "slideshow": {
     "slide_type": "slide"
    }
   },
   "source": [
    "<h2>Summary</h2>\n",
    "\n",
    "- full simulation of acceleration ramp, incl. transition crossing (and necessary synchronous phase adjustments!)\n",
    "- equilibrium distributions with nonlinear Hamiltonian\n",
    "- matching algorithm to find $\\mathcal{H}_0$ (given target rms bunch length $\\hat{\\sigma}_z$)\n",
    "- root-finding problem (Brent-Dekker or secant algorithm to find root)\n",
    "- emittance growth mechanisms (numerical + physical: dipole and quadrupole injection mismatch)"
   ]
  },
  {
   "cell_type": "markdown",
   "id": "4f5c725f",
   "metadata": {
    "slideshow": {
     "slide_type": "slide"
    }
   },
   "source": [
    "<h2>PS: Solving the Exercise in Part I</h2>\n",
    "\n",
    "To avoid the emittance growth in the simulation of the acceleration ramp in the CERN Proton Synchrotron, the operators should switch the synchronous phase at transition energy in order to restore phase focusing. (The previous lectures provide the conceptual background to understand what is going on.)\n",
    "\n",
    "The switch in the synchronous phase can be implemented in the tracking loop as follows:\n",
    "- compute the new synchronous phase for the *relativistic regime* from the initial `m.phi_s` (which determines the energy gain) and store the value in a variable, e.g. `phi_s_1`, before the tracking starts\n",
    "- define the condition where transition energy is crossed\n",
    "- if this condition is met, set the synchronous phase `m.phi_s` to the correct new value `phi_s_1`"
   ]
  },
  {
   "cell_type": "markdown",
   "id": "905acae0",
   "metadata": {},
   "source": [
    "```python\n",
    "phi_s_1 =  # compute here the correct new synchronous phase above transition\n",
    "# by using the one from below transition which is m.phi_s\n",
    "\n",
    "for i_turn in trange(1, n_turns):\n",
    "    z, deltap = track_one_turn(z, deltap, m)\n",
    "    \n",
    "    epsn_z[i_turn] = emittance(z, deltap)\n",
    "    \n",
    "    condition =  # write here X > Y after the \"=\"\n",
    "    if condition:\n",
    "        m.phi_s = phi_s_1\n",
    "```"
   ]
  }
 ],
 "metadata": {
  "celltoolbar": "Slideshow",
  "kernelspec": {
   "display_name": "Python 3",
   "language": "python",
   "name": "python3"
  },
  "language_info": {
   "codemirror_mode": {
    "name": "ipython",
    "version": 3
   },
   "file_extension": ".py",
   "mimetype": "text/x-python",
   "name": "python",
   "nbconvert_exporter": "python",
   "pygments_lexer": "ipython3",
   "version": "3.7.3"
  },
  "rise": {
   "enable_chalkboard": true,
   "footer": "<p>Fachbereich Elektrotechnik und Informationstechnik (etit)   |   Institut für Teilchenbeschleunigung und Elektromagnetische Felder (TEMF)   |   Dr. Adrian Oeftiger</p>",
   "header": "<img src='https://upload.wikimedia.org/wikipedia/de/thumb/2/24/TU_Darmstadt_Logo.svg/640px-TU_Darmstadt_Logo.svg.png' />",
   "scroll": true,
   "theme": "simple",
   "transition": "none"
  }
 },
 "nbformat": 4,
 "nbformat_minor": 5
}
