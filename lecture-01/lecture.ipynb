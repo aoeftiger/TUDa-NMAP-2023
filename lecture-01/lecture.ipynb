{
 "cells": [
  {
   "cell_type": "markdown",
   "id": "7f79661b",
   "metadata": {
    "slideshow": {
     "slide_type": "slide"
    }
   },
   "source": [
    "<h1 style=\"text-align: center; vertical-align: middle;\">Numerical Methods in Accelerator Physics</h1>\n",
    "<h2 style=\"text-align: center; vertical-align: middle;\">Lecture Series by Dr. Adrian Oeftiger</h2>\n",
    "\n",
    "<div style=\"width: 45%; margin: auto; margin-top: 1em; vertical-align: middle;\">\n",
    "<img src=\"./img/etit.png\" style=\"width: 30%; float: left; margin-right: 5%;\" /><img src=\"./img/GSI_Logo.png\" style=\"width: 35%; float: left; margin-right: 5%; padding-top: 0.5em;\" /><img src=\"./img/FAIR_Logo.png\" style=\"width: 25%; float: left;\" />\n",
    "</div>\n",
    "\n",
    "<h3 style=\"clear: both; text-align: center; margin-top: 1em;\">Lecture 1</h3>"
   ]
  },
  {
   "cell_type": "markdown",
   "id": "53c74f31",
   "metadata": {
    "slideshow": {
     "slide_type": "slide"
    }
   },
   "source": [
    "<h2>Run this notebook online!</h2>\n",
    "\n",
    "Interact and run this jupyter notebook online:\n",
    "\n",
    "<div class=\"alert alert-block alert-info\" style=\"text-align:center;\">\n",
    "via the public mybinder.org service: <br />\n",
    "<a href=\"https://mybinder.org/v2/gh/aoeftiger/TUDa-NMAP-2023/v1.0\" style=\"width:auto; display:table;margin:0.5em auto;\"><img src=\"./img/binder_logo.svg\" alt=\"mybinder.org logo\" height=\"1ex\" /></a>\n",
    "</div>\n",
    "\n",
    "<div class=\"alert alert-block alert-info\" style=\"text-align:center;\">\n",
    "via the public gesis.org service: <br />\n",
    "<a href=\"https://notebooks.gesis.org/binder/\" style=\"width:auto; display:table;margin:0.5em auto;\"><img src=\"./img/binder_logo.svg\" alt=\"gesis.org logo\" height=\"1ex\" /></a>\n",
    "(enter as github repository name: aoeftiger/TUDa-NMAP-2023 and ref: v1.0 )\n",
    "</div>\n",
    "\n",
    "Also find this lecture rendered [as HTML slides on github $\\nearrow$](https://aoeftiger.github.io/TUDa-NMAP-2023/) along with the [source repository $\\nearrow$](https://github.com/aoeftiger/TUDa-NMAP-2023)."
   ]
  },
  {
   "cell_type": "markdown",
   "id": "9fb39cf1",
   "metadata": {
    "slideshow": {
     "slide_type": "slide"
    }
   },
   "source": [
    "<h2>Run this first!</h2>\n",
    "\n",
    "Imports and modules:"
   ]
  },
  {
   "cell_type": "code",
   "execution_count": null,
   "id": "f4860856",
   "metadata": {},
   "outputs": [],
   "source": [
    "from config import *\n",
    "%matplotlib inline"
   ]
  },
  {
   "cell_type": "markdown",
   "id": "58a2f28c",
   "metadata": {
    "slideshow": {
     "slide_type": "slide"
    }
   },
   "source": [
    "<h2 style=\"color: #b51f2a\">Today!</h2>\n",
    "\n",
    "1. About Accelerators\n",
    "2. Time Scales\n",
    "3. Modelling a Pendulum ($\\leadsto$ rf cavities focusing a beam)\n",
    "<!--4. Important Quantities & Relations in Accelerator Physics-->"
   ]
  },
  {
   "cell_type": "markdown",
   "id": "9dc9a7b2",
   "metadata": {
    "slideshow": {
     "slide_type": "slide"
    }
   },
   "source": [
    "<h2>Accelerator Physics</h2>\n",
    "\n",
    "Accelerator physics $\\Longleftrightarrow$ plasma physics\n",
    "\n",
    "- single-particle effects: non-linear dynamics\n",
    "- multi-particle effects: collective instabilities"
   ]
  },
  {
   "cell_type": "markdown",
   "id": "da4d0a7c",
   "metadata": {
    "slideshow": {
     "slide_type": "slide"
    }
   },
   "source": [
    "<h2>What is an \"accelerator\"?</h2>\n",
    "\n",
    "$$\\begin{array}\\,\\text{beam self fields} &>& \\text{external applied fields} &\\text{(plasma)} \\\\\n",
    "\\text{beam self fields} &\\ll& \\text{external applied fields}& \\text{(accelerator)}\\end{array}$$\n",
    "\n",
    "\n",
    "\n",
    "$\\implies$ <b>perturbation technique</b> applicable to higher-energy accelerators:\n",
    "\n",
    "$$\\begin{cases} \\text{unperturbed motion} &=& \\text{external fields} \\\\ \n",
    "\\text{perturbation} &=& \\text{self fields} \\end{cases}$$\n",
    "\n",
    "Large part of this course: model effects on particle beam due to external fields!"
   ]
  },
  {
   "cell_type": "markdown",
   "id": "df12710d",
   "metadata": {
    "slideshow": {
     "slide_type": "slide"
    }
   },
   "source": [
    "<h2>Accelerator Fundamentals</h2>\n",
    "\n",
    "Putting it simple: 3 major ingredients\n",
    "\n",
    "- <a href=\"http://dx.doi.org/10.17181/cds.1709737\">radio frequency (rf) cavities for <b>bunching and acceleration</b></a>\n",
    "- <a href=\"http://dx.doi.org/10.17181/cds.1709735\">dipole magnets for <b>steering</b></a>\n",
    "- <a href=\"http://dx.doi.org/10.17181/cds.1750723\">quadrupole magnets for <b>(transverse) focusing</b></a>\n",
    "\n",
    "$\\implies$ enforce oscillations to contain particles!"
   ]
  },
  {
   "cell_type": "markdown",
   "id": "d5669f48",
   "metadata": {
    "slideshow": {
     "slide_type": "slide"
    }
   },
   "source": [
    "<h2>One \"Electron Volt\"</h2>\n",
    "\n",
    "1 eV $=$ gained kinetic <b>energy</b> of particle with elementary charge after traversing 1 V potential difference"
   ]
  },
  {
   "cell_type": "markdown",
   "id": "5a6bd55f",
   "metadata": {
    "slideshow": {
     "slide_type": "slide"
    }
   },
   "source": [
    "<h2 style=\"margin-bottom: 0.5em;\">Common Higher-energy Accelerator Types</h2>\n",
    "\n",
    "<div style=\"float: left; width: 25%; margin-left: 3%; margin-right: 3%;\">\n",
    "    <h4>Linacs</h4>\n",
    "    <div style=\"font-size: 14pt; margin-top:1em;\">\n",
    "\n",
    "- steady, intense beams\n",
    "- protons/ions and electrons\n",
    "\n",
    "</div>\n",
    "    \n",
    "<img src=\"./img/unilac.webp\" alt=\"UNILAC at GSI\" />\n",
    "<a href=\"https://www.helmholtz.de/forschung/forschungsinfrastrukturen/ionenanlagen/unilac/\" style=\"font-size:10pt;\">image: UNILAC at GSI, Darmstadt</a>\n",
    "</div>\n",
    "<div style=\"float: left; width: 25%; margin-left: 3%; margin-right: 3%;\">\n",
    "    <h4>Cyclotrons</h4>\n",
    "    <div style=\"font-size: 14pt; margin-top:1em;\">\n",
    "\n",
    "- low energy (limited by relativistic effects)\n",
    "- protons/ions\n",
    "- provide muons, neutrons, isotopes\n",
    "- medical applications and research\n",
    "\n",
    "</div>\n",
    "    \n",
    "<img src=\"./img/cyclotron.png\" alt=\"Cyclotron at PSI\" />\n",
    "<a href=\"https://www.researchgate.net/publication/284545355_Overview_of_Accelerator_Applications_in_Energy\" style=\"font-size:10pt;\">image: PSI cyclotron, Villigen (CH)</a>\n",
    "</div>\n",
    "<div style=\"float: left; width: 25%; margin-left: 3%; margin-right: 3%;\">\n",
    "    <h4>Synchrotrons</h4>\n",
    "    <div style=\"font-size: 14pt; margin-top:1em;\">\n",
    "    \n",
    "- highest energies\n",
    "- slowly ramp up energy of beam\n",
    "- protons/ions: fundamental research\n",
    "- electrons: synchrotron light sources\n",
    "\n",
    "</div>\n",
    "\n",
    "<img src=\"./img/leir.jpg\" alt=\"LEIR at CERN\" />\n",
    "<a href=\"https://cds.cern.ch/record/1997352\" style=\"font-size:10pt;\">image: LEIR at CERN, Geneva (CH)</a>\n",
    "</div>"
   ]
  },
  {
   "cell_type": "markdown",
   "id": "ab5ba1e7",
   "metadata": {
    "slideshow": {
     "slide_type": "slide"
    }
   },
   "source": [
    "<h2>FAIR complex at GSI</h2>\n",
    "\n",
    "<img src=\"./img/gsi-complex.jpg\" alt=\"FAIR accelerator complex at GSI\" style=\"width: 40%; float:right;\" />\n",
    "\n",
    "Protons..Uranium for FAIR experiments:\n",
    "- <b>UNILAC</b>: $\\sim$ 11 MeV/u\n",
    "- <b>SIS18</b>: $\\leq$ 1 GeV/u (Uranium) or 4.5 GeV (protons)\n",
    "- <b>SIS100</b>: $\\leq$ 10 GeV/u (Uranium) or 29 GeV (protons)\n",
    "\n",
    "<p style=\"clear: both; font-size: 10pt; text-align: right; float:right; \"><a href=\"https://www.gsi.de/en/researchaccelerators/fair\">image: GSI - FAIR 2022</a></p>\n"
   ]
  },
  {
   "cell_type": "markdown",
   "id": "feaf3d1b",
   "metadata": {
    "slideshow": {
     "slide_type": "slide"
    }
   },
   "source": [
    "<img src=\"./img/cern-complex.png\" alt=\"CERN accelerator complex\" style=\"width: 50%; float:right;\" />\n",
    "\n",
    "<h2>CERN complex</h2>\n",
    "\n",
    "Protons for LHC injection:\n",
    "- <b>LINAC4</b>: 160 MeV\n",
    "- <b>PSB</b>: 2 GeV\n",
    "- <b>PS</b>: 26 GeV\n",
    "- <b>SPS</b>: 450 GeV\n",
    "- <b>LHC</b>: 7 TeV\n",
    "\n",
    "<p style=\"clear: both; font-size: 10pt; text-align: right; float: right;\"><a href=\"http://cds.cern.ch/images/CERN-GRAPHICS-2022-001-1\">image: CERN 2022</a></p>\n"
   ]
  },
  {
   "cell_type": "markdown",
   "id": "c0b3608f",
   "metadata": {
    "slideshow": {
     "slide_type": "slide"
    }
   },
   "source": [
    "<h2>World-record LHC Fill Duration</h2>\n",
    "\n",
    "<img src=\"./img/lhcop-record-fill-sel.png\" style=\"width: 35%; margin: auto; margin-top:1em;\" />\n",
    "\n",
    "<p style=\"clear: both; font-size: 10pt; text-align: right; float: right;\">image: CERN LHC OP logbook 2022</p>"
   ]
  },
  {
   "cell_type": "markdown",
   "id": "e8b651b4",
   "metadata": {
    "slideshow": {
     "slide_type": "slide"
    }
   },
   "source": [
    "<p style=\"color: #e6541a;\">$\\leadsto$ 57h of beam storage $=$ how many turns in 27 km long LHC?</p>"
   ]
  },
  {
   "cell_type": "code",
   "execution_count": null,
   "id": "97996a8e",
   "metadata": {},
   "outputs": [],
   "source": []
  },
  {
   "cell_type": "markdown",
   "id": "ce37ca20",
   "metadata": {
    "slideshow": {
     "slide_type": "slide"
    }
   },
   "source": [
    "<h2>Time Scales in a Synchrotron</h2>\n",
    "\n",
    "A turn $\\sim$ 1..100 μs:\n",
    "- many per turn: transverse (betatron) oscillations\n",
    "- once per turn: observation in a wall current monitor\n",
    "- 100s of turns: longitudinal (synchrotron) oscillations\n",
    "- 100s of turns: $e$-fold damping time of feedback systems\n",
    "- 100'000s to $>$ millions of turns: storage times\n",
    "\n",
    "(compare: stability of the Earth's orbit around the Sun (age: 4.6 My))"
   ]
  },
  {
   "cell_type": "markdown",
   "id": "9cfa143a",
   "metadata": {
    "slideshow": {
     "slide_type": "slide"
    }
   },
   "source": [
    "<h2>Accuracy Required!</h2>\n",
    "\n",
    "Analytical models do not suffice for quantitative understanding!\n",
    "\n",
    "$\\implies$ require detailed numerical models\n",
    "\n",
    "$\\implies$ predict and control stability over these time scales!\n",
    "\n",
    "$\\implies$ learn about basic concepts in this lecture! :-)"
   ]
  },
  {
   "cell_type": "markdown",
   "id": "b9b5849a",
   "metadata": {
    "slideshow": {
     "slide_type": "slide"
    }
   },
   "source": [
    "<h2>In the following...</h2>\n",
    "\n",
    "Use simple pendulum to demonstrate development of numerical simulation model!\n",
    "\n",
    "Clarify concepts:\n",
    "- phase space, Hamiltonian\n",
    "- discrete integration\n",
    "- symplecticity\n",
    "- 3 error sources of such simulation models:\n",
    "    - discretisation\n",
    "    - next time: numerical artefacts, modelling errors"
   ]
  },
  {
   "cell_type": "markdown",
   "id": "0d8884da",
   "metadata": {
    "slideshow": {
     "slide_type": "slide"
    }
   },
   "source": [
    "<h2>The Nonlinear Pendulum</h2>\n",
    "\n",
    "<img src=\"./img/pendulum.png\" alt=\"simple pendulum\" style=\"float:right; width:15%;\" />\n",
    "\n",
    "- point mass $m$ suspended on (weightless/inextensible) rod of length $L$\n",
    "- gravitational acceleration $g$ pulls $m$ downwards\n",
    "- degree of freedom: displacement angle $\\theta$ of $m$ over time $t$\n",
    "\n",
    "$$\\begin{align}\n",
    "\\text{Newtonian force}:& &m\\frac{d^2\\theta}{dt^2} &= -mg\\frac{\\sin\\theta}{L}\n",
    "\\end{align}$$\n",
    "\n",
    "$\\implies$ second-order non-linear ODE (ordinary differential equation)\n",
    "\n",
    "$\\leadsto$ numerical integration should give expected periodic movement!\n",
    "\n",
    "<p style=\"clear: both; font-size: 10pt; text-align: right; float: right;\"><a href=\"https://simple.wikipedia.org/wiki/Pendulum#/media/File:Simple-Pendulum-Labeled-Diagram.png\">image: simple.wikipedia.org</a></p>"
   ]
  },
  {
   "cell_type": "markdown",
   "id": "85fd511e",
   "metadata": {
    "slideshow": {
     "slide_type": "slide"
    }
   },
   "source": [
    "<h2>Phase Space</h2>\n",
    "\n",
    "<img src=\"./img/phasespace.png\" alt=\"phase-space sketch\" style=\"float: right; width: 20%;\" />\n",
    "\n",
    "Very useful concept in classical mechanics:\n",
    "- collect all states of dynamical system\n",
    "- for $i$ degrees of freedom: <br /> each coordinate $q_i$ has associated <b>conjugate momentum</b> $p_i$\n",
    "- momentary state vector $(q_i, p_i)$ evolves with time $t$\n",
    "- equations of motion (e.o.m.) connect $(q_i, p_i)$ with each other: <br /><b>phase-space trajectories are solution of e.o.m.</b>\n",
    "- rich structure, \"symplectic manifold\", phase space $=$ incompressible fluid:\n",
    "    - phase-space trajectories are unique $\\implies$ never overlap/cross\n",
    "    - Liouville's theorem: local trajectory density does not change\n",
    "\n",
    "<p style=\"clear: both; font-size: 10pt; text-align: right; float: right;\">image: Roger Penrose, <br />The Road of Reality</p>\n",
    "\n",
    "$\\implies$ we will clarify via examples!"
   ]
  },
  {
   "cell_type": "markdown",
   "id": "1894c996",
   "metadata": {
    "slideshow": {
     "slide_type": "slide"
    }
   },
   "source": [
    "<h2>Conjugate Momentum</h2>\n",
    "\n",
    "Consider $$p \\doteq m L^2 \\frac{d\\theta}{dt}$$ \n",
    "\n",
    "(use Lagrangian functional to construct $p$ -- not focus of this lecture, see e.g. <a href=\"https://www.physics.uoguelph.ca/chapter-3-hamiltonian-mechanics\">here</a> for more details)\n",
    "\n",
    "2nd-order ODE equation of motion $\\leadsto$ 2 coupled 1st-order ODEs: evolution of $(\\theta, p)$\n",
    "\n",
    "$$\\frac{d^2\\theta}{dt^2} + \\frac{g}{L}\\sin\\theta = 0 \\quad \\Longleftrightarrow \\quad \\left\\{\\begin{array}\\,\n",
    "    \\cfrac{d\\theta}{dt} &= \\cfrac{p}{mL^2} \\\\\n",
    "    \\cfrac{dp}{dt} &= -m g L\\sin\\theta\n",
    "\\end{array}\\right.$$\n"
   ]
  },
  {
   "cell_type": "markdown",
   "id": "f3812e66",
   "metadata": {
    "slideshow": {
     "slide_type": "slide"
    }
   },
   "source": [
    "<h2>Let's plot in phase space!</h2>"
   ]
  },
  {
   "cell_type": "code",
   "execution_count": null,
   "id": "8cebe07b",
   "metadata": {},
   "outputs": [],
   "source": [
    "m = 1\n",
    "g = 1\n",
    "L = 1"
   ]
  },
  {
   "cell_type": "code",
   "execution_count": null,
   "id": "6082035e",
   "metadata": {},
   "outputs": [],
   "source": [
    "def plot_arrow(theta, p, dt=1):\n",
    "    # equations of motion:\n",
    "    dtheta = p / (m * L*L) * dt\n",
    "    dp = - m * g * L * np.sin(theta) * dt\n",
    "    \n",
    "    # plotting\n",
    "    plt.scatter([theta], [p], s=50, c='r', marker='*', zorder=10)\n",
    "    plt.annotate('', \n",
    "                 xytext=(theta, p), \n",
    "                 xy=(theta + dtheta, p + dp), \n",
    "                 arrowprops=dict(facecolor='black', shrink=0.03))"
   ]
  },
  {
   "cell_type": "code",
   "execution_count": null,
   "id": "a54a06c0",
   "metadata": {
    "slideshow": {
     "slide_type": "slide"
    }
   },
   "outputs": [],
   "source": [
    "plot_arrow(1, 0)\n",
    "# plot_arrow(0, -1)\n",
    "# plot_arrow(-1, 0)\n",
    "# plot_arrow(0, 1)\n",
    "# plot_arrow(1/1.41, 1/1.41)\n",
    "\n",
    "# # increase momentum:\n",
    "# for i in np.arange(0.4, 2.5, 0.2):\n",
    "#     plot_arrow(0, i)\n",
    "\n",
    "# # increase angle:\n",
    "# for i in np.arange(1, np.pi * 1.1, 0.2):\n",
    "#     plot_arrow(i, 0)\n",
    "\n",
    "set_axes()"
   ]
  },
  {
   "cell_type": "markdown",
   "id": "2295fc51",
   "metadata": {
    "slideshow": {
     "slide_type": "slide"
    }
   },
   "source": [
    "<h2>Conservation of Energy</h2>\n",
    "\n",
    "Equation of motion for $\\theta(t)$:\n",
    "$$\\frac{d^2\\theta}{dt^2} + \\frac{g}{L}\\sin\\theta = 0$$\n",
    "\n",
    "$$\\begin{align}\n",
    "\\text{Potential energy}:& &U &= mgL(1 - \\cos\\theta) \\\\\n",
    "\\text{Kinetic energy}:& &T &= \\frac{1}{2}mL^2\\left(\\frac{d\\theta}{dt}\\right)^2\n",
    "\\end{align}$$\n",
    "<!-- \\biggl(\\underbrace{\\frac{d\\theta}{dt}}\\limits_{\\mathop{\\doteq}\\dot{\\theta}}\\biggr)^2 -->\n",
    "\n",
    "<div class=\"alert alert-block alert-success\">\n",
    "Conservation of total energy:\n",
    "\n",
    "$$T + U = \\mathrm{const} \\quad \\Longleftrightarrow \\quad \\frac{d}{dt}(T + U) = 0$$\n",
    "</div>"
   ]
  },
  {
   "cell_type": "markdown",
   "id": "ef65989f",
   "metadata": {
    "slideshow": {
     "slide_type": "slide"
    }
   },
   "source": [
    "<h2>The Hamiltonian</h2>\n",
    "\n",
    "$\\mathcal{H} \\doteq T + U$ is an example of a <i>Hamiltonian</i> functional on $\\theta(t),p(t)$.\n",
    "\n",
    "- integral of motion (<b>total energy</b>) when $\\mathcal{H}$ not explicitly depending on time\n",
    "- equations of motion $=$ gradient of Hamiltonian w.r.t. phase-space coordinates $(q_i,p_i)$\n",
    "\n",
    "<div class=\"alert alert-block alert-success\">\n",
    "$$\\begin{align}\\,\n",
    "    \\frac{d}{dt}q_i & = \\frac{\\partial \\mathcal{H}}{\\partial p_i} \\\\\n",
    "    \\frac{d}{dt}p_i &= -\\frac{\\partial \\mathcal{H}}{\\partial q_i}\n",
    "\\end{align}$$\n",
    "</div>\n",
    "\n",
    "- in 2D: contours of constant Hamiltonian value $=$ phase-space trajectories"
   ]
  },
  {
   "cell_type": "markdown",
   "id": "f7d5e9ea",
   "metadata": {
    "slideshow": {
     "slide_type": "slide"
    }
   },
   "source": [
    "<h2>Hamiltonian of the Pendulum</h2>\n",
    "\n",
    "$$\\mathcal{H} = T + U = \\frac{1}{2} \\frac{p^2}{mL^2} + m g L \\left(1 - \\cos\\theta\\right)$$ \n",
    "\n",
    "and correspondingly the 2 coupled 1D equations of motion via the Hamilton equations:\n",
    "\n",
    "$$\\left.\\begin{array}\\,\n",
    "    \\cfrac{d\\theta}{dt} = \\cfrac{\\partial\\mathcal{H}}{\\partial p} \\\\ \n",
    "    \\cfrac{dp}{dt} = -\\cfrac{\\partial\\mathcal{H}}{\\partial\\theta}\n",
    "\\end{array}\\right\\} \\quad \\Longleftrightarrow \\quad \\left\\{\\begin{array}\\,\n",
    "    \\cfrac{d\\theta}{dt} &= \\cfrac{p}{mL^2} \\\\\n",
    "    \\cfrac{dp}{dt} &= -m g L\\sin\\theta\n",
    "\\end{array}\\right.$$"
   ]
  },
  {
   "cell_type": "code",
   "execution_count": null,
   "id": "2844ac08",
   "metadata": {
    "slideshow": {
     "slide_type": "slide"
    }
   },
   "outputs": [],
   "source": [
    "def hamiltonian(theta, p):\n",
    "    T = p * p / (2 * m * L*L)\n",
    "    U = m * g * L * (1 - np.cos(theta))\n",
    "    return T + U"
   ]
  },
  {
   "cell_type": "code",
   "execution_count": null,
   "id": "3eed009c",
   "metadata": {},
   "outputs": [],
   "source": [
    "TH, PP = np.meshgrid(np.linspace(-np.pi * 1.1, np.pi * 1.1, 100), \n",
    "                     np.linspace(-3, 3, 100))\n",
    "\n",
    "HH = hamiltonian(TH, PP)\n",
    "\n",
    "plt.contour(TH, PP, HH, levels=10)\n",
    "plt.colorbar(label=r'$\\mathcal{H}(\\theta, p)$')\n",
    "\n",
    "set_axes()"
   ]
  },
  {
   "cell_type": "code",
   "execution_count": null,
   "id": "80387fae",
   "metadata": {
    "scrolled": false,
    "slideshow": {
     "slide_type": "slide"
    }
   },
   "outputs": [],
   "source": [
    "TH, PP = np.meshgrid(np.linspace(-np.pi * 1.1, np.pi * 1.1, 100), \n",
    "                     np.linspace(-3, 3, 100))\n",
    "\n",
    "HH = hamiltonian(TH, PP)\n",
    "\n",
    "plt.contourf(TH, PP, HH, cmap=plt.get_cmap('hot_r'))\n",
    "plt.colorbar(label=r'$\\mathcal{H}(\\theta, p)$')\n",
    "\n",
    "plot_arrow(2, 0)\n",
    "\n",
    "set_axes()"
   ]
  },
  {
   "cell_type": "markdown",
   "id": "df4cf5dd",
   "metadata": {
    "slideshow": {
     "slide_type": "slide"
    }
   },
   "source": [
    "<h2>Observations: Pendulum Phase-space Topology</h2>\n",
    "\n",
    "1. origin $(0,0)$: stable fixed point\n",
    "2. <b>bound motion</b> (circular phase-space trajectories) close to origin <br />($\\Leftrightarrow$ pendulum swinging back and forth)\n",
    "3. at larger angles towards $|\\theta|\\lesssim \\pi$ change of angle slows down\n",
    "4. unstable fixed points at $|\\theta|=\\pi$\n",
    "5. <b>unbound motion</b> (continuous phase-space trajectories) at large momenta <br />($\\Leftrightarrow$ pendulum moves in one angular direction only)\n",
    "6. <b>separatrix</b>: phase-space boundary separating bound from unbound motion"
   ]
  },
  {
   "cell_type": "markdown",
   "id": "ced6701c",
   "metadata": {
    "slideshow": {
     "slide_type": "slide"
    }
   },
   "source": [
    "<h2>Summing up Concepts</h2>\n",
    "\n",
    "- phase space: all momentary states $(\\theta, p)$ of the dynamical system\n",
    "- Hamiltonian $\\mathcal{H}$: shapes landscape / geometry of phase space\n",
    "    $\\implies$ equations of motion\n",
    "    \n",
    "<div class=\"alert alert-block alert-success\" style=\"text-align:center;\">$\\mathcal{H}$ contains the physics!</div>"
   ]
  },
  {
   "cell_type": "markdown",
   "id": "60985bd2",
   "metadata": {
    "slideshow": {
     "slide_type": "slide"
    }
   },
   "source": [
    "<p style=\"text-align: center;\">\n",
    "    $\\implies$ let's go ahead and apply <b>discrete integrators</b> to simulate the pendulum\n",
    "</p>\n",
    "\n",
    "<p style=\"text-align: center;\">\n",
    "$\\leadsto$ Hamiltonian contours indicate exact geometry of solutions to the pendulum e.o.m. for comparison\n",
    "</p>"
   ]
  },
  {
   "cell_type": "markdown",
   "id": "f124c01f",
   "metadata": {
    "slideshow": {
     "slide_type": "slide"
    }
   },
   "source": [
    "<h2>Discretisation</h2>\n",
    "\n",
    "differential equation with continuous parameter $t$ $\\stackrel{\\text{discretise}}{\\implies}$ discrete map with time steps $t=k\\Delta t$\n",
    "\n",
    "<h3>Start with Forward Integration</h3>\n",
    "\n",
    "Assume constant values during $\\Delta t$: \"Explicit Euler method\"\n",
    "\n",
    "$$\\left.\\begin{array}\\,\n",
    "    \\cfrac{d\\theta}{dt} &= \\cfrac{p}{mL^2} \\\\\n",
    "    \\cfrac{dp}{dt} &= -m g L\\sin\\theta\n",
    "\\end{array}\\right\\} \\quad \\stackrel{\\text{Euler}}{\\Longrightarrow} \\quad \\left\\{\\begin{array}\\,\n",
    "    \\theta_{k+1} &= \\theta_k + \\Delta t\\cdot\\cfrac{p_{k}}{mL^2} \\\\\n",
    "    p_{k+1} &= p_k - \\Delta t\\cdot m g L\\sin\\theta_k\n",
    "\\end{array}\\right.$$"
   ]
  },
  {
   "cell_type": "code",
   "execution_count": null,
   "id": "56d6367b",
   "metadata": {
    "slideshow": {
     "slide_type": "slide"
    }
   },
   "outputs": [],
   "source": [
    "def solve_euler(theta, p, dt=0.1):\n",
    "    theta_next = theta + dt * p / (m * L*L)\n",
    "    p_next = p - dt * m * g * L * np.sin(theta)\n",
    "    return (theta_next, p_next)"
   ]
  },
  {
   "cell_type": "code",
   "execution_count": null,
   "id": "47aa8127",
   "metadata": {},
   "outputs": [],
   "source": [
    "theta_ini = -1.1\n",
    "p_ini = 0\n",
    "n_steps = 100"
   ]
  },
  {
   "cell_type": "code",
   "execution_count": null,
   "id": "00962c6d",
   "metadata": {},
   "outputs": [],
   "source": [
    "results_euler = np.zeros((n_steps, 2), dtype=np.float32)\n",
    "results_euler[0] = (theta_ini, p_ini)\n",
    "\n",
    "for k in range(1, n_steps):\n",
    "    results_euler[k] = solve_euler(*results_euler[k - 1])"
   ]
  },
  {
   "cell_type": "code",
   "execution_count": null,
   "id": "7eb121a3",
   "metadata": {
    "slideshow": {
     "slide_type": "slide"
    }
   },
   "outputs": [],
   "source": [
    "plt.contour(TH, PP, HH, levels=10, linestyles='--', linewidths=1)\n",
    "\n",
    "plt.plot(results_euler[:, 0], results_euler[:, 1], c='b')\n",
    "\n",
    "set_axes()"
   ]
  },
  {
   "cell_type": "markdown",
   "id": "16c93688",
   "metadata": {},
   "source": [
    "\n",
    "<p style=\"color: #e6541a;\">$\\implies$ Is there something qualitatively wrong with our integrator?</p>"
   ]
  },
  {
   "cell_type": "markdown",
   "id": "ce483218",
   "metadata": {
    "slideshow": {
     "slide_type": "slide"
    }
   },
   "source": [
    "<h2>Total Energy should be conserved?</h2>"
   ]
  },
  {
   "cell_type": "code",
   "execution_count": null,
   "id": "953a5b4f",
   "metadata": {},
   "outputs": [],
   "source": [
    "plt.plot(\n",
    "    hamiltonian(results_euler[:, 0], results_euler[:, 1]), \n",
    "    c='b', label='Euler integrator')\n",
    "plt.axhline(hamiltonian(theta_ini, p_ini), c='r', label='theory')\n",
    "\n",
    "plt.xlabel('Steps $k$')\n",
    "plt.ylabel(r'$\\mathcal{H}(\\theta, p)$')\n",
    "plt.legend();"
   ]
  },
  {
   "cell_type": "markdown",
   "id": "992f17fc",
   "metadata": {
    "slideshow": {
     "slide_type": "slide"
    }
   },
   "source": [
    "$\\implies$ discrete pendulum model <b>violates</b> energy conservation"
   ]
  },
  {
   "cell_type": "markdown",
   "id": "7637e085",
   "metadata": {
    "slideshow": {
     "slide_type": "slide"
    }
   },
   "source": [
    "<h2>Even worse:</h2>"
   ]
  },
  {
   "cell_type": "code",
   "execution_count": null,
   "id": "a6595cad",
   "metadata": {
    "slideshow": {
     "slide_type": "-"
    }
   },
   "outputs": [],
   "source": [
    "theta_ini2 = -3.\n",
    "p_ini2 = 0\n",
    "n_steps = 100"
   ]
  },
  {
   "cell_type": "code",
   "execution_count": null,
   "id": "5ad3a688",
   "metadata": {},
   "outputs": [],
   "source": [
    "results_euler2 = np.zeros((n_steps, 2), dtype=np.float32)\n",
    "results_euler2[0] = (theta_ini2, p_ini2)\n",
    "\n",
    "for k in range(1, n_steps):\n",
    "    results_euler2[k] = solve_euler(*results_euler2[k - 1])"
   ]
  },
  {
   "cell_type": "code",
   "execution_count": null,
   "id": "943ade82",
   "metadata": {
    "slideshow": {
     "slide_type": "slide"
    }
   },
   "outputs": [],
   "source": [
    "plt.contour(TH, PP, HH, levels=10, linestyles='--', linewidths=1)\n",
    "plt.plot(results_euler2[:, 0], results_euler2[:, 1], c='b')\n",
    "set_axes()"
   ]
  },
  {
   "cell_type": "markdown",
   "id": "3c76ceb0",
   "metadata": {
    "slideshow": {
     "slide_type": "slide"
    }
   },
   "source": [
    "<h2>Change from bound to unbound region?</h2>\n",
    "\n",
    "Hamiltonian value of separatrix: $\\mathcal{H}_{sep} = \\mathcal{H}(-\\pi, 0)\\qquad$  (at unstable fixed point)"
   ]
  },
  {
   "cell_type": "code",
   "execution_count": null,
   "id": "29f57cc4",
   "metadata": {},
   "outputs": [],
   "source": [
    "h_sep = hamiltonian(-np.pi, 0)\n",
    "h_sep"
   ]
  },
  {
   "cell_type": "code",
   "execution_count": null,
   "id": "7d136eb6",
   "metadata": {
    "slideshow": {
     "slide_type": "slide"
    }
   },
   "outputs": [],
   "source": [
    "plt.plot(\n",
    "    hamiltonian(results_euler2[:, 0], results_euler2[:, 1]), \n",
    "    c='b', label='Euler integrator')\n",
    "plt.axhline(hamiltonian(theta_ini2, p_ini2), c='r', label='theory')\n",
    "plt.axhline(h_sep, c='k', label='$\\mathcal{H}_{sep}$')\n",
    "\n",
    "plt.xlabel('Steps $k$')\n",
    "plt.ylabel(r'$\\mathcal{H}(\\theta, p)$')\n",
    "plt.legend(bbox_to_anchor=(1.05, 1))\n",
    "plt.ylim(top=2.1);"
   ]
  },
  {
   "cell_type": "markdown",
   "id": "6d633ae9",
   "metadata": {
    "slideshow": {
     "slide_type": "slide"
    }
   },
   "source": [
    "<h2>Conclusion from Euler Integrator</h2>\n",
    "\n",
    "- violates energy conservation: increasing energy / amplitude continuously\n",
    "- even breaks underlying structure of original phase space: leaving bound motion region to unbound region\n",
    "\n",
    "<div class=\"alert alert-block alert-danger\" style=\"text-align:center;\">\n",
    "    $\\implies$ <b>discretisation error!</b> <br />(... think of implications for predicting LHC stability or Earth's orbit)\n",
    "</div>"
   ]
  },
  {
   "cell_type": "markdown",
   "id": "ec30f031",
   "metadata": {
    "slideshow": {
     "slide_type": "slide"
    }
   },
   "source": [
    "<h2>Symplecticity</h2>\n",
    "\n",
    "Euler method is a <b>non-symplectic</b> integrator, i.e. breaks Hamiltonian nature and Liouville theorem.\n",
    "\n",
    "Instead, numerical integrator mapping <b>should preserve phase-space density</b> (be symplectic)! \n",
    "\n",
    "$\\implies$ Jacobian $\\mathbb{J}$ of map should satisfy $\\det(\\mathbb{J})\\mathop{\\stackrel{!}{=}} 1$\n",
    "\n",
    "Euler method violates this, e.g. for pendulum:\n",
    "\n",
    "$$\\mathbb{J}_{Euler} = \\begin{pmatrix} \n",
    "    \\cfrac{\\partial\\theta_{k+1}}{\\partial\\theta_k} & \\cfrac{\\partial\\theta_{k+1}}{\\partial p_k} \\\\\n",
    "    \\cfrac{\\partial p_{k+1}}{\\partial\\theta_k} & \\cfrac{\\partial p_{k+1}}{\\partial p_k}\n",
    "\\end{pmatrix} = \\begin{pmatrix}\n",
    "    1 & \\cfrac{\\Delta t}{mL^2} \\\\\n",
    "    -\\Delta t\\, mgL\\cos\\theta_k & 1\n",
    "\\end{pmatrix} \\implies \\det\\left(\\mathbb{J}_{Euler}\\right) \\neq 1$$"
   ]
  },
  {
   "cell_type": "markdown",
   "id": "1ba1255a",
   "metadata": {
    "slideshow": {
     "slide_type": "slide"
    }
   },
   "source": [
    "<h2>Euler-Cromer Method</h2>\n",
    "\n",
    "Let's fix symplecticity / phase-space volume preservation! \n",
    "\n",
    "Euler has approximation error $\\mathcal{O}(\\Delta t^2)$.\n",
    "\n",
    "$\\implies$ add cancellation term of same magnitude (simplify $m=L=g=1$): \n",
    "\n",
    "$$\\mathbb{J}_{EC} = \\begin{pmatrix}\n",
    "    1 & \\Delta t \\\\\n",
    "    -\\Delta t\\cos\\theta_k & 1 \\color{red}{-\\Delta t^2\\cos\\theta_k}\n",
    "\\end{pmatrix} $$\n",
    "\n",
    "<div class=\"alert alert-block alert-success\">$$\\implies \\det\\left(\\mathbb{J}_{EC}\\right) = 1$$ </div>\n",
    "\n",
    "<!--= \\underbrace{\\begin{pmatrix}\n",
    "    1 & 0 \\\\\n",
    "    -\\Delta t \\cos\\theta_k & 1\n",
    "\\end{pmatrix}}\\limits_\\text{\"kick\": update $p$} \\cdot \\underbrace{\\begin{pmatrix}\n",
    "    1 & \\Delta t \\\\\n",
    "    0 & 1\n",
    "\\end{pmatrix}}\\limits_\\text{\"drift\": update $\\theta$}-->"
   ]
  },
  {
   "cell_type": "markdown",
   "id": "5bae89d0",
   "metadata": {
    "slideshow": {
     "slide_type": "slide"
    }
   },
   "source": [
    "<h2>Euler-Cromer Method II</h2>\n",
    "\n",
    "Main difference to Euler method: \"staircase\" movement in phase space\n",
    "- first update $\\theta$\n",
    "- then update $p$\n",
    "\n",
    "$$\\left.\\begin{array}\\,\n",
    "    \\cfrac{d\\theta}{dt} &= \\cfrac{p}{mL^2} \\\\\n",
    "    \\cfrac{dp}{dt} &= -m g L\\sin\\theta\n",
    "\\end{array}\\right\\} \\quad \\stackrel{\\text{Euler-Cromer}}{\\Longrightarrow} \\quad \\left\\{\\begin{array}\\,\n",
    "    \\theta_{k+1} &= \\theta_k + \\Delta t\\cdot\\cfrac{p_{k}}{mL^2} \\\\\n",
    "    p_{k+1} &= p_k - \\Delta t\\cdot m g L\\sin\\color{red}{\\theta_{k+1}}\n",
    "\\end{array}\\right.$$"
   ]
  },
  {
   "cell_type": "markdown",
   "id": "11f57cb7",
   "metadata": {
    "slideshow": {
     "slide_type": "slide"
    }
   },
   "source": [
    "<h2>Euler-Cromer Method III</h2>\n",
    "\n",
    "Illustration of stair-case movement in phase space for linear pendulum where $\\sin\\theta\\approx \\theta$:\n",
    "    \n",
    "$$\\left\\{\\begin{array}\\,\n",
    "    \\theta_{k+1} &= \\theta_k + \\Delta t\\cdot p_{k} \\\\\n",
    "    p_{k+1} &= p_k - \\Delta t\\cdot \\color{red}{\\theta_{k+1}}\n",
    "\\end{array}\\right.\n",
    "\\\\[2em]\n",
    "\\stackrel{\\text{Jacobian}}{\\Longrightarrow} \\quad \n",
    "\\mathbb{J}_{EC} = \\begin{pmatrix}\n",
    "    1 & \\Delta t \\\\\n",
    "    -\\Delta t & 1 \\color{red}{-\\Delta t^2}\n",
    "\\end{pmatrix} = \\underbrace{\\begin{pmatrix}\n",
    "    1 & 0 \\\\\n",
    "    -\\Delta t & 1\n",
    "\\end{pmatrix}}\\limits_\\text{\"kick\": update $p$} \\cdot \\underbrace{\\begin{pmatrix}\n",
    "    1 & \\Delta t \\\\\n",
    "    0 & 1\n",
    "\\end{pmatrix}}\\limits_\\text{\"drift\": update $\\theta$}\n",
    "$$\n",
    "\n",
    "$\\implies$ Euler-Cromer method is sometimes referred to as *drift-kick* algorithm"
   ]
  },
  {
   "cell_type": "markdown",
   "id": "6d6c87c8",
   "metadata": {
    "slideshow": {
     "slide_type": "slide"
    }
   },
   "source": [
    "<h2>Implement in Python</h2>"
   ]
  },
  {
   "cell_type": "code",
   "execution_count": null,
   "id": "042c7ba1",
   "metadata": {},
   "outputs": [],
   "source": [
    "def solve_eulercromer(theta, p, dt=0.1):\n",
    "    ### from Euler:\n",
    "    theta_next = theta + dt * p / (m * L*L)\n",
    "    p_next = p - dt * m * g * L * np.sin(theta_next)\n",
    "    return (theta_next, p_next)"
   ]
  },
  {
   "cell_type": "code",
   "execution_count": null,
   "id": "6a847a17",
   "metadata": {},
   "outputs": [],
   "source": [
    "results_eulercromer = np.zeros((n_steps, 2), dtype=np.float32)\n",
    "results_eulercromer[0] = (theta_ini, p_ini)\n",
    "\n",
    "for k in range(1, n_steps):\n",
    "    results_eulercromer[k] = solve_eulercromer(*results_eulercromer[k - 1])"
   ]
  },
  {
   "cell_type": "code",
   "execution_count": null,
   "id": "5c648946",
   "metadata": {
    "slideshow": {
     "slide_type": "slide"
    }
   },
   "outputs": [],
   "source": [
    "plt.contour(TH, PP, HH, levels=10, linestyles='--', linewidths=1)\n",
    "\n",
    "plt.plot(results_euler[:, 0], results_euler[:, 1], c='b', label='Euler')\n",
    "plt.plot(results_eulercromer[:, 0], results_eulercromer[:, 1], c='c', label='Euler-Cromer')\n",
    "\n",
    "plt.legend(bbox_to_anchor=(1.05, 1))\n",
    "set_axes()"
   ]
  },
  {
   "cell_type": "markdown",
   "id": "3e29e7f5",
   "metadata": {
    "slideshow": {
     "slide_type": "slide"
    }
   },
   "source": [
    "<h2>What about energy conservation now?</h2>"
   ]
  },
  {
   "cell_type": "code",
   "execution_count": null,
   "id": "e2f43b63",
   "metadata": {
    "slideshow": {
     "slide_type": "-"
    }
   },
   "outputs": [],
   "source": [
    "plt.plot(\n",
    "    hamiltonian(results_euler[:, 0], results_euler[:, 1]), \n",
    "    c='b', label='Euler')\n",
    "plt.plot(\n",
    "    hamiltonian(results_eulercromer[:, 0], results_eulercromer[:, 1]), \n",
    "    c='c', label='Euler-Cromer')\n",
    "plt.axhline(hamiltonian(theta_ini, p_ini), c='r', label='theory')\n",
    "\n",
    "plt.xlabel('Steps $k$')\n",
    "plt.ylabel(r'$\\mathcal{H}(\\theta, p)$')\n",
    "plt.legend(bbox_to_anchor=(1.05, 1));"
   ]
  },
  {
   "cell_type": "markdown",
   "id": "a948edfa",
   "metadata": {
    "slideshow": {
     "slide_type": "slide"
    }
   },
   "source": [
    "$\\implies$ still finite error -- but <b>bound</b> within an interval around the correct solution! \n",
    "\n",
    "(In fact, a modified Hamiltonian $\\mathcal{K}$ is conserved...)"
   ]
  },
  {
   "cell_type": "markdown",
   "id": "4946b49b",
   "metadata": {
    "slideshow": {
     "slide_type": "slide"
    }
   },
   "source": [
    "<h2>Adding Mid-point Rule: $\\mathcal{O}(\\Delta t^3)$</h2>\n",
    "    \n",
    "Störmer-Verlet (or \"leapfrog\") method: staggered update, formulate as drift-kick-drift!\n",
    "\n",
    "<img src=\"./img/leapfrog.png\" alt=\"leapfrog method sketch\" style=\"width: 40%; margin:auto;\" />\n",
    "\n",
    "$$\\left.\\begin{array}\\,\n",
    "    \\cfrac{d\\theta}{dt} &= \\cfrac{p}{mL^2} \\\\\n",
    "    \\cfrac{dp}{dt} &= -m g L\\sin\\theta\n",
    "\\end{array}\\right\\} \\quad \\stackrel{\\text{leapfrog}}{\\Longrightarrow} \\quad \\left\\{\\begin{array}\\,\n",
    "    \\theta_{\\color{red}{k+1/2}} &= \\theta_k + \\color{red}{\\cfrac{\\Delta t}{2}}\\cdot\\cfrac{p_{k}}{mL^2} \\\\\n",
    "    p_{k+1} &= p_k - \\Delta t\\cdot m g L\\sin\\theta_\\color{red}{{k+1/2}} \\\\\n",
    "    \\theta_{\\color{red}{k+1}} &= \\theta_{\\color{red}{k+1/2}} + \\color{red}{\\cfrac{\\Delta t}{2}}\\cdot\\cfrac{p_{\\color{red}{k+1}}}{mL^2}\n",
    "\\end{array}\\right.$$ \n",
    "\n",
    "<div class=\"alert alert-block alert-success\" style=\"text-align:center;\">$\\implies$ widely used symplectic algorithm: stable, second-order and time-reversible! </div>"
   ]
  },
  {
   "cell_type": "markdown",
   "id": "ff74bae6",
   "metadata": {
    "slideshow": {
     "slide_type": "slide"
    }
   },
   "source": [
    "\n",
    "<p style=\"color: #e6541a;\"><b>Exercise:</b> verify that Jacobian of leapfrog algorithm gives $\\det\\left(\\mathbb{J}_\\text{leapfrog}\\right) = 1$</p>"
   ]
  },
  {
   "cell_type": "code",
   "execution_count": null,
   "id": "a1e22796",
   "metadata": {
    "slideshow": {
     "slide_type": "slide"
    }
   },
   "outputs": [],
   "source": [
    "def solve_leapfrog(theta, p, dt=0.1):\n",
    "    theta_half = theta + dt / 2 * p / (m * L*L)\n",
    "    p_next = p - dt * m * g * L * np.sin(theta_half)\n",
    "    theta_next = theta_half + dt / 2 * p_next / (m * L*L)\n",
    "    return (theta_next, p_next)"
   ]
  },
  {
   "cell_type": "code",
   "execution_count": null,
   "id": "e72e546d",
   "metadata": {},
   "outputs": [],
   "source": [
    "results_leapfrog = np.zeros((n_steps, 2), dtype=np.float32)\n",
    "results_leapfrog[0] = (theta_ini, p_ini)\n",
    "\n",
    "for k in range(1, n_steps):\n",
    "    results_leapfrog[k] = solve_leapfrog(*results_leapfrog[k - 1])"
   ]
  },
  {
   "cell_type": "code",
   "execution_count": null,
   "id": "d282c584",
   "metadata": {
    "slideshow": {
     "slide_type": "slide"
    }
   },
   "outputs": [],
   "source": [
    "plt.plot(\n",
    "    hamiltonian(results_euler[:, 0], results_euler[:, 1]), \n",
    "    c='b', label='Euler, $\\mathcal{O}(\\Delta t^2)$')\n",
    "plt.plot(\n",
    "    hamiltonian(results_eulercromer[:, 0], results_eulercromer[:, 1]), \n",
    "    c='c', label='Euler-Cromer, $\\mathcal{O}(\\Delta t^2)$')\n",
    "plt.plot(\n",
    "    hamiltonian(results_leapfrog[:, 0], results_leapfrog[:, 1]), \n",
    "    c='k', label='leapfrog, $\\mathcal{O}(\\Delta t^3)$')\n",
    "plt.axhline(hamiltonian(theta_ini, p_ini), c='r', lw=2, label='theory')\n",
    "\n",
    "plt.ylim(0.5, 0.6)\n",
    "plt.xlabel('Steps $k$')\n",
    "plt.ylabel(r'$\\mathcal{H}(\\theta, p)$')\n",
    "plt.legend(bbox_to_anchor=(1.05, 1));"
   ]
  },
  {
   "cell_type": "markdown",
   "id": "f92dd567",
   "metadata": {
    "slideshow": {
     "slide_type": "slide"
    }
   },
   "source": [
    "<h2>Let this sink in...</h2>\n",
    "\n",
    "<p style=\"color: #e6541a;\">Are symplectic algorithms always a good idea? (When not...?)</p>"
   ]
  },
  {
   "cell_type": "markdown",
   "id": "98b75b6a",
   "metadata": {
    "slideshow": {
     "slide_type": "slide"
    }
   },
   "source": [
    "<img src=\"./img/leir-layout.png\" alt=\"CERN LEIR layout\" style=\"float:right; width:35%;\" />\n",
    "\n",
    "<h2>Analogy of Pendulum with Accelerator</h2>\n",
    "\n",
    "Phase focusing with rf cavities:\n",
    "- particles drift over most of the circular accelerator\n",
    "- particles get kicked only in rf cavities <br /> (energy change through standing electromagnetic wave)\n",
    "\n",
    "$\\implies$ closely corresponds to discrete pendulum situation!\n",
    "\n",
    "<div class=\"alert alert-block alert-success\" style=\"text-align:center;\">rf focused beam of particles $\\leftrightarrow$ collection of pendulums </div>\n",
    "\n",
    "<p style=\"clear: both; font-size: 10pt; text-align: right; float: right;\"><a href=\"https://be-dep-op-leir.web.cern.ch/content/leir-machine\">image: LEIR layout, CERN</a></p>\n"
   ]
  },
  {
   "cell_type": "markdown",
   "id": "dedbfa63",
   "metadata": {
    "slideshow": {
     "slide_type": "slide"
    }
   },
   "source": [
    "<h2>Summary</h2>\n",
    "\n",
    "- time scales in accelerator physics\n",
    "- phase space & Hamiltonian functional\n",
    "- discrete numerical integration schemes:\n",
    "    - Euler\n",
    "    - Euler-Cromer\n",
    "    - Leapfrog\n",
    "- symplecticity"
   ]
  },
  {
   "cell_type": "markdown",
   "id": "5358379e",
   "metadata": {
    "slideshow": {
     "slide_type": "slide"
    }
   },
   "source": [
    "<h2>Literature:</h2>\n",
    "\n",
    "- symplectic integrators: https://young.physics.ucsc.edu/115/leapfrog.pdf"
   ]
  }
 ],
 "metadata": {
  "celltoolbar": "Slideshow",
  "kernelspec": {
   "display_name": "Python 3 (ipykernel)",
   "language": "python",
   "name": "python3"
  },
  "language_info": {
   "codemirror_mode": {
    "name": "ipython",
    "version": 3
   },
   "file_extension": ".py",
   "mimetype": "text/x-python",
   "name": "python",
   "nbconvert_exporter": "python",
   "pygments_lexer": "ipython3",
   "version": "3.10.6"
  },
  "rise": {
   "enable_chalkboard": false,
   "footer": "<p>Fachbereich Elektrotechnik und Informationstechnik (etit)   |   Institut für Teilchenbeschleunigung und Elektromagnetische Felder (TEMF)   |   Dr. Adrian Oeftiger</p>",
   "header": "<img src='https://upload.wikimedia.org/wikipedia/de/thumb/2/24/TU_Darmstadt_Logo.svg/640px-TU_Darmstadt_Logo.svg.png' />",
   "scroll": true,
   "theme": "simple",
   "transition": "none"
  }
 },
 "nbformat": 4,
 "nbformat_minor": 5
}
