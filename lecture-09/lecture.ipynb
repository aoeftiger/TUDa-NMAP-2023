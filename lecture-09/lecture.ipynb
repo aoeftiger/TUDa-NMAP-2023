{
 "cells": [
  {
   "cell_type": "markdown",
   "id": "38250724",
   "metadata": {
    "slideshow": {
     "slide_type": "slide"
    }
   },
   "source": [
    "<h1 style=\"text-align: center; vertical-align: middle;\">Numerical Methods in Accelerator Physics</h1>\n",
    "<h2 style=\"text-align: center; vertical-align: middle;\">Lecture Series by Dr. Adrian Oeftiger</h2>\n",
    "\n",
    "<div style=\"width: 45%; margin: auto; margin-top: 1em; vertical-align: middle;\">\n",
    "<img src=\"./img/etit.png\" style=\"width: 30%; float: left; margin-right: 5%;\" /><img src=\"./img/GSI_Logo.png\" style=\"width: 35%; float: left; margin-right: 5%; padding-top: 0.5em;\" /><img src=\"./img/FAIR_Logo.png\" style=\"width: 25%; float: left;\" />\n",
    "</div>\n",
    "\n",
    "<h3 style=\"clear: both; text-align: center; margin-top: 1em;\">Lecture 9</h3>"
   ]
  },
  {
   "cell_type": "markdown",
   "id": "06a8d74b",
   "metadata": {
    "slideshow": {
     "slide_type": "slide"
    }
   },
   "source": [
    "<h2>Run this notebook online!</h2>\n",
    "\n",
    "Interact and run this jupyter notebook online:\n",
    "\n",
    "<div class=\"alert alert-block alert-info\" style=\"text-align:center;\">\n",
    "via the public mybinder.org service: <br />\n",
    "<a href=\"https://mybinder.org/v2/gh/aoeftiger/TUDa-NMAP-2023/v11.1\" style=\"width:auto; display:table;margin:0.5em auto;\"><img src=\"./img/binder_logo.svg\" alt=\"mybinder.org logo\" height=\"1ex\" /></a>\n",
    "</div>\n",
    "\n",
    "<div class=\"alert alert-block alert-info\" style=\"text-align:center;\">\n",
    "via the public gesis.org service: <br />\n",
    "<a href=\"https://notebooks.gesis.org/binder/v2/gh/aoeftiger/TUDA-NMAP-2023/v11.1\" style=\"width:auto; display:table;margin:0.5em auto;\"><img src=\"./img/binder_logo.svg\" alt=\"gesis.org logo\" height=\"1ex\" /></a>\n",
    "</div>\n",
    "\n",
    "Also find this lecture rendered [as HTML slides on github $\\nearrow$](https://aoeftiger.github.io/TUDa-NMAP-2023/) along with the [source repository $\\nearrow$](https://github.com/aoeftiger/TUDa-NMAP-2023)."
   ]
  },
  {
   "cell_type": "markdown",
   "id": "a57cc074",
   "metadata": {
    "slideshow": {
     "slide_type": "slide"
    }
   },
   "source": [
    "<h2>Run this first!</h2>\n",
    "\n",
    "Imports and modules:"
   ]
  },
  {
   "cell_type": "code",
   "execution_count": null,
   "id": "e538eebc",
   "metadata": {
    "slideshow": {
     "slide_type": "-"
    }
   },
   "outputs": [],
   "source": [
    "from config import (np, plt, radon, iradon, Image, \n",
    "                    tnrange, plot_mp, plot_tomo)\n",
    "from scipy.constants import m_p, e, c\n",
    "%matplotlib inline"
   ]
  },
  {
   "cell_type": "markdown",
   "id": "d5d19c39",
   "metadata": {
    "slideshow": {
     "slide_type": "slide"
    }
   },
   "source": [
    "<h2 style=\"color: #b51f2a\">Refresher!</h2>\n",
    "\n",
    "- Twiss parameters and phase advance from periodic transport matrix\n",
    "- Betatron matrices and Twiss matrix: 2 representations of <b>identical</b> (stable/bounded) solution to Hill differential equation\n",
    "- Stability of periodic transport matrices\n",
    "- Optical / Twiss functions and Dispersion of a FODO cell\n",
    "- Dipoles generate & quadrupoles focuse dispersion function\n",
    "- Quadrupole focal length depends on momentum, tune change, chromaticity\n",
    "- Chromatic tune change in a FODO cell\n",
    "- Correction of chromaticity with sextupole magnets"
   ]
  },
  {
   "cell_type": "markdown",
   "id": "ca9cec0a",
   "metadata": {
    "slideshow": {
     "slide_type": "slide"
    }
   },
   "source": [
    "<h2 style=\"color: #b51f2a\">Today!</h2>\n",
    "\n",
    "1. Intro to Tomographic Reconstruction\n",
    "2. Phase-space Tomography"
   ]
  },
  {
   "cell_type": "markdown",
   "id": "54c56d4e",
   "metadata": {
    "slideshow": {
     "slide_type": "slide"
    }
   },
   "source": [
    "<div style=\"text-align: center; width:100%;\">\n",
    "    <h2>Part I: Intro to Tomographic Reconstruction</h2>\n",
    "</div>"
   ]
  },
  {
   "cell_type": "markdown",
   "id": "2f5b50e0",
   "metadata": {
    "slideshow": {
     "slide_type": "slide"
    }
   },
   "source": [
    "# Tomographic Reconstruction\n",
    "\n",
    "<b>\"Tomography\"</b>: imaging via sectioning\n",
    "\n",
    "<b>Origins</b>: mathematician J. Radon (AUT)\n",
    "- 1917: \"On the determination of functions from their integrals along certain manifolds\"\n",
    "- inverse problem\n",
    "- <b>Fourier slice theorem</b>: any 2D (3D) object can be reconstructed from infinite set of 1D (2D) projections"
   ]
  },
  {
   "cell_type": "markdown",
   "id": "2e9d3612",
   "metadata": {
    "slideshow": {
     "slide_type": "slide"
    }
   },
   "source": [
    "<div style=\"float:right; width:15%;\">\n",
    "    <img src=\"https://upload.wikimedia.org/wikipedia/commons/thumb/2/27/UPMCEast_CTscan.jpg/800px-UPMCEast_CTscan.jpg\" alt=\"CT scanner\" style=\"width:100%;\" />\n",
    "<p style=\"font-size: small; text-align: right; margin-top:1em;\">image from <a href=\"https://commons.wikimedia.org/wiki/File:UPMCEast_CTscan.jpg\">daveynin, Wikimedia</a></p>\n",
    "    <img src=\"https://upload.wikimedia.org/wikipedia/commons/6/68/3d_CT_scan_animation.gif\" alt=\"Reconstructed CT scan\" style=\"width:100%;\" />\n",
    "<p style=\"font-size: small; text-align: right; margin-top:1em;\">image from <a href=\"https://commons.wikimedia.org/wiki/File:3d_CT_scan_animation.gif\">Arielinson, Wikimedia</a></p>\n",
    "    <img src=\"img/tomo.png\" alt=\"Phase-space tomography at CERN PSB\" style=\"width:100%;\" />\n",
    "<!--<a title=\"LucasVB, CC0, via Wikimedia Commons\" href=\"https://commons.wikimedia.org/wiki/File:Radon_transform_sinogram.gif\"><img alt=\"Radon transform sinogram\" src=\"https://upload.wikimedia.org/wikipedia/commons/9/93/Radon_transform_sinogram.gif\" style=\"width:100%;\" /></a>-->\n",
    "</div>\n",
    "\n",
    "# Many Applications\n",
    "\n",
    "- medical: CT scan in hospitals (computed tomography)\n",
    "    - 1979 Nobel price in Medicine: <br /> first CT scanner by Sir G.N. Hounsfield\n",
    "- material science\n",
    "- airport security\n",
    "- accelerator physics\n",
    "- ..."
   ]
  },
  {
   "cell_type": "markdown",
   "id": "4b45a446",
   "metadata": {
    "slideshow": {
     "slide_type": "slide"
    }
   },
   "source": [
    "# Projection Integral or Radon Transform $\\mathcal{R}_\\theta(p)$\n",
    "\n",
    "$$\\require{color}\n",
    "\\mathcal{R}_\\theta(p)\\, f = \\int dx\\int dy~ f(x, y) \\,\\underbrace{\\delta(x\\,\\cos \\theta+y\\,\\sin\\theta-p)}\\limits_{\\color{red}\\text{projection slice}}$$\n",
    "\n",
    "<img src=\"img/radon.png\" alt=\"Radon transform\" style=\"width:30%;margin:auto;\" />\n",
    "\n",
    "<p style=\"font-size: small; text-align: right;\">image from <a href=\"https://twitter.com/docmilanfar/status/1366229985975930881/photo/1\">@docmilanfar, Twitter</a></p>"
   ]
  },
  {
   "cell_type": "markdown",
   "id": "b5ed3172",
   "metadata": {
    "slideshow": {
     "slide_type": "slide"
    }
   },
   "source": [
    "Load sample image for the tomography:"
   ]
  },
  {
   "cell_type": "code",
   "execution_count": null,
   "id": "89d9919c",
   "metadata": {},
   "outputs": [],
   "source": [
    "data = ~np.array(Image.open('src/temf.png').convert('1', dither=False))\n",
    "\n",
    "plt.imshow(data, cmap='binary')"
   ]
  },
  {
   "cell_type": "markdown",
   "id": "3c03123c",
   "metadata": {
    "slideshow": {
     "slide_type": "slide"
    }
   },
   "source": [
    "Compute the Radon transform at an angle of 0 deg and 90 deg:"
   ]
  },
  {
   "cell_type": "code",
   "execution_count": null,
   "id": "1be73dbb",
   "metadata": {},
   "outputs": [],
   "source": [
    "Rf_0 = radon(data, [0], circle=False).astype(float)\n",
    "Rf_90 = radon(data, [90], circle=False).astype(float)\n",
    "\n",
    "plt.plot(Rf_0, label='0 deg')\n",
    "plt.plot(Rf_90, label='90 deg')\n",
    "plt.legend()\n",
    "plt.xlabel('$p$')\n",
    "plt.ylabel(r'$\\mathcal{R}_{\\theta}(p)f$');"
   ]
  },
  {
   "cell_type": "markdown",
   "id": "268a10e3",
   "metadata": {
    "slideshow": {
     "slide_type": "slide"
    }
   },
   "source": [
    "<h2>Preparing the Measurement Data</h2>\n",
    "\n",
    "We take a number of `VIEW` measurements across the angular interval of [0,`ANG`] degrees:"
   ]
  },
  {
   "cell_type": "code",
   "execution_count": null,
   "id": "2b00efa9",
   "metadata": {
    "slideshow": {
     "slide_type": "-"
    }
   },
   "outputs": [],
   "source": [
    "# parameters\n",
    "M = max(data.shape)\n",
    "ANG = 180\n",
    "VIEW = 180\n",
    "THETA = np.linspace(0, ANG, VIEW, endpoint=False)"
   ]
  },
  {
   "cell_type": "markdown",
   "id": "ca1317d5",
   "metadata": {},
   "source": [
    "`A` is the projection operator, applying the Radon transform along all chosen angles `THETA` to the original object under study, $x$ (`data`):"
   ]
  },
  {
   "cell_type": "code",
   "execution_count": null,
   "id": "3408a8f5",
   "metadata": {},
   "outputs": [],
   "source": [
    "A = lambda x: radon(x, THETA, circle=False).astype(float)"
   ]
  },
  {
   "cell_type": "code",
   "execution_count": null,
   "id": "665dfffd",
   "metadata": {},
   "outputs": [],
   "source": [
    "proj = A(data)"
   ]
  },
  {
   "cell_type": "markdown",
   "id": "57d3b010",
   "metadata": {
    "slideshow": {
     "slide_type": "slide"
    }
   },
   "source": [
    "<h2>Sinogram</h2>\n",
    "\n",
    "The <b>sinogram</b> represents the measurement, the collection of all projection results:"
   ]
  },
  {
   "cell_type": "code",
   "execution_count": null,
   "id": "9f24159e",
   "metadata": {},
   "outputs": [],
   "source": [
    "plt.imshow(proj.T)\n",
    "\n",
    "plt.gca().set_aspect('auto')\n",
    "plt.xlabel('Projection location [px]')\n",
    "plt.ylabel('Rotation angle [deg]')\n",
    "plt.colorbar(label='Intensity');"
   ]
  },
  {
   "cell_type": "markdown",
   "id": "32400c8e",
   "metadata": {
    "slideshow": {
     "slide_type": "slide"
    }
   },
   "source": [
    "# Reconstruction Principle\n",
    "\n",
    "<img src=\"img/iter1.gif\" alt=\"projection\" style=\"width:20%;float:left;margin-right:5%;margin-left:2.5%;margin-bottom:1em;margin-top:1em;\" />\n",
    "<img src=\"img/iter2.gif\" alt=\"back-projection\" style=\"width:20%;float:left;margin-right:5%;margin-bottom:1em;margin-top:1em;\" />\n",
    "\n",
    "<p style=\"clear: both; font-size: small; text-align: right; margin-top:1em;\">images from <a href=\"https://tomograp.web.cern.ch/home_page/iter_tomo/iter_tomo/\">CERN tomography website</a></p>\n",
    "\n",
    "projection (measurement) $\\implies$ back projection (reconstruction) \n",
    "\n",
    "(Require $ N_{meas} \\gtrsim \\pi\\cdot\\frac{\\text{total diameter}}{\\text{pixel size}}$)"
   ]
  },
  {
   "cell_type": "markdown",
   "id": "88692b43",
   "metadata": {
    "slideshow": {
     "slide_type": "slide"
    }
   },
   "source": [
    "<h2>Back Projection</h2>\n",
    "\n",
    "Information is lost where along projection line $p$ the contributions of the integral came from.\n",
    "\n",
    "$\\implies$ simple approach for the back projection:\n",
    "1. simply place constant integral value along $p$ for a given angle $\\theta$.\n",
    "2. integrate (sum up) for all $\\theta$"
   ]
  },
  {
   "cell_type": "markdown",
   "id": "eb9aa258",
   "metadata": {
    "slideshow": {
     "slide_type": "slide"
    }
   },
   "source": [
    "<h2>Simple Example for Back Projection</h2>\n",
    "\n",
    "<p style=\"clear: both; font-size: small; text-align: right; margin-top:1em;\">images from <a href=\"https://www.desy.de/~garutti/LECTURES/BioMedical/Lecture7_ImageReconstruction.pdf\">E. Garutti</a></p>"
   ]
  },
  {
   "cell_type": "markdown",
   "id": "fde8f16e",
   "metadata": {
    "slideshow": {
     "slide_type": "subslide"
    }
   },
   "source": [
    "<img src=\"img/bp01.png\" alt=\"simple example for back projection\" style=\"width:60%;margin:auto;\" />"
   ]
  },
  {
   "cell_type": "markdown",
   "id": "d49474ca",
   "metadata": {
    "slideshow": {
     "slide_type": "subslide"
    }
   },
   "source": [
    "<img src=\"img/bp02.png\" alt=\"simple example for back projection\" style=\"width:60%;margin:auto;\" />"
   ]
  },
  {
   "cell_type": "markdown",
   "id": "8e833a9b",
   "metadata": {
    "slideshow": {
     "slide_type": "subslide"
    }
   },
   "source": [
    "<img src=\"img/bp03.png\" alt=\"simple example for back projection\" style=\"width:60%;margin:auto;\" />"
   ]
  },
  {
   "cell_type": "markdown",
   "id": "46ee4701",
   "metadata": {
    "slideshow": {
     "slide_type": "subslide"
    }
   },
   "source": [
    "<img src=\"img/bp04.png\" alt=\"simple example for back projection\" style=\"width:60%;margin:auto;\" />"
   ]
  },
  {
   "cell_type": "markdown",
   "id": "e58d1dcf",
   "metadata": {
    "slideshow": {
     "slide_type": "subslide"
    }
   },
   "source": [
    "<img src=\"img/bp05.png\" alt=\"simple example for back projection\" style=\"width:60%;margin:auto;\" />"
   ]
  },
  {
   "cell_type": "markdown",
   "id": "1b71d0ae",
   "metadata": {
    "slideshow": {
     "slide_type": "subslide"
    }
   },
   "source": [
    "<img src=\"img/bp06.png\" alt=\"simple example for back projection\" style=\"width:60%;margin:auto;\" />"
   ]
  },
  {
   "cell_type": "markdown",
   "id": "a49b8d8a",
   "metadata": {
    "slideshow": {
     "slide_type": "subslide"
    }
   },
   "source": [
    "<img src=\"img/bp07.png\" alt=\"simple example for back projection\" style=\"width:60%;margin:auto;\" />"
   ]
  },
  {
   "cell_type": "markdown",
   "id": "c4e4f06f",
   "metadata": {
    "slideshow": {
     "slide_type": "subslide"
    }
   },
   "source": [
    "<img src=\"img/bp08.png\" alt=\"simple example for back projection\" style=\"width:60%;margin:auto;\" />"
   ]
  },
  {
   "cell_type": "markdown",
   "id": "b12ef6be",
   "metadata": {
    "slideshow": {
     "slide_type": "subslide"
    }
   },
   "source": [
    "<img src=\"img/bp09.png\" alt=\"simple example for back projection\" style=\"width:60%;margin:auto;\" />"
   ]
  },
  {
   "cell_type": "markdown",
   "id": "40507cad",
   "metadata": {
    "slideshow": {
     "slide_type": "subslide"
    }
   },
   "source": [
    "<img src=\"img/bp10.png\" alt=\"simple example for back projection\" style=\"width:60%;margin:auto;\" />"
   ]
  },
  {
   "cell_type": "markdown",
   "id": "26c60ccf",
   "metadata": {
    "slideshow": {
     "slide_type": "subslide"
    }
   },
   "source": [
    "<img src=\"img/bp11.png\" alt=\"simple example for back projection\" style=\"width:60%;margin:auto;\" />"
   ]
  },
  {
   "cell_type": "markdown",
   "id": "fbf55f95",
   "metadata": {
    "slideshow": {
     "slide_type": "subslide"
    }
   },
   "source": [
    "<img src=\"img/bp12.png\" alt=\"simple example for back projection\" style=\"width:60%;margin:auto;\" />"
   ]
  },
  {
   "cell_type": "markdown",
   "id": "820e017a",
   "metadata": {
    "slideshow": {
     "slide_type": "slide"
    }
   },
   "source": [
    "<h2>Fourier Slice Theorem</h2>\n",
    "\n",
    "<div class=\"alert alert-block alert-success\" style=\"text-align:center;\">\n",
    "Fourier Slice Theorem (\"Projection-Slice Theorem\" or \"Central Slice Theorem\"): <br /><br />\n",
    "$$\\mathcal{F}_\\mathrm{1d}\\bigl\\{\\mathcal{R}_{\\theta'}(s) f\\bigr\\}=\\mathcal{F}_\\mathrm{2d}\\bigl\\{f(x,y)\\bigr\\}|_{\\theta\\mathop{=}\\theta'}$$\n",
    "</div>\n",
    "\n",
    "i.e. the following two operations are equivalent:\n",
    "\n",
    "1. project a 2D function $f(x,y)$ onto a line, 1D Fourier transform the result\n",
    "2. 2D Fourier transform $f(x,y)$, extract a slice through the origin parallel to projection line\n",
    "    \n",
    "<img src=\"img/FST.png\" alt=\"Fourier Slice Theorem\" style=\"margin: auto; width:60%; margin-top:1em;\" />\n",
    "\n",
    "<p style=\"clear: both; font-size: small; text-align: right; margin-top:1em;\">image from <a href=\"https://www.desy.de/~garutti/LECTURES/BioMedical/Lecture7_ImageReconstruction.pdf\">E. Garutti</a></p>"
   ]
  },
  {
   "cell_type": "markdown",
   "id": "305e44e8",
   "metadata": {
    "slideshow": {
     "slide_type": "slide"
    }
   },
   "source": [
    "<h2>Back Projection with FFT</h2>\n",
    "\n",
    "Measured sinogram can be reconstructed via \n",
    "1. 1D FFT of each row (projection)\n",
    "2. sum up around $\\theta$, interpolation in 2D Fourier space\n",
    "3. inverse 2D FFT\n",
    "\n",
    "<img src=\"img/RadonFFT.png\" alt=\"Inverse Radon transform via FFTs\" style=\"width:80%;margin:auto;\" />\n",
    "\n",
    "<p style=\"clear: both; font-size: small; text-align: right; margin-top:1em;\">image from <a href=\"https://commons.wikimedia.org/w/index.php?curid=72653784\">P. Selinger</a></p>"
   ]
  },
  {
   "cell_type": "markdown",
   "id": "17ab7ff9",
   "metadata": {
    "slideshow": {
     "slide_type": "slide"
    }
   },
   "source": [
    "<h2>Blurring & Filtering</h2>\n",
    "\n",
    "<img src=\"img/stars.jpeg\" alt=\"sampling artifact at origin\" style=\"width:40%;margin:auto;\" />\n",
    "\n",
    "<p style=\"clear: both; font-size: small; text-align: right; margin-top:1em;\">image from <a href=\"https://depts.washington.edu/imreslab/from%20old%20SITE/pet_intro/intro_src/section4.html\">\t\n",
    "R. Badawi</a></p>\n",
    "\n",
    "Unfortunately, back projection oversamples the origin in Fourier space $\\leadsto$ high density at low frequencies!\n",
    "\n",
    "The \"tomographic reconstruction problem\": effective blurring of reconstructed image, $f(x,y)\\rightarrow f(x,y)* \\frac{1}{\\sqrt{x^2+y^2}}$\n",
    "\n",
    "$\\implies$ solution: \"ramp\" filter $F(v_x,v_y)\\rightarrow \\sqrt{v_x^2 + v_y^2}\\cdot F(v_x,v_y)$ \n",
    "\n",
    "(the price to pay: amplification of high-frequency noise components)"
   ]
  },
  {
   "cell_type": "markdown",
   "id": "583d62f3",
   "metadata": {
    "slideshow": {
     "slide_type": "-"
    }
   },
   "source": [
    "<!--<h2>Filtered Back Projection</h2>\n",
    "\n",
    "$$f(x,y) = \\int\\limits_0^{pi} d\\theta \\left[ \\int\\limits_{-\\infty}^\\infty d\\omega |\\omega| \\right]$$\n",
    "-->"
   ]
  },
  {
   "cell_type": "markdown",
   "id": "6b5399f2",
   "metadata": {
    "slideshow": {
     "slide_type": "slide"
    }
   },
   "source": [
    "<h2>Using Filtered Back Projection</h2>\n",
    "\n",
    "Let's apply the back projection as an inverse Radon transform (implemented with a ramp filter):"
   ]
  },
  {
   "cell_type": "code",
   "execution_count": null,
   "id": "0addee63",
   "metadata": {},
   "outputs": [],
   "source": [
    "AINV = lambda b: iradon(b, THETA, circle=False, filter_name='ramp', output_size=M).astype(float)"
   ]
  },
  {
   "cell_type": "code",
   "execution_count": null,
   "id": "4c364c6e",
   "metadata": {
    "slideshow": {
     "slide_type": "-"
    }
   },
   "outputs": [],
   "source": [
    "fbp = AINV(proj)"
   ]
  },
  {
   "cell_type": "code",
   "execution_count": null,
   "id": "2dadf689",
   "metadata": {
    "slideshow": {
     "slide_type": "slide"
    }
   },
   "outputs": [],
   "source": [
    "plt.figure(figsize=(12, 6))\n",
    "plt.imshow(fbp, cmap='binary', vmin=0, vmax=1);"
   ]
  },
  {
   "cell_type": "markdown",
   "id": "86bb715f",
   "metadata": {},
   "source": [
    "$\\implies$ note the artifacts due to edges in the reconstructed image (high frequency!)."
   ]
  },
  {
   "cell_type": "markdown",
   "id": "1aa89549",
   "metadata": {
    "slideshow": {
     "slide_type": "slide"
    }
   },
   "source": [
    "# Improved Reconstruction Principle\n",
    "\n",
    "<img src=\"img/iter1.gif\" alt=\"projection\" style=\"width:20%;float:left;margin-right:5%;margin-left:2.5%;margin-bottom:1em;margin-top:1em;\" />\n",
    "<img src=\"img/iter2.gif\" alt=\"back-projection\" style=\"width:20%;float:left;margin-right:5%;margin-bottom:1em;margin-top:1em;\" />\n",
    "<img src=\"img/iter3.gif\" alt=\"back-projection\" style=\"width:20%;float:left;margin-right:5%;margin-bottom:1em;margin-top:1em;\" />\n",
    "<img src=\"img/iter4.gif\" alt=\"back-projection\" style=\"width:20%;float:left;margin-bottom:1em;margin-top:1em;\" />\n",
    "\n",
    "<p style=\"clear: both; font-size: small; text-align: right; margin-top:1em;\">images from <a href=\"https://tomograp.web.cern.ch/home_page/iter_tomo/iter_tomo/\">CERN tomography website</a></p>\n",
    "\n",
    "projection (measurement) $\\implies$ back projection (reconstruction) \n",
    "\n",
    "$\\stackrel{\\textcolor{red}{\\text{improve}}}{\\implies}$ re-projection (red) $\\implies$ iteratively reduce discrepancy"
   ]
  },
  {
   "cell_type": "markdown",
   "id": "0ef5208a",
   "metadata": {
    "slideshow": {
     "slide_type": "slide"
    }
   },
   "source": [
    "# Reconstruction Algorithms\n",
    "\n",
    "<div style=\"float:right;width:30%;\">\n",
    "<img src=\"https://upload.wikimedia.org/wikipedia/commons/5/54/Heart-direct-vs-iterative-reconstruction.png\" alt=\"direct vs. iterative reconstruction\" style=\"width:100%;\" />\n",
    "<p style=\"font-size: small; text-align: right; margin-top:1em;\">image from <a href=\"https://commons.wikimedia.org/wiki/File:Heart-direct-vs-iterative-reconstruction.png\">Biomed. NMR Forschungs GmbH</a></p>\n",
    "<img src=\"img/art.png\" alt=\"ART concept\" style=\"width:100%;\" />\n",
    "<p style=\"font-size: small; text-align: right; margin-top:1em;\">image from <a href=\"http://cds.cern.ch/record/1174559/files/CERN-PS-RF-Note-97-06.pdf\">S. Hancock</a></p>\n",
    "</div>\n",
    "\n",
    "<b>Filtered Back Projection (FBP)</b> vs. <b>Iterative</b> Reconstruction\n",
    "\n",
    "Iterative <b>algebraic reconstruction technique (ART)</b>: <br /> formulate reconstruction as algebraic problem $A\\cdot x = b$\n",
    "\n",
    "$\\implies$ ART reconstructs $x$ iteratively <br /> (due to sparsity of $A$, sensitivity to perturbations / noise, <br />direction inversion $x=A^{-1}b$ is not a useful approach!)\n",
    "\n",
    "First suggested in 1970 by R. Gordon, R. Bender, and G. Herman for tomography!"
   ]
  },
  {
   "cell_type": "markdown",
   "id": "af520681",
   "metadata": {
    "slideshow": {
     "slide_type": "slide"
    }
   },
   "source": [
    "<h2>Comparison</h2>\n",
    "\n",
    "| Filtered Back Projection | Algebraic Reconstruction Technique |\n",
    "|:-:|:-:|\n",
    "| FFT is fast | computationally expensive |\n",
    "| low memory requirements | many coefficients, <br /> high memory requirements |\n",
    "| requires many projections | more accurate, less artifacts |\n",
    "| filtering is hard-coded<br /> into approach | can choose filtering |\n",
    "| <p style=\"text-align:right;\"><i> a-priori knowledge </i></p> <br />not possible | <p style=\"text-align:left;\"><i> about distribution:</i></p> <br /> straight-forward |"
   ]
  },
  {
   "cell_type": "markdown",
   "id": "97c96c47",
   "metadata": {
    "slideshow": {
     "slide_type": "slide"
    }
   },
   "source": [
    "<h2>Algebraic Reconstruction Technique</h2>\n",
    "\n",
    "Describe the 2D density distribution under study by discrete bins (pixels), stacked into a column vector $x$.\n",
    "\n",
    "A single projection by a ray at a given angle through the distribution is described by a row vector $a_i$. Applied to $x$, this single projection projection operation yields a pixel in a row of the sinogram, $b_i$.\n",
    "\n",
    "The entire sinogram is collected by many projections $a_i$, which compose the (<b>huge</b> and <b>sparse</b>!) projection matrix $A_{ij}$:\n",
    "\n",
    "$$ \\sum\\limits_j A_{ij} x_j = b_i $$\n",
    "\n",
    "(each entry $x_j$ represents a discrete pixel of $x$, each $b_i$ represents a pixel in a row of the sinogram.)\n",
    "\n",
    "Then, the algebraic reconstruction technique consists of the following iterative approximation scheme as a solution to the linear system of equations:\n",
    "\n",
    "$$ x^{k+1} = x^k + \\mu_k\\frac{b_i - a_i\\cdot x^k}{|a_i|^2} a_i^T $$\n",
    "\n",
    "It converges better by introducing the (non-linear) constraint that all $x_j$ be positive, i.e. any pixel in $x$ should be set to zero if it turns negative after an iteration.\n",
    "\n",
    "The relaxation factor $0<\\mu_k\\leq 1$ slows down convergence but improves the signal-to-noise ratio ($\\mu_k=1$ $\\rightarrow$ projection)."
   ]
  },
  {
   "cell_type": "markdown",
   "id": "ffa4679a",
   "metadata": {
    "slideshow": {
     "slide_type": "slide"
    }
   },
   "source": [
    "<h2>Effect of Noise</h2>\n",
    "\n",
    "In the following, we will compare the FBP with the iterative ART approach on a noisy sinogram. \n",
    "\n",
    "We add $15\\%$ of the maximum sinogram value as Gaussian normal distributed noise:"
   ]
  },
  {
   "cell_type": "code",
   "execution_count": null,
   "id": "cfb656a2",
   "metadata": {},
   "outputs": [],
   "source": [
    "noise = np.random.normal(0, 0.15 * np.max(proj), size=proj.shape)"
   ]
  },
  {
   "cell_type": "code",
   "execution_count": null,
   "id": "b3bd4bae",
   "metadata": {},
   "outputs": [],
   "source": [
    "proj_noise = proj + noise"
   ]
  },
  {
   "cell_type": "code",
   "execution_count": null,
   "id": "37615af9",
   "metadata": {
    "slideshow": {
     "slide_type": "slide"
    }
   },
   "outputs": [],
   "source": [
    "plt.imshow(proj_noise.T)\n",
    "plt.gca().set_aspect('auto')\n",
    "plt.xlabel('Projection location [px]')\n",
    "plt.ylabel('Rotation angle [deg]')\n",
    "plt.colorbar(label='Intensity');"
   ]
  },
  {
   "cell_type": "markdown",
   "id": "6ab63319",
   "metadata": {
    "slideshow": {
     "slide_type": "slide"
    }
   },
   "source": [
    "<h2>Filtered Back Projection Results</h2>"
   ]
  },
  {
   "cell_type": "code",
   "execution_count": null,
   "id": "1c290bd6",
   "metadata": {
    "slideshow": {
     "slide_type": "-"
    }
   },
   "outputs": [],
   "source": [
    "fbp_noise = AINV(proj_noise)"
   ]
  },
  {
   "cell_type": "code",
   "execution_count": null,
   "id": "f27da5dd",
   "metadata": {},
   "outputs": [],
   "source": [
    "plt.imshow(fbp_noise, cmap='binary', vmin=0, vmax=1, interpolation='None');"
   ]
  },
  {
   "cell_type": "markdown",
   "id": "7a5017ea",
   "metadata": {
    "slideshow": {
     "slide_type": "slide"
    }
   },
   "source": [
    "<h2>Implement the Algebraic Reconstruction Technique</h2>\n",
    "\n",
    "Besides the projection operator $A$, `A`, we need the adjoint $A^\\mathrm{T}$, `AT`, for the ART implementation:"
   ]
  },
  {
   "cell_type": "code",
   "execution_count": null,
   "id": "8f3c84b8",
   "metadata": {},
   "outputs": [],
   "source": [
    "AT = lambda b: iradon(b, THETA, circle=False, filter_name=None, \n",
    "                      output_size=M).astype(float) * 2 * len(THETA) / np.pi"
   ]
  },
  {
   "cell_type": "code",
   "execution_count": null,
   "id": "2afb90b1",
   "metadata": {},
   "outputs": [],
   "source": [
    "def ART(A, AT, b, x, mu=1, niter=10):\n",
    "    # for all i: ||a_i||^2 = A^T ⋅ A\n",
    "    ATA = AT(A(np.ones_like(x)))\n",
    "\n",
    "    for i in tnrange(niter):\n",
    "        x = x + np.divide(mu * AT(b - A(x)), ATA)\n",
    "\n",
    "        # nonlinearity: constrain to >= 0 values\n",
    "        x[x < 0] = 0\n",
    "\n",
    "        plt.imshow(x, cmap='binary', vmin=0, vmax=1, interpolation='None')\n",
    "        plt.title(\"%d / %d\" % (i + 1, niter))\n",
    "        plt.show()\n",
    "\n",
    "    return x\n",
    "\n",
    "# initialisation\n",
    "x0 = np.zeros((M, M))\n",
    "mu = 1\n",
    "niter = 30"
   ]
  },
  {
   "cell_type": "markdown",
   "id": "b5b076f4",
   "metadata": {
    "slideshow": {
     "slide_type": "slide"
    }
   },
   "source": [
    "<h2>ART Results</h2>"
   ]
  },
  {
   "cell_type": "code",
   "execution_count": null,
   "id": "3f86db95",
   "metadata": {
    "slideshow": {
     "slide_type": "-"
    }
   },
   "outputs": [],
   "source": [
    "x_art = ART(A, AT, proj_noise, x0, mu, niter)"
   ]
  },
  {
   "cell_type": "markdown",
   "id": "295e7133",
   "metadata": {
    "slideshow": {
     "slide_type": "slide"
    }
   },
   "source": [
    "<h2>Comparison of the Results</h2>\n",
    "\n",
    "ART typically outperforms FBP in terms of reconstruction quality:"
   ]
  },
  {
   "cell_type": "code",
   "execution_count": null,
   "id": "24241b03",
   "metadata": {
    "slideshow": {
     "slide_type": "-"
    }
   },
   "outputs": [],
   "source": [
    "_, ax = plt.subplots(1, 2, figsize=(10, 5))\n",
    "plt.subplots_adjust(wspace=0.3)\n",
    "\n",
    "plt.sca(ax[0])\n",
    "plt.imshow(fbp_noise, cmap='binary', vmin=0, vmax=1, interpolation='None')\n",
    "plt.title('FBP')\n",
    "\n",
    "plt.sca(ax[1])\n",
    "plt.imshow(x_art, cmap='binary', vmin=0, vmax=1, interpolation='None')\n",
    "plt.title('ART');"
   ]
  },
  {
   "cell_type": "markdown",
   "id": "f63b74e6",
   "metadata": {
    "slideshow": {
     "slide_type": "-"
    }
   },
   "source": [
    "$\\implies$ the ART implementation is closely related to the Kaczmarz algorithm from numerical linear algebra."
   ]
  },
  {
   "cell_type": "markdown",
   "id": "3a3d2956",
   "metadata": {
    "slideshow": {
     "slide_type": "slide"
    }
   },
   "source": [
    "<p style=\"color: #e6541a;\">$\\implies$ Can you run tomographic reconstruction for each of the following measured sinograms?</p>\n",
    "\n",
    "```python\n",
    "proj = np.load('data/sinogram1.npy')\n",
    "proj = np.load('data/sinogram2.npy')\n",
    "```"
   ]
  },
  {
   "cell_type": "code",
   "execution_count": null,
   "id": "132c2af3",
   "metadata": {},
   "outputs": [],
   "source": []
  },
  {
   "cell_type": "markdown",
   "id": "f72c6a52",
   "metadata": {
    "slideshow": {
     "slide_type": "slide"
    }
   },
   "source": [
    "<div style=\"text-align: center; width:100%;\">\n",
    "    <h2>Part II: Phase-space Tomography</h2>\n",
    "</div>"
   ]
  },
  {
   "cell_type": "markdown",
   "id": "9ce3dd33",
   "metadata": {
    "slideshow": {
     "slide_type": "slide"
    }
   },
   "source": [
    "<h2>The Concept</h2>\n",
    "\n",
    "- tomographically reconstruct longitudinal phase-space distribution!\n",
    "- sinogram: consecutive measurements of bunch profiles over many turns\n",
    "- problem: non-linear motion in longitudinal phase space\n",
    "\n",
    "$\\implies$ can modify ART: construct projection matrix $A$ from tracking! Then apply usual iterative mapping!\n",
    "\n",
    "Introduced at [CERN in 1997 $\\nearrow$](http://cds.cern.ch/record/1174559/files/CERN-PS-RF-Note-97-06.pdf) by Steven Hancock.\n",
    "\n",
    "<img src=\"img/art_long.png\" alt=\"tracking of particles for projection matrix\" style=\"width:40%; margin:auto; margin-top:1em;\" />\n",
    "\n",
    "<p style=\"clear: both; font-size: small; text-align: right; margin-top:1em;\">image from <a href=\"https://cdsweb.cern.ch/record/2750116/files/Longitudinal%20Phase%20Space%20Tomography%20Version%203.pdf\">C. Grindheim & S. Albright</a></p>"
   ]
  },
  {
   "cell_type": "markdown",
   "id": "a1fe0868",
   "metadata": {
    "slideshow": {
     "slide_type": "slide"
    }
   },
   "source": [
    "The `longitudinal_tomography` package is developed at CERN: control room apps tomographically reconstruct the longitudinal phase-space distribution from bunch profile measurements!"
   ]
  },
  {
   "cell_type": "code",
   "execution_count": null,
   "id": "5acc07f4",
   "metadata": {
    "slideshow": {
     "slide_type": "-"
    }
   },
   "outputs": [],
   "source": [
    "import longitudinal_tomography.tomography.tomography as tmo\n",
    "from longitudinal_tomography.tracking import particles, machine\n",
    "\n",
    "import longitudinal_tomography.utils.tomo_input as tomoin\n",
    "import longitudinal_tomography.utils.tomo_output as tomoout\n",
    "from longitudinal_tomography.tracking import tracking"
   ]
  },
  {
   "cell_type": "markdown",
   "id": "54a9f16f",
   "metadata": {
    "slideshow": {
     "slide_type": "slide"
    }
   },
   "source": [
    "We work once more with the `PyHEADTAIL` library to generate the longitudinal macro-particle distribution.\n",
    "\n",
    "Should it not be installed yet, please run this:"
   ]
  },
  {
   "cell_type": "code",
   "execution_count": null,
   "id": "2579d4cd",
   "metadata": {},
   "outputs": [],
   "source": [
    "!pip install PyHEADTAIL==1.16.1"
   ]
  },
  {
   "cell_type": "code",
   "execution_count": null,
   "id": "e6c281ef",
   "metadata": {},
   "outputs": [],
   "source": [
    "from PyHEADTAIL.particles.generators import RFBucketMatcher, ThermalDistribution\n",
    "from PyHEADTAIL.trackers.rf_bucket import RFBucket"
   ]
  },
  {
   "cell_type": "markdown",
   "id": "23152d4d",
   "metadata": {
    "slideshow": {
     "slide_type": "slide"
    }
   },
   "source": [
    "<h2>Wall Current Monitor</h2>\n",
    "\n",
    "In the vacuum tube, the <span style='color:#0C0;'>Beam</span> traverses a tube gap with <span style='color:red;'>resistors</span>, the <span style='color:#CC0;'>induced mirror current</span> builds up voltage:\n",
    "\n",
    "$$ V_{gap} = R_{gap} \\cdot I_{beam}$$\n",
    "\n",
    "<img src=\"img/wcm.png\" alt=\"wall current monitor principle\" style=\"width:50%;margin:auto;margin-top:1em;\" />\n",
    "\n",
    "<p style=\"font-size: small; text-align: right;\">image from <a href=\"https://uspas.fnal.gov/materials/09UNM/BeamCurrentMonitors.pdf\">USPAS09</a> (W. Blokland, U. Raich)</p>"
   ]
  },
  {
   "cell_type": "markdown",
   "id": "acc898e3",
   "metadata": {},
   "source": [
    "<h2>Beam Measurements</h2>\n",
    "\n",
    "Consider a circulating bunch in a synchrotron or storage ring. Longitudinal bunch profiles can be recorded via wall current monitor with a high-bandwidth oscilloscope: store $V_{gap}(t)$ during the bunch passage time $t$."
   ]
  },
  {
   "cell_type": "markdown",
   "id": "96ab8402",
   "metadata": {
    "slideshow": {
     "slide_type": "slide"
    }
   },
   "source": [
    "## Physical beam parameters\n",
    "\n",
    "During previous lectures we discussed reduced models for the longitudinal plane. We have \n",
    "\n",
    "- `voltage`: rf voltage\n",
    "- `harmonic`: rf frequency divided by revolution frequency\n",
    "- `circumference`: accelerator ring circumference\n",
    "- `gamma`: Lorentz gamma of bunch\n",
    "- `alpha_c`: momentum compaction of the ring"
   ]
  },
  {
   "cell_type": "code",
   "execution_count": null,
   "id": "38fa16d3",
   "metadata": {},
   "outputs": [],
   "source": [
    "voltage = 24e3\n",
    "harmonic = 7\n",
    "circumference = 100 * 2 * np.pi\n",
    "\n",
    "gamma = 3.1\n",
    "beta = np.sqrt(1 - gamma**-2)\n",
    "\n",
    "alpha_c = 0.027\n",
    "eta = alpha_c - gamma**-2"
   ]
  },
  {
   "cell_type": "markdown",
   "id": "a30e791a",
   "metadata": {
    "slideshow": {
     "slide_type": "slide"
    }
   },
   "source": [
    "We look at a circulating proton bunch in a CERN Proton Synchrotron like machine. A \"full bunch length\" of $B_L=180\\,$ns translates to an rms bunch length in meters of $\\sigma_z=B_L/4 \\cdot \\beta c$. As before, the following `PyHEADTAIL` `RFBucket` class captures most of the important quantities for computation."
   ]
  },
  {
   "cell_type": "code",
   "execution_count": null,
   "id": "eefa9746",
   "metadata": {},
   "outputs": [],
   "source": [
    "rfb = RFBucket(circumference, gamma, m_p, e, [alpha_c], 0., [harmonic], [voltage], [np.pi])\n",
    "\n",
    "sigma_z = 180e-9 * beta * c / 4. # in [m]"
   ]
  },
  {
   "cell_type": "markdown",
   "id": "bcc1f0d7",
   "metadata": {
    "slideshow": {
     "slide_type": "slide"
    }
   },
   "source": [
    "# A. The simulated measurement\n",
    "\n",
    "## Initialisation of particles\n",
    "\n",
    "A thermal distribution of $N$ particles is matched into the rf bucket."
   ]
  },
  {
   "cell_type": "code",
   "execution_count": null,
   "id": "4dd85e25",
   "metadata": {},
   "outputs": [],
   "source": [
    "N = 100000"
   ]
  },
  {
   "cell_type": "code",
   "execution_count": null,
   "id": "f49deea5",
   "metadata": {},
   "outputs": [],
   "source": [
    "np.random.seed(12345)\n",
    "\n",
    "rfb_matcher = RFBucketMatcher(rfb, ThermalDistribution, sigma_z=sigma_z)\n",
    "rfb_matcher.integrationmethod = 'cumtrapz'\n",
    "\n",
    "z, dp, _, _ = rfb_matcher.generate(N)"
   ]
  },
  {
   "cell_type": "markdown",
   "id": "60cc2f3c",
   "metadata": {
    "slideshow": {
     "slide_type": "skip"
    }
   },
   "source": [
    "In case `PyHEADTAIL` is not available, import the generated distribution directly (uncomment one of the following lines):"
   ]
  },
  {
   "cell_type": "code",
   "execution_count": null,
   "id": "fbfb1c0e",
   "metadata": {
    "slideshow": {
     "slide_type": "skip"
    }
   },
   "outputs": [],
   "source": [
    "# z, dp = np.load('data/long-dist-80ns.npy') # short bunch\n",
    "# z, dp = np.load('data/long-dist-180ns.npy') # long bunch"
   ]
  },
  {
   "cell_type": "markdown",
   "id": "8a9d22ed",
   "metadata": {
    "slideshow": {
     "slide_type": "slide"
    }
   },
   "source": [
    "The distribution in longitudinal phase space $(z, \\delta)$ looks as follows:"
   ]
  },
  {
   "cell_type": "code",
   "execution_count": null,
   "id": "d49c99cf",
   "metadata": {},
   "outputs": [],
   "source": [
    "plot_mp(z, dp, rfb);"
   ]
  },
  {
   "cell_type": "markdown",
   "id": "9fca5a21",
   "metadata": {
    "slideshow": {
     "slide_type": "slide"
    }
   },
   "source": [
    "Let's have a look at the bunch profile as it would appear in a discrete measurement (e.g. via a wall current monitor):"
   ]
  },
  {
   "cell_type": "code",
   "execution_count": null,
   "id": "f71c20ab",
   "metadata": {},
   "outputs": [],
   "source": [
    "nbins = 100\n",
    "z_bins = np.linspace(*rfb.interval, num=nbins-1)"
   ]
  },
  {
   "cell_type": "code",
   "execution_count": null,
   "id": "f1e83bff",
   "metadata": {},
   "outputs": [],
   "source": [
    "plt.hist(z, bins=z_bins, histtype='stepfilled')\n",
    "plt.xlabel('$z$ [m]')\n",
    "plt.ylabel('Discrete bunch profile');"
   ]
  },
  {
   "cell_type": "markdown",
   "id": "be91f231",
   "metadata": {
    "slideshow": {
     "slide_type": "slide"
    }
   },
   "source": [
    "A single bin of the profile measurement amounts to a time (in seconds) of "
   ]
  },
  {
   "cell_type": "code",
   "execution_count": null,
   "id": "18aab74c",
   "metadata": {},
   "outputs": [],
   "source": [
    "dtbin = (z_bins[1] - z_bins[0]) / (beta * c)\n",
    "dtbin"
   ]
  },
  {
   "cell_type": "markdown",
   "id": "3699c224",
   "metadata": {},
   "source": [
    "The synchrotron period `T_s`, i.e. the time period of the longitudinal motion, amounts to the following number of turns:"
   ]
  },
  {
   "cell_type": "code",
   "execution_count": null,
   "id": "39a9e703",
   "metadata": {},
   "outputs": [],
   "source": [
    "T_s = int(1 / rfb.Q_s)\n",
    "T_s"
   ]
  },
  {
   "cell_type": "markdown",
   "id": "943ba046",
   "metadata": {
    "slideshow": {
     "slide_type": "slide"
    }
   },
   "source": [
    "## Deliberate mismatch\n",
    "\n",
    "To provide some interesting dynamics for the tomographic reconstruction, let's mismatch the distribution in momentum. This will launch a <b>quadrupolar oscillation</b>, i.e. the bunch length and momentum spread will oscillate during the synchrotron period."
   ]
  },
  {
   "cell_type": "code",
   "execution_count": null,
   "id": "fdbe93f4",
   "metadata": {},
   "outputs": [],
   "source": [
    "dp *= 0.3"
   ]
  },
  {
   "cell_type": "markdown",
   "id": "c3d5ea73",
   "metadata": {
    "slideshow": {
     "slide_type": "slide"
    }
   },
   "source": [
    "As one can see, the distribution does not follow the iso-Hamiltonian lines (red) any longer but is slightly compressed along the momentum $\\delta$ axis:"
   ]
  },
  {
   "cell_type": "code",
   "execution_count": null,
   "id": "dfab9c33",
   "metadata": {},
   "outputs": [],
   "source": [
    "plot_mp(z, dp, rfb);"
   ]
  },
  {
   "cell_type": "markdown",
   "id": "24c321ea",
   "metadata": {
    "slideshow": {
     "slide_type": "slide"
    }
   },
   "source": [
    "<h2>Particle Tracking</h2>\n",
    "\n",
    "We model the synchrotron motion of the particles due to the rf cavities once more via a $2^\\text{nd}$ order leap-frog integrator. The `track` function advances the particles by one turn:"
   ]
  },
  {
   "cell_type": "code",
   "execution_count": null,
   "id": "7032797e",
   "metadata": {},
   "outputs": [],
   "source": [
    "def track(z, dp, rfb=rfb):\n",
    "    # half drift\n",
    "    z = z - eta * dp * circumference / 2\n",
    "    # rf kick\n",
    "    amplitude = rfb.charge * voltage / (beta * c * rfb.p0)\n",
    "    phi = harmonic * (2 * np.pi * z / circumference) + rfb.phi_offset_list[0]\n",
    "    dp += amplitude * np.sin(phi)\n",
    "    # half drift\n",
    "    z = z - eta * dp * circumference / 2\n",
    "    return z, dp"
   ]
  },
  {
   "cell_type": "markdown",
   "id": "da5204b7",
   "metadata": {
    "slideshow": {
     "slide_type": "slide"
    }
   },
   "source": [
    "Let's gather the data for the tomographic reconstruction by recording a bunch profile every few turns during one `T_s`:"
   ]
  },
  {
   "cell_type": "code",
   "execution_count": null,
   "id": "4fb10dfb",
   "metadata": {},
   "outputs": [],
   "source": [
    "record_every_nturns = 10"
   ]
  },
  {
   "cell_type": "code",
   "execution_count": null,
   "id": "a17964a8",
   "metadata": {},
   "outputs": [],
   "source": [
    "raw_data = [np.histogram(z, bins=z_bins)[0]]\n",
    "\n",
    "for i in tnrange(1, T_s + 1):\n",
    "    z, dp = track(z, dp)\n",
    "    if not i % record_every_nturns:\n",
    "        # the discrete WCM measurement:\n",
    "        raw_data += [np.histogram(z, bins=z_bins)[0]]"
   ]
  },
  {
   "cell_type": "markdown",
   "id": "35cf6811",
   "metadata": {
    "slideshow": {
     "slide_type": "slide"
    }
   },
   "source": [
    "The quadrupole oscillation is clearly visible:"
   ]
  },
  {
   "cell_type": "code",
   "execution_count": null,
   "id": "8a4fc4cd",
   "metadata": {},
   "outputs": [],
   "source": [
    "plt.imshow(raw_data)\n",
    "plt.xlabel('Profile bin')\n",
    "plt.ylabel('#Profile')\n",
    "plt.colorbar(label='Density');"
   ]
  },
  {
   "cell_type": "markdown",
   "id": "905dcd98",
   "metadata": {
    "slideshow": {
     "slide_type": "slide"
    }
   },
   "source": [
    "<p style=\"color: #e6541a;\">$\\implies$ Can you explain when the shortest bunch length (the bright spot with peak density) occurs? Why does one expect the shortest bunch length here, given the initial condition of the mismatched momentum distribution (with factor 0.3)?</p>"
   ]
  },
  {
   "cell_type": "code",
   "execution_count": null,
   "id": "4cfbc3a2",
   "metadata": {
    "slideshow": {
     "slide_type": "slide"
    }
   },
   "outputs": [],
   "source": [
    "plt.plot(np.std(raw_data, axis=1))\n",
    "plt.xlabel('#profile')\n",
    "plt.ylabel('rms buhch length [arb.units]');"
   ]
  },
  {
   "cell_type": "markdown",
   "id": "3c07f976",
   "metadata": {},
   "source": [
    "$\\implies$ a $\\gtrsim 100\\%$ rms bunch length (quadrupole) oscillation takes place!"
   ]
  },
  {
   "cell_type": "markdown",
   "id": "f4ff6fa9",
   "metadata": {
    "slideshow": {
     "slide_type": "slide"
    }
   },
   "source": [
    "### Ready...\n",
    "\n",
    "We have now gathered a simulated discrete WCM measurement in the `raw_data` array during one synchrotron period."
   ]
  },
  {
   "cell_type": "markdown",
   "id": "dc8dacb4",
   "metadata": {
    "slideshow": {
     "slide_type": "slide"
    }
   },
   "source": [
    "# B. The longitudinal tomographic reconstruction\n",
    "\n",
    "## Preparations\n",
    "\n",
    "The `longitudinal_tomography` package requires a certain input format for the machine parameters (voltage, frequency, etc):"
   ]
  },
  {
   "cell_type": "code",
   "execution_count": null,
   "id": "ed1fa649",
   "metadata": {},
   "outputs": [],
   "source": [
    "frame_input_args = {\n",
    "    'raw_data_path':    './',\n",
    "    'framecount':       len(raw_data), # Number of frames in input data\n",
    "    'skip_frames':      0, # Number of frames to ignore\n",
    "    'framelength':      len(raw_data[0]), # Number of bins in each frame\n",
    "    'dtbin':            dtbin, # Width (in s) of each frame bin\n",
    "    'skip_bins_start':  0, # Number of frame bins before the lower profile bound to ignore\n",
    "    'skip_bins_end':    0, # Number of frame bins after the upper profile bound to ignore\n",
    "    'rebin':            1, #Number of frame bins to rebin into one profile bin\n",
    "}"
   ]
  },
  {
   "cell_type": "code",
   "execution_count": null,
   "id": "2c5b2684",
   "metadata": {},
   "outputs": [],
   "source": [
    "# computation of dipole B-field from beam rigidity Brho = p/e\n",
    "Ekin = (gamma - 1) * m_p * c**2 / e\n",
    "p0c = np.sqrt(Ekin**2 + 2*Ekin*m_p/e * c**2)\n",
    "brho = p0c / c\n",
    "brho / 70.08"
   ]
  },
  {
   "cell_type": "code",
   "execution_count": null,
   "id": "e916a8ee",
   "metadata": {},
   "outputs": [],
   "source": [
    "machine_args = {\n",
    "    'output_dir':           '/tmp/', # Directory in which to write all output\n",
    "    'dtbin':                dtbin, # Width (in s) of each frame bin\n",
    "    'dturns':               record_every_nturns, # Number of machine turns between frames\n",
    "    'synch_part_x':         frame_input_args['framelength']/2, # Time (in frame bins) \n",
    "                            # from the lower profile bound to the synchronous phase (if <0, \n",
    "                            # a fit is performed) in the \"bunch reference\" frame\n",
    "    'demax':                -1e6, # noqa - Max energy (in eV) of reconstructed phase space (if >0)\n",
    "    'filmstart':            0, # Number of the first profile at which to reconstruct\n",
    "    'filmstop':             1, # Number of the last profile at which to reconstruct\n",
    "    'filmstep':             1, # Step between reconstructions\n",
    "    'niter':                50, # Number of iterations for each reconstruction\n",
    "    'snpt':                 4, # Square root of the number of test particles to track per cell\n",
    "    'full_pp_flag':         False, # Flag to extend the region in phase space of map elements (if =1)\n",
    "    'beam_ref_frame':       0, # Reference frame for bunch parameters (synchronous phase, baseline, integral)\n",
    "    'machine_ref_frame':    0, # Reference frame for machine parameters (RF voltages, B-field)\n",
    "    'vrf1':                 voltage, # Peak RF voltage (in V) of principal RF system\n",
    "    'vrf1dot':              0.0, # and its time derivative (in V/s)\n",
    "    'vrf2':                 0.0, # Peak RF voltage (in V) of higher-harmonic RF system\n",
    "    'vrf2dot':              0.0, # and its time derivative (in V/s)\n",
    "    'h_num':                harmonic, # Harmonic number of principal RF system\n",
    "    'h_ratio':              2.0, # Ratio of harmonics between RF systems\n",
    "    'phi12':                0, # Phase difference (in radians of the principal harmonic) between RF systems\n",
    "    'b0':                   brho / 70.08, # Dipole magnetic field (in T) -- up to 1.8T\n",
    "    'bdot':                 0.0, # and its time derivative (in T/s) -- up to 10T/s\n",
    "    'mean_orbit_rad':       circumference / (2 * np.pi), # Machine radius (in m)\n",
    "    'bending_rad':          70.08, # Bending radius (in m)\n",
    "    'trans_gamma':          alpha_c**-0.5, # Gamma transition\n",
    "    'rest_energy':          m_p * c**2 / e, # Rest mass (in eV/c**2) of accelerated particle\n",
    "    'charge':               1, # Charge state of accelerated particle\n",
    "    'self_field_flag':      False, # Flag to include self-fields in the tracking (if =1)\n",
    "    'g_coupling':           0.0, # Geometrical coupling coefficient\n",
    "    'zwall_over_n':         0.0, # Reactive impedance (in Ohms per mode number) over a machine turn\n",
    "    'pickup_sensitivity':   1, # Effective pick-up sensitivity (in digitizer units per instantaneous Amp)\n",
    "    'nprofiles':            frame_input_args['framecount'],\n",
    "    'nbins':                frame_input_args['framelength'],\n",
    "    'min_dt':               0.0,\n",
    "    'max_dt':               dtbin * frame_input_args['framelength'],\n",
    "}"
   ]
  },
  {
   "cell_type": "code",
   "execution_count": null,
   "id": "18dc059b",
   "metadata": {
    "slideshow": {
     "slide_type": "slide"
    }
   },
   "outputs": [],
   "source": [
    "# initialising tomography\n",
    "frames = tomoin.Frames(**frame_input_args)\n",
    "\n",
    "mach = machine.Machine(**machine_args)\n",
    "\n",
    "mach.values_at_turns()"
   ]
  },
  {
   "cell_type": "markdown",
   "id": "22cb33f5",
   "metadata": {
    "slideshow": {
     "slide_type": "slide"
    }
   },
   "source": [
    "The tomography package uses the waterfall plot of profiles <b>as measured sinogram input</b> then:"
   ]
  },
  {
   "cell_type": "code",
   "execution_count": null,
   "id": "bd9c47dc",
   "metadata": {},
   "outputs": [],
   "source": [
    "measured_waterfall = frames.to_waterfall(np.array(raw_data, dtype=float).flatten())\n",
    "\n",
    "plt.imshow(measured_waterfall)\n",
    "plt.xlabel('Profile bin')\n",
    "plt.ylabel('#Profile')\n",
    "plt.colorbar(label='Density');"
   ]
  },
  {
   "cell_type": "markdown",
   "id": "a11faa27",
   "metadata": {
    "slideshow": {
     "slide_type": "slide"
    }
   },
   "source": [
    "<h2>Settings</h2>"
   ]
  },
  {
   "cell_type": "markdown",
   "id": "4593e0f2",
   "metadata": {
    "slideshow": {
     "slide_type": "-"
    }
   },
   "source": [
    "Reconstruction will be carried out at the following profile index:\n",
    "\n",
    "(choose `0` for the first profile, or `-2` for the last, or any number < `len(measured_waterfall) - 1`)"
   ]
  },
  {
   "cell_type": "code",
   "execution_count": null,
   "id": "76766515",
   "metadata": {},
   "outputs": [],
   "source": [
    "reconstr_idx = 0"
   ]
  },
  {
   "cell_type": "markdown",
   "id": "69f7d618",
   "metadata": {},
   "source": [
    "Number of iterations of ART:"
   ]
  },
  {
   "cell_type": "code",
   "execution_count": null,
   "id": "54147056",
   "metadata": {},
   "outputs": [],
   "source": [
    "niterations = 50"
   ]
  },
  {
   "cell_type": "markdown",
   "id": "268e5dae",
   "metadata": {},
   "source": [
    "<!--if profiles.machine.synch_part_x < 0:\n",
    "    fit_info = dtreat.fit_synch_part_x(profiles)\n",
    "    mach.load_fitted_synch_part_x_ftn(fit_info)-->"
   ]
  },
  {
   "cell_type": "markdown",
   "id": "974e2046",
   "metadata": {
    "slideshow": {
     "slide_type": "slide"
    }
   },
   "source": [
    "<h2>Projection Matrix</h2>\n",
    "\n",
    "Establishing the map via tracking (nonlinear synchrotron motion), i.e. matrix $A$:"
   ]
  },
  {
   "cell_type": "code",
   "execution_count": null,
   "id": "9a20f829",
   "metadata": {},
   "outputs": [],
   "source": [
    "tracker = tracking.Tracking(mach)\n",
    "\n",
    "phip, dEp = tracker.track(reconstr_idx)"
   ]
  },
  {
   "cell_type": "code",
   "execution_count": null,
   "id": "cbcb0830",
   "metadata": {},
   "outputs": [],
   "source": [
    "# Converting from physical coordinates ([rad], [eV])\n",
    "# to internal phase space coordinates.\n",
    "if not tracker.self_field_flag:\n",
    "    phip, dEp = particles.physical_to_coords(\n",
    "        phip, dEp, mach, tracker.particles.xorigin,\n",
    "        tracker.particles.dEbin)\n"
   ]
  },
  {
   "cell_type": "code",
   "execution_count": null,
   "id": "153755c2",
   "metadata": {},
   "outputs": [],
   "source": [
    "phip, dEp = particles.ready_for_tomography(phip, dEp, mach.nbins)\n",
    "\n",
    "profiles = tomoin.raw_data_to_profiles(\n",
    "    measured_waterfall, mach, frames.rebin, frames.sampling_time)\n",
    "profiles.calc_profilecharge()\n",
    "\n",
    "waterfall = profiles.waterfall"
   ]
  },
  {
   "cell_type": "code",
   "execution_count": null,
   "id": "d9444bc5",
   "metadata": {
    "slideshow": {
     "slide_type": "slide"
    }
   },
   "outputs": [],
   "source": [
    "# further preparations\n",
    "nprofs = waterfall.shape[0]\n",
    "nbins = waterfall.shape[1]\n",
    "nparts = phip.shape[0]\n",
    "\n",
    "flat_profs = waterfall.copy()\n",
    "flat_profs = flat_profs.clip(0.0)\n",
    "\n",
    "flat_profs /= np.sum(flat_profs, axis=1)[:, None]\n",
    "flat_profs = np.ascontiguousarray(flat_profs.flatten()).astype(float)\n",
    "\n",
    "waterfall /= np.sum(waterfall, axis=1)[:, None]\n",
    "\n",
    "flat_points = phip.copy()\n",
    "for i in range(nprofs):\n",
    "    flat_points[:, i] += nbins * i"
   ]
  },
  {
   "cell_type": "markdown",
   "id": "86c4c3f2",
   "metadata": {
    "slideshow": {
     "slide_type": "slide"
    }
   },
   "source": [
    "Starting the algebraic reconstruction technique (ART) algorithm:"
   ]
  },
  {
   "cell_type": "code",
   "execution_count": null,
   "id": "ed01ca84",
   "metadata": {},
   "outputs": [],
   "source": [
    "# Initialising arrays with zeros\n",
    "weight = np.zeros(nparts)\n",
    "rec_wf = np.zeros(waterfall.shape)"
   ]
  },
  {
   "cell_type": "code",
   "execution_count": null,
   "id": "523271a3",
   "metadata": {},
   "outputs": [],
   "source": [
    "# Initial estimation of weight factors using (flattened) measured profiles.\n",
    "weight = tmo.libtomo.back_project(weight, flat_points, flat_profs,\n",
    "                                  nparts, nprofs)\n",
    "weight = weight.clip(0.0)"
   ]
  },
  {
   "cell_type": "code",
   "execution_count": null,
   "id": "71168f6a",
   "metadata": {},
   "outputs": [],
   "source": [
    "diff = []\n",
    "for i in range(niterations):\n",
    "    # Projection from phase space to time projections\n",
    "    rec_wf = tmo.libtomo.project(rec_wf, flat_points, weight, nparts,\n",
    "                                 nprofs, nbins)\n",
    "\n",
    "    # Normalizing reconstructed waterfall\n",
    "    rec_wf /= np.sum(rec_wf, axis=1)[:, None]\n",
    "\n",
    "    # Finding difference between measured and reconstructed waterfall\n",
    "    dwaterfall = waterfall - rec_wf\n",
    "\n",
    "    # Setting to zero for next round\n",
    "    rec_wf[:] = 0.0\n",
    "\n",
    "    # Calculating discrepancy\n",
    "    diff.append(np.sqrt(np.sum(dwaterfall**2) / (nbins * nprofs)))\n",
    "\n",
    "    # Back projection using the difference between measured and recorded waterfall\n",
    "    weight = tmo.libtomo.back_project(weight, flat_points, dwaterfall.flatten(),\n",
    "                                      nparts, nprofs)\n",
    "    # non-linearity of ART:\n",
    "    weight = weight.clip(0.0)\n",
    "\n",
    "    print(f'Iteration: {i:3d}, discrepancy: {diff[-1]:3e}')"
   ]
  },
  {
   "cell_type": "code",
   "execution_count": null,
   "id": "c0f21c90",
   "metadata": {},
   "outputs": [],
   "source": [
    "# Finding last discrepancy...\n",
    "rec_wf = tmo.libtomo.project(rec_wf, flat_points, weight, nparts, nprofs, nbins)\n",
    "rec_wf /= np.sum(rec_wf, axis=1)[:, None]\n",
    "dwaterfall = waterfall - rec_wf\n",
    "diff.append(np.sqrt(np.sum(dwaterfall**2) / (nbins * nprofs)))\n",
    "\n",
    "print(f'Iteration: {i + 1:3d}, discrepancy: {diff[-1]:3E}')"
   ]
  },
  {
   "cell_type": "markdown",
   "id": "00c61f78",
   "metadata": {
    "slideshow": {
     "slide_type": "slide"
    }
   },
   "source": [
    "Reconstruction finished, return the reconstructed phase-space distribution:"
   ]
  },
  {
   "cell_type": "code",
   "execution_count": null,
   "id": "af9a23ba",
   "metadata": {},
   "outputs": [],
   "source": [
    "phasespace = tomoout.create_phase_space_image(\n",
    "    phip, dEp, weight, nbins, reconstr_idx)"
   ]
  },
  {
   "cell_type": "markdown",
   "id": "0c222048",
   "metadata": {},
   "source": [
    "<!--# adjust plotting settings\n",
    "import matplotlib\n",
    "rcparams_before = matplotlib.rcParams.copy()\n",
    "matplotlib.rc_file_defaults()\n",
    "%matplotlib inline\n",
    "\n",
    "# PLOT\n",
    "tomoout.show(phasespace, diff, waterfall[reconstr_idx])\n",
    "\n",
    "# return to usual settings\n",
    "matplotlib.rcParams.update(rcparams_before)-->"
   ]
  },
  {
   "cell_type": "markdown",
   "id": "4a5f2b9b",
   "metadata": {
    "slideshow": {
     "slide_type": "slide"
    }
   },
   "source": [
    "<h2>Results from Tomography</h2>"
   ]
  },
  {
   "cell_type": "markdown",
   "id": "7ef6b878",
   "metadata": {},
   "source": [
    "The profile of the reconstructed distribution compared to the input profile:"
   ]
  },
  {
   "cell_type": "code",
   "execution_count": null,
   "id": "64da2c7d",
   "metadata": {},
   "outputs": [],
   "source": [
    "prof_rec = np.sum(phasespace, axis=1)\n",
    "z_rec = (0.5 + np.arange(-len(prof_rec)/2, len(prof_rec)/2)) * (-dtbin * beta * c)\n",
    "\n",
    "plt.plot(z_rec, prof_rec, label='reconstructed')\n",
    "plt.plot(z_rec, waterfall[reconstr_idx], label='measured')\n",
    "\n",
    "plt.xlabel('$z$ [m]')\n",
    "plt.ylabel('Histogram')\n",
    "plt.legend(loc='upper left', bbox_to_anchor=(1.05, 1));"
   ]
  },
  {
   "cell_type": "markdown",
   "id": "8919f966",
   "metadata": {
    "slideshow": {
     "slide_type": "slide"
    }
   },
   "source": [
    "The reconstructed rms bunch length is: $\\sigma_z = \\sqrt{\\cfrac{\\sum_i p(z_i) \\cdot (z_i - \\langle z \\rangle)^2}{\\sum_i p(z_i)}}$"
   ]
  },
  {
   "cell_type": "code",
   "execution_count": null,
   "id": "42b9093f",
   "metadata": {},
   "outputs": [],
   "source": [
    "np.sqrt(np.trapz(prof_rec * z_rec**2, z_rec) / np.trapz(prof_rec, z_rec))"
   ]
  },
  {
   "cell_type": "markdown",
   "id": "25fb2b74",
   "metadata": {},
   "source": [
    "The original macro-particle distribution was generated with:"
   ]
  },
  {
   "cell_type": "code",
   "execution_count": null,
   "id": "1dcf4f73",
   "metadata": {},
   "outputs": [],
   "source": [
    "sigma_z"
   ]
  },
  {
   "cell_type": "markdown",
   "id": "c4425027",
   "metadata": {
    "slideshow": {
     "slide_type": "slide"
    }
   },
   "source": [
    "The momentum distribution of the reconstructed distribution:"
   ]
  },
  {
   "cell_type": "code",
   "execution_count": null,
   "id": "51eddc42",
   "metadata": {},
   "outputs": [],
   "source": [
    "Etot = Ekin + m_p/e * c**2 # in eV"
   ]
  },
  {
   "cell_type": "code",
   "execution_count": null,
   "id": "fb3d7265",
   "metadata": {
    "scrolled": false
   },
   "outputs": [],
   "source": [
    "profdp_rec = np.sum(phasespace, axis=0)\n",
    "dp_rec = (0.5 + np.arange(-len(profdp_rec)/2, len(profdp_rec)/2)) * (tracker.particles.dEbin / (Etot) * beta**2)\n",
    "\n",
    "plt.plot(dp_rec, profdp_rec)\n",
    "plt.xlabel('$\\delta$')\n",
    "plt.ylabel('Reconstructed histogram');"
   ]
  },
  {
   "cell_type": "markdown",
   "id": "beacd653",
   "metadata": {
    "slideshow": {
     "slide_type": "slide"
    }
   },
   "source": [
    "The reconstructed rms momentum deviation is: $\\sigma_\\delta = \\sqrt{\\cfrac{\\sum_i p(\\delta_i) \\cdot (\\delta_i - \\langle \\delta \\rangle)^2}{\\sum_i p(\\delta_i)}}$"
   ]
  },
  {
   "cell_type": "code",
   "execution_count": null,
   "id": "4c8f3a07",
   "metadata": {},
   "outputs": [],
   "source": [
    "np.sqrt(np.trapz(profdp_rec * dp_rec**2, dp_rec) / np.trapz(profdp_rec, dp_rec))"
   ]
  },
  {
   "cell_type": "markdown",
   "id": "8355133c",
   "metadata": {
    "slideshow": {
     "slide_type": "slide"
    }
   },
   "source": [
    "Here is the full reconstructed phase-space distribution:"
   ]
  },
  {
   "cell_type": "code",
   "execution_count": null,
   "id": "7e913cff",
   "metadata": {},
   "outputs": [],
   "source": [
    "plot_tomo(phasespace, z_rec, dp_rec, rfb);"
   ]
  },
  {
   "cell_type": "markdown",
   "id": "58617bb4",
   "metadata": {
    "slideshow": {
     "slide_type": "slide"
    }
   },
   "source": [
    "<p style=\"color: #e6541a;\">Does this fit the initial macro-particle distribution? (Scroll up to section <b>A.</b> to compare!) <br /><br />Mind that this tomogram is <b>reconstructed purely from the spatial projections</b> (the simulated WCM measurements), the tomography algorithm has <b>no knowledge</b> of the macro-particles and their phase-space distribution!!<br /><br />\n",
    "$\\implies$ Re-run the tomographic reconstruction for the last profile (see settings part above, start from section <b>B.</b>)! Does it match the final macro-particle distribution?</p>"
   ]
  },
  {
   "cell_type": "markdown",
   "id": "50a76825",
   "metadata": {
    "slideshow": {
     "slide_type": "slide"
    }
   },
   "source": [
    "The final macro-particle phase-space distribution after the simulation:"
   ]
  },
  {
   "cell_type": "code",
   "execution_count": null,
   "id": "aa2a7777",
   "metadata": {},
   "outputs": [],
   "source": [
    "plot_mp(z, dp, rfb);"
   ]
  },
  {
   "cell_type": "markdown",
   "id": "2a4b77f7",
   "metadata": {
    "slideshow": {
     "slide_type": "slide"
    }
   },
   "source": [
    "<p style=\"color: #e6541a;\">$\\implies$ Reconstruct some tomograms from actual measurements in the CERN PS Booster:</p>\n",
    "\n",
    "1. [phase space filamentation](real-tomo-measurements1.ipynb)\n",
    "2. [\"string of pearls\": digital rf phase feedback too strong](real-tomo-measurements2.ipynb)\n",
    "\n",
    "The last example is also found on the [CERN tomography website $\\nearrow$](https://tomograp.web.cern.ch/examples/examples/), where you find further nice tomography applications."
   ]
  },
  {
   "cell_type": "markdown",
   "id": "ac30a1f6",
   "metadata": {
    "slideshow": {
     "slide_type": "slide"
    }
   },
   "source": [
    "<h2>Summary</h2>\n",
    "\n",
    "- Radon transform for line projections, construction of sinogram\n",
    "- Reconstruction of $n$-dimensional distributions from $(n-1)$-dimensional projections\n",
    "- Fourier Slice Theorem\n",
    "- Filtered Back Projection\n",
    "- Algebraic Reconstruction Technique\n",
    "- Phase-space Tomography (concept: construction of projection matrix $A$ via non-linear tracking)"
   ]
  },
  {
   "cell_type": "markdown",
   "id": "7162af3e",
   "metadata": {
    "slideshow": {
     "slide_type": "slide"
    }
   },
   "source": [
    "<h2>Original material used for this lecture</h2>\n",
    "\n",
    "- [Y. Han's github repository on ART](https://github.com/hanyoseob/python-ART)\n",
    "\n",
    "### A nice dedicated lecture on Iterative Algorithms:\n",
    "\n",
    "- [Lecture on Algebraic Methods for Computed Tomography at TU of Denmark]( http://bme.elektro.dtu.dk/31545/notes/AlgebraicIterativeMethods.pdf)"
   ]
  }
 ],
 "metadata": {
  "celltoolbar": "Slideshow",
  "kernelspec": {
   "display_name": "Python 3 (ipykernel)",
   "language": "python",
   "name": "python3"
  },
  "language_info": {
   "codemirror_mode": {
    "name": "ipython",
    "version": 3
   },
   "file_extension": ".py",
   "mimetype": "text/x-python",
   "name": "python",
   "nbconvert_exporter": "python",
   "pygments_lexer": "ipython3",
   "version": "3.10.6"
  },
  "rise": {
   "enable_chalkboard": true,
   "footer": "<p>Fachbereich Elektrotechnik und Informationstechnik (etit)   |   Institut für Teilchenbeschleunigung und Elektromagnetische Felder (TEMF)   |   Dr. Adrian Oeftiger</p>",
   "header": "<img src='https://upload.wikimedia.org/wikipedia/de/thumb/2/24/TU_Darmstadt_Logo.svg/640px-TU_Darmstadt_Logo.svg.png' />",
   "scroll": true,
   "theme": "simple",
   "transition": "none"
  }
 },
 "nbformat": 4,
 "nbformat_minor": 5
}
