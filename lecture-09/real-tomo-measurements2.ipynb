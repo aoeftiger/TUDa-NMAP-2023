{
 "cells": [
  {
   "cell_type": "markdown",
   "id": "1de7a067",
   "metadata": {},
   "source": [
    "# Imports"
   ]
  },
  {
   "cell_type": "code",
   "execution_count": null,
   "id": "ede871e2",
   "metadata": {},
   "outputs": [],
   "source": [
    "import numpy as np\n",
    "\n",
    "import longitudinal_tomography.tomography.tomography as tmo\n",
    "import longitudinal_tomography.tracking.particles as parts\n",
    "\n",
    "import longitudinal_tomography.utils.tomo_input as tomoin\n",
    "import longitudinal_tomography.utils.tomo_output as tomoout\n",
    "from longitudinal_tomography.tracking import tracking\n",
    "import longitudinal_tomography.data.data_treatment as dtreat"
   ]
  },
  {
   "cell_type": "code",
   "execution_count": null,
   "id": "47188e93",
   "metadata": {},
   "outputs": [],
   "source": [
    "import matplotlib.pyplot as plt\n",
    "%matplotlib inline"
   ]
  },
  {
   "cell_type": "markdown",
   "id": "3cffa712",
   "metadata": {},
   "source": [
    "# prep"
   ]
  },
  {
   "cell_type": "code",
   "execution_count": null,
   "id": "b69ec9bf",
   "metadata": {},
   "outputs": [],
   "source": [
    "with open('./data/c595_2.6turns.dat', 'r') as file:\n",
    "    raw_params, raw_data = tomoin._split_input(file.readlines())"
   ]
  },
  {
   "cell_type": "code",
   "execution_count": null,
   "id": "dbf96a9d",
   "metadata": {},
   "outputs": [],
   "source": [
    "machine, frames = tomoin.txt_input_to_machine(raw_params)\n",
    "machine.values_at_turns()\n",
    "measured_waterfall = frames.to_waterfall(raw_data)"
   ]
  },
  {
   "cell_type": "code",
   "execution_count": null,
   "id": "7730d6cc",
   "metadata": {},
   "outputs": [],
   "source": [
    "plt.imshow(measured_waterfall)\n",
    "plt.gca().set_aspect(3)\n",
    "\n",
    "plt.xlabel('Profile bin')\n",
    "plt.ylabel('#Profile')\n",
    "plt.colorbar(label='Density');"
   ]
  },
  {
   "cell_type": "code",
   "execution_count": null,
   "id": "86c9d4e5",
   "metadata": {},
   "outputs": [],
   "source": [
    "profiles = tomoin.raw_data_to_profiles(\n",
    "    measured_waterfall, machine, frames.rebin, frames.sampling_time)\n",
    "profiles.calc_profilecharge()"
   ]
  },
  {
   "cell_type": "code",
   "execution_count": null,
   "id": "d69e465c",
   "metadata": {},
   "outputs": [],
   "source": [
    "if profiles.machine.synch_part_x < 0:\n",
    "    fit_info = dtreat.fit_synch_part_x(profiles)\n",
    "    machine.load_fitted_synch_part_x_ftn(fit_info)\n"
   ]
  },
  {
   "cell_type": "code",
   "execution_count": null,
   "id": "01ba1b67",
   "metadata": {},
   "outputs": [],
   "source": [
    "reconstr_idx = machine.filmstart"
   ]
  },
  {
   "cell_type": "code",
   "execution_count": null,
   "id": "a179084b",
   "metadata": {},
   "outputs": [],
   "source": [
    "tracker = tracking.Tracking(machine)"
   ]
  },
  {
   "cell_type": "code",
   "execution_count": null,
   "id": "83f6dbac",
   "metadata": {},
   "outputs": [],
   "source": [
    "xp, yp = tracker.track(reconstr_idx)"
   ]
  },
  {
   "cell_type": "code",
   "execution_count": null,
   "id": "2a38c637",
   "metadata": {},
   "outputs": [],
   "source": [
    "# Converting from physical coordinates ([rad], [eV])\n",
    "# to phase space coordinates.\n",
    "if not tracker.self_field_flag:\n",
    "    xp, yp = parts.physical_to_coords(\n",
    "        xp, yp, machine, tracker.particles.xorigin,\n",
    "        tracker.particles.dEbin)\n"
   ]
  },
  {
   "cell_type": "code",
   "execution_count": null,
   "id": "949ae863",
   "metadata": {},
   "outputs": [],
   "source": [
    "xp, yp = parts.ready_for_tomography(xp, yp, machine.nbins)"
   ]
  },
  {
   "cell_type": "code",
   "execution_count": null,
   "id": "9d1ae5fd",
   "metadata": {},
   "outputs": [],
   "source": [
    "waterfall = profiles.waterfall"
   ]
  },
  {
   "cell_type": "markdown",
   "id": "ba5e642c",
   "metadata": {},
   "source": [
    "# Tomographic Reconstruction"
   ]
  },
  {
   "cell_type": "code",
   "execution_count": null,
   "id": "8d764fe9",
   "metadata": {},
   "outputs": [],
   "source": [
    "# Tomographic Reconstruction# Reconstructing phase space\n",
    "tomo = tmo.TomographyCpp(waterfall, xp)\n",
    "weight = tomo.run(niter=machine.niter)"
   ]
  },
  {
   "cell_type": "code",
   "execution_count": null,
   "id": "ab524285",
   "metadata": {},
   "outputs": [],
   "source": [
    "phasespace = tomoout.create_phase_space_image(\n",
    "    xp, yp, weight, machine.nbins, reconstr_idx)"
   ]
  },
  {
   "cell_type": "code",
   "execution_count": null,
   "id": "b65cce9f",
   "metadata": {},
   "outputs": [],
   "source": [
    "tomoout.show(phasespace, tomo.diff, waterfall[reconstr_idx])"
   ]
  }
 ],
 "metadata": {
  "kernelspec": {
   "display_name": "Python 3 (ipykernel)",
   "language": "python",
   "name": "python3"
  },
  "language_info": {
   "codemirror_mode": {
    "name": "ipython",
    "version": 3
   },
   "file_extension": ".py",
   "mimetype": "text/x-python",
   "name": "python",
   "nbconvert_exporter": "python",
   "pygments_lexer": "ipython3",
   "version": "3.8.0"
  }
 },
 "nbformat": 4,
 "nbformat_minor": 5
}
